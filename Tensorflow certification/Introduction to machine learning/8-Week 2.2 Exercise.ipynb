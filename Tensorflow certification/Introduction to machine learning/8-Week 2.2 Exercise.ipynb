{
 "cells": [
  {
   "cell_type": "markdown",
   "metadata": {},
   "source": [
    "### Now lets make a nice Convo"
   ]
  },
  {
   "cell_type": "code",
   "execution_count": 5,
   "metadata": {},
   "outputs": [],
   "source": [
    "import numpy as np\n",
    "import matplotlib.pyplot as plt\n",
    "%matplotlib inline\n",
    "import tensorflow as tf\n",
    "from tensorflow import keras\n",
    "from tensorflow.keras.layers import Dense,Flatten,Conv2D,MaxPooling2D\n",
    "import tensorflow_datasets as tfds\n",
    "from  tensorflow.keras.datasets import fashion_mnist"
   ]
  },
  {
   "cell_type": "code",
   "execution_count": null,
   "metadata": {},
   "outputs": [],
   "source": [
    "tf.__version__"
   ]
  },
  {
   "cell_type": "code",
   "execution_count": 21,
   "metadata": {},
   "outputs": [],
   "source": [
    "(x_train,y_train),(x_test,y_test)=fashion_mnist.load_data()"
   ]
  },
  {
   "cell_type": "code",
   "execution_count": 22,
   "metadata": {},
   "outputs": [],
   "source": [
    "x_train=x_train.reshape((-1,28,28,1))\n",
    "x_train=x_train/255\n",
    "x_test=x_test.reshape((-1,28,28,1))\n",
    "x_test=x_test/255\n"
   ]
  },
  {
   "cell_type": "code",
   "execution_count": 23,
   "metadata": {},
   "outputs": [],
   "source": [
    "y_train=tf.one_hot(y_train,depth=10)\n",
    "y_test=tf.one_hot(y_test,depth=10)\n",
    "y_train=tfds.as_numpy(y_train)\n",
    "y_test=tfds.as_numpy(y_test)"
   ]
  },
  {
   "cell_type": "code",
   "execution_count": 28,
   "metadata": {},
   "outputs": [],
   "source": [
    "model=keras.Sequential()\n",
    "model.add(Conv2D(32,kernel_size=(3,3),\n",
    "                 strides=(1,1),padding='valid',\n",
    "                 input_shape=(28,28,1),activation=tf.nn.relu))\n",
    "model.add(MaxPooling2D(2,2))\n",
    "model.add(Flatten())\n",
    "model.add(Dense(units=128,activation=tf.nn.relu))\n",
    "model.add(Dense(units=10,activation=tf.nn.softmax))\n",
    "model.compile(optimizer='adam',\n",
    "             loss=keras.losses.CategoricalCrossentropy(from_logits=True),\n",
    "             metrics=['accuracy','mse'])"
   ]
  },
  {
   "cell_type": "code",
   "execution_count": 25,
   "metadata": {},
   "outputs": [
    {
     "name": "stdout",
     "output_type": "stream",
     "text": [
      "Model: \"sequential_2\"\n",
      "_________________________________________________________________\n",
      "Layer (type)                 Output Shape              Param #   \n",
      "=================================================================\n",
      "conv2d_2 (Conv2D)            (None, 28, 28, 32)        320       \n",
      "_________________________________________________________________\n",
      "max_pooling2d_2 (MaxPooling2 (None, 14, 14, 32)        0         \n",
      "_________________________________________________________________\n",
      "flatten_2 (Flatten)          (None, 6272)              0         \n",
      "_________________________________________________________________\n",
      "dense_4 (Dense)              (None, 128)               802944    \n",
      "_________________________________________________________________\n",
      "dense_5 (Dense)              (None, 10)                1290      \n",
      "=================================================================\n",
      "Total params: 804,554\n",
      "Trainable params: 804,554\n",
      "Non-trainable params: 0\n",
      "_________________________________________________________________\n"
     ]
    }
   ],
   "source": [
    "model.summary()"
   ]
  },
  {
   "cell_type": "code",
   "execution_count": null,
   "metadata": {},
   "outputs": [],
   "source": []
  },
  {
   "cell_type": "code",
   "execution_count": 26,
   "metadata": {},
   "outputs": [
    {
     "name": "stdout",
     "output_type": "stream",
     "text": [
      "Train on 60000 samples\n",
      "Epoch 1/10\n",
      "60000/60000 [==============================] - 39s 656us/sample - loss: 1.6676 - accuracy: 0.7973 - mse: 0.0356\n",
      "Epoch 2/10\n",
      "60000/60000 [==============================] - 43s 715us/sample - loss: 1.6262 - accuracy: 0.8357 - mse: 0.0300\n",
      "Epoch 3/10\n",
      "60000/60000 [==============================] - 38s 641us/sample - loss: 1.5770 - accuracy: 0.8859 - mse: 0.0199\n",
      "Epoch 4/10\n",
      "60000/60000 [==============================] - 37s 619us/sample - loss: 1.5606 - accuracy: 0.9018 - mse: 0.0174\n",
      "Epoch 5/10\n",
      "60000/60000 [==============================] - 41s 677us/sample - loss: 1.5536 - accuracy: 0.9079 - mse: 0.0164\n",
      "Epoch 6/10\n",
      "60000/60000 [==============================] - 38s 630us/sample - loss: 1.5461 - accuracy: 0.9160 - mse: 0.0151\n",
      "Epoch 7/10\n",
      "60000/60000 [==============================] - 39s 658us/sample - loss: 1.5410 - accuracy: 0.9211 - mse: 0.0142\n",
      "Epoch 8/10\n",
      "60000/60000 [==============================] - 38s 629us/sample - loss: 1.5365 - accuracy: 0.9251 - mse: 0.0135\n",
      "Epoch 9/10\n",
      "60000/60000 [==============================] - 39s 647us/sample - loss: 1.5325 - accuracy: 0.9294 - mse: 0.0129\n",
      "Epoch 10/10\n",
      "60000/60000 [==============================] - 38s 626us/sample - loss: 1.5291 - accuracy: 0.9328 - mse: 0.0123\n"
     ]
    },
    {
     "data": {
      "text/plain": [
       "<tensorflow.python.keras.callbacks.History at 0x7f977e826310>"
      ]
     },
     "execution_count": 26,
     "metadata": {},
     "output_type": "execute_result"
    }
   ],
   "source": [
    "model.fit(x_train,y_train,epochs=10,shuffle=True)"
   ]
  },
  {
   "cell_type": "code",
   "execution_count": 27,
   "metadata": {},
   "outputs": [
    {
     "name": "stdout",
     "output_type": "stream",
     "text": [
      "10000/10000 [==============================] - 2s 207us/sample - loss: 1.5528 - accuracy: 0.9082 - mse: 0.0168\n"
     ]
    },
    {
     "data": {
      "text/plain": [
       "[1.5527745056152344, 0.9082, 0.016753022]"
      ]
     },
     "execution_count": 27,
     "metadata": {},
     "output_type": "execute_result"
    }
   ],
   "source": [
    "model.evaluate(x_test,y_test)"
   ]
  },
  {
   "cell_type": "code",
   "execution_count": null,
   "metadata": {},
   "outputs": [],
   "source": []
  }
 ],
 "metadata": {
  "kernelspec": {
   "display_name": "Python 3",
   "language": "python",
   "name": "python3"
  },
  "language_info": {
   "codemirror_mode": {
    "name": "ipython",
    "version": 3
   },
   "file_extension": ".py",
   "mimetype": "text/x-python",
   "name": "python",
   "nbconvert_exporter": "python",
   "pygments_lexer": "ipython3",
   "version": "3.7.6"
  }
 },
 "nbformat": 4,
 "nbformat_minor": 4
}
