{
 "cells": [
  {
   "cell_type": "code",
   "execution_count": 3,
   "metadata": {},
   "outputs": [],
   "source": [
    "import numpy as np\n",
    "import matplotlib.pyplot as plt\n",
    "%matplotlib inline\n",
    "import tensorflow as tf\n",
    "from tensorflow import keras\n",
    "import tensorflow_datasets as tfds\n",
    "from tensorflow.keras.layers import Dense, Flatten\n",
    "from tensorflow.keras.datasets import fashion_mnist"
   ]
  },
  {
   "cell_type": "code",
   "execution_count": 4,
   "metadata": {},
   "outputs": [],
   "source": [
    "(train_data,train_label),(test_data,test_label)=fashion_mnist.load_data()"
   ]
  },
  {
   "cell_type": "code",
   "execution_count": 6,
   "metadata": {},
   "outputs": [
    {
     "data": {
      "text/plain": [
       "((60000, 28, 28), (60000,))"
      ]
     },
     "execution_count": 6,
     "metadata": {},
     "output_type": "execute_result"
    }
   ],
   "source": [
    "train_data.shape,train_label.shape"
   ]
  },
  {
   "cell_type": "code",
   "execution_count": 7,
   "metadata": {},
   "outputs": [],
   "source": [
    "x_train=train_data/255\n",
    "x_test=test_data/255"
   ]
  },
  {
   "cell_type": "code",
   "execution_count": 8,
   "metadata": {},
   "outputs": [],
   "source": [
    "y_train=tf.one_hot(train_label,depth=10)\n",
    "y_train=tfds.as_numpy(y_train)"
   ]
  },
  {
   "cell_type": "code",
   "execution_count": 9,
   "metadata": {},
   "outputs": [
    {
     "data": {
      "text/plain": [
       "(60000, 10)"
      ]
     },
     "execution_count": 9,
     "metadata": {},
     "output_type": "execute_result"
    }
   ],
   "source": [
    "y_train.shape"
   ]
  },
  {
   "cell_type": "code",
   "execution_count": 10,
   "metadata": {},
   "outputs": [],
   "source": [
    "y_test=tf.one_hot(test_label,depth=10)\n",
    "y_test=tfds.as_numpy(y_test)"
   ]
  },
  {
   "cell_type": "code",
   "execution_count": 11,
   "metadata": {},
   "outputs": [
    {
     "data": {
      "text/plain": [
       "(10000, 10)"
      ]
     },
     "execution_count": 11,
     "metadata": {},
     "output_type": "execute_result"
    }
   ],
   "source": [
    "y_test.shape"
   ]
  },
  {
   "cell_type": "code",
   "execution_count": 14,
   "metadata": {},
   "outputs": [
    {
     "data": {
      "text/plain": [
       "<matplotlib.image.AxesImage at 0x7f055609f810>"
      ]
     },
     "execution_count": 14,
     "metadata": {},
     "output_type": "execute_result"
    },
    {
     "data": {
      "image/png": "[encoded data removed]",
      "text/plain": [
       "<Figure size 432x288 with 1 Axes>"
      ]
     },
     "metadata": {
      "needs_background": "light"
     },
     "output_type": "display_data"
    }
   ],
   "source": [
    "plt.imshow(x_train[35].reshape((28,28)),cmap='gray')"
   ]
  },
  {
   "cell_type": "code",
   "execution_count": 15,
   "metadata": {},
   "outputs": [
    {
     "name": "stdout",
     "output_type": "stream",
     "text": [
      "Train on 60000 samples\n",
      "Epoch 1/5\n",
      "60000/60000 [==============================] - 16s 270us/sample - loss: 1.6669 - accuracy: 0.8043\n",
      "Epoch 2/5\n",
      "60000/60000 [==============================] - 24s 407us/sample - loss: 1.6184 - accuracy: 0.8457\n",
      "Epoch 3/5\n",
      "60000/60000 [==============================] - 22s 373us/sample - loss: 1.6077 - accuracy: 0.8549\n",
      "Epoch 4/5\n",
      "60000/60000 [==============================] - 20s 329us/sample - loss: 1.6005 - accuracy: 0.8621\n",
      "Epoch 5/5\n",
      "60000/60000 [==============================] - 16s 272us/sample - loss: 1.5956 - accuracy: 0.8669\n"
     ]
    },
    {
     "data": {
      "text/plain": [
       "<tensorflow.python.keras.callbacks.History at 0x7f052c2cbf90>"
      ]
     },
     "execution_count": 15,
     "metadata": {},
     "output_type": "execute_result"
    }
   ],
   "source": [
    "model=keras.Sequential()\n",
    "model.add(Flatten(input_shape=(28,28)))\n",
    "model.add(Dense(units=128,activation=tf.nn.relu))\n",
    "model.add(Dense(units=10,activation=tf.nn.softmax))\n",
    "model.compile(optimizer='adam',\n",
    "             loss=keras.losses.CategoricalCrossentropy(from_logits=True),\n",
    "             metrics=['accuracy'])\n",
    "model.fit(x_train,y_train,epochs=5,shuffle=True)"
   ]
  },
  {
   "cell_type": "code",
   "execution_count": 17,
   "metadata": {},
   "outputs": [
    {
     "name": "stdout",
     "output_type": "stream",
     "text": [
      "60000/60000 [==============================] - 6s 95us/sample - loss: 1.5916 - accuracy: 0.8709\n"
     ]
    },
    {
     "data": {
      "text/plain": [
       "[1.5916293314615886, 0.87091666]"
      ]
     },
     "execution_count": 17,
     "metadata": {},
     "output_type": "execute_result"
    }
   ],
   "source": [
    "model.evaluate(x_train,y_train)"
   ]
  },
  {
   "cell_type": "code",
   "execution_count": 37,
   "metadata": {},
   "outputs": [],
   "source": [
    "class Mycallback(keras.callbacks.Callback):\n",
    "    def on_epoch_end(self,epoch,logs={}):\n",
    "        if (logs.get('accuracy')>0.85):\n",
    "            print('/n the accuracy has crossed 82% so terminating training ')\n",
    "            self.model.stop_training=True\n"
   ]
  },
  {
   "cell_type": "code",
   "execution_count": 38,
   "metadata": {},
   "outputs": [],
   "source": [
    "class Mycallback2(keras.callbacks.Callback):\n",
    "    def on_epoch_start(self,epoch,logs={}):\n",
    "        if (logs.get('accuracy')>0.70):\n",
    "            print('/n the accuracy has crossed 70% so terminating training ')\n",
    "            self.model.stop_training=True\n"
   ]
  },
  {
   "cell_type": "code",
   "execution_count": 39,
   "metadata": {},
   "outputs": [],
   "source": [
    "callbacks=Mycallback()\n",
    "callback2=Mycallback2()"
   ]
  },
  {
   "cell_type": "code",
   "execution_count": 40,
   "metadata": {},
   "outputs": [
    {
     "name": "stdout",
     "output_type": "stream",
     "text": [
      "Train on 60000 samples\n",
      "Epoch 1/8\n",
      "60000/60000 [==============================] - 11s 179us/sample - loss: 1.7142 - accuracy: 0.7548\n",
      "Epoch 2/8\n",
      "60000/60000 [==============================] - 10s 166us/sample - loss: 1.6740 - accuracy: 0.7889\n",
      "Epoch 3/8\n",
      "60000/60000 [==============================] - 10s 165us/sample - loss: 1.6648 - accuracy: 0.7974\n",
      "Epoch 4/8\n",
      "60000/60000 [==============================] - 10s 173us/sample - loss: 1.6585 - accuracy: 0.8026\n",
      "Epoch 5/8\n",
      "60000/60000 [==============================] - 10s 164us/sample - loss: 1.6540 - accuracy: 0.8076\n",
      "Epoch 6/8\n",
      "60000/60000 [==============================] - 10s 174us/sample - loss: 1.6500 - accuracy: 0.8112\n",
      "Epoch 7/8\n",
      "60000/60000 [==============================] - 10s 164us/sample - loss: 1.6474 - accuracy: 0.8144\n",
      "Epoch 8/8\n",
      "60000/60000 [==============================] - 10s 163us/sample - loss: 1.6445 - accuracy: 0.8168\n"
     ]
    },
    {
     "data": {
      "text/plain": [
       "<tensorflow.python.keras.callbacks.History at 0x7f052c685210>"
      ]
     },
     "execution_count": 40,
     "metadata": {},
     "output_type": "execute_result"
    }
   ],
   "source": [
    "model=keras.Sequential()\n",
    "model.add(Flatten(input_shape=(28,28)))\n",
    "model.add(Dense(units=128,activation=tf.nn.relu))\n",
    "model.add(Dense(units=10,activation=tf.nn.softmax))\n",
    "model.compile(optimizer='adam',\n",
    "             loss=keras.losses.CategoricalCrossentropy(from_logits=True),\n",
    "             metrics=['accuracy'])\n",
    "model.fit(x_train,y_train,epochs=8,shuffle=True,callbacks=[callbacks,callback2])"
   ]
  },
  {
   "cell_type": "code",
   "execution_count": null,
   "metadata": {},
   "outputs": [],
   "source": [
    "model.fit(x_test,y_test)"
   ]
  },
  {
   "cell_type": "code",
   "execution_count": null,
   "metadata": {},
   "outputs": [],
   "source": []
  }
 ],
 "metadata": {
  "kernelspec": {
   "display_name": "Python 3",
   "language": "python",
   "name": "python3"
  },
  "language_info": {
   "codemirror_mode": {
    "name": "ipython",
    "version": 3
   },
   "file_extension": ".py",
   "mimetype": "text/x-python",
   "name": "python",
   "nbconvert_exporter": "python",
   "pygments_lexer": "ipython3",
   "version": "3.7.6"
  }
 },
 "nbformat": 4,
 "nbformat_minor": 4
}
