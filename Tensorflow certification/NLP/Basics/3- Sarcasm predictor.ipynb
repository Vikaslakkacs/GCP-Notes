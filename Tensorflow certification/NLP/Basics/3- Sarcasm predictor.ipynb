{
 "cells": [
  {
   "cell_type": "markdown",
   "metadata": {},
   "source": [
    "### Input: jsonfile which has urls sentences and is_sarcasm label\n",
    "#### This will tell which sentence is sarcasm by training.\n",
    "#### The traininig data is available in json format.\n"
   ]
  },
  {
   "cell_type": "code",
   "execution_count": 1,
   "metadata": {},
   "outputs": [],
   "source": [
    "import numpy as np\n",
    "import matplotlib.pyplot as plt\n",
    "import tensorflow as tf\n",
    "from tensorflow import keras\n",
    "import json"
   ]
  },
  {
   "cell_type": "markdown",
   "metadata": {},
   "source": [
    "### load the data from jason file."
   ]
  },
  {
   "cell_type": "code",
   "execution_count": 12,
   "metadata": {},
   "outputs": [],
   "source": [
    "dataload=[]\n",
    "with open('Sarcasm_Headlines_Dataset_v2.json','r') as sarcasm_json:\n",
    "    for line in sarcasm_json:\n",
    "        dataload.append(json.loads(line))\n",
    "    "
   ]
  },
  {
   "cell_type": "code",
   "execution_count": 13,
   "metadata": {},
   "outputs": [],
   "source": [
    "sarcastic_label=[]\n",
    "sarcastic_sentence=[]\n",
    "for item in dataload:\n",
    "    sarcastic_label.append(item['is_sarcastic'])\n",
    "    sarcastic_sentence.append(item['headline'])"
   ]
  },
  {
   "cell_type": "code",
   "execution_count": 15,
   "metadata": {},
   "outputs": [
    {
     "data": {
      "text/plain": [
       "[1, 0, 0]"
      ]
     },
     "execution_count": 15,
     "metadata": {},
     "output_type": "execute_result"
    }
   ],
   "source": [
    "sarcastic_label[:3]"
   ]
  },
  {
   "cell_type": "code",
   "execution_count": 16,
   "metadata": {},
   "outputs": [
    {
     "data": {
      "text/plain": [
       "['thirtysomething scientists unveil doomsday clock of hair loss',\n",
       " 'dem rep. totally nails why congress is falling short on gender, racial equality',\n",
       " 'eat your veggies: 9 deliciously different recipes']"
      ]
     },
     "execution_count": 16,
     "metadata": {},
     "output_type": "execute_result"
    }
   ],
   "source": [
    "sarcastic_sentence[:3]"
   ]
  },
  {
   "cell_type": "code",
   "execution_count": 19,
   "metadata": {},
   "outputs": [
    {
     "data": {
      "text/plain": [
       "28619"
      ]
     },
     "execution_count": 19,
     "metadata": {},
     "output_type": "execute_result"
    }
   ],
   "source": [
    "len(sarcastic_sentence)"
   ]
  },
  {
   "cell_type": "markdown",
   "metadata": {},
   "source": [
    "### Splitting of training and testing."
   ]
  },
  {
   "cell_type": "code",
   "execution_count": 18,
   "metadata": {},
   "outputs": [],
   "source": [
    "from sklearn.model_selection import train_test_split"
   ]
  },
  {
   "cell_type": "code",
   "execution_count": 25,
   "metadata": {},
   "outputs": [],
   "source": [
    "train_data,test_data,train_label,test_label= train_test_split(sarcastic_sentence,sarcastic_label,\n",
    "                                                                 test_size=0.33)"
   ]
  },
  {
   "cell_type": "code",
   "execution_count": 31,
   "metadata": {},
   "outputs": [
    {
     "data": {
      "text/plain": [
       "9445"
      ]
     },
     "execution_count": 31,
     "metadata": {},
     "output_type": "execute_result"
    }
   ],
   "source": [
    "len(test_label)"
   ]
  },
  {
   "cell_type": "markdown",
   "metadata": {},
   "source": [
    "### Numpyconversion of the labels"
   ]
  },
  {
   "cell_type": "code",
   "execution_count": 33,
   "metadata": {},
   "outputs": [],
   "source": [
    "train_label=np.array(train_label)\n",
    "test_label=np.array(test_label)"
   ]
  },
  {
   "cell_type": "code",
   "execution_count": 34,
   "metadata": {},
   "outputs": [
    {
     "data": {
      "text/plain": [
       "(19174,)"
      ]
     },
     "execution_count": 34,
     "metadata": {},
     "output_type": "execute_result"
    }
   ],
   "source": [
    "train_label.shape"
   ]
  },
  {
   "cell_type": "code",
   "execution_count": 36,
   "metadata": {},
   "outputs": [
    {
     "data": {
      "text/plain": [
       "array([0, 1, 0, 1, 1])"
      ]
     },
     "execution_count": 36,
     "metadata": {},
     "output_type": "execute_result"
    }
   ],
   "source": [
    "train_label[:5]"
   ]
  },
  {
   "cell_type": "markdown",
   "metadata": {},
   "source": [
    "## Tokenization"
   ]
  },
  {
   "cell_type": "code",
   "execution_count": 38,
   "metadata": {},
   "outputs": [],
   "source": [
    "vocab_size=10000\n",
    "embed_dim=16\n",
    "max_length=30\n",
    "truncating='post'\n",
    "oov_word='<OOV>'"
   ]
  },
  {
   "cell_type": "code",
   "execution_count": 37,
   "metadata": {},
   "outputs": [],
   "source": [
    "from tensorflow.keras.preprocessing.text import Tokenizer"
   ]
  },
  {
   "cell_type": "code",
   "execution_count": 39,
   "metadata": {},
   "outputs": [],
   "source": [
    "token=Tokenizer(vocab_size,oov_token=oov_word)\n",
    "token.fit_on_texts(train_data)\n",
    "word_index=token.word_index"
   ]
  },
  {
   "cell_type": "markdown",
   "metadata": {},
   "source": [
    "## texts to Sequences"
   ]
  },
  {
   "cell_type": "code",
   "execution_count": 40,
   "metadata": {},
   "outputs": [],
   "source": [
    "train_seq=token.texts_to_sequences(train_data)\n",
    "test_seq=token.texts_to_sequences(test_data)"
   ]
  },
  {
   "cell_type": "markdown",
   "metadata": {},
   "source": [
    "## PAdding the sequences"
   ]
  },
  {
   "cell_type": "code",
   "execution_count": 41,
   "metadata": {},
   "outputs": [],
   "source": [
    "from tensorflow.keras.preprocessing.sequence import pad_sequences"
   ]
  },
  {
   "cell_type": "code",
   "execution_count": 42,
   "metadata": {},
   "outputs": [],
   "source": [
    "train_pad_seq=pad_sequences(train_seq,maxlen=max_length,padding='post',truncating=truncating,)\n",
    "test_pad_seq=pad_sequences(test_seq,maxlen=max_length,padding='post',truncating=truncating)"
   ]
  },
  {
   "cell_type": "code",
   "execution_count": 43,
   "metadata": {},
   "outputs": [
    {
     "data": {
      "text/plain": [
       "(19174, 30)"
      ]
     },
     "execution_count": 43,
     "metadata": {},
     "output_type": "execute_result"
    }
   ],
   "source": [
    "train_pad_seq.shape"
   ]
  },
  {
   "cell_type": "code",
   "execution_count": 44,
   "metadata": {},
   "outputs": [
    {
     "data": {
      "text/plain": [
       "array([[3694, 6787,  607, 1339,   61,  899,  866,    6,    7,  282,  151,\n",
       "           8, 8787,    0,    0,    0,    0,    0,    0,    0,    0,    0,\n",
       "           0,    0,    0,    0,    0,    0,    0,    0],\n",
       "       [8788, 4182,  126, 1175,    0,    0,    0,    0,    0,    0,    0,\n",
       "           0,    0,    0,    0,    0,    0,    0,    0,    0,    0,    0,\n",
       "           0,    0,    0,    0,    0,    0,    0,    0]], dtype=int32)"
      ]
     },
     "execution_count": 44,
     "metadata": {},
     "output_type": "execute_result"
    }
   ],
   "source": [
    "train_pad_seq[:2]"
   ]
  },
  {
   "cell_type": "code",
   "execution_count": 87,
   "metadata": {},
   "outputs": [
    {
     "data": {
      "text/plain": [
       "array([[2684, 1149,  811,    2,    1,    1,  119,   20,    1, 1886,  821,\n",
       "           5,    1, 3036,    0],\n",
       "       [ 350, 2996,    1,    1, 1815,   46, 2343,    1,    0,    0,    0,\n",
       "           0,    0,    0,    0]], dtype=int32)"
      ]
     },
     "execution_count": 87,
     "metadata": {},
     "output_type": "execute_result"
    }
   ],
   "source": [
    "test_pad_seq[:2]"
   ]
  },
  {
   "cell_type": "markdown",
   "metadata": {},
   "source": [
    "### model creation"
   ]
  },
  {
   "cell_type": "code",
   "execution_count": 46,
   "metadata": {},
   "outputs": [],
   "source": [
    "from tensorflow.keras.layers import Dense,Embedding,GlobalAveragePooling1D"
   ]
  },
  {
   "cell_type": "code",
   "execution_count": 48,
   "metadata": {},
   "outputs": [
    {
     "name": "stdout",
     "output_type": "stream",
     "text": [
      "Model: \"sequential_1\"\n",
      "_________________________________________________________________\n",
      "Layer (type)                 Output Shape              Param #   \n",
      "=================================================================\n",
      "embedding (Embedding)        (None, 30, 16)            160000    \n",
      "_________________________________________________________________\n",
      "global_average_pooling1d (Gl (None, 16)                0         \n",
      "_________________________________________________________________\n",
      "dense (Dense)                (None, 6)                 102       \n",
      "_________________________________________________________________\n",
      "dense_1 (Dense)              (None, 1)                 7         \n",
      "=================================================================\n",
      "Total params: 160,109\n",
      "Trainable params: 160,109\n",
      "Non-trainable params: 0\n",
      "_________________________________________________________________\n"
     ]
    }
   ],
   "source": [
    "model=keras.Sequential()\n",
    "model.add(Embedding(input_dim=vocab_size,output_dim=embed_dim,input_length=max_length))\n",
    "model.add(GlobalAveragePooling1D())\n",
    "model.add(Dense(units=6,activation=tf.nn.relu))\n",
    "model.add(Dense(units=1,activation=tf.nn.sigmoid))\n",
    "model.compile(optimizer='adam',loss=keras.losses.BinaryCrossentropy(from_logits=True),\n",
    "             metrics=['accuracy'])\n",
    "model.summary()"
   ]
  },
  {
   "cell_type": "markdown",
   "metadata": {},
   "source": [
    "## Call back method"
   ]
  },
  {
   "cell_type": "code",
   "execution_count": 73,
   "metadata": {},
   "outputs": [],
   "source": [
    "class Mycallback(keras.callbacks.Callback):\n",
    "    def on_epoch_end(self,epochs,logs={}):\n",
    "        if logs.get('accuracy') > 0.98:\n",
    "            print('\\n')\n",
    "            print('Exceeded maximumaccuracy, terminating....')\n",
    "            self.stop_model.training=True"
   ]
  },
  {
   "cell_type": "code",
   "execution_count": 74,
   "metadata": {},
   "outputs": [],
   "source": [
    "callback=Mycallback()"
   ]
  },
  {
   "cell_type": "code",
   "execution_count": 51,
   "metadata": {},
   "outputs": [
    {
     "name": "stdout",
     "output_type": "stream",
     "text": [
      "Train on 19174 samples, validate on 9445 samples\n",
      "Epoch 1/30\n",
      "19174/19174 [==============================] - 11s 563us/sample - loss: 0.6998 - accuracy: 0.5232 - val_loss: 0.6863 - val_accuracy: 0.5247\n",
      "Epoch 2/30\n",
      "19174/19174 [==============================] - 5s 254us/sample - loss: 0.6456 - accuracy: 0.6805 - val_loss: 0.6174 - val_accuracy: 0.8126\n",
      "Epoch 3/30\n",
      "19174/19174 [==============================] - 8s 425us/sample - loss: 0.5926 - accuracy: 0.8460 - val_loss: 0.5969 - val_accuracy: 0.8362\n",
      "Epoch 4/30\n",
      "19174/19174 [==============================] - 10s 500us/sample - loss: 0.5737 - accuracy: 0.8829 - val_loss: 0.5911 - val_accuracy: 0.8466\n",
      "Epoch 5/30\n",
      "19174/19174 [==============================] - 8s 406us/sample - loss: 0.5624 - accuracy: 0.9042 - val_loss: 0.5870 - val_accuracy: 0.8497\n",
      "Epoch 6/30\n",
      "19174/19174 [==============================] - 5s 266us/sample - loss: 0.5546 - accuracy: 0.9181 - val_loss: 0.5846 - val_accuracy: 0.8456\n",
      "Epoch 7/30\n",
      "19174/19174 [==============================] - 5s 252us/sample - loss: 0.5487 - accuracy: 0.9297 - val_loss: 0.5844 - val_accuracy: 0.8469\n",
      "Epoch 8/30\n",
      "19174/19174 [==============================] - 6s 311us/sample - loss: 0.5437 - accuracy: 0.9388 - val_loss: 0.5843 - val_accuracy: 0.8466\n",
      "Epoch 9/30\n",
      "19174/19174 [==============================] - 10s 522us/sample - loss: 0.5397 - accuracy: 0.9463 - val_loss: 0.5851 - val_accuracy: 0.8485\n",
      "Epoch 10/30\n",
      "19174/19174 [==============================] - 6s 293us/sample - loss: 0.5366 - accuracy: 0.9529 - val_loss: 0.5840 - val_accuracy: 0.8414\n",
      "Epoch 11/30\n",
      "19174/19174 [==============================] - 7s 384us/sample - loss: 0.5338 - accuracy: 0.9571 - val_loss: 0.5865 - val_accuracy: 0.8498\n",
      "Epoch 12/30\n",
      "19174/19174 [==============================] - 7s 378us/sample - loss: 0.5316 - accuracy: 0.9614 - val_loss: 0.5871 - val_accuracy: 0.8492\n",
      "Epoch 13/30\n",
      "19174/19174 [==============================] - 10s 516us/sample - loss: 0.5298 - accuracy: 0.9649 - val_loss: 0.5859 - val_accuracy: 0.8461\n",
      "Epoch 14/30\n",
      "19174/19174 [==============================] - 6s 305us/sample - loss: 0.5281 - accuracy: 0.9675 - val_loss: 0.5871 - val_accuracy: 0.8463\n",
      "Epoch 15/30\n",
      "19174/19174 [==============================] - 9s 453us/sample - loss: 0.5270 - accuracy: 0.9695 - val_loss: 0.5883 - val_accuracy: 0.8455\n",
      "Epoch 16/30\n",
      "19174/19174 [==============================] - 6s 337us/sample - loss: 0.5261 - accuracy: 0.9705 - val_loss: 0.5877 - val_accuracy: 0.8434\n",
      "Epoch 17/30\n",
      "19174/19174 [==============================] - 5s 251us/sample - loss: 0.5254 - accuracy: 0.9718 - val_loss: 0.5890 - val_accuracy: 0.8430\n",
      "Epoch 18/30\n",
      "19174/19174 [==============================] - 5s 241us/sample - loss: 0.5248 - accuracy: 0.9724 - val_loss: 0.5903 - val_accuracy: 0.8410\n",
      "Epoch 19/30\n",
      "19174/19174 [==============================] - 9s 460us/sample - loss: 0.5243 - accuracy: 0.9732 - val_loss: 0.5915 - val_accuracy: 0.8415\n",
      "Epoch 20/30\n",
      "19174/19174 [==============================] - 5s 245us/sample - loss: 0.5238 - accuracy: 0.9740 - val_loss: 0.5909 - val_accuracy: 0.8395\n",
      "Epoch 21/30\n",
      "19174/19174 [==============================] - 9s 493us/sample - loss: 0.5234 - accuracy: 0.9749 - val_loss: 0.5911 - val_accuracy: 0.8386\n",
      "Epoch 22/30\n",
      "19174/19174 [==============================] - 10s 533us/sample - loss: 0.5230 - accuracy: 0.9754 - val_loss: 0.5911 - val_accuracy: 0.8384\n",
      "Epoch 23/30\n",
      "19174/19174 [==============================] - 9s 454us/sample - loss: 0.5228 - accuracy: 0.9759 - val_loss: 0.5918 - val_accuracy: 0.8378\n",
      "Epoch 24/30\n",
      "19174/19174 [==============================] - 8s 433us/sample - loss: 0.5226 - accuracy: 0.9761 - val_loss: 0.5917 - val_accuracy: 0.8372\n",
      "Epoch 25/30\n",
      "19174/19174 [==============================] - 8s 425us/sample - loss: 0.5225 - accuracy: 0.9765 - val_loss: 0.5935 - val_accuracy: 0.8358\n",
      "Epoch 26/30\n",
      "19174/19174 [==============================] - 9s 455us/sample - loss: 0.5223 - accuracy: 0.9769 - val_loss: 0.5946 - val_accuracy: 0.8358\n",
      "Epoch 27/30\n",
      "19174/19174 [==============================] - 9s 495us/sample - loss: 0.5221 - accuracy: 0.9772 - val_loss: 0.5944 - val_accuracy: 0.8345\n",
      "Epoch 28/30\n",
      "19174/19174 [==============================] - 5s 241us/sample - loss: 0.5219 - accuracy: 0.9774 - val_loss: 0.5971 - val_accuracy: 0.8313\n",
      "Epoch 29/30\n",
      "19174/19174 [==============================] - 6s 307us/sample - loss: 0.5218 - accuracy: 0.9779 - val_loss: 0.5962 - val_accuracy: 0.8313\n",
      "Epoch 30/30\n",
      "19174/19174 [==============================] - 5s 236us/sample - loss: 0.5217 - accuracy: 0.9781 - val_loss: 0.5988 - val_accuracy: 0.8291\n"
     ]
    },
    {
     "data": {
      "text/plain": [
       "<tensorflow.python.keras.callbacks.History at 0x7eff0fee3b90>"
      ]
     },
     "execution_count": 51,
     "metadata": {},
     "output_type": "execute_result"
    }
   ],
   "source": [
    "model.fit(train_pad_seq,train_label,epochs=30,validation_data=(test_pad_seq,test_label))"
   ]
  },
  {
   "cell_type": "markdown",
   "metadata": {},
   "source": [
    "#### Now let us plot the loss and accuracy"
   ]
  },
  {
   "cell_type": "code",
   "execution_count": 59,
   "metadata": {},
   "outputs": [],
   "source": [
    "model_metrics=model.history.history"
   ]
  },
  {
   "cell_type": "code",
   "execution_count": 61,
   "metadata": {},
   "outputs": [
    {
     "data": {
      "text/plain": [
       "[0.699811568458647,\n",
       " 0.645632300776536,\n",
       " 0.5925885002655593,\n",
       " 0.573714009555597,\n",
       " 0.5623535917127818]"
      ]
     },
     "execution_count": 61,
     "metadata": {},
     "output_type": "execute_result"
    }
   ],
   "source": [
    "model_metrics['loss'][:5]"
   ]
  },
  {
   "cell_type": "code",
   "execution_count": 64,
   "metadata": {},
   "outputs": [
    {
     "data": {
      "text/plain": [
       "[0.6862630421803577,\n",
       " 0.6173972402886148,\n",
       " 0.5968636806362075,\n",
       " 0.5910520394022595]"
      ]
     },
     "execution_count": 64,
     "metadata": {},
     "output_type": "execute_result"
    }
   ],
   "source": [
    "model_metrics['val_loss'][:4]"
   ]
  },
  {
   "cell_type": "markdown",
   "metadata": {},
   "source": [
    "## Now lets plot the accuracy and loss of training and test set\n",
    "### Accuracy to epochs and loss to epochs"
   ]
  },
  {
   "cell_type": "code",
   "execution_count": 68,
   "metadata": {},
   "outputs": [
    {
     "data": {
      "text/plain": [
       "<matplotlib.legend.Legend at 0x7efef02b6f10>"
      ]
     },
     "execution_count": 68,
     "metadata": {},
     "output_type": "execute_result"
    },
    {
     "data": {
      "image/png": "[encoded data removed]",
      "text/plain": [
       "<Figure size 432x288 with 1 Axes>"
      ]
     },
     "metadata": {
      "needs_background": "light"
     },
     "output_type": "display_data"
    }
   ],
   "source": [
    "plt.plot(model_metrics['loss'],label='training')\n",
    "plt.plot(model_metrics['val_loss'],label='testing')\n",
    "plt.legend()"
   ]
  },
  {
   "cell_type": "markdown",
   "metadata": {},
   "source": [
    "### Training Accuracy"
   ]
  },
  {
   "cell_type": "code",
   "execution_count": 69,
   "metadata": {},
   "outputs": [
    {
     "data": {
      "text/plain": [
       "<matplotlib.legend.Legend at 0x7efef01c9d10>"
      ]
     },
     "execution_count": 69,
     "metadata": {},
     "output_type": "execute_result"
    },
    {
     "data": {
      "image/png": "[encoded data removed]",
      "text/plain": [
       "<Figure size 432x288 with 1 Axes>"
      ]
     },
     "metadata": {
      "needs_background": "light"
     },
     "output_type": "display_data"
    }
   ],
   "source": [
    "plt.plot(model_metrics['accuracy'],label='training')\n",
    "plt.plot(model_metrics['val_accuracy'],label='testing')\n",
    "plt.legend()"
   ]
  },
  {
   "cell_type": "markdown",
   "metadata": {},
   "source": [
    "### Summary : Acuracy seems fine but the testing loss is not decreasing.\n",
    "#### Not reduction of loss means, the confidence of predicting is poor."
   ]
  },
  {
   "cell_type": "markdown",
   "metadata": {},
   "source": [
    "### Lets tweak the hyper paramsand trian the model."
   ]
  },
  {
   "cell_type": "code",
   "execution_count": 71,
   "metadata": {},
   "outputs": [],
   "source": [
    "vocab_size=5000 # we will half the vocab words\n",
    "embed_dim=16 # We will double the dimensions\n",
    "max_length=15 # We will half the length of words\n",
    "truncating='post'\n",
    "oov_word='<OOV>'"
   ]
  },
  {
   "cell_type": "code",
   "execution_count": 72,
   "metadata": {},
   "outputs": [],
   "source": [
    "## tokenization\n",
    "token=Tokenizer(vocab_size,oov_token=oov_word)\n",
    "token.fit_on_texts(train_data)\n",
    "word_index=token.word_index\n",
    "train_seq=token.texts_to_sequences(train_data)\n",
    "test_seq=token.texts_to_sequences(test_data)\n",
    "train_pad_seq=pad_sequences(train_seq,maxlen=max_length,padding='post',truncating=truncating)\n",
    "test_pad_seq=pad_sequences(test_seq,maxlen=max_length,padding='post',truncating=truncating)"
   ]
  },
  {
   "cell_type": "code",
   "execution_count": 78,
   "metadata": {},
   "outputs": [
    {
     "data": {
      "text/plain": [
       "((9445, 15), (19174, 15))"
      ]
     },
     "execution_count": 78,
     "metadata": {},
     "output_type": "execute_result"
    }
   ],
   "source": [
    "test_pad_seq.shape,train_pad_seq.shape"
   ]
  },
  {
   "cell_type": "code",
   "execution_count": 79,
   "metadata": {},
   "outputs": [
    {
     "name": "stdout",
     "output_type": "stream",
     "text": [
      "Model: \"sequential_2\"\n",
      "_________________________________________________________________\n",
      "Layer (type)                 Output Shape              Param #   \n",
      "=================================================================\n",
      "embedding_1 (Embedding)      (None, 15, 16)            80000     \n",
      "_________________________________________________________________\n",
      "global_average_pooling1d_1 ( (None, 16)                0         \n",
      "_________________________________________________________________\n",
      "dense_2 (Dense)              (None, 6)                 102       \n",
      "_________________________________________________________________\n",
      "dense_3 (Dense)              (None, 1)                 7         \n",
      "=================================================================\n",
      "Total params: 80,109\n",
      "Trainable params: 80,109\n",
      "Non-trainable params: 0\n",
      "_________________________________________________________________\n"
     ]
    }
   ],
   "source": [
    "model=keras.Sequential()\n",
    "model.add(Embedding(input_dim=vocab_size,output_dim=embed_dim,input_length=max_length))\n",
    "model.add(GlobalAveragePooling1D())\n",
    "model.add(Dense(units=6,activation=tf.nn.relu))\n",
    "model.add(Dense(units=1,activation=tf.nn.sigmoid))\n",
    "model.compile(optimizer='adam',loss=keras.losses.BinaryCrossentropy(from_logits=True),\n",
    "             metrics=['accuracy'])\n",
    "model.summary()"
   ]
  },
  {
   "cell_type": "code",
   "execution_count": 80,
   "metadata": {},
   "outputs": [
    {
     "name": "stdout",
     "output_type": "stream",
     "text": [
      "Train on 19174 samples, validate on 9445 samples\n",
      "Epoch 1/30\n",
      "19174/19174 [==============================] - 5s 237us/sample - loss: 0.6803 - accuracy: 0.5848 - val_loss: 0.6277 - val_accuracy: 0.7702\n",
      "Epoch 2/30\n",
      "19174/19174 [==============================] - 4s 210us/sample - loss: 0.5983 - accuracy: 0.8321 - val_loss: 0.5952 - val_accuracy: 0.8255\n",
      "Epoch 3/30\n",
      "19174/19174 [==============================] - 4s 202us/sample - loss: 0.5750 - accuracy: 0.8743 - val_loss: 0.5894 - val_accuracy: 0.8370\n",
      "Epoch 4/30\n",
      "19174/19174 [==============================] - 4s 211us/sample - loss: 0.5642 - accuracy: 0.8944 - val_loss: 0.5882 - val_accuracy: 0.8430\n",
      "Epoch 5/30\n",
      "19174/19174 [==============================] - 4s 210us/sample - loss: 0.5571 - accuracy: 0.9082 - val_loss: 0.5874 - val_accuracy: 0.8422\n",
      "Epoch 6/30\n",
      "19174/19174 [==============================] - 4s 189us/sample - loss: 0.5523 - accuracy: 0.9188 - val_loss: 0.5884 - val_accuracy: 0.8425\n",
      "Epoch 7/30\n",
      "19174/19174 [==============================] - 4s 207us/sample - loss: 0.5482 - accuracy: 0.9265 - val_loss: 0.5881 - val_accuracy: 0.8400\n",
      "Epoch 8/30\n",
      "19174/19174 [==============================] - 4s 221us/sample - loss: 0.5447 - accuracy: 0.9333 - val_loss: 0.5888 - val_accuracy: 0.8389\n",
      "Epoch 9/30\n",
      "19174/19174 [==============================] - 4s 213us/sample - loss: 0.5424 - accuracy: 0.9374 - val_loss: 0.5897 - val_accuracy: 0.8378\n",
      "Epoch 10/30\n",
      "19174/19174 [==============================] - 4s 213us/sample - loss: 0.5400 - accuracy: 0.9422 - val_loss: 0.5908 - val_accuracy: 0.8392\n",
      "Epoch 11/30\n",
      "19174/19174 [==============================] - 4s 195us/sample - loss: 0.5381 - accuracy: 0.9454 - val_loss: 0.5911 - val_accuracy: 0.8375\n",
      "Epoch 12/30\n",
      "19174/19174 [==============================] - 4s 198us/sample - loss: 0.5365 - accuracy: 0.9489 - val_loss: 0.5912 - val_accuracy: 0.8302\n",
      "Epoch 13/30\n",
      "19174/19174 [==============================] - 4s 200us/sample - loss: 0.5354 - accuracy: 0.9502 - val_loss: 0.5920 - val_accuracy: 0.8328\n",
      "Epoch 14/30\n",
      "19174/19174 [==============================] - 4s 214us/sample - loss: 0.5343 - accuracy: 0.9525 - val_loss: 0.5923 - val_accuracy: 0.8359\n",
      "Epoch 15/30\n",
      "19174/19174 [==============================] - 4s 190us/sample - loss: 0.5335 - accuracy: 0.9541 - val_loss: 0.5924 - val_accuracy: 0.8321\n",
      "Epoch 16/30\n",
      "19174/19174 [==============================] - 4s 226us/sample - loss: 0.5330 - accuracy: 0.9551 - val_loss: 0.5934 - val_accuracy: 0.8328\n",
      "Epoch 17/30\n",
      "19174/19174 [==============================] - 4s 203us/sample - loss: 0.5325 - accuracy: 0.9555 - val_loss: 0.5928 - val_accuracy: 0.8330\n",
      "Epoch 18/30\n",
      "19174/19174 [==============================] - 4s 189us/sample - loss: 0.5321 - accuracy: 0.9561 - val_loss: 0.5939 - val_accuracy: 0.8309\n",
      "Epoch 19/30\n",
      "19174/19174 [==============================] - 4s 196us/sample - loss: 0.5318 - accuracy: 0.9567 - val_loss: 0.5942 - val_accuracy: 0.8314\n",
      "Epoch 20/30\n",
      "19174/19174 [==============================] - 4s 214us/sample - loss: 0.5315 - accuracy: 0.9575 - val_loss: 0.5949 - val_accuracy: 0.8289\n",
      "Epoch 21/30\n",
      "19174/19174 [==============================] - 4s 217us/sample - loss: 0.5313 - accuracy: 0.9576 - val_loss: 0.5947 - val_accuracy: 0.8292\n",
      "Epoch 22/30\n",
      "19174/19174 [==============================] - 4s 230us/sample - loss: 0.5310 - accuracy: 0.9583 - val_loss: 0.5958 - val_accuracy: 0.8292\n",
      "Epoch 23/30\n",
      "19174/19174 [==============================] - 5s 244us/sample - loss: 0.5308 - accuracy: 0.9586 - val_loss: 0.5956 - val_accuracy: 0.8289\n",
      "Epoch 24/30\n",
      "19174/19174 [==============================] - 4s 226us/sample - loss: 0.5307 - accuracy: 0.9584 - val_loss: 0.5961 - val_accuracy: 0.8290\n",
      "Epoch 25/30\n",
      "19174/19174 [==============================] - 4s 226us/sample - loss: 0.5307 - accuracy: 0.9586 - val_loss: 0.5979 - val_accuracy: 0.8278\n",
      "Epoch 26/30\n",
      "19174/19174 [==============================] - 4s 221us/sample - loss: 0.5306 - accuracy: 0.9590 - val_loss: 0.5968 - val_accuracy: 0.8274\n",
      "Epoch 27/30\n",
      "19174/19174 [==============================] - 4s 207us/sample - loss: 0.5305 - accuracy: 0.9592 - val_loss: 0.5970 - val_accuracy: 0.8265\n",
      "Epoch 28/30\n",
      "19174/19174 [==============================] - 4s 193us/sample - loss: 0.5303 - accuracy: 0.9593 - val_loss: 0.5990 - val_accuracy: 0.8247\n",
      "Epoch 29/30\n",
      "19174/19174 [==============================] - 4s 194us/sample - loss: 0.5302 - accuracy: 0.9595 - val_loss: 0.5967 - val_accuracy: 0.8247\n",
      "Epoch 30/30\n",
      "19174/19174 [==============================] - 4s 194us/sample - loss: 0.5301 - accuracy: 0.9598 - val_loss: 0.5972 - val_accuracy: 0.8238\n"
     ]
    },
    {
     "data": {
      "text/plain": [
       "<tensorflow.python.keras.callbacks.History at 0x7efee0b18150>"
      ]
     },
     "execution_count": 80,
     "metadata": {},
     "output_type": "execute_result"
    }
   ],
   "source": [
    "model.fit(train_pad_seq,train_label,epochs=30,\n",
    "          validation_data=(test_pad_seq,test_label),\n",
    "          callbacks=[callback])"
   ]
  },
  {
   "cell_type": "markdown",
   "metadata": {},
   "source": [
    "### Plotting"
   ]
  },
  {
   "cell_type": "code",
   "execution_count": 83,
   "metadata": {},
   "outputs": [],
   "source": [
    "model_metrics=model.history.history"
   ]
  },
  {
   "cell_type": "code",
   "execution_count": 85,
   "metadata": {},
   "outputs": [
    {
     "data": {
      "text/plain": [
       "<matplotlib.legend.Legend at 0x7eff0fc28950>"
      ]
     },
     "execution_count": 85,
     "metadata": {},
     "output_type": "execute_result"
    },
    {
     "data": {
      "image/png": "[encoded data removed]",
      "text/plain": [
       "<Figure size 432x288 with 1 Axes>"
      ]
     },
     "metadata": {
      "needs_background": "light"
     },
     "output_type": "display_data"
    }
   ],
   "source": [
    "plt.plot(model_metrics['accuracy'],label='train')\n",
    "plt.plot(model_metrics['val_accuracy'],label='test')\n",
    "plt.legend()"
   ]
  },
  {
   "cell_type": "code",
   "execution_count": 86,
   "metadata": {},
   "outputs": [
    {
     "data": {
      "text/plain": [
       "<matplotlib.legend.Legend at 0x7eff107d3250>"
      ]
     },
     "execution_count": 86,
     "metadata": {},
     "output_type": "execute_result"
    },
    {
     "data": {
      "image/png": "[encoded data removed]",
      "text/plain": [
       "<Figure size 432x288 with 1 Axes>"
      ]
     },
     "metadata": {
      "needs_background": "light"
     },
     "output_type": "display_data"
    }
   ],
   "source": [
    "plt.plot(model_metrics['loss'],label='train')\n",
    "plt.plot(model_metrics['val_loss'],label='test')\n",
    "plt.legend()"
   ]
  },
  {
   "cell_type": "markdown",
   "metadata": {},
   "source": [
    "### It is the same"
   ]
  },
  {
   "cell_type": "code",
   "execution_count": null,
   "metadata": {},
   "outputs": [],
   "source": []
  }
 ],
 "metadata": {
  "kernelspec": {
   "display_name": "Python 3",
   "language": "python",
   "name": "python3"
  },
  "language_info": {
   "codemirror_mode": {
    "name": "ipython",
    "version": 3
   },
   "file_extension": ".py",
   "mimetype": "text/x-python",
   "name": "python",
   "nbconvert_exporter": "python",
   "pygments_lexer": "ipython3",
   "version": "3.7.6"
  }
 },
 "nbformat": 4,
 "nbformat_minor": 4
}
