{
 "cells": [
  {
   "cell_type": "markdown",
   "metadata": {},
   "source": [
    "#### We a are going to learn about the tokenization of sentences\n",
    "#### Tokenization: IT will assign unique id's for the sentences in the list and convert the words in sentences into numbers. so finally we would get vector of numbers instead of text. So this text to vector conversion is done by tokenizer.\n",
    "#### For unknown data i.e. the data which it doesn't see while training is wither skipped while converting or based on hyper parameters another uique word is assigned while converting.\n",
    "#### After the conversion just like CNN training we have to convert them into same shape for traininig.\n",
    "#### This can be done by using padding_sequence. This will pad 0's to the vectors either front or backside of the sequence to make every vector into wqual shape.\n"
   ]
  },
  {
   "cell_type": "code",
   "execution_count": 2,
   "metadata": {},
   "outputs": [],
   "source": [
    "import tensorflow as tf\n",
    "from tensorflow.keras.preprocessing.text import Tokenizer"
   ]
  },
  {
   "cell_type": "code",
   "execution_count": 18,
   "metadata": {},
   "outputs": [],
   "source": [
    "sentence=['I love My country',\n",
    "           'Hello, I am a man',\n",
    "           'What a wonderfull day, Vikas',\n",
    "         \"We Wouldn't go either\"]"
   ]
  },
  {
   "cell_type": "code",
   "execution_count": 19,
   "metadata": {},
   "outputs": [
    {
     "name": "stdout",
     "output_type": "stream",
     "text": [
      "{'<OOV>': 1, 'i': 2, 'a': 3, 'love': 4, 'my': 5, 'country': 6, 'hello': 7, 'am': 8, 'man': 9, 'what': 10, 'wonderfull': 11, 'day': 12, 'vikas': 13, 'we': 14, \"wouldn't\": 15, 'go': 16, 'either': 17}\n"
     ]
    }
   ],
   "source": [
    "#Nm_words: How many words should a tokenizer should consider.\n",
    "tokenizer=Tokenizer(num_words=100,oov_token='<OOV>')\n",
    "tokenizer.fit_on_texts(sentence)\n",
    "word_encoding=tokenizer.word_index\n",
    "print(word_encoding)"
   ]
  },
  {
   "cell_type": "markdown",
   "metadata": {},
   "source": [
    "### Now we wil convert the sentences to sequences of numbers"
   ]
  },
  {
   "cell_type": "code",
   "execution_count": 13,
   "metadata": {},
   "outputs": [
    {
     "name": "stdout",
     "output_type": "stream",
     "text": [
      "[[2, 4, 5, 6], [7, 2, 8, 3, 9], [10, 3, 11, 12, 13]]\n"
     ]
    }
   ],
   "source": [
    "sequences=tokenizer.texts_to_sequences(sentence)\n",
    "print(sequences)"
   ]
  },
  {
   "cell_type": "markdown",
   "metadata": {},
   "source": [
    "### Here every sequence has differnet shape and for training we have to make them siimilat in shape to train efficiently.\n",
    "#### This can be done by padding_sequence"
   ]
  },
  {
   "cell_type": "code",
   "execution_count": 10,
   "metadata": {},
   "outputs": [],
   "source": [
    "from tensorflow import keras"
   ]
  },
  {
   "cell_type": "code",
   "execution_count": 14,
   "metadata": {},
   "outputs": [],
   "source": [
    "padding_sequence=keras.preprocessing.sequence.pad_sequences(sequences)"
   ]
  },
  {
   "cell_type": "code",
   "execution_count": 15,
   "metadata": {},
   "outputs": [
    {
     "data": {
      "text/plain": [
       "array([[ 0,  2,  4,  5,  6],\n",
       "       [ 7,  2,  8,  3,  9],\n",
       "       [10,  3, 11, 12, 13]], dtype=int32)"
      ]
     },
     "execution_count": 15,
     "metadata": {},
     "output_type": "execute_result"
    }
   ],
   "source": [
    "padding_sequence"
   ]
  },
  {
   "cell_type": "markdown",
   "metadata": {},
   "source": [
    "### WE have append 0' on the end of the vector list also"
   ]
  },
  {
   "cell_type": "code",
   "execution_count": 17,
   "metadata": {},
   "outputs": [
    {
     "name": "stdout",
     "output_type": "stream",
     "text": [
      "[[ 2  4  5  6  0]\n",
      " [ 7  2  8  3  9]\n",
      " [10  3 11 12 13]]\n"
     ]
    }
   ],
   "source": [
    "padding_sequence_post=keras.preprocessing.sequence.pad_sequences(sequences,padding='post')\n",
    "print(padding_sequence_post)"
   ]
  },
  {
   "cell_type": "markdown",
   "metadata": {},
   "source": [
    "### We will go with one example\n"
   ]
  },
  {
   "cell_type": "code",
   "execution_count": 20,
   "metadata": {},
   "outputs": [
    {
     "name": "stdout",
     "output_type": "stream",
     "text": [
      "--2020-05-25 07:47:03--  https://storage.googleapis.com/laurencemoroney-blog.appspot.com/bbc-text.csv\n",
      "Resolving storage.googleapis.com (storage.googleapis.com)... 74.125.195.128, 2607:f8b0:400e:c09::80\n",
      "Connecting to storage.googleapis.com (storage.googleapis.com)|74.125.195.128|:443... connected.\n",
      "HTTP request sent, awaiting response... 200 OK\n",
      "Length: 5057493 (4.8M) [application/octet-stream]\n",
      "Saving to: ‘/tmp/bbc-text.csv’\n",
      "\n",
      "/tmp/bbc-text.csv   100%[===================>]   4.82M  --.-KB/s    in 0.04s   \n",
      "\n",
      "2020-05-25 07:47:03 (109 MB/s) - ‘/tmp/bbc-text.csv’ saved [5057493/5057493]\n",
      "\n"
     ]
    }
   ],
   "source": [
    "!wget --no-check-certificate \\\n",
    "    https://storage.googleapis.com/laurencemoroney-blog.appspot.com/bbc-text.csv \\\n",
    "    -O /tmp/bbc-text.csv"
   ]
  },
  {
   "cell_type": "code",
   "execution_count": 21,
   "metadata": {},
   "outputs": [],
   "source": [
    "import csv"
   ]
  },
  {
   "cell_type": "code",
   "execution_count": 38,
   "metadata": {},
   "outputs": [],
   "source": [
    "sentence=[]\n",
    "labels=[]\n",
    "with open(\"/tmp/bbc-text.csv\", 'r') as csvfile:\n",
    "    csv_reader=csv.reader(csvfile)\n",
    "    for row in csv_reader:\n",
    "        labels.append(row[0])\n",
    "        sentence.append(row[1])"
   ]
  },
  {
   "cell_type": "code",
   "execution_count": 40,
   "metadata": {},
   "outputs": [
    {
     "data": {
      "text/plain": [
       "['text',\n",
       " 'tv future in the hands of viewers with home theatre systems  plasma high-definition tvs  and digital video recorders moving into the living room  the way people watch tv will be radically different in five years  time.  that is according to an expert panel which gathered at the annual consumer electronics show in las vegas to discuss how these new technologies will impact one of our favourite pastimes. with the us leading the trend  programmes and other content will be delivered to viewers via home networks  through cable  satellite  telecoms companies  and broadband service providers to front rooms and portable devices.  one of the most talked-about technologies of ces has been digital and personal video recorders (dvr and pvr). these set-top boxes  like the us s tivo and the uk s sky+ system  allow people to record  store  play  pause and forward wind tv programmes when they want.  essentially  the technology allows for much more personalised tv. they are also being built-in to high-definition tv sets  which are big business in japan and the us  but slower to take off in europe because of the lack of high-definition programming. not only can people forward wind through adverts  they can also forget about abiding by network and channel schedules  putting together their own a-la-carte entertainment. but some us networks and cable and satellite companies are worried about what it means for them in terms of advertising revenues as well as  brand identity  and viewer loyalty to channels. although the us leads in this technology at the moment  it is also a concern that is being raised in europe  particularly with the growing uptake of services like sky+.  what happens here today  we will see in nine months to a years  time in the uk   adam hume  the bbc broadcast s futurologist told the bbc news website. for the likes of the bbc  there are no issues of lost advertising revenue yet. it is a more pressing issue at the moment for commercial uk broadcasters  but brand loyalty is important for everyone.  we will be talking more about content brands rather than network brands   said tim hanlon  from brand communications firm starcom mediavest.  the reality is that with broadband connections  anybody can be the producer of content.  he added:  the challenge now is that it is hard to promote a programme with so much choice.   what this means  said stacey jolna  senior vice president of tv guide tv group  is that the way people find the content they want to watch has to be simplified for tv viewers. it means that networks  in us terms  or channels could take a leaf out of google s book and be the search engine of the future  instead of the scheduler to help people find what they want to watch. this kind of channel model might work for the younger ipod generation which is used to taking control of their gadgets and what they play on them. but it might not suit everyone  the panel recognised. older generations are more comfortable with familiar schedules and channel brands because they know what they are getting. they perhaps do not want so much of the choice put into their hands  mr hanlon suggested.  on the other end  you have the kids just out of diapers who are pushing buttons already - everything is possible and available to them   said mr hanlon.  ultimately  the consumer will tell the market they want.   of the 50 000 new gadgets and technologies being showcased at ces  many of them are about enhancing the tv-watching experience. high-definition tv sets are everywhere and many new models of lcd (liquid crystal display) tvs have been launched with dvr capability built into them  instead of being external boxes. one such example launched at the show is humax s 26-inch lcd tv with an 80-hour tivo dvr and dvd recorder. one of the us s biggest satellite tv companies  directtv  has even launched its own branded dvr at the show with 100-hours of recording capability  instant replay  and a search function. the set can pause and rewind tv for up to 90 hours. and microsoft chief bill gates announced in his pre-show keynote speech a partnership with tivo  called tivotogo  which means people can play recorded programmes on windows pcs and mobile devices. all these reflect the increasing trend of freeing up multimedia so that people can watch what they want  when they want.']"
      ]
     },
     "execution_count": 40,
     "metadata": {},
     "output_type": "execute_result"
    }
   ],
   "source": [
    "sentence[:2]"
   ]
  },
  {
   "cell_type": "code",
   "execution_count": 41,
   "metadata": {},
   "outputs": [
    {
     "data": {
      "text/plain": [
       "['category',\n",
       " 'tech',\n",
       " 'business',\n",
       " 'sport',\n",
       " 'sport',\n",
       " 'entertainment',\n",
       " 'politics',\n",
       " 'politics',\n",
       " 'sport',\n",
       " 'sport',\n",
       " 'entertainment',\n",
       " 'entertainment',\n",
       " 'business',\n",
       " 'business',\n",
       " 'politics',\n",
       " 'sport',\n",
       " 'business',\n",
       " 'politics',\n",
       " 'sport',\n",
       " 'business',\n",
       " 'tech',\n",
       " 'tech',\n",
       " 'tech',\n",
       " 'sport',\n",
       " 'sport',\n",
       " 'tech',\n",
       " 'sport',\n",
       " 'entertainment',\n",
       " 'tech',\n",
       " 'politics',\n",
       " 'entertainment',\n",
       " 'politics',\n",
       " 'tech',\n",
       " 'entertainment',\n",
       " 'entertainment',\n",
       " 'business',\n",
       " 'politics',\n",
       " 'tech',\n",
       " 'entertainment',\n",
       " 'politics',\n",
       " 'business',\n",
       " 'politics',\n",
       " 'sport',\n",
       " 'business',\n",
       " 'sport',\n",
       " 'tech',\n",
       " 'entertainment',\n",
       " 'politics',\n",
       " 'politics',\n",
       " 'politics']"
      ]
     },
     "execution_count": 41,
     "metadata": {},
     "output_type": "execute_result"
    }
   ],
   "source": [
    "labels[:50]"
   ]
  },
  {
   "cell_type": "code",
   "execution_count": 43,
   "metadata": {},
   "outputs": [
    {
     "data": {
      "text/plain": [
       "2226"
      ]
     },
     "execution_count": 43,
     "metadata": {},
     "output_type": "execute_result"
    }
   ],
   "source": [
    "len(labels)"
   ]
  },
  {
   "cell_type": "markdown",
   "metadata": {},
   "source": [
    "### We got some sentences and then wewill create tokenizers and padding sequences."
   ]
  },
  {
   "cell_type": "code",
   "execution_count": 44,
   "metadata": {},
   "outputs": [],
   "source": [
    "import tensorflow as tf\n",
    "from tensorflow import keras"
   ]
  },
  {
   "cell_type": "code",
   "execution_count": 46,
   "metadata": {},
   "outputs": [],
   "source": [
    "tokenizer=keras.preprocessing.text.Tokenizer(oov_token='<OOV>')"
   ]
  },
  {
   "cell_type": "code",
   "execution_count": 50,
   "metadata": {},
   "outputs": [
    {
     "name": "stdout",
     "output_type": "stream",
     "text": [
      "<class 'dict'>\n",
      "29727\n"
     ]
    }
   ],
   "source": [
    "tokenizer.fit_on_texts(sentence)\n",
    "word_encoding=tokenizer.word_index\n",
    "print(type(word_encoding))\n",
    "print(len(word_encoding))\n",
    "#print(word_encoding[:20])"
   ]
  },
  {
   "cell_type": "markdown",
   "metadata": {},
   "source": [
    "### Convert the text to sequence"
   ]
  },
  {
   "cell_type": "code",
   "execution_count": 53,
   "metadata": {},
   "outputs": [
    {
     "name": "stdout",
     "output_type": "stream",
     "text": [
      "<class 'list'>\n"
     ]
    }
   ],
   "source": [
    "sequences=tokenizer.texts_to_sequences(sentence)\n",
    "print(type(sequences))\n"
   ]
  },
  {
   "cell_type": "code",
   "execution_count": 54,
   "metadata": {},
   "outputs": [
    {
     "name": "stdout",
     "output_type": "stream",
     "text": [
      "[[1237], [177, 265, 7, 2, 1254, 4, 1316, 18, 127, 1217, 839, 5278, 163, 1169, 4340, 5, 236, 273, 4202, 1441, 77, 2, 1408, 1686, 2, 118, 48, 1045, 177, 24, 17, 6573, 423, 7, 173, 80, 68, 11, 10, 229, 3, 35, 3208, 1427, 36, 2600, 22, 2, 677, 517, 1374, 150, 7, 3043, 3126, 3, 1844, 131, 183, 49, 992, 24, 853, 51, 4, 126, 1050, 19535, 18, 2, 50, 753, 2, 1669, 1148, 5, 72, 512, 24, 17, 2086, 3, 1316, 876, 127, 602, 180, 1590, 2199, 1743, 224, 5, 428, 210, 2825, 3, 915, 5279, 5, 1183, 708, 51, 4, 2, 117, 4484, 53, 992, 4, 2661, 20, 39, 236, 5, 448, 273, 4202, 8862, 5, 5859, 183, 113, 151, 3297, 93, 2, 50, 8, 5539, 5, 2, 78, 8, 1493, 234, 554, 48, 3, 227, 1494, 160, 4666, 5, 588, 5280, 177, 1148, 67, 30, 165, 6574, 2, 161, 2200, 9, 141, 41, 8863, 177, 30, 26, 46, 89, 1218, 7, 3, 163, 1169, 177, 2057, 36, 26, 237, 248, 7, 518, 5, 2, 50, 25, 2959, 3, 115, 129, 7, 238, 103, 4, 2, 1317, 4, 163, 1169, 4485, 29, 86, 56, 48, 588, 5280, 180, 3209, 30, 56, 46, 2774, 53, 7023, 23, 510, 5, 1192, 8864, 1472, 714, 40, 208, 6, 2165, 15000, 854, 25, 76, 50, 602, 5, 1590, 5, 2199, 224, 26, 2006, 53, 75, 12, 508, 9, 83, 7, 993, 4, 2166, 1709, 19, 112, 19, 1907, 2662, 5, 5063, 5540, 3, 2601, 340, 2, 50, 2716, 7, 34, 161, 22, 2, 916, 12, 10, 46, 6, 1184, 11, 10, 89, 1228, 7, 238, 895, 18, 2, 678, 8865, 4, 225, 93, 1493, 75, 1908, 497, 545, 32, 24, 170, 7, 1051, 202, 3, 6, 80, 68, 7, 2, 78, 3474, 19536, 2, 111, 1548, 8, 12634, 90, 2, 111, 181, 459, 9, 2, 2477, 4, 2, 111, 52, 26, 81, 564, 4, 331, 2166, 1473, 436, 12, 10, 6, 41, 5541, 420, 22, 2, 916, 9, 1229, 78, 2717, 25, 1907, 5540, 10, 389, 9, 833, 32, 24, 17, 1272, 41, 53, 512, 2129, 498, 58, 510, 2129, 14, 1409, 12635, 28, 1907, 1941, 148, 19537, 19538, 2, 1882, 10, 11, 18, 428, 1909, 3475, 56, 17, 2, 1297, 4, 512, 16, 119, 2, 955, 73, 10, 11, 12, 10, 359, 3, 3044, 6, 463, 18, 74, 141, 672, 75, 34, 508, 14, 19539, 19540, 768, 1410, 294, 4, 177, 4069, 177, 190, 10, 11, 2, 118, 48, 449, 2, 512, 30, 165, 3, 1045, 20, 3, 17, 15001, 9, 177, 1316, 12, 508, 11, 602, 7, 50, 993, 57, 2601, 62, 115, 6, 10961, 54, 4, 949, 8, 647, 5, 17, 2, 501, 1942, 4, 2, 265, 673, 4, 2, 19541, 3, 230, 48, 449, 75, 30, 165, 3, 1045, 34, 1298, 4, 1192, 1591, 465, 146, 9, 2, 2130, 1359, 884, 36, 10, 175, 3, 351, 391, 4, 40, 1126, 5, 75, 30, 160, 13, 83, 25, 12, 465, 29, 2663, 833, 2, 1427, 2385, 1758, 7024, 26, 41, 3924, 18, 3298, 8864, 5, 1192, 2129, 103, 30, 274, 75, 30, 26, 492, 30, 1647, 85, 29, 165, 74, 141, 4, 2, 672, 199, 77, 40, 1254, 33, 12635, 1071, 13, 2, 72, 182, 60, 21, 2, 3299, 87, 54, 4, 19542, 47, 26, 2432, 8866, 198, 867, 10, 535, 5, 540, 3, 83, 14, 33, 12635, 2718, 2, 517, 24, 1592, 2, 120, 30, 165, 4, 2, 523, 105, 49, 1126, 5, 992, 89, 7025, 22, 2661, 100, 4, 83, 26, 53, 4341, 2, 177, 1811, 950, 163, 1169, 177, 2057, 26, 7574, 5, 100, 49, 1608, 4, 7026, 7027, 4203, 1563, 4340, 21, 39, 745, 18, 8862, 3925, 1218, 77, 83, 673, 4, 89, 4204, 3297, 51, 95, 1008, 745, 22, 2, 150, 10, 19543, 8, 1442, 6198, 7026, 177, 18, 35, 1564, 1103, 5539, 8862, 5, 686, 4205, 51, 4, 2, 50, 8, 336, 2199, 177, 224, 19544, 20, 191, 745, 44, 208, 3127, 8862, 22, 2, 150, 18, 600, 809, 4, 2556, 3925, 5281, 3592, 5, 6, 501, 4863, 2, 113, 56, 4666, 5, 9797, 177, 9, 43, 3, 1865, 809, 5, 388, 209, 379, 2889, 440, 7, 31, 754, 150, 4070, 860, 6, 3815, 18, 5539, 252, 19545, 36, 508, 48, 56, 160, 1866, 1148, 13, 922, 972, 5, 169, 708, 59, 183, 3210, 2, 1474, 1669, 4, 9798, 43, 1759, 74, 11, 48, 56, 1045, 75, 30, 165, 67, 30, 165]]\n"
     ]
    }
   ],
   "source": [
    "print(sequences[:2])"
   ]
  },
  {
   "cell_type": "markdown",
   "metadata": {},
   "source": [
    "#### Now lets add the padding sequence"
   ]
  },
  {
   "cell_type": "code",
   "execution_count": 58,
   "metadata": {},
   "outputs": [
    {
     "name": "stdout",
     "output_type": "stream",
     "text": [
      "<class 'numpy.ndarray'>\n"
     ]
    }
   ],
   "source": [
    "padding_sequence=keras.preprocessing.sequence.pad_sequences(sequences,padding='post')\n",
    "print(type(padding_sequence))"
   ]
  },
  {
   "cell_type": "code",
   "execution_count": 60,
   "metadata": {},
   "outputs": [
    {
     "data": {
      "text/plain": [
       "array([[1237,    0,    0, ...,    0,    0,    0],\n",
       "       [ 177,  265,    7, ...,    0,    0,    0],\n",
       "       [1710,  709,  341, ...,    0,    0,    0],\n",
       "       ...,\n",
       "       [ 152, 8876,    3, ...,    0,    0,    0],\n",
       "       [1971,  812, 1378, ...,    0,    0,    0],\n",
       "       [2482, 1301,    3, ...,    0,    0,    0]], dtype=int32)"
      ]
     },
     "execution_count": 60,
     "metadata": {},
     "output_type": "execute_result"
    }
   ],
   "source": [
    "padding_sequence[:10]"
   ]
  },
  {
   "cell_type": "code",
   "execution_count": 61,
   "metadata": {},
   "outputs": [
    {
     "data": {
      "text/plain": [
       "(2226, 4491)"
      ]
     },
     "execution_count": 61,
     "metadata": {},
     "output_type": "execute_result"
    }
   ],
   "source": [
    "padding_sequence.shape"
   ]
  },
  {
   "cell_type": "markdown",
   "metadata": {},
   "source": [
    "### lets do the same for labels aswell"
   ]
  },
  {
   "cell_type": "code",
   "execution_count": 70,
   "metadata": {},
   "outputs": [],
   "source": [
    "tokenizer=keras.preprocessing.text.Tokenizer()\n",
    "tokenizer.fit_on_texts(labels)\n",
    "\n",
    "label_encoding=tokenizer.word_index\n",
    "#print(label_encoding[:10])"
   ]
  },
  {
   "cell_type": "code",
   "execution_count": 73,
   "metadata": {},
   "outputs": [
    {
     "data": {
      "text/plain": [
       "{'sport': 1,\n",
       " 'business': 2,\n",
       " 'politics': 3,\n",
       " 'tech': 4,\n",
       " 'entertainment': 5,\n",
       " 'category': 6}"
      ]
     },
     "execution_count": 73,
     "metadata": {},
     "output_type": "execute_result"
    }
   ],
   "source": [
    "label_encoding"
   ]
  },
  {
   "cell_type": "code",
   "execution_count": null,
   "metadata": {},
   "outputs": [],
   "source": []
  }
 ],
 "metadata": {
  "kernelspec": {
   "display_name": "Python 3",
   "language": "python",
   "name": "python3"
  },
  "language_info": {
   "codemirror_mode": {
    "name": "ipython",
    "version": 3
   },
   "file_extension": ".py",
   "mimetype": "text/x-python",
   "name": "python",
   "nbconvert_exporter": "python",
   "pygments_lexer": "ipython3",
   "version": "3.7.6"
  }
 },
 "nbformat": 4,
 "nbformat_minor": 4
}
