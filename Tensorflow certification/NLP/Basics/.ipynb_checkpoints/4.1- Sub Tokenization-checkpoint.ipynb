{
 "cells": [
  {
   "cell_type": "code",
   "execution_count": 1,
   "metadata": {},
   "outputs": [],
   "source": [
    "import numpy as np\n",
    "import tensorflow as tf\n",
    "from tensorflow import keras\n",
    "import tensorflow_datasets as tfds"
   ]
  },
  {
   "cell_type": "code",
   "execution_count": 2,
   "metadata": {},
   "outputs": [],
   "source": [
    "imdb,info=tfds.load('imdb_reviews/subwords8k', with_info=True,as_supervised=True)"
   ]
  },
  {
   "cell_type": "code",
   "execution_count": 3,
   "metadata": {},
   "outputs": [],
   "source": [
    "features=info.features"
   ]
  },
  {
   "cell_type": "code",
   "execution_count": 19,
   "metadata": {},
   "outputs": [],
   "source": [
    "sub_tokenizer=features['text'].encoder"
   ]
  },
  {
   "cell_type": "code",
   "execution_count": 20,
   "metadata": {},
   "outputs": [],
   "source": [
    "sub_words=sub_tokenizer.subwords"
   ]
  },
  {
   "cell_type": "code",
   "execution_count": 21,
   "metadata": {},
   "outputs": [
    {
     "data": {
      "text/plain": [
       "['the_', ', ', '. ', 'a_', 'and_', 'of_', 'to_', 's_', 'is_', 'br']"
      ]
     },
     "execution_count": 21,
     "metadata": {},
     "output_type": "execute_result"
    }
   ],
   "source": [
    "sub_words[:10]"
   ]
  },
  {
   "cell_type": "code",
   "execution_count": null,
   "metadata": {},
   "outputs": [],
   "source": []
  },
  {
   "cell_type": "code",
   "execution_count": 31,
   "metadata": {},
   "outputs": [
    {
     "name": "stdout",
     "output_type": "stream",
     "text": [
      "[4025, 8040, 2, 12, 258, 8029, 8031, 8032, 8029, 8032]\n"
     ]
    }
   ],
   "source": [
    "sample='Hello, I am dfgdg'\n",
    "sample_encode=sub_tokenizer.encode(sample)\n",
    "print(sample_encode)"
   ]
  },
  {
   "cell_type": "code",
   "execution_count": 23,
   "metadata": {},
   "outputs": [
    {
     "name": "stdout",
     "output_type": "stream",
     "text": [
      "Hello, I am vikas\n"
     ]
    }
   ],
   "source": [
    "sample_decode=sub_tokenizer.decode(sample_encode)\n",
    "print(sample_decode)"
   ]
  },
  {
   "cell_type": "code",
   "execution_count": 24,
   "metadata": {},
   "outputs": [],
   "source": [
    "train_data,test_data=imdb['train'], imdb['test']"
   ]
  },
  {
   "cell_type": "code",
   "execution_count": 25,
   "metadata": {},
   "outputs": [
    {
     "data": {
      "text/plain": [
       "<DatasetV1Adapter shapes: ((None,), ()), types: (tf.int64, tf.int64)>"
      ]
     },
     "execution_count": 25,
     "metadata": {},
     "output_type": "execute_result"
    }
   ],
   "source": [
    "train_data"
   ]
  },
  {
   "cell_type": "code",
   "execution_count": 43,
   "metadata": {},
   "outputs": [],
   "source": [
    "train_batch=train_data.shuffle(1000).padded_batch(32,padded_shapes=([None],[]))\n",
    "test_batch=test_data.shuffle(1000).padded_batch(32,padded_shapes=([None],[]))"
   ]
  },
  {
   "cell_type": "code",
   "execution_count": 27,
   "metadata": {},
   "outputs": [],
   "source": [
    "from tensorflow.keras.layers import Embedding,Dense,GlobalAveragePooling1D"
   ]
  },
  {
   "cell_type": "code",
   "execution_count": 29,
   "metadata": {},
   "outputs": [
    {
     "name": "stdout",
     "output_type": "stream",
     "text": [
      "Model: \"sequential_1\"\n",
      "_________________________________________________________________\n",
      "Layer (type)                 Output Shape              Param #   \n",
      "=================================================================\n",
      "embedding (Embedding)        (None, None, 64)          523840    \n",
      "_________________________________________________________________\n",
      "global_average_pooling1d (Gl (None, 64)                0         \n",
      "_________________________________________________________________\n",
      "dense (Dense)                (None, 6)                 390       \n",
      "_________________________________________________________________\n",
      "dense_1 (Dense)              (None, 1)                 7         \n",
      "=================================================================\n",
      "Total params: 524,237\n",
      "Trainable params: 524,237\n",
      "Non-trainable params: 0\n",
      "_________________________________________________________________\n"
     ]
    }
   ],
   "source": [
    "model=keras.Sequential()\n",
    "model.add(Embedding(input_dim=sub_tokenizer.vocab_size,output_dim=64))\n",
    "model.add(GlobalAveragePooling1D())\n",
    "model.add(Dense(units=6,activation=tf.nn.relu))\n",
    "model.add(Dense(units=1,activation=tf.nn.sigmoid))\n",
    "model.compile(optimizer='adam',loss=keras.losses.BinaryCrossentropy(from_logits=True),\n",
    "             metrics=['accuracy'])\n",
    "model.summary()"
   ]
  },
  {
   "cell_type": "code",
   "execution_count": null,
   "metadata": {},
   "outputs": [
    {
     "name": "stdout",
     "output_type": "stream",
     "text": [
      "Epoch 1/30\n",
      "782/782 [==============================] - 30s 38ms/step - loss: 0.7137 - accuracy: 0.5000 - val_loss: 0.7077 - val_accuracy: 0.5000\n",
      "Epoch 2/30\n",
      "782/782 [==============================] - 26s 33ms/step - loss: 0.7041 - accuracy: 0.5000 - val_loss: 0.7013 - val_accuracy: 0.5000\n",
      "Epoch 3/30\n",
      "782/782 [==============================] - 26s 33ms/step - loss: 0.6993 - accuracy: 0.5000 - val_loss: 0.6928 - val_accuracy: 0.5000\n",
      "Epoch 4/30\n",
      "782/782 [==============================] - 26s 33ms/step - loss: 0.6330 - accuracy: 0.7106 - val_loss: 0.6022 - val_accuracy: 0.8445\n",
      "Epoch 5/30\n",
      "782/782 [==============================] - 27s 34ms/step - loss: 0.5782 - accuracy: 0.8623 - val_loss: 0.5791 - val_accuracy: 0.8492\n",
      "Epoch 6/30\n",
      "782/782 [==============================] - 27s 34ms/step - loss: 0.5623 - accuracy: 0.8915 - val_loss: 0.5721 - val_accuracy: 0.8688\n",
      "Epoch 7/30\n",
      "782/782 [==============================] - 27s 35ms/step - loss: 0.5535 - accuracy: 0.9050 - val_loss: 0.5684 - val_accuracy: 0.8722\n",
      "Epoch 8/30\n",
      "782/782 [==============================] - 27s 34ms/step - loss: 0.5478 - accuracy: 0.9169 - val_loss: 0.5663 - val_accuracy: 0.8619\n",
      "Epoch 9/30\n",
      "782/782 [==============================] - 26s 34ms/step - loss: 0.5430 - accuracy: 0.9248 - val_loss: 0.5664 - val_accuracy: 0.8783\n",
      "Epoch 10/30\n",
      "782/782 [==============================] - 27s 34ms/step - loss: 0.5394 - accuracy: 0.9324 - val_loss: 0.5638 - val_accuracy: 0.8753\n",
      "Epoch 11/30\n",
      "782/782 [==============================] - 27s 34ms/step - loss: 0.5367 - accuracy: 0.9366 - val_loss: 0.5633 - val_accuracy: 0.8786\n",
      "Epoch 12/30\n",
      "782/782 [==============================] - 26s 34ms/step - loss: 0.5334 - accuracy: 0.9436 - val_loss: 0.5642 - val_accuracy: 0.8607\n",
      "Epoch 13/30\n",
      "782/782 [==============================] - 26s 33ms/step - loss: 0.5315 - accuracy: 0.9474 - val_loss: 0.5678 - val_accuracy: 0.8757\n",
      "Epoch 14/30\n",
      "782/782 [==============================] - 26s 34ms/step - loss: 0.5296 - accuracy: 0.9507 - val_loss: 0.5637 - val_accuracy: 0.8778\n",
      "Epoch 15/30\n",
      "782/782 [==============================] - 26s 34ms/step - loss: 0.5281 - accuracy: 0.9528 - val_loss: 0.5626 - val_accuracy: 0.8738\n",
      "Epoch 16/30\n",
      "782/782 [==============================] - 27s 35ms/step - loss: 0.5264 - accuracy: 0.9558 - val_loss: 0.5641 - val_accuracy: 0.8762\n",
      "Epoch 17/30\n",
      "782/782 [==============================] - 26s 33ms/step - loss: 0.5249 - accuracy: 0.9584 - val_loss: 0.5631 - val_accuracy: 0.8724\n",
      "Epoch 18/30\n",
      "782/782 [==============================] - 27s 35ms/step - loss: 0.5240 - accuracy: 0.9600 - val_loss: 0.5632 - val_accuracy: 0.8731\n",
      "Epoch 19/30\n",
      "782/782 [==============================] - 27s 34ms/step - loss: 0.5232 - accuracy: 0.9614 - val_loss: 0.5641 - val_accuracy: 0.8659\n",
      "Epoch 20/30\n",
      "782/782 [==============================] - 26s 33ms/step - loss: 0.5220 - accuracy: 0.9636 - val_loss: 0.5644 - val_accuracy: 0.8730\n",
      "Epoch 21/30\n",
      "293/782 [==========>...................] - ETA: 13s - loss: 0.5217 - accuracy: 0.9650"
     ]
    }
   ],
   "source": [
    "model.fit(train_batch,epochs=30,validation_data=test_batch)"
   ]
  },
  {
   "cell_type": "code",
   "execution_count": null,
   "metadata": {},
   "outputs": [],
   "source": [
    "# Troaning and validation plotting\n",
    "metrics=model.history.history"
   ]
  },
  {
   "cell_type": "code",
   "execution_count": 33,
   "metadata": {},
   "outputs": [
    {
     "data": {
      "text/plain": [
       "dict_keys(['loss', 'accuracy', 'val_loss', 'val_accuracy'])"
      ]
     },
     "execution_count": 33,
     "metadata": {},
     "output_type": "execute_result"
    }
   ],
   "source": [
    "metrics.keys()"
   ]
  },
  {
   "cell_type": "code",
   "execution_count": 35,
   "metadata": {},
   "outputs": [],
   "source": [
    "from matplotlib import pyplot as plt"
   ]
  },
  {
   "cell_type": "code",
   "execution_count": 40,
   "metadata": {},
   "outputs": [
    {
     "data": {
      "text/plain": [
       "<matplotlib.legend.Legend at 0x7f54698ed790>"
      ]
     },
     "execution_count": 40,
     "metadata": {},
     "output_type": "execute_result"
    },
    {
     "data": {
      "image/png": "[encoded data removed]",
      "text/plain": [
       "<Figure size 432x288 with 1 Axes>"
      ]
     },
     "metadata": {
      "needs_background": "light"
     },
     "output_type": "display_data"
    }
   ],
   "source": [
    "plt.plot(metrics['loss'],label='training')\n",
    "plt.plot(metrics['val_loss'],label='testing')\n",
    "plt.legend()"
   ]
  },
  {
   "cell_type": "code",
   "execution_count": 41,
   "metadata": {},
   "outputs": [
    {
     "data": {
      "text/plain": [
       "[<matplotlib.lines.Line2D at 0x7f546989b510>]"
      ]
     },
     "execution_count": 41,
     "metadata": {},
     "output_type": "execute_result"
    },
    {
     "data": {
      "image/png": "[encoded data removed]",
      "text/plain": [
       "<Figure size 432x288 with 1 Axes>"
      ]
     },
     "metadata": {
      "needs_background": "light"
     },
     "output_type": "display_data"
    }
   ],
   "source": [
    "plt.plot(metrics['accuracy'])\n",
    "plt.plot(metrics['val_accuracy'])"
   ]
  },
  {
   "cell_type": "code",
   "execution_count": null,
   "metadata": {},
   "outputs": [],
   "source": []
  }
 ],
 "metadata": {
  "kernelspec": {
   "display_name": "Python 3",
   "language": "python",
   "name": "python3"
  },
  "language_info": {
   "codemirror_mode": {
    "name": "ipython",
    "version": 3
   },
   "file_extension": ".py",
   "mimetype": "text/x-python",
   "name": "python",
   "nbconvert_exporter": "python",
   "pygments_lexer": "ipython3",
   "version": "3.7.6"
  }
 },
 "nbformat": 4,
 "nbformat_minor": 4
}
