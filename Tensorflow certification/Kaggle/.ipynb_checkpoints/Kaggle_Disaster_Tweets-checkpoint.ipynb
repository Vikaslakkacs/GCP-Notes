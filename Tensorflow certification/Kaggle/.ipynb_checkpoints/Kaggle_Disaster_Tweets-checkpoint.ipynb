{
  "nbformat": 4,
  "nbformat_minor": 0,
  "metadata": {
    "colab": {
      "name": "Kaggle Disaster Tweets.ipynb",
      "provenance": [],
      "collapsed_sections": []
    },
    "kernelspec": {
      "name": "python3",
      "display_name": "Python 3"
    }
  },
  "cells": [
    {
      "cell_type": "code",
      "metadata": {
        "id": "r14sM3VCRLYZ",
        "colab_type": "code",
        "colab": {}
      },
      "source": [
        "import numpy as np\n",
        "import tensorflow as tf\n",
        "from tensorflow import keras\n",
        "import csv\n",
        "import re"
      ],
      "execution_count": null,
      "outputs": []
    },
    {
      "cell_type": "code",
      "metadata": {
        "id": "igkFF_mJ59fh",
        "colab_type": "code",
        "colab": {}
      },
      "source": [
        "def preprocessing_data(text):\n",
        "\n",
        "  while True:\n",
        "\n",
        "    index=text.find('http')\n",
        "    ## If founf anything\n",
        "    if index !=-1:  \n",
        "      #print(index)\n",
        "      link_end_index= text[index:].find(' ')\n",
        "      # If didn't find any space and returns -1 then that means it is the end of sentence\n",
        "      if link_end_index !=-1:\n",
        "        #print(index, link_end_index)\n",
        "        #When we are taking the end of link we are considering the start index as the start of the link.\n",
        "        #when trimming we can't take the link index but the index from actual text so strip_end_index\n",
        "        strip_end_index=index + link_end_index\n",
        "        text=text[:index] + text[strip_end_index:]\n",
        "        #print(text)\n",
        "      else:\n",
        "        #If that is the end of sentence then print only the index text\n",
        "        text=text[:index]\n",
        "    else:\n",
        "      break\n",
        "  text = text.strip(' ')\n",
        "  #print(text)\n",
        "  #print(text[0], text[-1])\n",
        "  #text = text[:text.find('http')]\n",
        "  #text = text[:text.find('https')]\n",
        "  text=re.sub(5*' ',' ',text)\n",
        "  text=re.sub(4*' ',' ',text)\n",
        "  text=re.sub(3*' ',' ',text)\n",
        "  text=re.sub(2*' ',' ',text)\n",
        "\n",
        "  return text"
      ],
      "execution_count": null,
      "outputs": []
    },
    {
      "cell_type": "code",
      "metadata": {
        "id": "fwGivx9zND3p",
        "colab_type": "code",
        "colab": {
          "base_uri": "https://localhost:8080/",
          "height": 35
        },
        "outputId": "8987b3dd-3234-4009-f3ab-fc0e0e7fd9b7"
      },
      "source": [
        "text='Check these out: http://t.co/rOI2NSmEJJ http://t.co/3Tj8ZjiN21 http://t.co/YDUiXEfIpE http://t.co/LxTjc87KLS #nsfw'\n",
        "#text='Check these out: http://t.co/rOI2NSmEJJ  #nsfw'\n",
        "#text=' Twelve feared killed in Pakistani http://t.co/X5YEUYLT1X air ambulance helicopter crash'\n",
        "\n",
        "preprocessing_data(text)"
      ],
      "execution_count": null,
      "outputs": [
        {
          "output_type": "execute_result",
          "data": {
            "application/vnd.google.colaboratory.intrinsic": {
              "type": "string"
            },
            "text/plain": [
              "'Check these out: #nsfw'"
            ]
          },
          "metadata": {
            "tags": []
          },
          "execution_count": 3
        }
      ]
    },
    {
      "cell_type": "code",
      "metadata": {
        "id": "EDa0fSdhRmml",
        "colab_type": "code",
        "colab": {}
      },
      "source": [
        ""
      ],
      "execution_count": null,
      "outputs": []
    },
    {
      "cell_type": "code",
      "metadata": {
        "id": "7-xbtAz-QP61",
        "colab_type": "code",
        "colab": {}
      },
      "source": [
        ""
      ],
      "execution_count": null,
      "outputs": []
    },
    {
      "cell_type": "code",
      "metadata": {
        "id": "tamDiXkGDMzD",
        "colab_type": "code",
        "colab": {
          "base_uri": "https://localhost:8080/",
          "height": 50
        },
        "outputId": "dcd043d4-d93a-49ea-fe0a-456f479420ac"
      },
      "source": [
        "text='Twelve feared killed in Pakistani air ambulance helicopter crash'\n",
        "find_var=['http', 'https']\n",
        "for var in find_var:\n",
        "  while True:\n",
        "\n",
        "    index=text.find(var)\n",
        "    ## If founf anything\n",
        "    if index !=-1:  \n",
        "      #print(index)\n",
        "      link_end_index= text[index:].find(' ')\n",
        "      # If didn't find any space and returns -1 then that means it is the end of sentence\n",
        "      if link_end_index !=-1:\n",
        "        print(index, link_end_index)\n",
        "        text=text[:index] + text[link_end_index:]\n",
        "        print(text)\n",
        "      else:\n",
        "        #If that is the end of sentence then print only the index text\n",
        "        text=text[:index]\n",
        "    else:\n",
        "      break\n",
        "  text = text.strip(' ')\n",
        "  print(text)\n",
        "  #print(text[0], text[-1])"
      ],
      "execution_count": null,
      "outputs": [
        {
          "output_type": "stream",
          "text": [
            "Twelve feared killed in Pakistani air ambulance helicopter crash\n",
            "Twelve feared killed in Pakistani air ambulance helicopter crash\n"
          ],
          "name": "stdout"
        }
      ]
    },
    {
      "cell_type": "code",
      "metadata": {
        "id": "azJfKXSmEH5S",
        "colab_type": "code",
        "colab": {
          "base_uri": "https://localhost:8080/",
          "height": 35
        },
        "outputId": "c17d0464-a4f5-43fb-823e-10c00cf38281"
      },
      "source": [
        "text"
      ],
      "execution_count": null,
      "outputs": [
        {
          "output_type": "execute_result",
          "data": {
            "application/vnd.google.colaboratory.intrinsic": {
              "type": "string"
            },
            "text/plain": [
              "'Twelve feared killed in Pakistani air ambulance helicopter crash'"
            ]
          },
          "metadata": {
            "tags": []
          },
          "execution_count": 5
        }
      ]
    },
    {
      "cell_type": "code",
      "metadata": {
        "id": "vMN1Em5sR6h9",
        "colab_type": "code",
        "colab": {}
      },
      "source": [
        "corpus_data,corpus_label=[],[]\n",
        "with open('/content/train.csv','r', errors='ignore') as train_csv:\n",
        "  train_file= csv.reader(train_csv)\n",
        "  next(train_file)\n",
        "  #i=1\n",
        "\n",
        "  for data in train_file:\n",
        "    #i+=1\n",
        "    #print(str(data[3]))\n",
        "    corpus_data.append(preprocessing_data(str(data[3])))\n",
        "    corpus_label.append(int(data[4]))\n",
        "    \n",
        "    \n"
      ],
      "execution_count": null,
      "outputs": []
    },
    {
      "cell_type": "code",
      "metadata": {
        "id": "HLwGOmA3R_8i",
        "colab_type": "code",
        "colab": {
          "base_uri": "https://localhost:8080/",
          "height": 288
        },
        "outputId": "4ebb0786-7b68-4897-f5a3-f914371f8af9"
      },
      "source": [
        "corpus_data[35:50]"
      ],
      "execution_count": null,
      "outputs": [
        {
          "output_type": "execute_result",
          "data": {
            "text/plain": [
              "['On plus side LOOK AT THE SKY LAST NIGHT IT WAS ABLAZE',\n",
              " \"@PhDSquares #mufc they've built so much hype around new acquisitions but I doubt they will set the EPL ablaze this season.\",\n",
              " 'INEC Office in Abia Set Ablaze -',\n",
              " 'Barbados #Bridgetown JAMAICA \\x89ÛÒ Two cars set ablaze: SANTA CRUZ \\x89ÛÓ Head of the St Elizabeth Police Superintende...',\n",
              " 'Ablaze for you Lord :D',\n",
              " 'Check these out: #nsfw',\n",
              " \"on the outside you're ablaze and alive\\nbut you're dead inside\",\n",
              " 'Had an awesome time visiting the CFC head office the ancop site and ablaze. Thanks to Tita Vida for taking care of us ??',\n",
              " 'SOOOO PUMPED FOR ABLAZE ???? @southridgelife',\n",
              " 'I wanted to set Chicago ablaze with my preaching... But not my hotel!',\n",
              " 'I gained 3 followers in the last week. You? Know your stats and grow with',\n",
              " 'How the West was burned: Thousands of wildfires ablaze in California alone',\n",
              " 'Building the perfect tracklist to life leave the streets ablaze',\n",
              " 'Check these out: #nsfw',\n",
              " \"First night with retainers in. It's quite weird. Better get used to it; I have to wear them every single night for the next year at least.\"]"
            ]
          },
          "metadata": {
            "tags": []
          },
          "execution_count": 7
        }
      ]
    },
    {
      "cell_type": "code",
      "metadata": {
        "id": "mAgIKwTg5WjH",
        "colab_type": "code",
        "colab": {
          "base_uri": "https://localhost:8080/",
          "height": 33
        },
        "outputId": "d2b28e9a-e8c6-4920-877a-3781310dd243"
      },
      "source": [
        "text=corpus_data[35]\n",
        "import re\n",
        "text = re.sub(r'^https?:\\/\\/.*[\\r\\n]*', '', text, flags=re.MULTILINE)\n",
        "print(text)"
      ],
      "execution_count": null,
      "outputs": [
        {
          "output_type": "stream",
          "text": [
            "On plus side LOOK AT THE SKY LAST NIGHT IT WAS ABLAZE\n"
          ],
          "name": "stdout"
        }
      ]
    },
    {
      "cell_type": "code",
      "metadata": {
        "id": "TJrkHwF25mpx",
        "colab_type": "code",
        "colab": {
          "base_uri": "https://localhost:8080/",
          "height": 52
        },
        "outputId": "806a6d74-2a33-4aa1-8a01-d63e9d786a1a"
      },
      "source": [
        "print(text.find('http'), len(text))\n",
        "text[:text.find('http')]"
      ],
      "execution_count": null,
      "outputs": [
        {
          "output_type": "stream",
          "text": [
            "-1 53\n"
          ],
          "name": "stdout"
        },
        {
          "output_type": "execute_result",
          "data": {
            "application/vnd.google.colaboratory.intrinsic": {
              "type": "string"
            },
            "text/plain": [
              "'On plus side LOOK AT THE SKY LAST NIGHT IT WAS ABLAZ'"
            ]
          },
          "metadata": {
            "tags": []
          },
          "execution_count": 9
        }
      ]
    },
    {
      "cell_type": "code",
      "metadata": {
        "id": "9l-kOs7TS3XL",
        "colab_type": "code",
        "colab": {
          "base_uri": "https://localhost:8080/",
          "height": 538
        },
        "outputId": "6605b4d1-2ba8-43b1-a5d9-f91f7181d019"
      },
      "source": [
        "corpus_data[200:230]"
      ],
      "execution_count": null,
      "outputs": [
        {
          "output_type": "execute_result",
          "data": {
            "text/plain": [
              "['HAPPENING NOW - HATZOLAH EMS AMBULANCE RESPONDING WITH DUAL SIRENS AND\\x89Û_',\n",
              " 'Twelve feared killed in Pakistani air ambulance helicopter crash',\n",
              " 'Twelve feared killed in Pakistani air ambulance helicopter crash',\n",
              " 'Twelve feared killed in Pakistani air ambulance helicopter crash #worldNews',\n",
              " 'Twelve feared killed in Pakistani air ambulance helicopter crash #worldnews',\n",
              " \"What's the police or ambulance number in Lesotho? Any body know?\",\n",
              " '@medic914 @AACE_org I am surprised we still cannot standardised the clinical practice across the 11 NHS ambulance trust.',\n",
              " 'Twelve feared killed in Pakistani air ambulance helicopter crash',\n",
              " 'People who try to j-walk while an ambulance is passing... I hate you.',\n",
              " 'The episode where Trunks annihilated Freiza is the cleanest shit ever. He showed that nigga no mercy.',\n",
              " 'THEY SHALL BE ANNIHILATED AND ALL OF THEIR PETEBESTS DESSICATED AND LAID BARE. THEN YOU SHALL KNEEL BEFORE ME.',\n",
              " 'Uribe just annihilated that baseball. #Mets',\n",
              " '@marksmaponyane Hey!Sundowns were annihilated in their previous meeting with Celtic.Indeed its an improvement.',\n",
              " \"@Volfan326 @TNeazzy Mizzou has annihilated florida the past 2 seasons even ended muschamp's career just can't compete with Bama\",\n",
              " 'Annihilated Abs . ??',\n",
              " 'Be annihilated for status education mba on behalf of a on easy street careen: eOvm',\n",
              " '*to Luka* They should all die! All of them! Everything annihilated! - Alois Trancy',\n",
              " \"@ACarewornHeart Have a good un fella sorry I won't be there to get annihilated with you :(\",\n",
              " 'Cop pulls drunk driver to safety SECONDS before his car is hit by train. via @ViralSpell',\n",
              " 'You must be annihilated!',\n",
              " 'Cop pulls drunk driver to safety SECONDS before his car is hit by train. via @ViralSpell',\n",
              " 'BOOM! Your country was just entirely annihilated by a h\\x89Û_ \\x89ÛÓ Britain',\n",
              " '@AmirKingKhan you would have been annihilated so you might as well thank @FloydMayweather',\n",
              " 'One thing for sure-God has promised Israel will not be annihilated. But...the horror of Iran w/nukes.',\n",
              " \"@violentfeminazi I guess that's ok for Armenians since we've spent most of our history getting annihilated\",\n",
              " '70 years since we annihilated 100000 people instantly and became aware that we have the ability to annihilate the whole of humanity',\n",
              " 'day 1 of tryouts went good minus the fact I stopped quickly to get a short ball and Annihilated my toenail injury even more',\n",
              " 'During the 1960s the oryx a symbol of the Arabian Peninsula were annihilated by hunters. \\n',\n",
              " \"(To Luka) 'They should all die! All of them! Everything annihilated!' - Alois Trancy -\",\n",
              " 'Ready to get annihilated for the BUCS game']"
            ]
          },
          "metadata": {
            "tags": []
          },
          "execution_count": 10
        }
      ]
    },
    {
      "cell_type": "code",
      "metadata": {
        "id": "G2SrGnGpCqDh",
        "colab_type": "code",
        "colab": {
          "base_uri": "https://localhost:8080/",
          "height": 33
        },
        "outputId": "577e7064-64ae-4b9e-a952-39f81ae2ae58"
      },
      "source": [
        "corpus_label[280:290]"
      ],
      "execution_count": null,
      "outputs": [
        {
          "output_type": "execute_result",
          "data": {
            "text/plain": [
              "[0, 1, 0, 0, 0, 1, 0, 0, 0, 0]"
            ]
          },
          "metadata": {
            "tags": []
          },
          "execution_count": 11
        }
      ]
    },
    {
      "cell_type": "code",
      "metadata": {
        "id": "SJJ_K3eqS4bJ",
        "colab_type": "code",
        "colab": {}
      },
      "source": [
        "corpus_data=np.array(corpus_data)\n",
        "corpus_label=np.array(corpus_label)"
      ],
      "execution_count": null,
      "outputs": []
    },
    {
      "cell_type": "code",
      "metadata": {
        "id": "hUc70VXBTJIz",
        "colab_type": "code",
        "colab": {}
      },
      "source": [
        "from tensorflow.keras.preprocessing.text import Tokenizer"
      ],
      "execution_count": null,
      "outputs": []
    },
    {
      "cell_type": "code",
      "metadata": {
        "id": "a9sKjFKLTO3Z",
        "colab_type": "code",
        "colab": {}
      },
      "source": [
        "token=Tokenizer(num_words=10000,oov_token='OOV')\n",
        "token.fit_on_texts(corpus_data)\n",
        "vocab_size=len(token.word_index)"
      ],
      "execution_count": null,
      "outputs": []
    },
    {
      "cell_type": "code",
      "metadata": {
        "id": "C7A4o7AGTZRY",
        "colab_type": "code",
        "colab": {}
      },
      "source": [
        "vocab_size=10000"
      ],
      "execution_count": null,
      "outputs": []
    },
    {
      "cell_type": "code",
      "metadata": {
        "id": "J8sZaN1STaM6",
        "colab_type": "code",
        "colab": {}
      },
      "source": [
        "corpus_seq= token.texts_to_sequences(corpus_data)\n"
      ],
      "execution_count": null,
      "outputs": []
    },
    {
      "cell_type": "code",
      "metadata": {
        "id": "ivfiLKxzTgLS",
        "colab_type": "code",
        "colab": {}
      },
      "source": [
        "from tensorflow.keras.preprocessing.sequence import pad_sequences"
      ],
      "execution_count": null,
      "outputs": []
    },
    {
      "cell_type": "code",
      "metadata": {
        "id": "5T1ShsWbTqrL",
        "colab_type": "code",
        "colab": {}
      },
      "source": [
        "corpus_pad=pad_sequences(corpus_seq,maxlen=30, padding='post', truncating='post')"
      ],
      "execution_count": null,
      "outputs": []
    },
    {
      "cell_type": "code",
      "metadata": {
        "id": "j_KGVBd6UAkG",
        "colab_type": "code",
        "colab": {
          "base_uri": "https://localhost:8080/",
          "height": 33
        },
        "outputId": "b7d49755-d5c9-4e0e-9297-97f872e884e1"
      },
      "source": [
        "corpus_pad.shape"
      ],
      "execution_count": null,
      "outputs": [
        {
          "output_type": "execute_result",
          "data": {
            "text/plain": [
              "(7613, 30)"
            ]
          },
          "metadata": {
            "tags": []
          },
          "execution_count": 40
        }
      ]
    },
    {
      "cell_type": "code",
      "metadata": {
        "id": "NDxCkE8pUDhd",
        "colab_type": "code",
        "colab": {
          "base_uri": "https://localhost:8080/",
          "height": 117
        },
        "outputId": "028e00ad-c416-4f07-a486-859a3ecd567d"
      },
      "source": [
        "corpus_pad[:2]"
      ],
      "execution_count": null,
      "outputs": [
        {
          "output_type": "execute_result",
          "data": {
            "text/plain": [
              "array([[ 116, 4609,   21,    2,  866,    6,   19,  260,  135, 1746, 4610,\n",
              "          86,   37,    0,    0,    0,    0,    0,    0,    0,    0,    0,\n",
              "           0,    0,    0,    0,    0,    0,    0,    0],\n",
              "       [ 185,   42,  225,  796, 6877, 6878, 1402,    0,    0,    0,    0,\n",
              "           0,    0,    0,    0,    0,    0,    0,    0,    0,    0,    0,\n",
              "           0,    0,    0,    0,    0,    0,    0,    0]], dtype=int32)"
            ]
          },
          "metadata": {
            "tags": []
          },
          "execution_count": 41
        }
      ]
    },
    {
      "cell_type": "code",
      "metadata": {
        "id": "HRMOnIxUV4MO",
        "colab_type": "code",
        "colab": {
          "base_uri": "https://localhost:8080/",
          "height": 33
        },
        "outputId": "13573c97-d863-40ad-9bc2-398b41d2cb54"
      },
      "source": [
        "corpus_pad.shape"
      ],
      "execution_count": null,
      "outputs": [
        {
          "output_type": "execute_result",
          "data": {
            "text/plain": [
              "(7613, 30)"
            ]
          },
          "metadata": {
            "tags": []
          },
          "execution_count": 42
        }
      ]
    },
    {
      "cell_type": "code",
      "metadata": {
        "id": "vQwTlpYcoLa7",
        "colab_type": "code",
        "colab": {}
      },
      "source": [
        "test_label=[]\n",
        "with open('/content/test.csv') as test_csv:\n",
        "  test_data= csv.reader(test_csv)\n",
        "  next(test_data)\n",
        "  for data in test_data:\n",
        "    test_label.append(str(data[3]))\n",
        "test_label= np.array(test_label)\n",
        "test_seq=token.texts_to_sequences(test_label)\n",
        "test_pad= pad_sequences(test_seq, maxlen=30, padding='post', truncating='post')"
      ],
      "execution_count": null,
      "outputs": []
    },
    {
      "cell_type": "code",
      "metadata": {
        "id": "IWNrOZp-oLnl",
        "colab_type": "code",
        "colab": {
          "base_uri": "https://localhost:8080/",
          "height": 33
        },
        "outputId": "bfbe8f53-4094-4dc8-f151-f3d384982900"
      },
      "source": [
        "max_size=1\n",
        "num_times=1\n",
        "for data in corpus_seq:\n",
        "  if len(data) > max_size and len(data) not in [33,32,31]:\n",
        "    max_size = len(data)\n",
        "\n",
        "for data in corpus_seq:\n",
        "  if len(data) == max_size:\n",
        "    num_times += 1\n",
        "print(max_size,num_times)"
      ],
      "execution_count": null,
      "outputs": [
        {
          "output_type": "stream",
          "text": [
            "30 12\n"
          ],
          "name": "stdout"
        }
      ]
    },
    {
      "cell_type": "code",
      "metadata": {
        "id": "45zPwiZTv-7c",
        "colab_type": "code",
        "colab": {
          "base_uri": "https://localhost:8080/",
          "height": 33
        },
        "outputId": "e691d469-1d6c-4dda-f819-8b63680be6e0"
      },
      "source": [
        "len(corpus_seq)"
      ],
      "execution_count": null,
      "outputs": [
        {
          "output_type": "execute_result",
          "data": {
            "text/plain": [
              "7613"
            ]
          },
          "metadata": {
            "tags": []
          },
          "execution_count": 44
        }
      ]
    },
    {
      "cell_type": "code",
      "metadata": {
        "id": "6kWimZuLoLy4",
        "colab_type": "code",
        "colab": {
          "base_uri": "https://localhost:8080/",
          "height": 33
        },
        "outputId": "6b06bf3a-9637-4b29-d51a-debb76f7eb0a"
      },
      "source": [
        "corpus_seq[0]"
      ],
      "execution_count": null,
      "outputs": [
        {
          "output_type": "execute_result",
          "data": {
            "text/plain": [
              "[116, 4609, 21, 2, 866, 6, 19, 260, 135, 1746, 4610, 86, 37]"
            ]
          },
          "metadata": {
            "tags": []
          },
          "execution_count": 45
        }
      ]
    },
    {
      "cell_type": "code",
      "metadata": {
        "id": "Ylh4YEQNoL9Q",
        "colab_type": "code",
        "colab": {
          "base_uri": "https://localhost:8080/",
          "height": 33
        },
        "outputId": "9e4294d8-1a91-4f7a-d155-ab3ec41a8a8a"
      },
      "source": [
        "max_size"
      ],
      "execution_count": null,
      "outputs": [
        {
          "output_type": "execute_result",
          "data": {
            "text/plain": [
              "30"
            ]
          },
          "metadata": {
            "tags": []
          },
          "execution_count": 46
        }
      ]
    },
    {
      "cell_type": "code",
      "metadata": {
        "id": "iwhCanCS7T3_",
        "colab_type": "code",
        "colab": {}
      },
      "source": [
        "spilt_data=7000\n",
        "train_pad=corpus_pad[:spilt_data]\n",
        "train_label=corpus_label[:spilt_data]\n",
        "test_pad=corpus_pad[spilt_data:]\n",
        "test_label= corpus_label[spilt_data:]"
      ],
      "execution_count": null,
      "outputs": []
    },
    {
      "cell_type": "code",
      "metadata": {
        "id": "LBk8FViFoMH6",
        "colab_type": "code",
        "colab": {
          "base_uri": "https://localhost:8080/",
          "height": 33
        },
        "outputId": "0c415aaf-c90a-4844-99ce-135f2e161c4d"
      },
      "source": [
        "test_pad.shape, test_label.shape"
      ],
      "execution_count": null,
      "outputs": [
        {
          "output_type": "execute_result",
          "data": {
            "text/plain": [
              "((613, 30), (613,))"
            ]
          },
          "metadata": {
            "tags": []
          },
          "execution_count": 48
        }
      ]
    },
    {
      "cell_type": "code",
      "metadata": {
        "id": "JUm75YGy9Jdu",
        "colab_type": "code",
        "colab": {
          "base_uri": "https://localhost:8080/",
          "height": 33
        },
        "outputId": "564f3b22-d870-4afc-917c-24c33a47d9ca"
      },
      "source": [
        "train_pad.shape, train_label.shape"
      ],
      "execution_count": null,
      "outputs": [
        {
          "output_type": "execute_result",
          "data": {
            "text/plain": [
              "((7000, 30), (7000,))"
            ]
          },
          "metadata": {
            "tags": []
          },
          "execution_count": 49
        }
      ]
    },
    {
      "cell_type": "code",
      "metadata": {
        "id": "3H7bJe78qFze",
        "colab_type": "code",
        "colab": {
          "base_uri": "https://localhost:8080/",
          "height": 33
        },
        "outputId": "e61f886b-fd4d-45da-8081-f7ec8107b130"
      },
      "source": [
        "vocab_size"
      ],
      "execution_count": null,
      "outputs": [
        {
          "output_type": "execute_result",
          "data": {
            "text/plain": [
              "10000"
            ]
          },
          "metadata": {
            "tags": []
          },
          "execution_count": 50
        }
      ]
    },
    {
      "cell_type": "code",
      "metadata": {
        "id": "viPTtqVXUFzx",
        "colab_type": "code",
        "colab": {}
      },
      "source": [
        "from tensorflow.keras.layers import Embedding, Bidirectional, LSTM, Dense,Dropout"
      ],
      "execution_count": null,
      "outputs": []
    },
    {
      "cell_type": "code",
      "metadata": {
        "id": "Se2D9NKCUL1j",
        "colab_type": "code",
        "colab": {
          "base_uri": "https://localhost:8080/",
          "height": 318
        },
        "outputId": "c8abfa62-0491-4696-8642-54b59b4bc89a"
      },
      "source": [
        "keras.backend.clear_session()\n",
        "model= keras.Sequential()\n",
        "model.add(Embedding(input_dim= vocab_size+1, output_dim=50, input_length=30))\n",
        "#model.add(LSTM(10, return_sequences=True))\n",
        "#model.add(Dropout(rate=0.8))\n",
        "model.add(LSTM(5))\n",
        "model.add(Dropout(rate=0.5))\n",
        "#model.add(Dense(256, activation=tf.nn.relu))\n",
        "model.add(Dense(32, activation=tf.nn.relu))\n",
        "model.add(Dense(units=1, activation=tf.nn.sigmoid))\n",
        "def scheduler(epochs, lr):\n",
        "  return 1e-8 * (10**(epochs/20))\n",
        "\n",
        "callback=keras.callbacks.LearningRateScheduler(scheduler)\n",
        "loss= keras.losses.BinaryCrossentropy()\n",
        "optimizer= keras.optimizers.Adam(1e-4)\n",
        "model.compile(loss=loss, optimizer=optimizer,metrics=['accuracy'])\n",
        "model.summary()\n"
      ],
      "execution_count": null,
      "outputs": [
        {
          "output_type": "stream",
          "text": [
            "Model: \"sequential\"\n",
            "_________________________________________________________________\n",
            "Layer (type)                 Output Shape              Param #   \n",
            "=================================================================\n",
            "embedding (Embedding)        (None, 30, 50)            500050    \n",
            "_________________________________________________________________\n",
            "lstm (LSTM)                  (None, 5)                 1120      \n",
            "_________________________________________________________________\n",
            "dropout (Dropout)            (None, 5)                 0         \n",
            "_________________________________________________________________\n",
            "dense (Dense)                (None, 32)                192       \n",
            "_________________________________________________________________\n",
            "dense_1 (Dense)              (None, 1)                 33        \n",
            "=================================================================\n",
            "Total params: 501,395\n",
            "Trainable params: 501,395\n",
            "Non-trainable params: 0\n",
            "_________________________________________________________________\n"
          ],
          "name": "stdout"
        }
      ]
    },
    {
      "cell_type": "code",
      "metadata": {
        "id": "dVAY6IaPrT9P",
        "colab_type": "code",
        "colab": {
          "base_uri": "https://localhost:8080/",
          "height": 134
        },
        "outputId": "bd89e77b-438d-4787-d7b1-68002f63cca1"
      },
      "source": [
        "\"model.optimizer.get_config()"
      ],
      "execution_count": null,
      "outputs": [
        {
          "output_type": "execute_result",
          "data": {
            "text/plain": [
              "{'amsgrad': False,\n",
              " 'beta_1': 0.9,\n",
              " 'beta_2': 0.999,\n",
              " 'decay': 0.0,\n",
              " 'epsilon': 1e-07,\n",
              " 'learning_rate': 0.0001,\n",
              " 'name': 'Adam'}"
            ]
          },
          "metadata": {
            "tags": []
          },
          "execution_count": 85
        }
      ]
    },
    {
      "cell_type": "code",
      "metadata": {
        "id": "R7gbmFp1VfQW",
        "colab_type": "code",
        "colab": {
          "base_uri": "https://localhost:8080/",
          "height": 890
        },
        "outputId": "8dc35959-b8f1-4ea0-88dc-3234a7bb9404"
      },
      "source": [
        "\n",
        "#model.fit(train_pad, train_label, batch_size=32, epochs=200,callbacks=[callback])\n",
        "model.fit(train_pad, train_label, batch_size=64, epochs=25, validation_data=(test_pad, test_label))"
      ],
      "execution_count": null,
      "outputs": [
        {
          "output_type": "stream",
          "text": [
            "Epoch 1/25\n",
            "110/110 [==============================] - 2s 18ms/step - loss: 0.6897 - accuracy: 0.5747 - val_loss: 0.6971 - val_accuracy: 0.4715\n",
            "Epoch 2/25\n",
            "110/110 [==============================] - 2s 15ms/step - loss: 0.6840 - accuracy: 0.5790 - val_loss: 0.7027 - val_accuracy: 0.4715\n",
            "Epoch 3/25\n",
            "110/110 [==============================] - 2s 15ms/step - loss: 0.6823 - accuracy: 0.5790 - val_loss: 0.7058 - val_accuracy: 0.4715\n",
            "Epoch 4/25\n",
            "110/110 [==============================] - 2s 15ms/step - loss: 0.6805 - accuracy: 0.5790 - val_loss: 0.7054 - val_accuracy: 0.4715\n",
            "Epoch 5/25\n",
            "110/110 [==============================] - 2s 15ms/step - loss: 0.6786 - accuracy: 0.5790 - val_loss: 0.7062 - val_accuracy: 0.4715\n",
            "Epoch 6/25\n",
            "110/110 [==============================] - 2s 15ms/step - loss: 0.6746 - accuracy: 0.5790 - val_loss: 0.7013 - val_accuracy: 0.4715\n",
            "Epoch 7/25\n",
            "110/110 [==============================] - 2s 14ms/step - loss: 0.6565 - accuracy: 0.5800 - val_loss: 0.6724 - val_accuracy: 0.4731\n",
            "Epoch 8/25\n",
            "110/110 [==============================] - 1s 13ms/step - loss: 0.5809 - accuracy: 0.6640 - val_loss: 0.5873 - val_accuracy: 0.7879\n",
            "Epoch 9/25\n",
            "110/110 [==============================] - 1s 13ms/step - loss: 0.4978 - accuracy: 0.8069 - val_loss: 0.5369 - val_accuracy: 0.7912\n",
            "Epoch 10/25\n",
            "110/110 [==============================] - 1s 13ms/step - loss: 0.4412 - accuracy: 0.8579 - val_loss: 0.5063 - val_accuracy: 0.7814\n",
            "Epoch 11/25\n",
            "110/110 [==============================] - 1s 13ms/step - loss: 0.3959 - accuracy: 0.8783 - val_loss: 0.4866 - val_accuracy: 0.7993\n",
            "Epoch 12/25\n",
            "110/110 [==============================] - 1s 13ms/step - loss: 0.3642 - accuracy: 0.8903 - val_loss: 0.4801 - val_accuracy: 0.7945\n",
            "Epoch 13/25\n",
            "110/110 [==============================] - 1s 13ms/step - loss: 0.3326 - accuracy: 0.9016 - val_loss: 0.4776 - val_accuracy: 0.8026\n",
            "Epoch 14/25\n",
            "110/110 [==============================] - 1s 13ms/step - loss: 0.3094 - accuracy: 0.9094 - val_loss: 0.4865 - val_accuracy: 0.7977\n",
            "Epoch 15/25\n",
            "110/110 [==============================] - 1s 13ms/step - loss: 0.2921 - accuracy: 0.9180 - val_loss: 0.4847 - val_accuracy: 0.8026\n",
            "Epoch 16/25\n",
            "110/110 [==============================] - 1s 13ms/step - loss: 0.2823 - accuracy: 0.9190 - val_loss: 0.4973 - val_accuracy: 0.7945\n",
            "Epoch 17/25\n",
            "110/110 [==============================] - 1s 13ms/step - loss: 0.2637 - accuracy: 0.9220 - val_loss: 0.5151 - val_accuracy: 0.7912\n",
            "Epoch 18/25\n",
            "110/110 [==============================] - 1s 13ms/step - loss: 0.2572 - accuracy: 0.9261 - val_loss: 0.5230 - val_accuracy: 0.7961\n",
            "Epoch 19/25\n",
            "110/110 [==============================] - 1s 13ms/step - loss: 0.2461 - accuracy: 0.9297 - val_loss: 0.5285 - val_accuracy: 0.7945\n",
            "Epoch 20/25\n",
            "110/110 [==============================] - 1s 13ms/step - loss: 0.2382 - accuracy: 0.9306 - val_loss: 0.5293 - val_accuracy: 0.8010\n",
            "Epoch 21/25\n",
            "110/110 [==============================] - 1s 13ms/step - loss: 0.2215 - accuracy: 0.9361 - val_loss: 0.5565 - val_accuracy: 0.7912\n",
            "Epoch 22/25\n",
            "110/110 [==============================] - 1s 13ms/step - loss: 0.2251 - accuracy: 0.9350 - val_loss: 0.5724 - val_accuracy: 0.7896\n",
            "Epoch 23/25\n",
            "110/110 [==============================] - 1s 13ms/step - loss: 0.2105 - accuracy: 0.9391 - val_loss: 0.5655 - val_accuracy: 0.7993\n",
            "Epoch 24/25\n",
            "110/110 [==============================] - 1s 13ms/step - loss: 0.1995 - accuracy: 0.9416 - val_loss: 0.5861 - val_accuracy: 0.7928\n",
            "Epoch 25/25\n",
            "110/110 [==============================] - 1s 13ms/step - loss: 0.2002 - accuracy: 0.9403 - val_loss: 0.6036 - val_accuracy: 0.7896\n"
          ],
          "name": "stdout"
        },
        {
          "output_type": "execute_result",
          "data": {
            "text/plain": [
              "<tensorflow.python.keras.callbacks.History at 0x7f4ccaceb240>"
            ]
          },
          "metadata": {
            "tags": []
          },
          "execution_count": 88
        }
      ]
    },
    {
      "cell_type": "code",
      "metadata": {
        "id": "_hScAP2iVtJs",
        "colab_type": "code",
        "colab": {}
      },
      "source": [
        "import pandas as pd"
      ],
      "execution_count": null,
      "outputs": []
    },
    {
      "cell_type": "code",
      "metadata": {
        "id": "DvSEwzMJf-eX",
        "colab_type": "code",
        "colab": {}
      },
      "source": [
        "test_data=pd.read_csv('/content/test.csv')"
      ],
      "execution_count": null,
      "outputs": []
    },
    {
      "cell_type": "code",
      "metadata": {
        "id": "iqzzPZElgQm0",
        "colab_type": "code",
        "colab": {
          "base_uri": "https://localhost:8080/",
          "height": 196
        },
        "outputId": "eea1a5e7-2fe1-4bdd-ad83-8d1d021a26b1"
      },
      "source": [
        "test_data.head()"
      ],
      "execution_count": null,
      "outputs": [
        {
          "output_type": "execute_result",
          "data": {
            "text/html": [
              "<div>\n",
              "<style scoped>\n",
              "    .dataframe tbody tr th:only-of-type {\n",
              "        vertical-align: middle;\n",
              "    }\n",
              "\n",
              "    .dataframe tbody tr th {\n",
              "        vertical-align: top;\n",
              "    }\n",
              "\n",
              "    .dataframe thead th {\n",
              "        text-align: right;\n",
              "    }\n",
              "</style>\n",
              "<table border=\"1\" class=\"dataframe\">\n",
              "  <thead>\n",
              "    <tr style=\"text-align: right;\">\n",
              "      <th></th>\n",
              "      <th>id</th>\n",
              "      <th>keyword</th>\n",
              "      <th>location</th>\n",
              "      <th>text</th>\n",
              "    </tr>\n",
              "  </thead>\n",
              "  <tbody>\n",
              "    <tr>\n",
              "      <th>0</th>\n",
              "      <td>0</td>\n",
              "      <td>NaN</td>\n",
              "      <td>NaN</td>\n",
              "      <td>Just happened a terrible car crash</td>\n",
              "    </tr>\n",
              "    <tr>\n",
              "      <th>1</th>\n",
              "      <td>2</td>\n",
              "      <td>NaN</td>\n",
              "      <td>NaN</td>\n",
              "      <td>Heard about #earthquake is different cities, s...</td>\n",
              "    </tr>\n",
              "    <tr>\n",
              "      <th>2</th>\n",
              "      <td>3</td>\n",
              "      <td>NaN</td>\n",
              "      <td>NaN</td>\n",
              "      <td>there is a forest fire at spot pond, geese are...</td>\n",
              "    </tr>\n",
              "    <tr>\n",
              "      <th>3</th>\n",
              "      <td>9</td>\n",
              "      <td>NaN</td>\n",
              "      <td>NaN</td>\n",
              "      <td>Apocalypse lighting. #Spokane #wildfires</td>\n",
              "    </tr>\n",
              "    <tr>\n",
              "      <th>4</th>\n",
              "      <td>11</td>\n",
              "      <td>NaN</td>\n",
              "      <td>NaN</td>\n",
              "      <td>Typhoon Soudelor kills 28 in China and Taiwan</td>\n",
              "    </tr>\n",
              "  </tbody>\n",
              "</table>\n",
              "</div>"
            ],
            "text/plain": [
              "   id keyword location                                               text\n",
              "0   0     NaN      NaN                 Just happened a terrible car crash\n",
              "1   2     NaN      NaN  Heard about #earthquake is different cities, s...\n",
              "2   3     NaN      NaN  there is a forest fire at spot pond, geese are...\n",
              "3   9     NaN      NaN           Apocalypse lighting. #Spokane #wildfires\n",
              "4  11     NaN      NaN      Typhoon Soudelor kills 28 in China and Taiwan"
            ]
          },
          "metadata": {
            "tags": []
          },
          "execution_count": 91
        }
      ]
    },
    {
      "cell_type": "code",
      "metadata": {
        "id": "LQNUaQdlgR6z",
        "colab_type": "code",
        "colab": {}
      },
      "source": [
        "test_label=[]\n",
        "with open('/content/test.csv') as test_csv:\n",
        "  test_data= csv.reader(test_csv)\n",
        "  next(test_data)\n",
        "  for data in test_data:\n",
        "    test_label.append(preprocessing_data(str(data[3])))"
      ],
      "execution_count": null,
      "outputs": []
    },
    {
      "cell_type": "code",
      "metadata": {
        "id": "63KlIZadgXNc",
        "colab_type": "code",
        "colab": {}
      },
      "source": [
        "test_label= np.array(test_label)"
      ],
      "execution_count": null,
      "outputs": []
    },
    {
      "cell_type": "code",
      "metadata": {
        "id": "9wSn1PmdhZOT",
        "colab_type": "code",
        "colab": {}
      },
      "source": [
        "test_label= np.array(test_label)\n",
        "test_seq=token.texts_to_sequences(test_label)\n",
        "test_pad= pad_sequences(test_seq, maxlen=30, padding='post', truncating='post')"
      ],
      "execution_count": null,
      "outputs": []
    },
    {
      "cell_type": "code",
      "metadata": {
        "id": "YxhwPeLvgY3l",
        "colab_type": "code",
        "colab": {
          "base_uri": "https://localhost:8080/",
          "height": 33
        },
        "outputId": "f8cb321d-87bc-4d6a-e68e-a3d1b914f901"
      },
      "source": [
        "test_pad.shape"
      ],
      "execution_count": null,
      "outputs": [
        {
          "output_type": "execute_result",
          "data": {
            "text/plain": [
              "(3263, 30)"
            ]
          },
          "metadata": {
            "tags": []
          },
          "execution_count": 95
        }
      ]
    },
    {
      "cell_type": "code",
      "metadata": {
        "id": "QOHOWftJhynZ",
        "colab_type": "code",
        "colab": {
          "base_uri": "https://localhost:8080/",
          "height": 33
        },
        "outputId": "275944d9-2ac1-4945-a014-3224ae2c776b"
      },
      "source": [
        "test_pad[1].shape"
      ],
      "execution_count": null,
      "outputs": [
        {
          "output_type": "execute_result",
          "data": {
            "text/plain": [
              "(30,)"
            ]
          },
          "metadata": {
            "tags": []
          },
          "execution_count": 96
        }
      ]
    },
    {
      "cell_type": "code",
      "metadata": {
        "id": "TXqYiLEHiLAM",
        "colab_type": "code",
        "colab": {
          "base_uri": "https://localhost:8080/",
          "height": 35
        },
        "outputId": "f2368cbf-2750-43d7-a09b-976dd7c4e1a9"
      },
      "source": [
        "test_label[0]"
      ],
      "execution_count": null,
      "outputs": [
        {
          "output_type": "execute_result",
          "data": {
            "application/vnd.google.colaboratory.intrinsic": {
              "type": "string"
            },
            "text/plain": [
              "'Just happened a terrible car crash'"
            ]
          },
          "metadata": {
            "tags": []
          },
          "execution_count": 97
        }
      ]
    },
    {
      "cell_type": "code",
      "metadata": {
        "id": "WnW-bGJIhNzs",
        "colab_type": "code",
        "colab": {
          "base_uri": "https://localhost:8080/",
          "height": 87
        },
        "outputId": "6ed20aa3-42a9-4a52-8302-863d9dc0009b"
      },
      "source": [
        "prediction= model.predict_classes(test_pad)"
      ],
      "execution_count": null,
      "outputs": [
        {
          "output_type": "stream",
          "text": [
            "WARNING:tensorflow:From <ipython-input-98-509c10106a12>:1: Sequential.predict_classes (from tensorflow.python.keras.engine.sequential) is deprecated and will be removed after 2021-01-01.\n",
            "Instructions for updating:\n",
            "Please use instead:* `np.argmax(model.predict(x), axis=-1)`,   if your model does multi-class classification   (e.g. if it uses a `softmax` last-layer activation).* `(model.predict(x) > 0.5).astype(\"int32\")`,   if your model does binary classification   (e.g. if it uses a `sigmoid` last-layer activation).\n"
          ],
          "name": "stdout"
        }
      ]
    },
    {
      "cell_type": "code",
      "metadata": {
        "id": "qZCLNkaihSza",
        "colab_type": "code",
        "colab": {
          "base_uri": "https://localhost:8080/",
          "height": 67
        },
        "outputId": "54b07c0d-d621-4643-8b80-9778eea2761c"
      },
      "source": [
        "test_label[:2]"
      ],
      "execution_count": null,
      "outputs": [
        {
          "output_type": "execute_result",
          "data": {
            "text/plain": [
              "array(['Just happened a terrible car crash',\n",
              "       'Heard about #earthquake is different cities, stay safe everyone.'],\n",
              "      dtype='<U151')"
            ]
          },
          "metadata": {
            "tags": []
          },
          "execution_count": 99
        }
      ]
    },
    {
      "cell_type": "code",
      "metadata": {
        "id": "IOTLnZl2hnvb",
        "colab_type": "code",
        "colab": {}
      },
      "source": [
        "submit= pd.read_csv('/content/sample_submission.csv')"
      ],
      "execution_count": null,
      "outputs": []
    },
    {
      "cell_type": "code",
      "metadata": {
        "id": "bBu0zeiDh6bu",
        "colab_type": "code",
        "colab": {
          "base_uri": "https://localhost:8080/",
          "height": 196
        },
        "outputId": "cbad9664-a313-45ff-eecc-c5afd736d784"
      },
      "source": [
        "submit.head()"
      ],
      "execution_count": null,
      "outputs": [
        {
          "output_type": "execute_result",
          "data": {
            "text/html": [
              "<div>\n",
              "<style scoped>\n",
              "    .dataframe tbody tr th:only-of-type {\n",
              "        vertical-align: middle;\n",
              "    }\n",
              "\n",
              "    .dataframe tbody tr th {\n",
              "        vertical-align: top;\n",
              "    }\n",
              "\n",
              "    .dataframe thead th {\n",
              "        text-align: right;\n",
              "    }\n",
              "</style>\n",
              "<table border=\"1\" class=\"dataframe\">\n",
              "  <thead>\n",
              "    <tr style=\"text-align: right;\">\n",
              "      <th></th>\n",
              "      <th>id</th>\n",
              "      <th>target</th>\n",
              "    </tr>\n",
              "  </thead>\n",
              "  <tbody>\n",
              "    <tr>\n",
              "      <th>0</th>\n",
              "      <td>0</td>\n",
              "      <td>0</td>\n",
              "    </tr>\n",
              "    <tr>\n",
              "      <th>1</th>\n",
              "      <td>2</td>\n",
              "      <td>0</td>\n",
              "    </tr>\n",
              "    <tr>\n",
              "      <th>2</th>\n",
              "      <td>3</td>\n",
              "      <td>0</td>\n",
              "    </tr>\n",
              "    <tr>\n",
              "      <th>3</th>\n",
              "      <td>9</td>\n",
              "      <td>0</td>\n",
              "    </tr>\n",
              "    <tr>\n",
              "      <th>4</th>\n",
              "      <td>11</td>\n",
              "      <td>0</td>\n",
              "    </tr>\n",
              "  </tbody>\n",
              "</table>\n",
              "</div>"
            ],
            "text/plain": [
              "   id  target\n",
              "0   0       0\n",
              "1   2       0\n",
              "2   3       0\n",
              "3   9       0\n",
              "4  11       0"
            ]
          },
          "metadata": {
            "tags": []
          },
          "execution_count": 101
        }
      ]
    },
    {
      "cell_type": "code",
      "metadata": {
        "id": "J-Jee0OUjDJV",
        "colab_type": "code",
        "colab": {}
      },
      "source": [
        "submit['target']=prediction"
      ],
      "execution_count": null,
      "outputs": []
    },
    {
      "cell_type": "code",
      "metadata": {
        "id": "xv_lRjiDjIT0",
        "colab_type": "code",
        "colab": {
          "base_uri": "https://localhost:8080/",
          "height": 196
        },
        "outputId": "842a00b9-6474-4f1a-bdaf-4afcde3e30c3"
      },
      "source": [
        "submit.head()"
      ],
      "execution_count": null,
      "outputs": [
        {
          "output_type": "execute_result",
          "data": {
            "text/html": [
              "<div>\n",
              "<style scoped>\n",
              "    .dataframe tbody tr th:only-of-type {\n",
              "        vertical-align: middle;\n",
              "    }\n",
              "\n",
              "    .dataframe tbody tr th {\n",
              "        vertical-align: top;\n",
              "    }\n",
              "\n",
              "    .dataframe thead th {\n",
              "        text-align: right;\n",
              "    }\n",
              "</style>\n",
              "<table border=\"1\" class=\"dataframe\">\n",
              "  <thead>\n",
              "    <tr style=\"text-align: right;\">\n",
              "      <th></th>\n",
              "      <th>id</th>\n",
              "      <th>target</th>\n",
              "    </tr>\n",
              "  </thead>\n",
              "  <tbody>\n",
              "    <tr>\n",
              "      <th>0</th>\n",
              "      <td>0</td>\n",
              "      <td>1</td>\n",
              "    </tr>\n",
              "    <tr>\n",
              "      <th>1</th>\n",
              "      <td>2</td>\n",
              "      <td>1</td>\n",
              "    </tr>\n",
              "    <tr>\n",
              "      <th>2</th>\n",
              "      <td>3</td>\n",
              "      <td>1</td>\n",
              "    </tr>\n",
              "    <tr>\n",
              "      <th>3</th>\n",
              "      <td>9</td>\n",
              "      <td>1</td>\n",
              "    </tr>\n",
              "    <tr>\n",
              "      <th>4</th>\n",
              "      <td>11</td>\n",
              "      <td>1</td>\n",
              "    </tr>\n",
              "  </tbody>\n",
              "</table>\n",
              "</div>"
            ],
            "text/plain": [
              "   id  target\n",
              "0   0       1\n",
              "1   2       1\n",
              "2   3       1\n",
              "3   9       1\n",
              "4  11       1"
            ]
          },
          "metadata": {
            "tags": []
          },
          "execution_count": 103
        }
      ]
    },
    {
      "cell_type": "code",
      "metadata": {
        "id": "m8iiW0xBjJYc",
        "colab_type": "code",
        "colab": {}
      },
      "source": [
        "submit.to_csv('submit.csv',index=False)"
      ],
      "execution_count": null,
      "outputs": []
    },
    {
      "cell_type": "code",
      "metadata": {
        "id": "MWp9cUI0jPqL",
        "colab_type": "code",
        "colab": {}
      },
      "source": [
        "from sklearn.metrics import classification_report"
      ],
      "execution_count": null,
      "outputs": []
    },
    {
      "cell_type": "code",
      "metadata": {
        "id": "3OY9tTz13Av7",
        "colab_type": "code",
        "colab": {
          "base_uri": "https://localhost:8080/",
          "height": 168
        },
        "outputId": "895d7e3c-84de-47ee-86e1-5fcf0d7ab4dc"
      },
      "source": [
        "print(classification_report(train_label[:3263], prediction))"
      ],
      "execution_count": null,
      "outputs": [
        {
          "output_type": "stream",
          "text": [
            "              precision    recall  f1-score   support\n",
            "\n",
            "           0       0.62      0.70      0.66      1969\n",
            "           1       0.44      0.35      0.39      1294\n",
            "\n",
            "    accuracy                           0.56      3263\n",
            "   macro avg       0.53      0.53      0.53      3263\n",
            "weighted avg       0.55      0.56      0.55      3263\n",
            "\n"
          ],
          "name": "stdout"
        }
      ]
    },
    {
      "cell_type": "code",
      "metadata": {
        "id": "dTSrMBhX3Gxu",
        "colab_type": "code",
        "colab": {}
      },
      "source": [
        ""
      ],
      "execution_count": null,
      "outputs": []
    }
  ]
}