{
 "cells": [
  {
   "cell_type": "code",
   "execution_count": 7,
   "metadata": {
    "colab": {},
    "colab_type": "code",
    "id": "r14sM3VCRLYZ"
   },
   "outputs": [],
   "source": [
    "import numpy as np\n",
    "import tensorflow as tf\n",
    "from tensorflow import keras\n",
    "import csv\n",
    "import re"
   ]
  },
  {
   "cell_type": "code",
   "execution_count": 8,
   "metadata": {
    "colab": {},
    "colab_type": "code",
    "id": "igkFF_mJ59fh"
   },
   "outputs": [],
   "source": [
    "def preprocessing_data(text):\n",
    "\n",
    "  while True:\n",
    "\n",
    "    index=text.find('http')\n",
    "    ## If founf anything\n",
    "    if index !=-1:  \n",
    "      #print(index)\n",
    "      link_end_index= text[index:].find(' ')\n",
    "      # If didn't find any space and returns -1 then that means it is the end of sentence\n",
    "      if link_end_index !=-1:\n",
    "        #print(index, link_end_index)\n",
    "        #When we are taking the end of link we are considering the start index as the start of the link.\n",
    "        #when trimming we can't take the link index but the index from actual text so strip_end_index\n",
    "        strip_end_index=index + link_end_index\n",
    "        text=text[:index] + text[strip_end_index:]\n",
    "        #print(text)\n",
    "      else:\n",
    "        #If that is the end of sentence then print only the index text\n",
    "        text=text[:index]\n",
    "    else:\n",
    "      break\n",
    "  text = text.strip(' ')\n",
    "  #print(text)\n",
    "  #print(text[0], text[-1])\n",
    "  #text = text[:text.find('http')]\n",
    "  #text = text[:text.find('https')]\n",
    "  text=re.sub(5*' ',' ',text)\n",
    "  text=re.sub(4*' ',' ',text)\n",
    "  text=re.sub(3*' ',' ',text)\n",
    "  text=re.sub(2*' ',' ',text)\n",
    "\n",
    "  return text"
   ]
  },
  {
   "cell_type": "code",
   "execution_count": 9,
   "metadata": {
    "colab": {
     "base_uri": "https://localhost:8080/",
     "height": 35
    },
    "colab_type": "code",
    "id": "fwGivx9zND3p",
    "outputId": "8987b3dd-3234-4009-f3ab-fc0e0e7fd9b7"
   },
   "outputs": [
    {
     "data": {
      "text/plain": [
       "'Check these out: #nsfw'"
      ]
     },
     "execution_count": 9,
     "metadata": {},
     "output_type": "execute_result"
    }
   ],
   "source": [
    "text='Check these out: http://t.co/rOI2NSmEJJ http://t.co/3Tj8ZjiN21 http://t.co/YDUiXEfIpE http://t.co/LxTjc87KLS #nsfw'\n",
    "#text='Check these out: http://t.co/rOI2NSmEJJ  #nsfw'\n",
    "#text=' Twelve feared killed in Pakistani http://t.co/X5YEUYLT1X air ambulance helicopter crash'\n",
    "\n",
    "preprocessing_data(text)"
   ]
  },
  {
   "cell_type": "code",
   "execution_count": null,
   "metadata": {
    "colab": {},
    "colab_type": "code",
    "id": "EDa0fSdhRmml"
   },
   "outputs": [],
   "source": []
  },
  {
   "cell_type": "code",
   "execution_count": null,
   "metadata": {
    "colab": {},
    "colab_type": "code",
    "id": "7-xbtAz-QP61"
   },
   "outputs": [],
   "source": []
  },
  {
   "cell_type": "code",
   "execution_count": 10,
   "metadata": {
    "colab": {
     "base_uri": "https://localhost:8080/",
     "height": 50
    },
    "colab_type": "code",
    "id": "tamDiXkGDMzD",
    "outputId": "dcd043d4-d93a-49ea-fe0a-456f479420ac"
   },
   "outputs": [
    {
     "name": "stdout",
     "output_type": "stream",
     "text": [
      "Twelve feared killed in Pakistani air ambulance helicopter crash\n",
      "Twelve feared killed in Pakistani air ambulance helicopter crash\n"
     ]
    }
   ],
   "source": [
    "text='Twelve feared killed in Pakistani air ambulance helicopter crash'\n",
    "find_var=['http', 'https']\n",
    "for var in find_var:\n",
    "  while True:\n",
    "\n",
    "    index=text.find(var)\n",
    "    ## If founf anything\n",
    "    if index !=-1:  \n",
    "      #print(index)\n",
    "      link_end_index= text[index:].find(' ')\n",
    "      # If didn't find any space and returns -1 then that means it is the end of sentence\n",
    "      if link_end_index !=-1:\n",
    "        print(index, link_end_index)\n",
    "        text=text[:index] + text[link_end_index:]\n",
    "        print(text)\n",
    "      else:\n",
    "        #If that is the end of sentence then print only the index text\n",
    "        text=text[:index]\n",
    "    else:\n",
    "      break\n",
    "  text = text.strip(' ')\n",
    "  print(text)\n",
    "  #print(text[0], text[-1])"
   ]
  },
  {
   "cell_type": "code",
   "execution_count": 11,
   "metadata": {
    "colab": {
     "base_uri": "https://localhost:8080/",
     "height": 35
    },
    "colab_type": "code",
    "id": "azJfKXSmEH5S",
    "outputId": "c17d0464-a4f5-43fb-823e-10c00cf38281"
   },
   "outputs": [
    {
     "data": {
      "text/plain": [
       "'Twelve feared killed in Pakistani air ambulance helicopter crash'"
      ]
     },
     "execution_count": 11,
     "metadata": {},
     "output_type": "execute_result"
    }
   ],
   "source": [
    "text"
   ]
  },
  {
   "cell_type": "code",
   "execution_count": 22,
   "metadata": {
    "colab": {},
    "colab_type": "code",
    "id": "vMN1Em5sR6h9"
   },
   "outputs": [],
   "source": [
    "corpus_data,corpus_label=[],[]\n",
    "with open('train.csv','r', errors='ignore') as train_csv:\n",
    "    \n",
    "         \n",
    "    train_file= csv.reader(train_csv)\n",
    "    next(train_file)\n",
    "    \n",
    "      #i=1\n",
    "\n",
    "    for data in train_file:\n",
    "        \n",
    "        #i+=1\n",
    "        #print(str(data[3]))\n",
    "        corpus_data.append(preprocessing_data(str(data[3])))\n",
    "        corpus_label.append(int(data[4]))\n",
    "\n",
    "\n"
   ]
  },
  {
   "cell_type": "code",
   "execution_count": 23,
   "metadata": {
    "colab": {
     "base_uri": "https://localhost:8080/",
     "height": 288
    },
    "colab_type": "code",
    "id": "HLwGOmA3R_8i",
    "outputId": "4ebb0786-7b68-4897-f5a3-f914371f8af9"
   },
   "outputs": [
    {
     "data": {
      "text/plain": [
       "['On plus side LOOK AT THE SKY LAST NIGHT IT WAS ABLAZE',\n",
       " \"@PhDSquares #mufc they've built so much hype around new acquisitions but I doubt they will set the EPL ablaze this season.\",\n",
       " 'INEC Office in Abia Set Ablaze -',\n",
       " 'Barbados #Bridgetown JAMAICA \\x89ÛÒ Two cars set ablaze: SANTA CRUZ \\x89ÛÓ Head of the St Elizabeth Police Superintende...',\n",
       " 'Ablaze for you Lord :D',\n",
       " 'Check these out: #nsfw',\n",
       " \"on the outside you're ablaze and alive\\nbut you're dead inside\",\n",
       " 'Had an awesome time visiting the CFC head office the ancop site and ablaze. Thanks to Tita Vida for taking care of us ??',\n",
       " 'SOOOO PUMPED FOR ABLAZE ???? @southridgelife',\n",
       " 'I wanted to set Chicago ablaze with my preaching... But not my hotel!',\n",
       " 'I gained 3 followers in the last week. You? Know your stats and grow with',\n",
       " 'How the West was burned: Thousands of wildfires ablaze in California alone',\n",
       " 'Building the perfect tracklist to life leave the streets ablaze',\n",
       " 'Check these out: #nsfw',\n",
       " \"First night with retainers in. It's quite weird. Better get used to it; I have to wear them every single night for the next year at least.\"]"
      ]
     },
     "execution_count": 23,
     "metadata": {},
     "output_type": "execute_result"
    }
   ],
   "source": [
    "corpus_data[35:50]"
   ]
  },
  {
   "cell_type": "code",
   "execution_count": 24,
   "metadata": {
    "colab": {
     "base_uri": "https://localhost:8080/",
     "height": 33
    },
    "colab_type": "code",
    "id": "mAgIKwTg5WjH",
    "outputId": "d2b28e9a-e8c6-4920-877a-3781310dd243"
   },
   "outputs": [
    {
     "name": "stdout",
     "output_type": "stream",
     "text": [
      "On plus side LOOK AT THE SKY LAST NIGHT IT WAS ABLAZE\n"
     ]
    }
   ],
   "source": [
    "text=corpus_data[35]\n",
    "import re\n",
    "text = re.sub(r'^https?:\\/\\/.*[\\r\\n]*', '', text, flags=re.MULTILINE)\n",
    "print(text)"
   ]
  },
  {
   "cell_type": "code",
   "execution_count": 25,
   "metadata": {
    "colab": {
     "base_uri": "https://localhost:8080/",
     "height": 52
    },
    "colab_type": "code",
    "id": "TJrkHwF25mpx",
    "outputId": "806a6d74-2a33-4aa1-8a01-d63e9d786a1a"
   },
   "outputs": [
    {
     "name": "stdout",
     "output_type": "stream",
     "text": [
      "-1 53\n"
     ]
    },
    {
     "data": {
      "text/plain": [
       "'On plus side LOOK AT THE SKY LAST NIGHT IT WAS ABLAZ'"
      ]
     },
     "execution_count": 25,
     "metadata": {},
     "output_type": "execute_result"
    }
   ],
   "source": [
    "print(text.find('http'), len(text))\n",
    "text[:text.find('http')]"
   ]
  },
  {
   "cell_type": "code",
   "execution_count": 26,
   "metadata": {
    "colab": {
     "base_uri": "https://localhost:8080/",
     "height": 538
    },
    "colab_type": "code",
    "id": "9l-kOs7TS3XL",
    "outputId": "6605b4d1-2ba8-43b1-a5d9-f91f7181d019"
   },
   "outputs": [
    {
     "data": {
      "text/plain": [
       "['HAPPENING NOW - HATZOLAH EMS AMBULANCE RESPONDING WITH DUAL SIRENS AND\\x89Û_',\n",
       " 'Twelve feared killed in Pakistani air ambulance helicopter crash',\n",
       " 'Twelve feared killed in Pakistani air ambulance helicopter crash',\n",
       " 'Twelve feared killed in Pakistani air ambulance helicopter crash #worldNews',\n",
       " 'Twelve feared killed in Pakistani air ambulance helicopter crash #worldnews',\n",
       " \"What's the police or ambulance number in Lesotho? Any body know?\",\n",
       " '@medic914 @AACE_org I am surprised we still cannot standardised the clinical practice across the 11 NHS ambulance trust.',\n",
       " 'Twelve feared killed in Pakistani air ambulance helicopter crash',\n",
       " 'People who try to j-walk while an ambulance is passing... I hate you.',\n",
       " 'The episode where Trunks annihilated Freiza is the cleanest shit ever. He showed that nigga no mercy.',\n",
       " 'THEY SHALL BE ANNIHILATED AND ALL OF THEIR PETEBESTS DESSICATED AND LAID BARE. THEN YOU SHALL KNEEL BEFORE ME.',\n",
       " 'Uribe just annihilated that baseball. #Mets',\n",
       " '@marksmaponyane Hey!Sundowns were annihilated in their previous meeting with Celtic.Indeed its an improvement.',\n",
       " \"@Volfan326 @TNeazzy Mizzou has annihilated florida the past 2 seasons even ended muschamp's career just can't compete with Bama\",\n",
       " 'Annihilated Abs . ??',\n",
       " 'Be annihilated for status education mba on behalf of a on easy street careen: eOvm',\n",
       " '*to Luka* They should all die! All of them! Everything annihilated! - Alois Trancy',\n",
       " \"@ACarewornHeart Have a good un fella sorry I won't be there to get annihilated with you :(\",\n",
       " 'Cop pulls drunk driver to safety SECONDS before his car is hit by train. via @ViralSpell',\n",
       " 'You must be annihilated!',\n",
       " 'Cop pulls drunk driver to safety SECONDS before his car is hit by train. via @ViralSpell',\n",
       " 'BOOM! Your country was just entirely annihilated by a h\\x89Û_ \\x89ÛÓ Britain',\n",
       " '@AmirKingKhan you would have been annihilated so you might as well thank @FloydMayweather',\n",
       " 'One thing for sure-God has promised Israel will not be annihilated. But...the horror of Iran w/nukes.',\n",
       " \"@violentfeminazi I guess that's ok for Armenians since we've spent most of our history getting annihilated\",\n",
       " '70 years since we annihilated 100000 people instantly and became aware that we have the ability to annihilate the whole of humanity',\n",
       " 'day 1 of tryouts went good minus the fact I stopped quickly to get a short ball and Annihilated my toenail injury even more',\n",
       " 'During the 1960s the oryx a symbol of the Arabian Peninsula were annihilated by hunters. \\n',\n",
       " \"(To Luka) 'They should all die! All of them! Everything annihilated!' - Alois Trancy -\",\n",
       " 'Ready to get annihilated for the BUCS game']"
      ]
     },
     "execution_count": 26,
     "metadata": {},
     "output_type": "execute_result"
    }
   ],
   "source": [
    "corpus_data[200:230]"
   ]
  },
  {
   "cell_type": "code",
   "execution_count": 27,
   "metadata": {
    "colab": {
     "base_uri": "https://localhost:8080/",
     "height": 33
    },
    "colab_type": "code",
    "id": "G2SrGnGpCqDh",
    "outputId": "577e7064-64ae-4b9e-a952-39f81ae2ae58"
   },
   "outputs": [
    {
     "data": {
      "text/plain": [
       "[0, 1, 0, 0, 0, 1, 0, 0, 0, 0]"
      ]
     },
     "execution_count": 27,
     "metadata": {},
     "output_type": "execute_result"
    }
   ],
   "source": [
    "corpus_label[280:290]"
   ]
  },
  {
   "cell_type": "code",
   "execution_count": 28,
   "metadata": {
    "colab": {},
    "colab_type": "code",
    "id": "SJJ_K3eqS4bJ"
   },
   "outputs": [],
   "source": [
    "corpus_data=np.array(corpus_data)\n",
    "corpus_label=np.array(corpus_label)"
   ]
  },
  {
   "cell_type": "code",
   "execution_count": 29,
   "metadata": {
    "colab": {},
    "colab_type": "code",
    "id": "hUc70VXBTJIz"
   },
   "outputs": [],
   "source": [
    "from tensorflow.keras.preprocessing.text import Tokenizer"
   ]
  },
  {
   "cell_type": "code",
   "execution_count": 30,
   "metadata": {
    "colab": {},
    "colab_type": "code",
    "id": "a9sKjFKLTO3Z"
   },
   "outputs": [],
   "source": [
    "token=Tokenizer(num_words=10000,oov_token='OOV')\n",
    "token.fit_on_texts(corpus_data)\n",
    "vocab_size=len(token.word_index)"
   ]
  },
  {
   "cell_type": "code",
   "execution_count": 31,
   "metadata": {
    "colab": {},
    "colab_type": "code",
    "id": "C7A4o7AGTZRY"
   },
   "outputs": [],
   "source": [
    "vocab_size=10000"
   ]
  },
  {
   "cell_type": "code",
   "execution_count": 32,
   "metadata": {
    "colab": {},
    "colab_type": "code",
    "id": "J8sZaN1STaM6"
   },
   "outputs": [],
   "source": [
    "corpus_seq= token.texts_to_sequences(corpus_data)\n"
   ]
  },
  {
   "cell_type": "code",
   "execution_count": 33,
   "metadata": {
    "colab": {},
    "colab_type": "code",
    "id": "ivfiLKxzTgLS"
   },
   "outputs": [],
   "source": [
    "from tensorflow.keras.preprocessing.sequence import pad_sequences"
   ]
  },
  {
   "cell_type": "code",
   "execution_count": 34,
   "metadata": {
    "colab": {},
    "colab_type": "code",
    "id": "5T1ShsWbTqrL"
   },
   "outputs": [],
   "source": [
    "corpus_pad=pad_sequences(corpus_seq,maxlen=30, padding='post', truncating='post')"
   ]
  },
  {
   "cell_type": "code",
   "execution_count": 35,
   "metadata": {
    "colab": {
     "base_uri": "https://localhost:8080/",
     "height": 33
    },
    "colab_type": "code",
    "id": "j_KGVBd6UAkG",
    "outputId": "b7d49755-d5c9-4e0e-9297-97f872e884e1"
   },
   "outputs": [
    {
     "data": {
      "text/plain": [
       "(7613, 30)"
      ]
     },
     "execution_count": 35,
     "metadata": {},
     "output_type": "execute_result"
    }
   ],
   "source": [
    "corpus_pad.shape"
   ]
  },
  {
   "cell_type": "code",
   "execution_count": 36,
   "metadata": {
    "colab": {
     "base_uri": "https://localhost:8080/",
     "height": 117
    },
    "colab_type": "code",
    "id": "NDxCkE8pUDhd",
    "outputId": "028e00ad-c416-4f07-a486-859a3ecd567d"
   },
   "outputs": [
    {
     "data": {
      "text/plain": [
       "array([[ 116, 4609,   21,    2,  866,    6,   19,  260,  135, 1746, 4610,\n",
       "          86,   37,    0,    0,    0,    0,    0,    0,    0,    0,    0,\n",
       "           0,    0,    0,    0,    0,    0,    0,    0],\n",
       "       [ 185,   42,  225,  796, 6877, 6878, 1402,    0,    0,    0,    0,\n",
       "           0,    0,    0,    0,    0,    0,    0,    0,    0,    0,    0,\n",
       "           0,    0,    0,    0,    0,    0,    0,    0]], dtype=int32)"
      ]
     },
     "execution_count": 36,
     "metadata": {},
     "output_type": "execute_result"
    }
   ],
   "source": [
    "corpus_pad[:2]"
   ]
  },
  {
   "cell_type": "code",
   "execution_count": 37,
   "metadata": {
    "colab": {
     "base_uri": "https://localhost:8080/",
     "height": 33
    },
    "colab_type": "code",
    "id": "HRMOnIxUV4MO",
    "outputId": "13573c97-d863-40ad-9bc2-398b41d2cb54"
   },
   "outputs": [
    {
     "data": {
      "text/plain": [
       "(7613, 30)"
      ]
     },
     "execution_count": 37,
     "metadata": {},
     "output_type": "execute_result"
    }
   ],
   "source": [
    "corpus_pad.shape"
   ]
  },
  {
   "cell_type": "code",
   "execution_count": 38,
   "metadata": {
    "colab": {},
    "colab_type": "code",
    "id": "vQwTlpYcoLa7"
   },
   "outputs": [],
   "source": [
    "test_label=[]\n",
    "with open('test.csv') as test_csv:\n",
    "    \n",
    "    test_data= csv.reader(test_csv)\n",
    "    next(test_data)\n",
    "    for data in test_data:\n",
    "        test_label.append(str(data[3]))\n",
    "test_label= np.array(test_label)\n",
    "test_seq=token.texts_to_sequences(test_label)\n",
    "test_pad= pad_sequences(test_seq, maxlen=30, padding='post', truncating='post')"
   ]
  },
  {
   "cell_type": "code",
   "execution_count": 39,
   "metadata": {
    "colab": {
     "base_uri": "https://localhost:8080/",
     "height": 33
    },
    "colab_type": "code",
    "id": "IWNrOZp-oLnl",
    "outputId": "bfbe8f53-4094-4dc8-f151-f3d384982900"
   },
   "outputs": [
    {
     "name": "stdout",
     "output_type": "stream",
     "text": [
      "30 12\n"
     ]
    }
   ],
   "source": [
    "max_size=1\n",
    "num_times=1\n",
    "for data in corpus_seq:\n",
    "    \n",
    "      if len(data) > max_size and len(data) not in [33,32,31]:\n",
    "        max_size = len(data)\n",
    "\n",
    "for data in corpus_seq:\n",
    "    \n",
    "      if len(data) == max_size:\n",
    "        num_times += 1\n",
    "print(max_size,num_times)"
   ]
  },
  {
   "cell_type": "code",
   "execution_count": 40,
   "metadata": {
    "colab": {
     "base_uri": "https://localhost:8080/",
     "height": 33
    },
    "colab_type": "code",
    "id": "45zPwiZTv-7c",
    "outputId": "e691d469-1d6c-4dda-f819-8b63680be6e0"
   },
   "outputs": [
    {
     "data": {
      "text/plain": [
       "7613"
      ]
     },
     "execution_count": 40,
     "metadata": {},
     "output_type": "execute_result"
    }
   ],
   "source": [
    "len(corpus_seq)"
   ]
  },
  {
   "cell_type": "code",
   "execution_count": 41,
   "metadata": {
    "colab": {
     "base_uri": "https://localhost:8080/",
     "height": 33
    },
    "colab_type": "code",
    "id": "6kWimZuLoLy4",
    "outputId": "6b06bf3a-9637-4b29-d51a-debb76f7eb0a"
   },
   "outputs": [
    {
     "data": {
      "text/plain": [
       "[116, 4609, 21, 2, 866, 6, 19, 260, 135, 1746, 4610, 86, 37]"
      ]
     },
     "execution_count": 41,
     "metadata": {},
     "output_type": "execute_result"
    }
   ],
   "source": [
    "corpus_seq[0]"
   ]
  },
  {
   "cell_type": "code",
   "execution_count": 42,
   "metadata": {
    "colab": {
     "base_uri": "https://localhost:8080/",
     "height": 33
    },
    "colab_type": "code",
    "id": "Ylh4YEQNoL9Q",
    "outputId": "9e4294d8-1a91-4f7a-d155-ab3ec41a8a8a"
   },
   "outputs": [
    {
     "data": {
      "text/plain": [
       "30"
      ]
     },
     "execution_count": 42,
     "metadata": {},
     "output_type": "execute_result"
    }
   ],
   "source": [
    "max_size"
   ]
  },
  {
   "cell_type": "code",
   "execution_count": 43,
   "metadata": {
    "colab": {},
    "colab_type": "code",
    "id": "iwhCanCS7T3_"
   },
   "outputs": [],
   "source": [
    "spilt_data=7000\n",
    "train_pad=corpus_pad[:spilt_data]\n",
    "train_label=corpus_label[:spilt_data]\n",
    "test_pad=corpus_pad[spilt_data:]\n",
    "test_label= corpus_label[spilt_data:]"
   ]
  },
  {
   "cell_type": "code",
   "execution_count": 44,
   "metadata": {
    "colab": {
     "base_uri": "https://localhost:8080/",
     "height": 33
    },
    "colab_type": "code",
    "id": "LBk8FViFoMH6",
    "outputId": "0c415aaf-c90a-4844-99ce-135f2e161c4d"
   },
   "outputs": [
    {
     "data": {
      "text/plain": [
       "((613, 30), (613,))"
      ]
     },
     "execution_count": 44,
     "metadata": {},
     "output_type": "execute_result"
    }
   ],
   "source": [
    "test_pad.shape, test_label.shape"
   ]
  },
  {
   "cell_type": "code",
   "execution_count": 45,
   "metadata": {
    "colab": {
     "base_uri": "https://localhost:8080/",
     "height": 33
    },
    "colab_type": "code",
    "id": "JUm75YGy9Jdu",
    "outputId": "564f3b22-d870-4afc-917c-24c33a47d9ca"
   },
   "outputs": [
    {
     "data": {
      "text/plain": [
       "((7000, 30), (7000,))"
      ]
     },
     "execution_count": 45,
     "metadata": {},
     "output_type": "execute_result"
    }
   ],
   "source": [
    "train_pad.shape, train_label.shape"
   ]
  },
  {
   "cell_type": "code",
   "execution_count": 46,
   "metadata": {
    "colab": {
     "base_uri": "https://localhost:8080/",
     "height": 33
    },
    "colab_type": "code",
    "id": "3H7bJe78qFze",
    "outputId": "e61f886b-fd4d-45da-8081-f7ec8107b130"
   },
   "outputs": [
    {
     "data": {
      "text/plain": [
       "10000"
      ]
     },
     "execution_count": 46,
     "metadata": {},
     "output_type": "execute_result"
    }
   ],
   "source": [
    "vocab_size"
   ]
  },
  {
   "cell_type": "code",
   "execution_count": 47,
   "metadata": {
    "colab": {},
    "colab_type": "code",
    "id": "viPTtqVXUFzx"
   },
   "outputs": [],
   "source": [
    "from tensorflow.keras.layers import Embedding, Bidirectional, LSTM, Dense,Dropout"
   ]
  },
  {
   "cell_type": "code",
   "execution_count": 48,
   "metadata": {
    "colab": {
     "base_uri": "https://localhost:8080/",
     "height": 318
    },
    "colab_type": "code",
    "id": "Se2D9NKCUL1j",
    "outputId": "c8abfa62-0491-4696-8642-54b59b4bc89a"
   },
   "outputs": [
    {
     "name": "stdout",
     "output_type": "stream",
     "text": [
      "Model: \"sequential\"\n",
      "_________________________________________________________________\n",
      "Layer (type)                 Output Shape              Param #   \n",
      "=================================================================\n",
      "embedding (Embedding)        (None, 30, 50)            500050    \n",
      "_________________________________________________________________\n",
      "lstm (LSTM)                  (None, 5)                 1120      \n",
      "_________________________________________________________________\n",
      "dropout (Dropout)            (None, 5)                 0         \n",
      "_________________________________________________________________\n",
      "dense (Dense)                (None, 32)                192       \n",
      "_________________________________________________________________\n",
      "dense_1 (Dense)              (None, 1)                 33        \n",
      "=================================================================\n",
      "Total params: 501,395\n",
      "Trainable params: 501,395\n",
      "Non-trainable params: 0\n",
      "_________________________________________________________________\n"
     ]
    }
   ],
   "source": [
    "keras.backend.clear_session()\n",
    "model= keras.Sequential()\n",
    "model.add(Embedding(input_dim= vocab_size+1, output_dim=50, input_length=30))\n",
    "#model.add(LSTM(10, return_sequences=True))\n",
    "#model.add(Dropout(rate=0.8))\n",
    "model.add(LSTM(5))\n",
    "model.add(Dropout(rate=0.5))\n",
    "#model.add(Dense(256, activation=tf.nn.relu))\n",
    "model.add(Dense(32, activation=tf.nn.relu))\n",
    "model.add(Dense(units=1, activation=tf.nn.sigmoid))\n",
    "def scheduler(epochs, lr):\n",
    "    \n",
    "      return 1e-8 * (10**(epochs/20))\n",
    "\n",
    "callback=keras.callbacks.LearningRateScheduler(scheduler)\n",
    "loss= keras.losses.BinaryCrossentropy()\n",
    "optimizer= keras.optimizers.Adam(1e-4)\n",
    "model.compile(loss=loss, optimizer=optimizer,metrics=['accuracy'])\n",
    "model.summary()\n"
   ]
  },
  {
   "cell_type": "code",
   "execution_count": 49,
   "metadata": {
    "colab": {
     "base_uri": "https://localhost:8080/",
     "height": 134
    },
    "colab_type": "code",
    "id": "dVAY6IaPrT9P",
    "outputId": "bd89e77b-438d-4787-d7b1-68002f63cca1"
   },
   "outputs": [
    {
     "data": {
      "text/plain": [
       "{'name': 'Adam',\n",
       " 'learning_rate': 0.0001,\n",
       " 'decay': 0.0,\n",
       " 'beta_1': 0.9,\n",
       " 'beta_2': 0.999,\n",
       " 'epsilon': 1e-07,\n",
       " 'amsgrad': False}"
      ]
     },
     "execution_count": 49,
     "metadata": {},
     "output_type": "execute_result"
    }
   ],
   "source": [
    "model.optimizer.get_config()"
   ]
  },
  {
   "cell_type": "code",
   "execution_count": 50,
   "metadata": {
    "colab": {
     "base_uri": "https://localhost:8080/",
     "height": 890
    },
    "colab_type": "code",
    "id": "R7gbmFp1VfQW",
    "outputId": "8dc35959-b8f1-4ea0-88dc-3234a7bb9404"
   },
   "outputs": [
    {
     "name": "stdout",
     "output_type": "stream",
     "text": [
      "Train on 7000 samples, validate on 613 samples\n",
      "Epoch 1/25\n",
      "7000/7000 [==============================] - 8s 1ms/sample - loss: 0.6928 - accuracy: 0.5234 - val_loss: 0.6938 - val_accuracy: 0.4715\n",
      "Epoch 2/25\n",
      "7000/7000 [==============================] - 4s 547us/sample - loss: 0.6900 - accuracy: 0.5790 - val_loss: 0.6958 - val_accuracy: 0.4715\n",
      "Epoch 3/25\n",
      "7000/7000 [==============================] - 4s 536us/sample - loss: 0.6861 - accuracy: 0.5790 - val_loss: 0.7006 - val_accuracy: 0.4715\n",
      "Epoch 4/25\n",
      "7000/7000 [==============================] - 4s 535us/sample - loss: 0.6842 - accuracy: 0.5790 - val_loss: 0.7044 - val_accuracy: 0.4715\n",
      "Epoch 5/25\n",
      "7000/7000 [==============================] - 4s 530us/sample - loss: 0.6823 - accuracy: 0.5790 - val_loss: 0.7078 - val_accuracy: 0.4715\n",
      "Epoch 6/25\n",
      "7000/7000 [==============================] - 4s 542us/sample - loss: 0.6820 - accuracy: 0.5790 - val_loss: 0.7086 - val_accuracy: 0.4715\n",
      "Epoch 7/25\n",
      "7000/7000 [==============================] - 4s 532us/sample - loss: 0.6779 - accuracy: 0.5790 - val_loss: 0.6967 - val_accuracy: 0.4715\n",
      "Epoch 8/25\n",
      "7000/7000 [==============================] - 4s 512us/sample - loss: 0.6532 - accuracy: 0.6069 - val_loss: 0.6434 - val_accuracy: 0.6444\n",
      "Epoch 9/25\n",
      "7000/7000 [==============================] - 4s 533us/sample - loss: 0.5701 - accuracy: 0.7407 - val_loss: 0.5710 - val_accuracy: 0.8059\n",
      "Epoch 10/25\n",
      "7000/7000 [==============================] - 4s 526us/sample - loss: 0.4888 - accuracy: 0.8259 - val_loss: 0.5340 - val_accuracy: 0.7830\n",
      "Epoch 11/25\n",
      "7000/7000 [==============================] - 4s 530us/sample - loss: 0.4278 - accuracy: 0.8640 - val_loss: 0.5175 - val_accuracy: 0.7863\n",
      "Epoch 12/25\n",
      "7000/7000 [==============================] - 3s 457us/sample - loss: 0.3847 - accuracy: 0.8890 - val_loss: 0.5096 - val_accuracy: 0.7863\n",
      "Epoch 13/25\n",
      "7000/7000 [==============================] - 4s 537us/sample - loss: 0.3541 - accuracy: 0.8971 - val_loss: 0.5182 - val_accuracy: 0.7765\n",
      "Epoch 14/25\n",
      "7000/7000 [==============================] - 4s 543us/sample - loss: 0.3254 - accuracy: 0.9064 - val_loss: 0.5165 - val_accuracy: 0.7798\n",
      "Epoch 15/25\n",
      "7000/7000 [==============================] - 4s 556us/sample - loss: 0.3112 - accuracy: 0.9126 - val_loss: 0.5258 - val_accuracy: 0.7863\n",
      "Epoch 16/25\n",
      "7000/7000 [==============================] - 4s 550us/sample - loss: 0.2929 - accuracy: 0.9100 - val_loss: 0.5312 - val_accuracy: 0.7879\n",
      "Epoch 17/25\n",
      "7000/7000 [==============================] - 4s 550us/sample - loss: 0.2757 - accuracy: 0.9161 - val_loss: 0.5568 - val_accuracy: 0.7830\n",
      "Epoch 18/25\n",
      "7000/7000 [==============================] - 4s 536us/sample - loss: 0.2740 - accuracy: 0.9167 - val_loss: 0.5965 - val_accuracy: 0.7553\n",
      "Epoch 19/25\n",
      "7000/7000 [==============================] - 4s 542us/sample - loss: 0.2620 - accuracy: 0.9210 - val_loss: 0.5904 - val_accuracy: 0.7667\n",
      "Epoch 20/25\n",
      "7000/7000 [==============================] - 4s 553us/sample - loss: 0.2531 - accuracy: 0.9211 - val_loss: 0.5918 - val_accuracy: 0.7749\n",
      "Epoch 21/25\n",
      "7000/7000 [==============================] - 4s 532us/sample - loss: 0.2472 - accuracy: 0.9274 - val_loss: 0.6171 - val_accuracy: 0.7635\n",
      "Epoch 22/25\n",
      "7000/7000 [==============================] - 4s 546us/sample - loss: 0.2379 - accuracy: 0.9366 - val_loss: 0.6228 - val_accuracy: 0.7700\n",
      "Epoch 23/25\n",
      "7000/7000 [==============================] - 4s 529us/sample - loss: 0.2360 - accuracy: 0.9356 - val_loss: 0.6538 - val_accuracy: 0.7569\n",
      "Epoch 24/25\n",
      "7000/7000 [==============================] - 4s 543us/sample - loss: 0.2243 - accuracy: 0.9393 - val_loss: 0.6368 - val_accuracy: 0.7732\n",
      "Epoch 25/25\n",
      "7000/7000 [==============================] - 4s 518us/sample - loss: 0.2234 - accuracy: 0.9416 - val_loss: 0.6545 - val_accuracy: 0.7732\n"
     ]
    },
    {
     "data": {
      "text/plain": [
       "<tensorflow.python.keras.callbacks.History at 0x7f994c31a490>"
      ]
     },
     "execution_count": 50,
     "metadata": {},
     "output_type": "execute_result"
    }
   ],
   "source": [
    "\n",
    "#model.fit(train_pad, train_label, batch_size=32, epochs=200,callbacks=[callback])\n",
    "model.fit(train_pad, train_label, batch_size=64, epochs=25, validation_data=(test_pad, test_label))"
   ]
  },
  {
   "cell_type": "code",
   "execution_count": 51,
   "metadata": {
    "colab": {},
    "colab_type": "code",
    "id": "_hScAP2iVtJs"
   },
   "outputs": [],
   "source": [
    "import pandas as pd"
   ]
  },
  {
   "cell_type": "code",
   "execution_count": 52,
   "metadata": {
    "colab": {},
    "colab_type": "code",
    "id": "DvSEwzMJf-eX"
   },
   "outputs": [],
   "source": [
    "test_data=pd.read_csv('test.csv')"
   ]
  },
  {
   "cell_type": "code",
   "execution_count": 53,
   "metadata": {
    "colab": {
     "base_uri": "https://localhost:8080/",
     "height": 196
    },
    "colab_type": "code",
    "id": "iqzzPZElgQm0",
    "outputId": "eea1a5e7-2fe1-4bdd-ad83-8d1d021a26b1"
   },
   "outputs": [
    {
     "data": {
      "text/html": [
       "<div>\n",
       "<style scoped>\n",
       "    .dataframe tbody tr th:only-of-type {\n",
       "        vertical-align: middle;\n",
       "    }\n",
       "\n",
       "    .dataframe tbody tr th {\n",
       "        vertical-align: top;\n",
       "    }\n",
       "\n",
       "    .dataframe thead th {\n",
       "        text-align: right;\n",
       "    }\n",
       "</style>\n",
       "<table border=\"1\" class=\"dataframe\">\n",
       "  <thead>\n",
       "    <tr style=\"text-align: right;\">\n",
       "      <th></th>\n",
       "      <th>id</th>\n",
       "      <th>keyword</th>\n",
       "      <th>location</th>\n",
       "      <th>text</th>\n",
       "    </tr>\n",
       "  </thead>\n",
       "  <tbody>\n",
       "    <tr>\n",
       "      <th>0</th>\n",
       "      <td>0</td>\n",
       "      <td>NaN</td>\n",
       "      <td>NaN</td>\n",
       "      <td>Just happened a terrible car crash</td>\n",
       "    </tr>\n",
       "    <tr>\n",
       "      <th>1</th>\n",
       "      <td>2</td>\n",
       "      <td>NaN</td>\n",
       "      <td>NaN</td>\n",
       "      <td>Heard about #earthquake is different cities, s...</td>\n",
       "    </tr>\n",
       "    <tr>\n",
       "      <th>2</th>\n",
       "      <td>3</td>\n",
       "      <td>NaN</td>\n",
       "      <td>NaN</td>\n",
       "      <td>there is a forest fire at spot pond, geese are...</td>\n",
       "    </tr>\n",
       "    <tr>\n",
       "      <th>3</th>\n",
       "      <td>9</td>\n",
       "      <td>NaN</td>\n",
       "      <td>NaN</td>\n",
       "      <td>Apocalypse lighting. #Spokane #wildfires</td>\n",
       "    </tr>\n",
       "    <tr>\n",
       "      <th>4</th>\n",
       "      <td>11</td>\n",
       "      <td>NaN</td>\n",
       "      <td>NaN</td>\n",
       "      <td>Typhoon Soudelor kills 28 in China and Taiwan</td>\n",
       "    </tr>\n",
       "  </tbody>\n",
       "</table>\n",
       "</div>"
      ],
      "text/plain": [
       "   id keyword location                                               text\n",
       "0   0     NaN      NaN                 Just happened a terrible car crash\n",
       "1   2     NaN      NaN  Heard about #earthquake is different cities, s...\n",
       "2   3     NaN      NaN  there is a forest fire at spot pond, geese are...\n",
       "3   9     NaN      NaN           Apocalypse lighting. #Spokane #wildfires\n",
       "4  11     NaN      NaN      Typhoon Soudelor kills 28 in China and Taiwan"
      ]
     },
     "execution_count": 53,
     "metadata": {},
     "output_type": "execute_result"
    }
   ],
   "source": [
    "test_data.head()"
   ]
  },
  {
   "cell_type": "code",
   "execution_count": 54,
   "metadata": {
    "colab": {},
    "colab_type": "code",
    "id": "LQNUaQdlgR6z"
   },
   "outputs": [],
   "source": [
    "test_label=[]\n",
    "with open('test.csv') as test_csv:\n",
    "    \n",
    "    test_data= csv.reader(test_csv)\n",
    "    next(test_data)\n",
    "    for data in test_data:\n",
    "        \n",
    "        test_label.append(preprocessing_data(str(data[3])))"
   ]
  },
  {
   "cell_type": "code",
   "execution_count": 55,
   "metadata": {
    "colab": {},
    "colab_type": "code",
    "id": "63KlIZadgXNc"
   },
   "outputs": [],
   "source": [
    "test_label= np.array(test_label)"
   ]
  },
  {
   "cell_type": "code",
   "execution_count": 56,
   "metadata": {
    "colab": {},
    "colab_type": "code",
    "id": "9wSn1PmdhZOT"
   },
   "outputs": [],
   "source": [
    "test_label= np.array(test_label)\n",
    "test_seq=token.texts_to_sequences(test_label)\n",
    "test_pad= pad_sequences(test_seq, maxlen=30, padding='post', truncating='post')"
   ]
  },
  {
   "cell_type": "code",
   "execution_count": 57,
   "metadata": {
    "colab": {
     "base_uri": "https://localhost:8080/",
     "height": 33
    },
    "colab_type": "code",
    "id": "YxhwPeLvgY3l",
    "outputId": "f8cb321d-87bc-4d6a-e68e-a3d1b914f901"
   },
   "outputs": [
    {
     "data": {
      "text/plain": [
       "(3263, 30)"
      ]
     },
     "execution_count": 57,
     "metadata": {},
     "output_type": "execute_result"
    }
   ],
   "source": [
    "test_pad.shape"
   ]
  },
  {
   "cell_type": "code",
   "execution_count": 58,
   "metadata": {
    "colab": {
     "base_uri": "https://localhost:8080/",
     "height": 33
    },
    "colab_type": "code",
    "id": "QOHOWftJhynZ",
    "outputId": "275944d9-2ac1-4945-a014-3224ae2c776b"
   },
   "outputs": [
    {
     "data": {
      "text/plain": [
       "(30,)"
      ]
     },
     "execution_count": 58,
     "metadata": {},
     "output_type": "execute_result"
    }
   ],
   "source": [
    "test_pad[1].shape"
   ]
  },
  {
   "cell_type": "code",
   "execution_count": 59,
   "metadata": {
    "colab": {
     "base_uri": "https://localhost:8080/",
     "height": 35
    },
    "colab_type": "code",
    "id": "TXqYiLEHiLAM",
    "outputId": "f2368cbf-2750-43d7-a09b-976dd7c4e1a9"
   },
   "outputs": [
    {
     "data": {
      "text/plain": [
       "'Just happened a terrible car crash'"
      ]
     },
     "execution_count": 59,
     "metadata": {},
     "output_type": "execute_result"
    }
   ],
   "source": [
    "test_label[0]"
   ]
  },
  {
   "cell_type": "code",
   "execution_count": 60,
   "metadata": {
    "colab": {
     "base_uri": "https://localhost:8080/",
     "height": 87
    },
    "colab_type": "code",
    "id": "WnW-bGJIhNzs",
    "outputId": "6ed20aa3-42a9-4a52-8302-863d9dc0009b"
   },
   "outputs": [],
   "source": [
    "prediction= model.predict_classes(test_pad)"
   ]
  },
  {
   "cell_type": "code",
   "execution_count": 61,
   "metadata": {
    "colab": {
     "base_uri": "https://localhost:8080/",
     "height": 67
    },
    "colab_type": "code",
    "id": "qZCLNkaihSza",
    "outputId": "54b07c0d-d621-4643-8b80-9778eea2761c"
   },
   "outputs": [
    {
     "data": {
      "text/plain": [
       "array(['Just happened a terrible car crash',\n",
       "       'Heard about #earthquake is different cities, stay safe everyone.'],\n",
       "      dtype='<U151')"
      ]
     },
     "execution_count": 61,
     "metadata": {},
     "output_type": "execute_result"
    }
   ],
   "source": [
    "test_label[:2]"
   ]
  },
  {
   "cell_type": "code",
   "execution_count": 62,
   "metadata": {
    "colab": {},
    "colab_type": "code",
    "id": "IOTLnZl2hnvb"
   },
   "outputs": [],
   "source": [
    "submit= pd.read_csv('sample_submission.csv')"
   ]
  },
  {
   "cell_type": "code",
   "execution_count": 63,
   "metadata": {
    "colab": {
     "base_uri": "https://localhost:8080/",
     "height": 196
    },
    "colab_type": "code",
    "id": "bBu0zeiDh6bu",
    "outputId": "cbad9664-a313-45ff-eecc-c5afd736d784"
   },
   "outputs": [
    {
     "data": {
      "text/html": [
       "<div>\n",
       "<style scoped>\n",
       "    .dataframe tbody tr th:only-of-type {\n",
       "        vertical-align: middle;\n",
       "    }\n",
       "\n",
       "    .dataframe tbody tr th {\n",
       "        vertical-align: top;\n",
       "    }\n",
       "\n",
       "    .dataframe thead th {\n",
       "        text-align: right;\n",
       "    }\n",
       "</style>\n",
       "<table border=\"1\" class=\"dataframe\">\n",
       "  <thead>\n",
       "    <tr style=\"text-align: right;\">\n",
       "      <th></th>\n",
       "      <th>id</th>\n",
       "      <th>target</th>\n",
       "    </tr>\n",
       "  </thead>\n",
       "  <tbody>\n",
       "    <tr>\n",
       "      <th>0</th>\n",
       "      <td>0</td>\n",
       "      <td>0</td>\n",
       "    </tr>\n",
       "    <tr>\n",
       "      <th>1</th>\n",
       "      <td>2</td>\n",
       "      <td>0</td>\n",
       "    </tr>\n",
       "    <tr>\n",
       "      <th>2</th>\n",
       "      <td>3</td>\n",
       "      <td>0</td>\n",
       "    </tr>\n",
       "    <tr>\n",
       "      <th>3</th>\n",
       "      <td>9</td>\n",
       "      <td>0</td>\n",
       "    </tr>\n",
       "    <tr>\n",
       "      <th>4</th>\n",
       "      <td>11</td>\n",
       "      <td>0</td>\n",
       "    </tr>\n",
       "  </tbody>\n",
       "</table>\n",
       "</div>"
      ],
      "text/plain": [
       "   id  target\n",
       "0   0       0\n",
       "1   2       0\n",
       "2   3       0\n",
       "3   9       0\n",
       "4  11       0"
      ]
     },
     "execution_count": 63,
     "metadata": {},
     "output_type": "execute_result"
    }
   ],
   "source": [
    "submit.head()"
   ]
  },
  {
   "cell_type": "code",
   "execution_count": 64,
   "metadata": {
    "colab": {},
    "colab_type": "code",
    "id": "J-Jee0OUjDJV"
   },
   "outputs": [],
   "source": [
    "submit['target']=prediction"
   ]
  },
  {
   "cell_type": "code",
   "execution_count": 65,
   "metadata": {
    "colab": {
     "base_uri": "https://localhost:8080/",
     "height": 196
    },
    "colab_type": "code",
    "id": "xv_lRjiDjIT0",
    "outputId": "842a00b9-6474-4f1a-bdaf-4afcde3e30c3"
   },
   "outputs": [
    {
     "data": {
      "text/html": [
       "<div>\n",
       "<style scoped>\n",
       "    .dataframe tbody tr th:only-of-type {\n",
       "        vertical-align: middle;\n",
       "    }\n",
       "\n",
       "    .dataframe tbody tr th {\n",
       "        vertical-align: top;\n",
       "    }\n",
       "\n",
       "    .dataframe thead th {\n",
       "        text-align: right;\n",
       "    }\n",
       "</style>\n",
       "<table border=\"1\" class=\"dataframe\">\n",
       "  <thead>\n",
       "    <tr style=\"text-align: right;\">\n",
       "      <th></th>\n",
       "      <th>id</th>\n",
       "      <th>target</th>\n",
       "    </tr>\n",
       "  </thead>\n",
       "  <tbody>\n",
       "    <tr>\n",
       "      <th>0</th>\n",
       "      <td>0</td>\n",
       "      <td>1</td>\n",
       "    </tr>\n",
       "    <tr>\n",
       "      <th>1</th>\n",
       "      <td>2</td>\n",
       "      <td>0</td>\n",
       "    </tr>\n",
       "    <tr>\n",
       "      <th>2</th>\n",
       "      <td>3</td>\n",
       "      <td>1</td>\n",
       "    </tr>\n",
       "    <tr>\n",
       "      <th>3</th>\n",
       "      <td>9</td>\n",
       "      <td>1</td>\n",
       "    </tr>\n",
       "    <tr>\n",
       "      <th>4</th>\n",
       "      <td>11</td>\n",
       "      <td>1</td>\n",
       "    </tr>\n",
       "  </tbody>\n",
       "</table>\n",
       "</div>"
      ],
      "text/plain": [
       "   id  target\n",
       "0   0       1\n",
       "1   2       0\n",
       "2   3       1\n",
       "3   9       1\n",
       "4  11       1"
      ]
     },
     "execution_count": 65,
     "metadata": {},
     "output_type": "execute_result"
    }
   ],
   "source": [
    "submit.head()"
   ]
  },
  {
   "cell_type": "code",
   "execution_count": 66,
   "metadata": {
    "colab": {},
    "colab_type": "code",
    "id": "m8iiW0xBjJYc"
   },
   "outputs": [],
   "source": [
    "submit.to_csv('submit.csv',index=False)"
   ]
  },
  {
   "cell_type": "code",
   "execution_count": null,
   "metadata": {
    "colab": {},
    "colab_type": "code",
    "id": "MWp9cUI0jPqL"
   },
   "outputs": [],
   "source": [
    "from sklearn.metrics import classification_report"
   ]
  },
  {
   "cell_type": "code",
   "execution_count": null,
   "metadata": {
    "colab": {
     "base_uri": "https://localhost:8080/",
     "height": 168
    },
    "colab_type": "code",
    "id": "3OY9tTz13Av7",
    "outputId": "895d7e3c-84de-47ee-86e1-5fcf0d7ab4dc"
   },
   "outputs": [],
   "source": [
    "print(classification_report(train_label[:3263], prediction))"
   ]
  },
  {
   "cell_type": "code",
   "execution_count": null,
   "metadata": {
    "colab": {},
    "colab_type": "code",
    "id": "dTSrMBhX3Gxu"
   },
   "outputs": [],
   "source": []
  }
 ],
 "metadata": {
  "colab": {
   "collapsed_sections": [],
   "name": "Kaggle Disaster Tweets.ipynb",
   "provenance": []
  },
  "kernelspec": {
   "display_name": "Python 3",
   "language": "python",
   "name": "python3"
  },
  "language_info": {
   "codemirror_mode": {
    "name": "ipython",
    "version": 3
   },
   "file_extension": ".py",
   "mimetype": "text/x-python",
   "name": "python",
   "nbconvert_exporter": "python",
   "pygments_lexer": "ipython3",
   "version": "3.7.6"
  }
 },
 "nbformat": 4,
 "nbformat_minor": 4
}
