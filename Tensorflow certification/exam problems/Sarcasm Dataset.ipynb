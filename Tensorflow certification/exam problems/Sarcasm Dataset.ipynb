{
 "cells": [
  {
   "cell_type": "code",
   "execution_count": 1,
   "metadata": {},
   "outputs": [],
   "source": [
    "import numpy as np\n",
    "import tensorflow as tf\n",
    "from tensorflow import keras\n",
    "import json\n",
    "import urllib"
   ]
  },
  {
   "cell_type": "code",
   "execution_count": 2,
   "metadata": {},
   "outputs": [],
   "source": [
    "corpus_data=[]\n",
    "corpus_label=[]\n",
    "with open('sarcasm.json', 'r', errors='ignore') as json_data:\n",
    "    \n",
    "    ##Converting TextWrapper to List\n",
    "    json_lines=json_data.readlines()\n",
    "    ## Removing first and last values as it containg '[' and ']'\n",
    "    json_lines=json_lines[1:-1]\n",
    "    \n",
    "    for data in json_lines:\n",
    "        #print(type(data))\n",
    "        ## Each line consists of , and \\n new space so we will split that and conside the first element which\n",
    "        ##has the json data and process\n",
    "        line_data=data.split(',\\n')\n",
    "        \n",
    "        line_data_list=line_data[0]\n",
    "        line_data_json=json.loads(line_data_list)\n",
    "        \n",
    "        corpus_data.append(line_data_json['headline'])\n",
    "        corpus_label.append(line_data_json['is_sarcastic'])\n",
    "        \n",
    "        "
   ]
  },
  {
   "cell_type": "code",
   "execution_count": 3,
   "metadata": {},
   "outputs": [
    {
     "data": {
      "text/plain": [
       "[\"former versace store clerk sues over secret 'black code' for minority shoppers\",\n",
       " \"the 'roseanne' revival catches up to our thorny political mood, for better and worse\",\n",
       " \"mom starting to fear son's web series closest thing she will have to grandchild\",\n",
       " 'boehner just wants wife to listen, not come up with alternative debt-reduction ideas',\n",
       " 'j.k. rowling wishes snape happy birthday in the most magical way',\n",
       " \"advancing the world's women\",\n",
       " 'the fascinating case for eating lab-grown meat',\n",
       " 'this ceo will send your kids to school, if you work for his company',\n",
       " 'top snake handler leaves sinking huckabee campaign',\n",
       " \"friday's morning email: inside trump's presser for the ages\"]"
      ]
     },
     "execution_count": 3,
     "metadata": {},
     "output_type": "execute_result"
    }
   ],
   "source": [
    "corpus_data[:10]"
   ]
  },
  {
   "cell_type": "code",
   "execution_count": 4,
   "metadata": {},
   "outputs": [
    {
     "data": {
      "text/plain": [
       "[0, 0, 1, 1, 0, 0, 0, 0, 1, 0]"
      ]
     },
     "execution_count": 4,
     "metadata": {},
     "output_type": "execute_result"
    }
   ],
   "source": [
    "corpus_label[:10]"
   ]
  },
  {
   "cell_type": "code",
   "execution_count": 5,
   "metadata": {},
   "outputs": [
    {
     "data": {
      "text/plain": [
       "26709"
      ]
     },
     "execution_count": 5,
     "metadata": {},
     "output_type": "execute_result"
    }
   ],
   "source": [
    "len(corpus_data)"
   ]
  },
  {
   "cell_type": "code",
   "execution_count": 6,
   "metadata": {},
   "outputs": [],
   "source": [
    "vocab_size=20000"
   ]
  },
  {
   "cell_type": "code",
   "execution_count": 7,
   "metadata": {},
   "outputs": [],
   "source": [
    "from tensorflow.keras.preprocessing.text import Tokenizer"
   ]
  },
  {
   "cell_type": "code",
   "execution_count": 8,
   "metadata": {},
   "outputs": [],
   "source": [
    "token= Tokenizer(num_words=vocab_size, oov_token='OOV')\n",
    "token.fit_on_texts(corpus_data)\n",
    "vocab_size=len(token.word_index)\n"
   ]
  },
  {
   "cell_type": "code",
   "execution_count": 9,
   "metadata": {},
   "outputs": [],
   "source": [
    "corpus_seq= token.texts_to_sequences(corpus_data)"
   ]
  },
  {
   "cell_type": "code",
   "execution_count": 10,
   "metadata": {},
   "outputs": [
    {
     "data": {
      "text/plain": [
       "[[308, 15115, 679, 3337, 2298, 48, 382, 2576, 15116, 6, 2577, 8434],\n",
       " [4, 8435, 3338, 2746, 22, 2, 166, 8436, 416, 3112, 6, 258, 9, 1002],\n",
       " [145, 838, 2, 907, 1749, 2093, 582, 4719, 221, 143, 39, 46, 2, 10736],\n",
       " [1485, 36, 224, 400, 2, 1832, 29, 319, 22, 10, 2924, 1393, 6969, 968],\n",
       " [767, 719, 4720, 908, 10737, 623, 594, 5, 4, 95, 1309, 92],\n",
       " [10738, 4, 365, 73],\n",
       " [4, 6970, 351, 6, 461, 4274, 2195, 1486],\n",
       " [19, 479, 39, 1168, 31, 155, 2, 99, 83, 18, 158, 6, 32, 352],\n",
       " [249, 3623, 6971, 555, 5274, 1995, 141],\n",
       " [2094, 326, 347, 401, 60, 15117, 6, 4, 3896]]"
      ]
     },
     "execution_count": 10,
     "metadata": {},
     "output_type": "execute_result"
    }
   ],
   "source": [
    "corpus_seq[:10]"
   ]
  },
  {
   "cell_type": "code",
   "execution_count": 11,
   "metadata": {},
   "outputs": [],
   "source": [
    "from tensorflow.keras.preprocessing.sequence import pad_sequences"
   ]
  },
  {
   "cell_type": "code",
   "execution_count": 12,
   "metadata": {},
   "outputs": [],
   "source": [
    "corpus_pad= pad_sequences(corpus_seq,maxlen=30, padding='post', truncating='post')"
   ]
  },
  {
   "cell_type": "code",
   "execution_count": 13,
   "metadata": {},
   "outputs": [
    {
     "data": {
      "text/plain": [
       "array([   4, 8435, 3338, 2746,   22,    2,  166, 8436,  416, 3112,    6,\n",
       "        258,    9, 1002,    0,    0,    0,    0,    0,    0,    0,    0,\n",
       "          0,    0,    0,    0,    0,    0,    0,    0], dtype=int32)"
      ]
     },
     "execution_count": 13,
     "metadata": {},
     "output_type": "execute_result"
    }
   ],
   "source": [
    "corpus_pad[1]"
   ]
  },
  {
   "cell_type": "code",
   "execution_count": 14,
   "metadata": {},
   "outputs": [],
   "source": [
    "corpus_label=np.array(corpus_label)"
   ]
  },
  {
   "cell_type": "code",
   "execution_count": null,
   "metadata": {},
   "outputs": [],
   "source": []
  },
  {
   "cell_type": "code",
   "execution_count": 15,
   "metadata": {},
   "outputs": [],
   "source": [
    "split_data=25000\n",
    "train_data= corpus_pad[:split_data]\n",
    "train_label=corpus_label[:split_data]\n",
    "test_data= corpus_pad[split_data:]\n",
    "test_label= corpus_label[split_data:]"
   ]
  },
  {
   "cell_type": "code",
   "execution_count": 16,
   "metadata": {},
   "outputs": [
    {
     "data": {
      "text/plain": [
       "((25000, 30), (1709, 30))"
      ]
     },
     "execution_count": 16,
     "metadata": {},
     "output_type": "execute_result"
    }
   ],
   "source": [
    "train_data.shape,test_data.shape"
   ]
  },
  {
   "cell_type": "code",
   "execution_count": 17,
   "metadata": {},
   "outputs": [
    {
     "data": {
      "text/plain": [
       "(1709,)"
      ]
     },
     "execution_count": 17,
     "metadata": {},
     "output_type": "execute_result"
    }
   ],
   "source": [
    "test_label.shape"
   ]
  },
  {
   "cell_type": "code",
   "execution_count": 18,
   "metadata": {},
   "outputs": [],
   "source": [
    "from tensorflow.keras.layers import Embedding,LSTM, Dropout, Dense, Bidirectional"
   ]
  },
  {
   "cell_type": "code",
   "execution_count": 29,
   "metadata": {},
   "outputs": [
    {
     "name": "stdout",
     "output_type": "stream",
     "text": [
      "Model: \"sequential\"\n",
      "_________________________________________________________________\n",
      "Layer (type)                 Output Shape              Param #   \n",
      "=================================================================\n",
      "embedding (Embedding)        (None, 30, 100)           2965800   \n",
      "_________________________________________________________________\n",
      "bidirectional (Bidirectional (None, 30, 128)           84480     \n",
      "_________________________________________________________________\n",
      "lstm_1 (LSTM)                (None, 64)                49408     \n",
      "_________________________________________________________________\n",
      "dropout (Dropout)            (None, 64)                0         \n",
      "_________________________________________________________________\n",
      "dense (Dense)                (None, 1)                 65        \n",
      "=================================================================\n",
      "Total params: 3,099,753\n",
      "Trainable params: 3,099,753\n",
      "Non-trainable params: 0\n",
      "_________________________________________________________________\n"
     ]
    }
   ],
   "source": [
    "keras.backend.clear_session()\n",
    "model= keras.Sequential()\n",
    "model.add(Embedding(input_dim=vocab_size+1, output_dim=100, input_length=30,))\n",
    "model.add(Bidirectional(LSTM(64, return_sequences=True)))\n",
    "model.add(LSTM(64))\n",
    "model.add(Dropout(rate=0.5))\n",
    "model.add(Dense(1, activation=tf.nn.sigmoid))\n",
    "loss= keras.losses.BinaryCrossentropy()\n",
    "optimizer= keras.optimizers.Adam(lr= 5e-4)\n",
    "model.compile(loss=loss, optimizer=optimizer, metrics=['accuracy'])\n",
    "model.summary()"
   ]
  },
  {
   "cell_type": "code",
   "execution_count": 30,
   "metadata": {},
   "outputs": [
    {
     "name": "stdout",
     "output_type": "stream",
     "text": [
      "Train on 25000 samples, validate on 1709 samples\n",
      "Epoch 1/25\n",
      "25000/25000 [==============================] - 47s 2ms/sample - loss: 0.5116 - accuracy: 0.7202 - val_loss: 0.3391 - val_accuracy: 0.8508\n",
      "Epoch 2/25\n",
      "25000/25000 [==============================] - 37s 1ms/sample - loss: 0.2328 - accuracy: 0.9112 - val_loss: 0.3417 - val_accuracy: 0.8619\n",
      "Epoch 3/25\n",
      "25000/25000 [==============================] - 35s 1ms/sample - loss: 0.1441 - accuracy: 0.9497 - val_loss: 0.4441 - val_accuracy: 0.8484\n",
      "Epoch 4/25\n",
      "25000/25000 [==============================] - 35s 1ms/sample - loss: 0.0964 - accuracy: 0.9686 - val_loss: 0.4633 - val_accuracy: 0.8455\n",
      "Epoch 5/25\n",
      "25000/25000 [==============================] - 35s 1ms/sample - loss: 0.0709 - accuracy: 0.9774 - val_loss: 0.5336 - val_accuracy: 0.8484\n",
      "Epoch 6/25\n",
      "25000/25000 [==============================] - 34s 1ms/sample - loss: 0.0581 - accuracy: 0.9819 - val_loss: 0.5684 - val_accuracy: 0.8408\n",
      "Epoch 7/25\n",
      "25000/25000 [==============================] - 36s 1ms/sample - loss: 0.0474 - accuracy: 0.9857 - val_loss: 0.6358 - val_accuracy: 0.8391\n",
      "Epoch 8/25\n",
      "25000/25000 [==============================] - 35s 1ms/sample - loss: 0.0375 - accuracy: 0.9889 - val_loss: 0.7386 - val_accuracy: 0.8403\n",
      "Epoch 9/25\n",
      "25000/25000 [==============================] - 35s 1ms/sample - loss: 0.0334 - accuracy: 0.9906 - val_loss: 0.7202 - val_accuracy: 0.8385\n",
      "Epoch 10/25\n",
      "25000/25000 [==============================] - 37s 1ms/sample - loss: 0.0278 - accuracy: 0.9930 - val_loss: 0.8350 - val_accuracy: 0.8315\n",
      "Epoch 11/25\n",
      "25000/25000 [==============================] - 35s 1ms/sample - loss: 0.0258 - accuracy: 0.9931 - val_loss: 0.7301 - val_accuracy: 0.8286\n",
      "Epoch 12/25\n",
      "25000/25000 [==============================] - 37s 1ms/sample - loss: 0.0254 - accuracy: 0.9933 - val_loss: 0.8564 - val_accuracy: 0.8291\n",
      "Epoch 13/25\n",
      "25000/25000 [==============================] - 36s 1ms/sample - loss: 0.0174 - accuracy: 0.9958 - val_loss: 0.9327 - val_accuracy: 0.8332\n",
      "Epoch 14/25\n",
      "25000/25000 [==============================] - 36s 1ms/sample - loss: 0.0178 - accuracy: 0.9953 - val_loss: 0.9354 - val_accuracy: 0.8297\n",
      "Epoch 15/25\n",
      "25000/25000 [==============================] - 35s 1ms/sample - loss: 0.0162 - accuracy: 0.9956 - val_loss: 0.9646 - val_accuracy: 0.8268\n",
      "Epoch 16/25\n",
      "25000/25000 [==============================] - 35s 1ms/sample - loss: 0.0164 - accuracy: 0.9957 - val_loss: 0.9153 - val_accuracy: 0.8291\n",
      "Epoch 17/25\n",
      "25000/25000 [==============================] - 37s 1ms/sample - loss: 0.0144 - accuracy: 0.9963 - val_loss: 1.0011 - val_accuracy: 0.8245\n",
      "Epoch 18/25\n",
      "25000/25000 [==============================] - 36s 1ms/sample - loss: 0.0127 - accuracy: 0.9970 - val_loss: 1.0087 - val_accuracy: 0.8297\n",
      "Epoch 19/25\n",
      "25000/25000 [==============================] - 38s 2ms/sample - loss: 0.0128 - accuracy: 0.9972 - val_loss: 0.9710 - val_accuracy: 0.8250\n",
      "Epoch 20/25\n",
      "25000/25000 [==============================] - 37s 1ms/sample - loss: 0.0115 - accuracy: 0.9976 - val_loss: 1.0442 - val_accuracy: 0.8274\n",
      "Epoch 21/25\n",
      "25000/25000 [==============================] - 37s 1ms/sample - loss: 0.0110 - accuracy: 0.9976 - val_loss: 0.9939 - val_accuracy: 0.8221\n",
      "Epoch 22/25\n",
      "25000/25000 [==============================] - 37s 1ms/sample - loss: 0.0114 - accuracy: 0.9976 - val_loss: 1.0184 - val_accuracy: 0.8309\n",
      "Epoch 23/25\n",
      "25000/25000 [==============================] - 36s 1ms/sample - loss: 0.0128 - accuracy: 0.9970 - val_loss: 0.9711 - val_accuracy: 0.8303\n",
      "Epoch 24/25\n",
      "25000/25000 [==============================] - 36s 1ms/sample - loss: 0.0111 - accuracy: 0.9975 - val_loss: 1.0554 - val_accuracy: 0.8280\n",
      "Epoch 25/25\n",
      "25000/25000 [==============================] - 37s 1ms/sample - loss: 0.0118 - accuracy: 0.9976 - val_loss: 0.9806 - val_accuracy: 0.8338\n"
     ]
    },
    {
     "data": {
      "text/plain": [
       "<tensorflow.python.keras.callbacks.History at 0x7f7cdc37d1d0>"
      ]
     },
     "execution_count": 30,
     "metadata": {},
     "output_type": "execute_result"
    }
   ],
   "source": [
    "model.fit(train_data, train_label, batch_size=128, epochs=25, validation_data=(test_data, test_label))"
   ]
  },
  {
   "cell_type": "code",
   "execution_count": 32,
   "metadata": {},
   "outputs": [],
   "source": [
    "import tensorflow_datasets as tfds"
   ]
  },
  {
   "cell_type": "code",
   "execution_count": 38,
   "metadata": {},
   "outputs": [
    {
     "data": {
      "text/plain": [
       "['abstract_reasoning',\n",
       " 'aeslc',\n",
       " 'aflw2k3d',\n",
       " 'amazon_us_reviews',\n",
       " 'arc',\n",
       " 'bair_robot_pushing_small',\n",
       " 'big_patent',\n",
       " 'bigearthnet',\n",
       " 'billsum',\n",
       " 'binarized_mnist',\n",
       " 'binary_alpha_digits',\n",
       " 'c4',\n",
       " 'caltech101',\n",
       " 'caltech_birds2010',\n",
       " 'caltech_birds2011',\n",
       " 'cars196',\n",
       " 'cassava',\n",
       " 'cats_vs_dogs',\n",
       " 'celeb_a',\n",
       " 'celeb_a_hq',\n",
       " 'chexpert',\n",
       " 'cifar10',\n",
       " 'cifar100',\n",
       " 'cifar10_1',\n",
       " 'cifar10_corrupted',\n",
       " 'citrus_leaves',\n",
       " 'cityscapes',\n",
       " 'civil_comments',\n",
       " 'clevr',\n",
       " 'cmaterdb',\n",
       " 'cnn_dailymail',\n",
       " 'coco',\n",
       " 'coil100',\n",
       " 'colorectal_histology',\n",
       " 'colorectal_histology_large',\n",
       " 'cos_e',\n",
       " 'curated_breast_imaging_ddsm',\n",
       " 'cycle_gan',\n",
       " 'deep_weeds',\n",
       " 'definite_pronoun_resolution',\n",
       " 'diabetic_retinopathy_detection',\n",
       " 'dmlab',\n",
       " 'downsampled_imagenet',\n",
       " 'dsprites',\n",
       " 'dtd',\n",
       " 'duke_ultrasound',\n",
       " 'dummy_dataset_shared_generator',\n",
       " 'dummy_mnist',\n",
       " 'emnist',\n",
       " 'esnli',\n",
       " 'eurosat',\n",
       " 'fashion_mnist',\n",
       " 'flic',\n",
       " 'flores',\n",
       " 'food101',\n",
       " 'gap',\n",
       " 'gigaword',\n",
       " 'glue',\n",
       " 'groove',\n",
       " 'higgs',\n",
       " 'horses_or_humans',\n",
       " 'i_naturalist2017',\n",
       " 'image_label_folder',\n",
       " 'imagenet2012',\n",
       " 'imagenet2012_corrupted',\n",
       " 'imagenet_resized',\n",
       " 'imagenette',\n",
       " 'imdb_reviews',\n",
       " 'iris',\n",
       " 'kitti',\n",
       " 'kmnist',\n",
       " 'lfw',\n",
       " 'lm1b',\n",
       " 'lost_and_found',\n",
       " 'lsun',\n",
       " 'malaria',\n",
       " 'math_dataset',\n",
       " 'mnist',\n",
       " 'mnist_corrupted',\n",
       " 'movie_rationales',\n",
       " 'moving_mnist',\n",
       " 'multi_news',\n",
       " 'multi_nli',\n",
       " 'multi_nli_mismatch',\n",
       " 'newsroom',\n",
       " 'nsynth',\n",
       " 'omniglot',\n",
       " 'open_images_v4',\n",
       " 'oxford_flowers102',\n",
       " 'oxford_iiit_pet',\n",
       " 'para_crawl',\n",
       " 'patch_camelyon',\n",
       " 'pet_finder',\n",
       " 'places365_small',\n",
       " 'plant_leaves',\n",
       " 'plant_village',\n",
       " 'plantae_k',\n",
       " 'quickdraw_bitmap',\n",
       " 'reddit_tifu',\n",
       " 'resisc45',\n",
       " 'rock_paper_scissors',\n",
       " 'rock_you',\n",
       " 'scan',\n",
       " 'scene_parse150',\n",
       " 'scicite',\n",
       " 'scientific_papers',\n",
       " 'shapes3d',\n",
       " 'smallnorb',\n",
       " 'snli',\n",
       " 'so2sat',\n",
       " 'squad',\n",
       " 'stanford_dogs',\n",
       " 'stanford_online_products',\n",
       " 'starcraft_video',\n",
       " 'sun397',\n",
       " 'super_glue',\n",
       " 'svhn_cropped',\n",
       " 'ted_hrlr_translate',\n",
       " 'ted_multi_translate',\n",
       " 'tf_flowers',\n",
       " 'the300w_lp',\n",
       " 'titanic',\n",
       " 'trivia_qa',\n",
       " 'uc_merced',\n",
       " 'ucf101',\n",
       " 'vgg_face2',\n",
       " 'visual_domain_decathlon',\n",
       " 'voc',\n",
       " 'wider_face',\n",
       " 'wikihow',\n",
       " 'wikipedia',\n",
       " 'wmt14_translate',\n",
       " 'wmt15_translate',\n",
       " 'wmt16_translate',\n",
       " 'wmt17_translate',\n",
       " 'wmt18_translate',\n",
       " 'wmt19_translate',\n",
       " 'wmt_t2t_translate',\n",
       " 'wmt_translate',\n",
       " 'xnli',\n",
       " 'xsum']"
      ]
     },
     "execution_count": 38,
     "metadata": {},
     "output_type": "execute_result"
    }
   ],
   "source": [
    "tfds.list_builders()"
   ]
  },
  {
   "cell_type": "code",
   "execution_count": null,
   "metadata": {},
   "outputs": [],
   "source": []
  }
 ],
 "metadata": {
  "kernelspec": {
   "display_name": "Python 3",
   "language": "python",
   "name": "python3"
  },
  "language_info": {
   "codemirror_mode": {
    "name": "ipython",
    "version": 3
   },
   "file_extension": ".py",
   "mimetype": "text/x-python",
   "name": "python",
   "nbconvert_exporter": "python",
   "pygments_lexer": "ipython3",
   "version": "3.7.6"
  }
 },
 "nbformat": 4,
 "nbformat_minor": 4
}
