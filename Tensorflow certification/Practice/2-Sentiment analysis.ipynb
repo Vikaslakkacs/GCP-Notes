{
 "cells": [
  {
   "cell_type": "code",
   "execution_count": 1,
   "metadata": {},
   "outputs": [],
   "source": [
    "import numpy as np\n",
    "import tensorflow as tf\n",
    "from tensorflow import keras\n",
    "import tensorflow_datasets as tfds"
   ]
  },
  {
   "cell_type": "code",
   "execution_count": 2,
   "metadata": {},
   "outputs": [],
   "source": [
    "imdb=tfds.load('imdb_reviews')"
   ]
  },
  {
   "cell_type": "code",
   "execution_count": 3,
   "metadata": {},
   "outputs": [],
   "source": [
    "train_data,test_data=imdb['train'],imdb['test']"
   ]
  },
  {
   "cell_type": "code",
   "execution_count": 17,
   "metadata": {},
   "outputs": [],
   "source": [
    "train_sen,train_label=[],[]\n",
    "for lines in train_data:\n",
    "    train_sen.append(str(lines['text'].numpy()))\n",
    "    train_label.append(lines['label'].numpy())"
   ]
  },
  {
   "cell_type": "code",
   "execution_count": 18,
   "metadata": {},
   "outputs": [
    {
     "data": {
      "text/plain": [
       "\"b'Mann photographs the Alberta Rocky Mountains in a superb fashion, and Jimmy Stewart and Walter Brennan give enjoyable performances as they always seem to do. <br /><br />But come on Hollywood - a Mountie telling the people of Dawson City, Yukon to elect themselves a marshal (yes a marshal!) and to enforce the law themselves, then gunfighters battling it out on the streets for control of the town? <br /><br />Nothing even remotely resembling that happened on the Canadian side of the border during the Klondike gold rush. Mr. Mann and company appear to have mistaken Dawson City for Deadwood, the Canadian North for the American Wild West.<br /><br />Canadian viewers be prepared for a Reefer Madness type of enjoyable howl with this ludicrous plot, or, to shake your head in disgust.'\""
      ]
     },
     "execution_count": 18,
     "metadata": {},
     "output_type": "execute_result"
    }
   ],
   "source": [
    "train_sen[2]"
   ]
  },
  {
   "cell_type": "code",
   "execution_count": 19,
   "metadata": {},
   "outputs": [],
   "source": [
    "test_sen,test_label=[],[]\n",
    "for lines in test_data:\n",
    "    test_sen.append(str(lines['text'].numpy()))\n",
    "    test_label.append(lines['label'].numpy())"
   ]
  },
  {
   "cell_type": "code",
   "execution_count": 20,
   "metadata": {},
   "outputs": [],
   "source": [
    "train_sen=np.asarray(train_sen)\n",
    "test_sen=np.asarray(test_sen)\n",
    "train_label=np.asarray(train_label,dtype=np.int32)\n",
    "test_label=np.asarray(test_label,dtype=np.int32)"
   ]
  },
  {
   "cell_type": "code",
   "execution_count": 21,
   "metadata": {},
   "outputs": [
    {
     "data": {
      "text/plain": [
       "(25000,)"
      ]
     },
     "execution_count": 21,
     "metadata": {},
     "output_type": "execute_result"
    }
   ],
   "source": [
    "train_sen.shape"
   ]
  },
  {
   "cell_type": "code",
   "execution_count": 22,
   "metadata": {},
   "outputs": [],
   "source": [
    "from tensorflow.keras.preprocessing.text import Tokenizer"
   ]
  },
  {
   "cell_type": "code",
   "execution_count": 24,
   "metadata": {},
   "outputs": [
    {
     "name": "stdout",
     "output_type": "stream",
     "text": [
      "86539\n"
     ]
    }
   ],
   "source": [
    "token=Tokenizer(num_words=10000,oov_token='<OOV>')\n",
    "token.fit_on_texts(train_sen)\n",
    "word_index=token.word_index\n",
    "vocab_size=len(word_index)\n",
    "print(vocab_size)"
   ]
  },
  {
   "cell_type": "code",
   "execution_count": 25,
   "metadata": {},
   "outputs": [],
   "source": [
    "train_seq=token.texts_to_sequences(train_sen)\n",
    "test_seq=token.texts_to_sequences(test_sen)"
   ]
  },
  {
   "cell_type": "code",
   "execution_count": 26,
   "metadata": {},
   "outputs": [],
   "source": [
    "from tensorflow.keras.preprocessing.sequence import pad_sequences"
   ]
  },
  {
   "cell_type": "code",
   "execution_count": 27,
   "metadata": {},
   "outputs": [],
   "source": [
    "train_pad_seq=pad_sequences(train_seq,maxlen=15,padding='post')\n",
    "test_pad_seq=pad_sequences(test_seq,maxlen=15,padding='post')\n"
   ]
  },
  {
   "cell_type": "code",
   "execution_count": 28,
   "metadata": {},
   "outputs": [],
   "source": [
    "from tensorflow.keras.layers import Embedding,GlobalAveragePooling1D,Dense"
   ]
  },
  {
   "cell_type": "code",
   "execution_count": 29,
   "metadata": {},
   "outputs": [
    {
     "name": "stdout",
     "output_type": "stream",
     "text": [
      "Model: \"sequential\"\n",
      "_________________________________________________________________\n",
      "Layer (type)                 Output Shape              Param #   \n",
      "=================================================================\n",
      "embedding (Embedding)        (None, 15, 32)            320000    \n",
      "_________________________________________________________________\n",
      "global_average_pooling1d (Gl (None, 32)                0         \n",
      "_________________________________________________________________\n",
      "dense (Dense)                (None, 128)               4224      \n",
      "_________________________________________________________________\n",
      "dense_1 (Dense)              (None, 1)                 129       \n",
      "=================================================================\n",
      "Total params: 324,353\n",
      "Trainable params: 324,353\n",
      "Non-trainable params: 0\n",
      "_________________________________________________________________\n"
     ]
    }
   ],
   "source": [
    "model=keras.Sequential()\n",
    "model.add(Embedding(input_dim=10000,output_dim=32,input_length=15))\n",
    "model.add(GlobalAveragePooling1D())\n",
    "model.add(Dense(units=128,activation='relu'))\n",
    "model.add(Dense(units=1,activation='sigmoid'))\n",
    "model.compile(optimizer='adam',loss='binary_crossentropy',metrics=['accuracy'])\n",
    "model.summary()"
   ]
  },
  {
   "cell_type": "code",
   "execution_count": 33,
   "metadata": {},
   "outputs": [
    {
     "name": "stdout",
     "output_type": "stream",
     "text": [
      "Train on 25000 samples, validate on 25000 samples\n",
      "Epoch 1/10\n",
      "25000/25000 [==============================] - 10s 409us/sample - loss: 0.5604 - accuracy: 0.7050 - val_loss: 0.5096 - val_accuracy: 0.7434\n",
      "Epoch 2/10\n",
      "25000/25000 [==============================] - 10s 395us/sample - loss: 0.4452 - accuracy: 0.7921 - val_loss: 0.5120 - val_accuracy: 0.7441\n",
      "Epoch 3/10\n",
      "25000/25000 [==============================] - 10s 406us/sample - loss: 0.4004 - accuracy: 0.8185 - val_loss: 0.5258 - val_accuracy: 0.7408\n",
      "Epoch 4/10\n",
      "25000/25000 [==============================] - 9s 367us/sample - loss: 0.3663 - accuracy: 0.8340 - val_loss: 0.5550 - val_accuracy: 0.7310\n",
      "Epoch 5/10\n",
      "25000/25000 [==============================] - 10s 386us/sample - loss: 0.3286 - accuracy: 0.8523 - val_loss: 0.6030 - val_accuracy: 0.7258\n",
      "Epoch 6/10\n",
      "25000/25000 [==============================] - 10s 382us/sample - loss: 0.2933 - accuracy: 0.8657 - val_loss: 0.6769 - val_accuracy: 0.7218\n",
      "Epoch 7/10\n",
      "25000/25000 [==============================] - 10s 417us/sample - loss: 0.2609 - accuracy: 0.8841 - val_loss: 0.7498 - val_accuracy: 0.7187\n",
      "Epoch 8/10\n",
      "25000/25000 [==============================] - 9s 359us/sample - loss: 0.2353 - accuracy: 0.8971 - val_loss: 0.8423 - val_accuracy: 0.7118\n",
      "Epoch 9/10\n",
      "25000/25000 [==============================] - 8s 329us/sample - loss: 0.2139 - accuracy: 0.9074 - val_loss: 0.9456 - val_accuracy: 0.7095\n",
      "Epoch 10/10\n",
      "25000/25000 [==============================] - 9s 357us/sample - loss: 0.1937 - accuracy: 0.9176 - val_loss: 1.0267 - val_accuracy: 0.7070\n"
     ]
    },
    {
     "data": {
      "text/plain": [
       "<tensorflow.python.keras.callbacks.History at 0x7f434f212c90>"
      ]
     },
     "execution_count": 33,
     "metadata": {},
     "output_type": "execute_result"
    }
   ],
   "source": [
    "model.fit(train_pad_seq,train_label,validation_data=(test_pad_seq,test_label),epochs=10)"
   ]
  },
  {
   "cell_type": "code",
   "execution_count": null,
   "metadata": {},
   "outputs": [],
   "source": []
  }
 ],
 "metadata": {
  "kernelspec": {
   "display_name": "Python 3",
   "language": "python",
   "name": "python3"
  },
  "language_info": {
   "codemirror_mode": {
    "name": "ipython",
    "version": 3
   },
   "file_extension": ".py",
   "mimetype": "text/x-python",
   "name": "python",
   "nbconvert_exporter": "python",
   "pygments_lexer": "ipython3",
   "version": "3.7.6"
  }
 },
 "nbformat": 4,
 "nbformat_minor": 4
}
