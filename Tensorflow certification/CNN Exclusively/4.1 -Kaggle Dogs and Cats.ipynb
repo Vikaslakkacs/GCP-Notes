{
 "cells": [
  {
   "cell_type": "code",
   "execution_count": 1,
   "metadata": {
    "colab": {
     "base_uri": "https://localhost:8080/",
     "height": 212
    },
    "colab_type": "code",
    "executionInfo": {
     "elapsed": 4849,
     "status": "ok",
     "timestamp": 1591287198609,
     "user": {
      "displayName": "vikas lakka",
      "photoUrl": "",
      "userId": "02419107211909781677"
     },
     "user_tz": -330
    },
    "id": "LCZHQLddYGgO",
    "outputId": "8eefaf37-40e5-4fd1-bcb0-9ac5be571e4f"
   },
   "outputs": [
    {
     "name": "stdout",
     "output_type": "stream",
     "text": [
      "--2020-07-07 12:11:56--  https://storage.googleapis.com/mledu-datasets/cats_and_dogs_filtered.zip\n",
      "Resolving storage.googleapis.com (storage.googleapis.com)... 74.125.142.128, 74.125.195.128, 74.125.20.128, ...\n",
      "Connecting to storage.googleapis.com (storage.googleapis.com)|74.125.142.128|:443... connected.\n",
      "HTTP request sent, awaiting response... 200 OK\n",
      "Length: 68606236 (65M) [application/zip]\n",
      "Saving to: ‘/tmp/cats_and_dogs_filtered.zip’\n",
      "\n",
      "/tmp/cats_and_dogs_ 100%[===================>]  65.43M  86.8MB/s    in 0.8s    \n",
      "\n",
      "2020-07-07 12:11:57 (86.8 MB/s) - ‘/tmp/cats_and_dogs_filtered.zip’ saved [68606236/68606236]\n",
      "\n"
     ]
    }
   ],
   "source": [
    "!wget --no-check-certificate \\\n",
    "  https://storage.googleapis.com/mledu-datasets/cats_and_dogs_filtered.zip \\\n",
    "  -O /tmp/cats_and_dogs_filtered.zip\n"
   ]
  },
  {
   "cell_type": "code",
   "execution_count": 2,
   "metadata": {
    "colab": {},
    "colab_type": "code",
    "id": "dGpA-6H2p2rp"
   },
   "outputs": [],
   "source": [
    "import os\n",
    "import zipfile\n",
    "import numpy as np\n",
    "import matplotlib.pyplot as plt\n",
    "import tensorflow as tf\n",
    "from tensorflow import keras\n"
   ]
  },
  {
   "cell_type": "code",
   "execution_count": 3,
   "metadata": {
    "colab": {},
    "colab_type": "code",
    "id": "0NgNPJrGp-RM"
   },
   "outputs": [],
   "source": [
    "zip_file=zipfile.ZipFile('/tmp/cats_and_dogs_filtered.zip','r')\n"
   ]
  },
  {
   "cell_type": "code",
   "execution_count": 4,
   "metadata": {
    "colab": {},
    "colab_type": "code",
    "id": "0jLLsM7sqIc-"
   },
   "outputs": [],
   "source": [
    "zip_file.extractall('/tmp/cats_dogs')\n",
    "zip_file.close()"
   ]
  },
  {
   "cell_type": "code",
   "execution_count": 5,
   "metadata": {
    "colab": {},
    "colab_type": "code",
    "id": "ljvOuiAJqYBk"
   },
   "outputs": [],
   "source": [
    "path=os.path.join('/tmp/cats_dogs/cats_and_dogs_filtered')"
   ]
  },
  {
   "cell_type": "code",
   "execution_count": 6,
   "metadata": {
    "colab": {
     "base_uri": "https://localhost:8080/",
     "height": 35
    },
    "colab_type": "code",
    "executionInfo": {
     "elapsed": 6758,
     "status": "ok",
     "timestamp": 1591287200761,
     "user": {
      "displayName": "vikas lakka",
      "photoUrl": "",
      "userId": "02419107211909781677"
     },
     "user_tz": -330
    },
    "id": "ID0lgjKNqj3V",
    "outputId": "9a93e4e2-50ad-4902-e865-ad997e125252"
   },
   "outputs": [
    {
     "data": {
      "text/plain": [
       "'/tmp/cats_dogs/cats_and_dogs_filtered'"
      ]
     },
     "execution_count": 6,
     "metadata": {},
     "output_type": "execute_result"
    }
   ],
   "source": [
    "path"
   ]
  },
  {
   "cell_type": "code",
   "execution_count": 7,
   "metadata": {
    "colab": {
     "base_uri": "https://localhost:8080/",
     "height": 35
    },
    "colab_type": "code",
    "executionInfo": {
     "elapsed": 6679,
     "status": "ok",
     "timestamp": 1591287200764,
     "user": {
      "displayName": "vikas lakka",
      "photoUrl": "",
      "userId": "02419107211909781677"
     },
     "user_tz": -330
    },
    "id": "VvE9Dv--voL6",
    "outputId": "a762c926-bd0d-4142-8155-4bbf2a9e4405"
   },
   "outputs": [
    {
     "data": {
      "text/plain": [
       "['vectorize.py', 'train', 'validation']"
      ]
     },
     "execution_count": 7,
     "metadata": {},
     "output_type": "execute_result"
    }
   ],
   "source": [
    "os.listdir(path)"
   ]
  },
  {
   "cell_type": "code",
   "execution_count": 8,
   "metadata": {
    "colab": {},
    "colab_type": "code",
    "id": "X7dpct9Pqnnu"
   },
   "outputs": [],
   "source": [
    "train_path=os.path.join(path,'train')\n",
    "test_path=os.path.join(path,'validation')"
   ]
  },
  {
   "cell_type": "code",
   "execution_count": 9,
   "metadata": {
    "colab": {
     "base_uri": "https://localhost:8080/",
     "height": 35
    },
    "colab_type": "code",
    "executionInfo": {
     "elapsed": 6584,
     "status": "ok",
     "timestamp": 1591287200770,
     "user": {
      "displayName": "vikas lakka",
      "photoUrl": "",
      "userId": "02419107211909781677"
     },
     "user_tz": -330
    },
    "id": "XNMrzdrLsETu",
    "outputId": "88fa0e9c-c11a-4027-f03a-8b43cdc6dd53"
   },
   "outputs": [
    {
     "data": {
      "text/plain": [
       "'/tmp/cats_dogs/cats_and_dogs_filtered/train'"
      ]
     },
     "execution_count": 9,
     "metadata": {},
     "output_type": "execute_result"
    }
   ],
   "source": [
    "train_path"
   ]
  },
  {
   "cell_type": "code",
   "execution_count": 10,
   "metadata": {
    "colab": {
     "base_uri": "https://localhost:8080/",
     "height": 35
    },
    "colab_type": "code",
    "executionInfo": {
     "elapsed": 6524,
     "status": "ok",
     "timestamp": 1591287200773,
     "user": {
      "displayName": "vikas lakka",
      "photoUrl": "",
      "userId": "02419107211909781677"
     },
     "user_tz": -330
    },
    "id": "8BYf2GSJsFr4",
    "outputId": "bcf2d537-ad67-40e6-c6a7-750ffb1c94c7"
   },
   "outputs": [
    {
     "data": {
      "text/plain": [
       "['dogs', 'cats']"
      ]
     },
     "execution_count": 10,
     "metadata": {},
     "output_type": "execute_result"
    }
   ],
   "source": [
    "os.listdir(train_path)"
   ]
  },
  {
   "cell_type": "code",
   "execution_count": 11,
   "metadata": {
    "colab": {},
    "colab_type": "code",
    "id": "g0LySATksQ6R"
   },
   "outputs": [],
   "source": [
    "sample_path=os.path.join(train_path,'cats')\n",
    "sample_1=os.path.join(train_path,'dogs')"
   ]
  },
  {
   "cell_type": "code",
   "execution_count": 12,
   "metadata": {
    "colab": {},
    "colab_type": "code",
    "id": "z99jm-srsYXA"
   },
   "outputs": [],
   "source": [
    "sample_path=os.path.join(sample_path,'cat.472.jpg')"
   ]
  },
  {
   "cell_type": "code",
   "execution_count": 13,
   "metadata": {
    "colab": {
     "base_uri": "https://localhost:8080/",
     "height": 35
    },
    "colab_type": "code",
    "executionInfo": {
     "elapsed": 6398,
     "status": "ok",
     "timestamp": 1591287200780,
     "user": {
      "displayName": "vikas lakka",
      "photoUrl": "",
      "userId": "02419107211909781677"
     },
     "user_tz": -330
    },
    "id": "TYTL9n7hE0z7",
    "outputId": "a0c5bd40-af32-47ea-f25b-ee37a08f58e9"
   },
   "outputs": [
    {
     "data": {
      "text/plain": [
       "1000"
      ]
     },
     "execution_count": 13,
     "metadata": {},
     "output_type": "execute_result"
    }
   ],
   "source": [
    "#os.listdir(sample_1)\n",
    "sample_2=os.listdir(sample_1)\n",
    "len(sample_2)"
   ]
  },
  {
   "cell_type": "code",
   "execution_count": 14,
   "metadata": {
    "colab": {
     "base_uri": "https://localhost:8080/",
     "height": 35
    },
    "colab_type": "code",
    "executionInfo": {
     "elapsed": 6362,
     "status": "ok",
     "timestamp": 1591287200783,
     "user": {
      "displayName": "vikas lakka",
      "photoUrl": "",
      "userId": "02419107211909781677"
     },
     "user_tz": -330
    },
    "id": "IkeikBjZsaq_",
    "outputId": "24b381de-e704-4583-f690-dc1a7ec1ccd3"
   },
   "outputs": [
    {
     "data": {
      "text/plain": [
       "'/tmp/cats_dogs/cats_and_dogs_filtered/train/cats/cat.472.jpg'"
      ]
     },
     "execution_count": 14,
     "metadata": {},
     "output_type": "execute_result"
    }
   ],
   "source": [
    "sample_path"
   ]
  },
  {
   "cell_type": "code",
   "execution_count": 15,
   "metadata": {
    "colab": {
     "base_uri": "https://localhost:8080/",
     "height": 287
    },
    "colab_type": "code",
    "executionInfo": {
     "elapsed": 6318,
     "status": "ok",
     "timestamp": 1591287200785,
     "user": {
      "displayName": "vikas lakka",
      "photoUrl": "",
      "userId": "02419107211909781677"
     },
     "user_tz": -330
    },
    "id": "LadeZDVRue9J",
    "outputId": "14e4be4f-402d-49a8-e832-50993d4defcd"
   },
   "outputs": [
    {
     "data": {
      "text/plain": [
       "<matplotlib.image.AxesImage at 0x7fd2efe5ed50>"
      ]
     },
     "execution_count": 15,
     "metadata": {},
     "output_type": "execute_result"
    },
    {
     "data": {
      "image/png": "[encoded data removed]",
      "text/plain": [
       "<Figure size 432x288 with 1 Axes>"
      ]
     },
     "metadata": {
      "needs_background": "light"
     },
     "output_type": "display_data"
    }
   ],
   "source": [
    "plt.imshow(plt.imread(sample_path))"
   ]
  },
  {
   "cell_type": "code",
   "execution_count": 16,
   "metadata": {
    "colab": {},
    "colab_type": "code",
    "id": "h648KqDnu7DV"
   },
   "outputs": [],
   "source": [
    "#image Data Generator\n",
    "from tensorflow.keras.preprocessing.image import ImageDataGenerator"
   ]
  },
  {
   "cell_type": "code",
   "execution_count": 17,
   "metadata": {
    "colab": {},
    "colab_type": "code",
    "id": "MvQBsLaSu9TS"
   },
   "outputs": [],
   "source": [
    "img_gen=ImageDataGenerator(rescale=1/255)"
   ]
  },
  {
   "cell_type": "code",
   "execution_count": 18,
   "metadata": {
    "colab": {
     "base_uri": "https://localhost:8080/",
     "height": 35
    },
    "colab_type": "code",
    "executionInfo": {
     "elapsed": 972,
     "status": "ok",
     "timestamp": 1591288385256,
     "user": {
      "displayName": "vikas lakka",
      "photoUrl": "",
      "userId": "02419107211909781677"
     },
     "user_tz": -330
    },
    "id": "AcGhWpMmvEi3",
    "outputId": "a0e9f255-ffe6-4439-9247-7cdc12d62363"
   },
   "outputs": [
    {
     "name": "stdout",
     "output_type": "stream",
     "text": [
      "Found 2000 images belonging to 2 classes.\n"
     ]
    }
   ],
   "source": [
    "train_gen=img_gen.flow_from_directory(train_path,target_size=(200,200),\n",
    "                                      batch_size=20,\n",
    "                                      class_mode='binary',\n",
    "                                      shuffle=True)"
   ]
  },
  {
   "cell_type": "code",
   "execution_count": 19,
   "metadata": {
    "colab": {
     "base_uri": "https://localhost:8080/",
     "height": 35
    },
    "colab_type": "code",
    "executionInfo": {
     "elapsed": 1147,
     "status": "ok",
     "timestamp": 1591288385660,
     "user": {
      "displayName": "vikas lakka",
      "photoUrl": "",
      "userId": "02419107211909781677"
     },
     "user_tz": -330
    },
    "id": "_U59N8kYvV0h",
    "outputId": "ba69a3dc-792c-42ed-d37a-1e795e6b7624"
   },
   "outputs": [
    {
     "name": "stdout",
     "output_type": "stream",
     "text": [
      "Found 1000 images belonging to 2 classes.\n"
     ]
    }
   ],
   "source": [
    "test_gen=img_gen.flow_from_directory(test_path,target_size=(200,200),\n",
    "                                     batch_size=20,\n",
    "                                     class_mode='binary')"
   ]
  },
  {
   "cell_type": "code",
   "execution_count": 20,
   "metadata": {
    "colab": {},
    "colab_type": "code",
    "id": "wlpEXBA-vlRT"
   },
   "outputs": [],
   "source": [
    "from tensorflow.keras.layers import Dense,Flatten,Conv2D,MaxPooling2D,Dropout"
   ]
  },
  {
   "cell_type": "code",
   "execution_count": 21,
   "metadata": {
    "colab": {
     "base_uri": "https://localhost:8080/",
     "height": 515
    },
    "colab_type": "code",
    "executionInfo": {
     "elapsed": 1116,
     "status": "ok",
     "timestamp": 1591289420482,
     "user": {
      "displayName": "vikas lakka",
      "photoUrl": "",
      "userId": "02419107211909781677"
     },
     "user_tz": -330
    },
    "id": "1Dn9zigev2K1",
    "outputId": "b34be927-d747-4a5d-87e7-f745e724b24a"
   },
   "outputs": [
    {
     "name": "stdout",
     "output_type": "stream",
     "text": [
      "Model: \"sequential\"\n",
      "_________________________________________________________________\n",
      "Layer (type)                 Output Shape              Param #   \n",
      "=================================================================\n",
      "conv2d (Conv2D)              (None, 200, 200, 32)      416       \n",
      "_________________________________________________________________\n",
      "max_pooling2d (MaxPooling2D) (None, 100, 100, 32)      0         \n",
      "_________________________________________________________________\n",
      "conv2d_1 (Conv2D)            (None, 100, 100, 64)      8256      \n",
      "_________________________________________________________________\n",
      "max_pooling2d_1 (MaxPooling2 (None, 50, 50, 64)        0         \n",
      "_________________________________________________________________\n",
      "dropout (Dropout)            (None, 50, 50, 64)        0         \n",
      "_________________________________________________________________\n",
      "conv2d_2 (Conv2D)            (None, 50, 50, 128)       32896     \n",
      "_________________________________________________________________\n",
      "max_pooling2d_2 (MaxPooling2 (None, 25, 25, 128)       0         \n",
      "_________________________________________________________________\n",
      "flatten (Flatten)            (None, 80000)             0         \n",
      "_________________________________________________________________\n",
      "dense (Dense)                (None, 128)               10240128  \n",
      "_________________________________________________________________\n",
      "dense_1 (Dense)              (None, 1)                 129       \n",
      "=================================================================\n",
      "Total params: 10,281,825\n",
      "Trainable params: 10,281,825\n",
      "Non-trainable params: 0\n",
      "_________________________________________________________________\n"
     ]
    }
   ],
   "source": [
    "model=keras.Sequential()\n",
    "model.add(Conv2D(filters=32,kernel_size=(2,2),strides=(1,1),input_shape=(200,200,3),padding='SAME',activation='relu'))\n",
    "model.add(MaxPooling2D(pool_size=(2,2)))\n",
    "model.add(Conv2D(filters=64,kernel_size=(2,2),strides=(1,1),padding='SAME',activation='relu'))\n",
    "model.add(MaxPooling2D(pool_size=(2,2)))\n",
    "model.add(Dropout(rate=0.3))\n",
    "model.add(Conv2D(filters=128,kernel_size=(2,2),strides=(1,1),activation='relu',padding='SAME'))\n",
    "model.add(MaxPooling2D(pool_size=(2,2)))\n",
    "model.add(Flatten())\n",
    "model.add(Dense(units=128,activation='relu'))\n",
    "model.add(Dense(units=1,activation='sigmoid'))\n",
    "model.compile(optimizer=keras.optimizers.RMSprop(learning_rate=0.0001),loss=keras.losses.BinaryCrossentropy(from_logits=True),\n",
    "              metrics=['accuracy'])\n",
    "model.summary()"
   ]
  },
  {
   "cell_type": "code",
   "execution_count": null,
   "metadata": {
    "colab": {
     "base_uri": "https://localhost:8080/",
     "height": 1000
    },
    "colab_type": "code",
    "executionInfo": {
     "elapsed": 467355,
     "status": "ok",
     "timestamp": 1591289890689,
     "user": {
      "displayName": "vikas lakka",
      "photoUrl": "",
      "userId": "02419107211909781677"
     },
     "user_tz": -330
    },
    "id": "izUYAS3lwuTy",
    "outputId": "a6b34ab0-91fc-4bde-b3c6-f81ab0953eb7"
   },
   "outputs": [
    {
     "name": "stdout",
     "output_type": "stream",
     "text": [
      "WARNING:tensorflow:sample_weight modes were coerced from\n",
      "  ...\n",
      "    to  \n",
      "  ['...']\n",
      "WARNING:tensorflow:sample_weight modes were coerced from\n",
      "  ...\n",
      "    to  \n",
      "  ['...']\n",
      "Train for 100 steps, validate for 50 steps\n",
      "Epoch 1/50\n",
      "100/100 [==============================] - 84s 838ms/step - loss: 0.6946 - accuracy: 0.5045 - val_loss: 0.6932 - val_accuracy: 0.5000\n",
      "Epoch 2/50\n",
      "100/100 [==============================] - 80s 795ms/step - loss: 0.6932 - accuracy: 0.5000 - val_loss: 0.6933 - val_accuracy: 0.5000\n",
      "Epoch 3/50\n",
      "100/100 [==============================] - 80s 802ms/step - loss: 0.6931 - accuracy: 0.5000 - val_loss: 0.6931 - val_accuracy: 0.5000\n",
      "Epoch 4/50\n",
      "100/100 [==============================] - 80s 799ms/step - loss: 0.6931 - accuracy: 0.4990 - val_loss: 0.6954 - val_accuracy: 0.5040\n",
      "Epoch 5/50\n",
      "100/100 [==============================] - 80s 803ms/step - loss: 0.6931 - accuracy: 0.5020 - val_loss: 0.6929 - val_accuracy: 0.5010\n",
      "Epoch 6/50\n",
      "100/100 [==============================] - 79s 786ms/step - loss: 0.6926 - accuracy: 0.5025 - val_loss: 0.6930 - val_accuracy: 0.5010\n",
      "Epoch 7/50\n",
      "100/100 [==============================] - 79s 786ms/step - loss: 0.6920 - accuracy: 0.5050 - val_loss: 0.6934 - val_accuracy: 0.5100\n",
      "Epoch 8/50\n",
      "100/100 [==============================] - 80s 803ms/step - loss: 0.6925 - accuracy: 0.5055 - val_loss: 0.6922 - val_accuracy: 0.5020\n",
      "Epoch 9/50\n",
      "100/100 [==============================] - 81s 806ms/step - loss: 0.6891 - accuracy: 0.5225 - val_loss: 0.6900 - val_accuracy: 0.5110\n",
      "Epoch 10/50\n",
      "100/100 [==============================] - 80s 800ms/step - loss: 0.6803 - accuracy: 0.5515 - val_loss: 0.7021 - val_accuracy: 0.6210\n",
      "Epoch 11/50\n",
      "100/100 [==============================] - 79s 791ms/step - loss: 0.6728 - accuracy: 0.5775 - val_loss: 0.6985 - val_accuracy: 0.6160\n",
      "Epoch 12/50\n",
      "100/100 [==============================] - 80s 798ms/step - loss: 0.6662 - accuracy: 0.5905 - val_loss: 0.6795 - val_accuracy: 0.6350\n",
      "Epoch 13/50\n",
      " 67/100 [===================>..........] - ETA: 24s - loss: 0.6620 - accuracy: 0.6075"
     ]
    }
   ],
   "source": [
    "model.fit(train_gen,epochs=50,validation_data=(test_gen),steps_per_epoch=100,validation_steps=50)"
   ]
  },
  {
   "cell_type": "code",
   "execution_count": null,
   "metadata": {
    "colab": {},
    "colab_type": "code",
    "id": "kM7GNyVj5xTW"
   },
   "outputs": [],
   "source": [
    "metrics=model.history.history\n",
    "loss=metrics['loss']\n",
    "val_loss=metrics['val_loss']\n",
    "acc=metrics['accuracy']\n",
    "val_acc=metrics['val_accuracy']"
   ]
  },
  {
   "cell_type": "code",
   "execution_count": null,
   "metadata": {
    "colab": {
     "base_uri": "https://localhost:8080/",
     "height": 284
    },
    "colab_type": "code",
    "executionInfo": {
     "elapsed": 464435,
     "status": "ok",
     "timestamp": 1591289890701,
     "user": {
      "displayName": "vikas lakka",
      "photoUrl": "",
      "userId": "02419107211909781677"
     },
     "user_tz": -330
    },
    "id": "7jJKb0MUPIHF",
    "outputId": "f9162558-a1c3-441d-b51a-d2ab1566c6c5"
   },
   "outputs": [],
   "source": [
    "plt.plot(loss)\n",
    "plt.plot(val_loss)"
   ]
  },
  {
   "cell_type": "code",
   "execution_count": null,
   "metadata": {
    "colab": {
     "base_uri": "https://localhost:8080/",
     "height": 284
    },
    "colab_type": "code",
    "executionInfo": {
     "elapsed": 463936,
     "status": "ok",
     "timestamp": 1591289890705,
     "user": {
      "displayName": "vikas lakka",
      "photoUrl": "",
      "userId": "02419107211909781677"
     },
     "user_tz": -330
    },
    "id": "_kHEXMYuPLJ1",
    "outputId": "e45daf98-8bb0-4a55-e5c5-826a61f9185c"
   },
   "outputs": [],
   "source": [
    "plt.plot(acc)\n",
    "plt.plot(val_acc)"
   ]
  },
  {
   "cell_type": "code",
   "execution_count": null,
   "metadata": {
    "colab": {},
    "colab_type": "code",
    "id": "2J2yoXOjPPwI"
   },
   "outputs": [],
   "source": [
    "#### Lets see some intermediate results using model\n",
    "layers=model.layers"
   ]
  },
  {
   "cell_type": "code",
   "execution_count": null,
   "metadata": {
    "colab": {},
    "colab_type": "code",
    "id": "KcAU4SOib-jk"
   },
   "outputs": [],
   "source": [
    "### Lets take the output of every layer and store it in list\n",
    "### Exclusing the first layer because we will send the first layer as input. That comes under input\n",
    "output_layer=[layer.output for layer in layers[1:]]"
   ]
  },
  {
   "cell_type": "code",
   "execution_count": null,
   "metadata": {
    "colab": {
     "base_uri": "https://localhost:8080/",
     "height": 177
    },
    "colab_type": "code",
    "executionInfo": {
     "elapsed": 1064,
     "status": "ok",
     "timestamp": 1591293042302,
     "user": {
      "displayName": "vikas lakka",
      "photoUrl": "",
      "userId": "02419107211909781677"
     },
     "user_tz": -330
    },
    "id": "5jduAGiUcCyH",
    "outputId": "4fe838c6-042c-4b02-a6de-fdefba6b0199"
   },
   "outputs": [],
   "source": [
    "output_layer"
   ]
  },
  {
   "cell_type": "code",
   "execution_count": null,
   "metadata": {
    "colab": {},
    "colab_type": "code",
    "id": "aBYXANvLdNja"
   },
   "outputs": [],
   "source": [
    "## Now we will define what should be the model like what are the input parameters and what should be the output parameter\n",
    "## This will create a class\n",
    "visualize_layers=keras.models.Model(inputs=model.input,outputs=output_layer)"
   ]
  },
  {
   "cell_type": "code",
   "execution_count": null,
   "metadata": {
    "colab": {
     "base_uri": "https://localhost:8080/",
     "height": 35
    },
    "colab_type": "code",
    "executionInfo": {
     "elapsed": 881,
     "status": "ok",
     "timestamp": 1591294125165,
     "user": {
      "displayName": "vikas lakka",
      "photoUrl": "",
      "userId": "02419107211909781677"
     },
     "user_tz": -330
    },
    "id": "9D2pnblBdfAP",
    "outputId": "7c60ca75-07c8-418c-a59c-1682e3b13ed7"
   },
   "outputs": [],
   "source": [
    "visualize_layers"
   ]
  },
  {
   "cell_type": "code",
   "execution_count": null,
   "metadata": {
    "colab": {},
    "colab_type": "code",
    "id": "ysjvfSQbhUVX"
   },
   "outputs": [],
   "source": [
    "sample_image=plt.imread(sample_path)"
   ]
  },
  {
   "cell_type": "code",
   "execution_count": null,
   "metadata": {
    "colab": {
     "base_uri": "https://localhost:8080/",
     "height": 35
    },
    "colab_type": "code",
    "executionInfo": {
     "elapsed": 2355,
     "status": "ok",
     "timestamp": 1591294260953,
     "user": {
      "displayName": "vikas lakka",
      "photoUrl": "",
      "userId": "02419107211909781677"
     },
     "user_tz": -330
    },
    "id": "lia4k4RphxCV",
    "outputId": "f18648ac-241b-41bf-d727-712689c7ad77"
   },
   "outputs": [],
   "source": [
    "sample_image.shape"
   ]
  },
  {
   "cell_type": "code",
   "execution_count": null,
   "metadata": {
    "colab": {
     "base_uri": "https://localhost:8080/",
     "height": 287
    },
    "colab_type": "code",
    "executionInfo": {
     "elapsed": 1455,
     "status": "ok",
     "timestamp": 1591294274389,
     "user": {
      "displayName": "vikas lakka",
      "photoUrl": "",
      "userId": "02419107211909781677"
     },
     "user_tz": -330
    },
    "id": "HSmMDyuzh2j1",
    "outputId": "b196fc7e-c0ef-4fe8-841d-e11ca1b0f36d"
   },
   "outputs": [],
   "source": [
    "plt.imshow(sample_image)"
   ]
  },
  {
   "cell_type": "code",
   "execution_count": null,
   "metadata": {
    "colab": {},
    "colab_type": "code",
    "id": "Jb4yUKf6h6S8"
   },
   "outputs": [],
   "source": [
    "## Now let visualise the various features from different layers of the model\n",
    "import cv2\n",
    "sample_image=cv2.imread(sample_path)"
   ]
  },
  {
   "cell_type": "code",
   "execution_count": null,
   "metadata": {
    "colab": {},
    "colab_type": "code",
    "id": "nOUg969wiyHG"
   },
   "outputs": [],
   "source": [
    "sample_image=cv2.resize(sample_image,(200,200))"
   ]
  },
  {
   "cell_type": "code",
   "execution_count": null,
   "metadata": {
    "colab": {
     "base_uri": "https://localhost:8080/",
     "height": 35
    },
    "colab_type": "code",
    "executionInfo": {
     "elapsed": 688,
     "status": "ok",
     "timestamp": 1591294607667,
     "user": {
      "displayName": "vikas lakka",
      "photoUrl": "",
      "userId": "02419107211909781677"
     },
     "user_tz": -330
    },
    "id": "TKsBF28hjItl",
    "outputId": "bfed91ed-d7e9-44f1-9e6b-f332078cbe8b"
   },
   "outputs": [],
   "source": [
    "sample_image.shape"
   ]
  },
  {
   "cell_type": "code",
   "execution_count": null,
   "metadata": {
    "colab": {},
    "colab_type": "code",
    "id": "rFJlJ7XmjLoR"
   },
   "outputs": [],
   "source": [
    "sample_image=sample_image.reshape((-1,200,200,3))"
   ]
  },
  {
   "cell_type": "code",
   "execution_count": null,
   "metadata": {
    "colab": {},
    "colab_type": "code",
    "id": "3YJZ3URpjPmk"
   },
   "outputs": [],
   "source": [
    "### NOw lets generate feature maps\n",
    "feature_maps=visualize_layers.predict(sample_image)"
   ]
  },
  {
   "cell_type": "code",
   "execution_count": null,
   "metadata": {
    "colab": {
     "base_uri": "https://localhost:8080/",
     "height": 35
    },
    "colab_type": "code",
    "executionInfo": {
     "elapsed": 916,
     "status": "ok",
     "timestamp": 1591294719176,
     "user": {
      "displayName": "vikas lakka",
      "photoUrl": "",
      "userId": "02419107211909781677"
     },
     "user_tz": -330
    },
    "id": "UhxhHe8Cjagl",
    "outputId": "6eda4022-3c4c-497f-a705-f107d9b8e47e"
   },
   "outputs": [],
   "source": [
    "### Each value in the list corresponds each layer\n",
    "len(feature_maps)"
   ]
  },
  {
   "cell_type": "code",
   "execution_count": null,
   "metadata": {
    "colab": {
     "base_uri": "https://localhost:8080/",
     "height": 35
    },
    "colab_type": "code",
    "executionInfo": {
     "elapsed": 952,
     "status": "ok",
     "timestamp": 1591294792489,
     "user": {
      "displayName": "vikas lakka",
      "photoUrl": "",
      "userId": "02419107211909781677"
     },
     "user_tz": -330
    },
    "id": "tvzp8tYijdCr",
    "outputId": "7b548834-e32a-4db3-febc-e7714b84d647"
   },
   "outputs": [],
   "source": [
    "## If we see each layer it has images equal to num of dimensions\n",
    "feature_maps[1].shape"
   ]
  },
  {
   "cell_type": "code",
   "execution_count": null,
   "metadata": {
    "colab": {},
    "colab_type": "code",
    "id": "sLE7QwKWjvz0"
   },
   "outputs": [],
   "source": [
    "#lets plot one\n",
    "sample_output=feature_maps[1].reshape(100,100,64)\n"
   ]
  },
  {
   "cell_type": "code",
   "execution_count": null,
   "metadata": {
    "colab": {
     "base_uri": "https://localhost:8080/",
     "height": 35
    },
    "colab_type": "code",
    "executionInfo": {
     "elapsed": 971,
     "status": "ok",
     "timestamp": 1591294850933,
     "user": {
      "displayName": "vikas lakka",
      "photoUrl": "",
      "userId": "02419107211909781677"
     },
     "user_tz": -330
    },
    "id": "9Vi8xl9zkEn3",
    "outputId": "aa82ffc1-d022-47f6-b715-848a759242a2"
   },
   "outputs": [],
   "source": [
    "sample_output.shape"
   ]
  },
  {
   "cell_type": "code",
   "execution_count": null,
   "metadata": {
    "colab": {},
    "colab_type": "code",
    "id": "vloq3QUSkHGm"
   },
   "outputs": [],
   "source": [
    "## Lets take one image from these 64 images(features)\n",
    "feature_image=sample_output[:,:,55]"
   ]
  },
  {
   "cell_type": "code",
   "execution_count": null,
   "metadata": {
    "colab": {
     "base_uri": "https://localhost:8080/",
     "height": 286
    },
    "colab_type": "code",
    "executionInfo": {
     "elapsed": 1799,
     "status": "ok",
     "timestamp": 1591294913359,
     "user": {
      "displayName": "vikas lakka",
      "photoUrl": "",
      "userId": "02419107211909781677"
     },
     "user_tz": -330
    },
    "id": "b4GsXWQKkRTg",
    "outputId": "7fae6f87-2095-41e8-fcf2-af2b979e128f"
   },
   "outputs": [],
   "source": [
    "plt.imshow(feature_image)"
   ]
  },
  {
   "cell_type": "code",
   "execution_count": null,
   "metadata": {
    "colab": {},
    "colab_type": "code",
    "id": "fzJnMn3TkT30"
   },
   "outputs": [],
   "source": [
    "### Now we will take 5th layer and some feature\n",
    "feature_image=feature_maps[4].reshape((50,50,128))"
   ]
  },
  {
   "cell_type": "code",
   "execution_count": null,
   "metadata": {
    "colab": {},
    "colab_type": "code",
    "id": "Kvny-L7akiZV"
   },
   "outputs": [],
   "source": [
    "feature_output=feature_image[:,:,123]"
   ]
  },
  {
   "cell_type": "code",
   "execution_count": null,
   "metadata": {
    "colab": {
     "base_uri": "https://localhost:8080/",
     "height": 284
    },
    "colab_type": "code",
    "executionInfo": {
     "elapsed": 1233,
     "status": "ok",
     "timestamp": 1591295061193,
     "user": {
      "displayName": "vikas lakka",
      "photoUrl": "",
      "userId": "02419107211909781677"
     },
     "user_tz": -330
    },
    "id": "iZsWd0tpkvx_",
    "outputId": "e6b511bb-aa36-48a3-88e0-b013dba7515f"
   },
   "outputs": [],
   "source": [
    "plt.imshow(feature_output)"
   ]
  },
  {
   "cell_type": "code",
   "execution_count": null,
   "metadata": {
    "colab": {},
    "colab_type": "code",
    "id": "Y9SDaM5bk3_7"
   },
   "outputs": [],
   "source": []
  }
 ],
 "metadata": {
  "accelerator": "GPU",
  "colab": {
   "authorship_tag": "ABX9TyNadCz+Z6bqlFG1XS/1VZdE",
   "collapsed_sections": [],
   "name": "Kaggle Dogs and Cats.ipynb",
   "provenance": []
  },
  "kernelspec": {
   "display_name": "Python 3",
   "language": "python",
   "name": "python3"
  },
  "language_info": {
   "codemirror_mode": {
    "name": "ipython",
    "version": 3
   },
   "file_extension": ".py",
   "mimetype": "text/x-python",
   "name": "python",
   "nbconvert_exporter": "python",
   "pygments_lexer": "ipython3",
   "version": "3.7.6"
  }
 },
 "nbformat": 4,
 "nbformat_minor": 4
}
