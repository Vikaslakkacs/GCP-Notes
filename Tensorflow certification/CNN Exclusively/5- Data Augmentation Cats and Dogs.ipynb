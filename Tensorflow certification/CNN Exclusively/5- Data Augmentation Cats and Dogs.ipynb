{
 "cells": [
  {
   "cell_type": "code",
   "execution_count": 1,
   "metadata": {
    "colab": {
     "base_uri": "https://localhost:8080/",
     "height": 212
    },
    "colab_type": "code",
    "executionInfo": {
     "elapsed": 4942,
     "status": "ok",
     "timestamp": 1591425814286,
     "user": {
      "displayName": "vikas lakka",
      "photoUrl": "",
      "userId": "02419107211909781677"
     },
     "user_tz": -330
    },
    "id": "DWdUciEnJe60",
    "outputId": "19946bb2-5ffe-4f58-8028-98f9c9b5aa00"
   },
   "outputs": [
    {
     "name": "stdout",
     "output_type": "stream",
     "text": [
      "--2020-06-06 06:43:31--  https://storage.googleapis.com/mledu-datasets/cats_and_dogs_filtered.zip\n",
      "Resolving storage.googleapis.com (storage.googleapis.com)... 108.177.119.128, 2a00:1450:4013:c08::80\n",
      "Connecting to storage.googleapis.com (storage.googleapis.com)|108.177.119.128|:443... connected.\n",
      "HTTP request sent, awaiting response... 200 OK\n",
      "Length: 68606236 (65M) [application/zip]\n",
      "Saving to: ‘/tmp/cats_and_dogs_filtered.zip’\n",
      "\n",
      "/tmp/cats_and_dogs_ 100%[===================>]  65.43M  94.0MB/s    in 0.7s    \n",
      "\n",
      "2020-06-06 06:43:32 (94.0 MB/s) - ‘/tmp/cats_and_dogs_filtered.zip’ saved [68606236/68606236]\n",
      "\n"
     ]
    }
   ],
   "source": [
    "!wget --no-check-certificate \\\n",
    "    https://storage.googleapis.com/mledu-datasets/cats_and_dogs_filtered.zip \\\n",
    "    -O /tmp/cats_and_dogs_filtered.zip\n",
    "  "
   ]
  },
  {
   "cell_type": "code",
   "execution_count": null,
   "metadata": {
    "colab": {},
    "colab_type": "code",
    "id": "OlCwJrEgKkmb"
   },
   "outputs": [],
   "source": [
    "import numpy as np\n",
    "import matplotlib.pyplot as plt\n",
    "import tensorflow as tf\n",
    "from tensorflow import keras \n",
    "import os\n",
    "import zipfile"
   ]
  },
  {
   "cell_type": "code",
   "execution_count": null,
   "metadata": {
    "colab": {},
    "colab_type": "code",
    "id": "05imKWF-Ksz8"
   },
   "outputs": [],
   "source": [
    "path='/tmp/cats_dogs'\n",
    "zip_file=zipfile.ZipFile('/tmp/cats_and_dogs_filtered.zip')\n",
    "zip_file.extractall(path)\n",
    "zip_file.close()"
   ]
  },
  {
   "cell_type": "code",
   "execution_count": null,
   "metadata": {
    "colab": {},
    "colab_type": "code",
    "id": "Owe94jPuK0SR"
   },
   "outputs": [],
   "source": [
    "filtered=os.path.join(path,'cats_and_dogs_filtered')"
   ]
  },
  {
   "cell_type": "code",
   "execution_count": 5,
   "metadata": {
    "colab": {
     "base_uri": "https://localhost:8080/",
     "height": 35
    },
    "colab_type": "code",
    "executionInfo": {
     "elapsed": 7285,
     "status": "ok",
     "timestamp": 1591425816868,
     "user": {
      "displayName": "vikas lakka",
      "photoUrl": "",
      "userId": "02419107211909781677"
     },
     "user_tz": -330
    },
    "id": "5UEz5JeMK-BC",
    "outputId": "5373ac7a-79de-4773-8032-b4b5063029f2"
   },
   "outputs": [
    {
     "data": {
      "text/plain": [
       "['train', 'vectorize.py', 'validation']"
      ]
     },
     "execution_count": 5,
     "metadata": {
      "tags": []
     },
     "output_type": "execute_result"
    }
   ],
   "source": [
    "os.listdir(filtered)"
   ]
  },
  {
   "cell_type": "code",
   "execution_count": null,
   "metadata": {
    "colab": {},
    "colab_type": "code",
    "id": "ntOSM-VdLL4B"
   },
   "outputs": [],
   "source": [
    "train_path=os.path.join(filtered,'train')\n",
    "test_path=os.path.join(filtered,'validation')"
   ]
  },
  {
   "cell_type": "code",
   "execution_count": 7,
   "metadata": {
    "colab": {
     "base_uri": "https://localhost:8080/",
     "height": 35
    },
    "colab_type": "code",
    "executionInfo": {
     "elapsed": 7167,
     "status": "ok",
     "timestamp": 1591425816875,
     "user": {
      "displayName": "vikas lakka",
      "photoUrl": "",
      "userId": "02419107211909781677"
     },
     "user_tz": -330
    },
    "id": "QcboQZ8BLa0j",
    "outputId": "a6519ac3-f708-44d6-e5a5-c94da208586a"
   },
   "outputs": [
    {
     "data": {
      "text/plain": [
       "['cats', 'dogs']"
      ]
     },
     "execution_count": 7,
     "metadata": {
      "tags": []
     },
     "output_type": "execute_result"
    }
   ],
   "source": [
    "os.listdir(train_path)"
   ]
  },
  {
   "cell_type": "code",
   "execution_count": null,
   "metadata": {
    "colab": {},
    "colab_type": "code",
    "id": "_c-MR8ExLdSo"
   },
   "outputs": [],
   "source": [
    "### Lets take a sample image\n",
    "sample_folder=os.path.join(train_path,'dogs')\n",
    "sample_file=os.path.join(sample_folder,os.listdir(sample_folder)[56])"
   ]
  },
  {
   "cell_type": "code",
   "execution_count": 9,
   "metadata": {
    "colab": {
     "base_uri": "https://localhost:8080/",
     "height": 35
    },
    "colab_type": "code",
    "executionInfo": {
     "elapsed": 7113,
     "status": "ok",
     "timestamp": 1591425816880,
     "user": {
      "displayName": "vikas lakka",
      "photoUrl": "",
      "userId": "02419107211909781677"
     },
     "user_tz": -330
    },
    "id": "8CjYZysULquk",
    "outputId": "3be76b72-f828-4691-daa2-86a2ca5fe019"
   },
   "outputs": [
    {
     "data": {
      "text/plain": [
       "'/tmp/cats_dogs/cats_and_dogs_filtered/train/dogs/dog.176.jpg'"
      ]
     },
     "execution_count": 9,
     "metadata": {
      "tags": []
     },
     "output_type": "execute_result"
    }
   ],
   "source": [
    "sample_file"
   ]
  },
  {
   "cell_type": "code",
   "execution_count": 10,
   "metadata": {
    "colab": {
     "base_uri": "https://localhost:8080/",
     "height": 287
    },
    "colab_type": "code",
    "executionInfo": {
     "elapsed": 7081,
     "status": "ok",
     "timestamp": 1591425816882,
     "user": {
      "displayName": "vikas lakka",
      "photoUrl": "",
      "userId": "02419107211909781677"
     },
     "user_tz": -330
    },
    "id": "r4R2g2ABLseS",
    "outputId": "6c0b577f-8ef1-4eb4-b80e-61bd2525f30a"
   },
   "outputs": [
    {
     "data": {
      "text/plain": [
       "<matplotlib.image.AxesImage at 0x7f6ff66e4ba8>"
      ]
     },
     "execution_count": 10,
     "metadata": {
      "tags": []
     },
     "output_type": "execute_result"
    },
    {
     "data": {
      "image/png": "[encoded data removed]",
      "text/plain": [
       "<Figure size 432x288 with 1 Axes>"
      ]
     },
     "metadata": {
      "needs_background": "light",
      "tags": []
     },
     "output_type": "display_data"
    }
   ],
   "source": [
    "sample_image=plt.imread(sample_file)\n",
    "plt.imshow(sample_image)"
   ]
  },
  {
   "cell_type": "code",
   "execution_count": null,
   "metadata": {
    "colab": {},
    "colab_type": "code",
    "id": "HADfeE8iLvuU"
   },
   "outputs": [],
   "source": [
    "### Lets create data Augmentation\n",
    "from tensorflow.keras.preprocessing.image import ImageDataGenerator"
   ]
  },
  {
   "cell_type": "code",
   "execution_count": 12,
   "metadata": {
    "colab": {
     "base_uri": "https://localhost:8080/",
     "height": 52
    },
    "colab_type": "code",
    "executionInfo": {
     "elapsed": 7757,
     "status": "ok",
     "timestamp": 1591425817608,
     "user": {
      "displayName": "vikas lakka",
      "photoUrl": "",
      "userId": "02419107211909781677"
     },
     "user_tz": -330
    },
    "id": "G1tMSQ10L9uR",
    "outputId": "e6900a52-5024-484e-e944-7cdad6aa06a9"
   },
   "outputs": [
    {
     "name": "stdout",
     "output_type": "stream",
     "text": [
      "Found 2000 images belonging to 2 classes.\n",
      "Found 1000 images belonging to 2 classes.\n"
     ]
    }
   ],
   "source": [
    "image_gen=ImageDataGenerator(rescale=1/255.0)\n",
    "train_gen=image_gen.flow_from_directory(train_path,\n",
    "                                        target_size=(150,150),\n",
    "                                        class_mode='binary',\n",
    "                                        shuffle=True,\n",
    "                                        batch_size=20)\n",
    "test_gen=image_gen.flow_from_directory(test_path,\n",
    "                                       target_size=(150,150),\n",
    "                                       class_mode='binary',\n",
    "                                       batch_size=20)"
   ]
  },
  {
   "cell_type": "code",
   "execution_count": null,
   "metadata": {
    "colab": {},
    "colab_type": "code",
    "id": "MEmjj5VuSJsR"
   },
   "outputs": [],
   "source": [
    "from tensorflow.keras.layers import Conv2D,MaxPooling2D,Dense,Flatten,Dropout\n",
    "from tensorflow.keras.optimizers import RMSprop"
   ]
  },
  {
   "cell_type": "code",
   "execution_count": 58,
   "metadata": {
    "colab": {
     "base_uri": "https://localhost:8080/",
     "height": 515
    },
    "colab_type": "code",
    "executionInfo": {
     "elapsed": 2530,
     "status": "ok",
     "timestamp": 1591431822509,
     "user": {
      "displayName": "vikas lakka",
      "photoUrl": "",
      "userId": "02419107211909781677"
     },
     "user_tz": -330
    },
    "id": "r7Mb4DXtRT3d",
    "outputId": "03a08330-53ca-4504-f610-730543f7ba23"
   },
   "outputs": [
    {
     "name": "stdout",
     "output_type": "stream",
     "text": [
      "Model: \"sequential_18\"\n",
      "_________________________________________________________________\n",
      "Layer (type)                 Output Shape              Param #   \n",
      "=================================================================\n",
      "conv2d_70 (Conv2D)           (None, 148, 148, 32)      896       \n",
      "_________________________________________________________________\n",
      "max_pooling2d_70 (MaxPooling (None, 74, 74, 32)        0         \n",
      "_________________________________________________________________\n",
      "conv2d_71 (Conv2D)           (None, 73, 73, 64)        8256      \n",
      "_________________________________________________________________\n",
      "max_pooling2d_71 (MaxPooling (None, 36, 36, 64)        0         \n",
      "_________________________________________________________________\n",
      "conv2d_72 (Conv2D)           (None, 35, 35, 128)       32896     \n",
      "_________________________________________________________________\n",
      "max_pooling2d_72 (MaxPooling (None, 17, 17, 128)       0         \n",
      "_________________________________________________________________\n",
      "dropout_4 (Dropout)          (None, 17, 17, 128)       0         \n",
      "_________________________________________________________________\n",
      "flatten_18 (Flatten)         (None, 36992)             0         \n",
      "_________________________________________________________________\n",
      "dense_36 (Dense)             (None, 256)               9470208   \n",
      "_________________________________________________________________\n",
      "dense_37 (Dense)             (None, 1)                 257       \n",
      "=================================================================\n",
      "Total params: 9,512,513\n",
      "Trainable params: 9,512,513\n",
      "Non-trainable params: 0\n",
      "_________________________________________________________________\n"
     ]
    }
   ],
   "source": [
    "model=keras.Sequential()\n",
    "model.add(Conv2D(filters=32,kernel_size=(3,3),strides=(1,1),padding='VALID',input_shape=(150,150,3),activation=tf.nn.relu))\n",
    "model.add((MaxPooling2D(pool_size=(2,2))))\n",
    "model.add(Conv2D(filters=64,kernel_size=(2,2),strides=(1,1),padding='VALID',activation=tf.nn.relu))\n",
    "model.add(MaxPooling2D(pool_size=(2,2)))\n",
    "model.add(Conv2D(filters=128,kernel_size=(2,2),strides=(1,1),padding='VALID',activation=tf.nn.relu))\n",
    "model.add(MaxPooling2D(pool_size=(2,2)))\n",
    "model.add(Dropout(rate=0.3))\n",
    "model.add(Flatten())\n",
    "model.add(Dense(units=256,activation=tf.nn.relu))\n",
    "model.add(Dense(units=1,activation=tf.nn.sigmoid))\n",
    "rmsprop=RMSprop(learning_rate=1e-4)\n",
    "model.compile(optimizer=rmsprop,loss=keras.losses.BinaryCrossentropy(from_logits=False),\n",
    "              metrics=['accuracy'])\n",
    "model.summary()"
   ]
  },
  {
   "cell_type": "code",
   "execution_count": 59,
   "metadata": {
    "colab": {
     "base_uri": "https://localhost:8080/",
     "height": 1000
    },
    "colab_type": "code",
    "executionInfo": {
     "elapsed": 873210,
     "status": "ok",
     "timestamp": 1591432693611,
     "user": {
      "displayName": "vikas lakka",
      "photoUrl": "",
      "userId": "02419107211909781677"
     },
     "user_tz": -330
    },
    "id": "9lHEs2DpU7iG",
    "outputId": "1172f896-772f-4d14-ae77-c579c72aa811"
   },
   "outputs": [
    {
     "name": "stdout",
     "output_type": "stream",
     "text": [
      "Epoch 1/100\n",
      "100/100 [==============================] - 9s 90ms/step - loss: 0.6929 - accuracy: 0.5285 - val_loss: 0.7343 - val_accuracy: 0.5000\n",
      "Epoch 2/100\n",
      "100/100 [==============================] - 9s 86ms/step - loss: 0.6652 - accuracy: 0.5985 - val_loss: 0.6411 - val_accuracy: 0.6440\n",
      "Epoch 3/100\n",
      "100/100 [==============================] - 9s 86ms/step - loss: 0.6302 - accuracy: 0.6515 - val_loss: 0.6389 - val_accuracy: 0.5950\n",
      "Epoch 4/100\n",
      "100/100 [==============================] - 9s 86ms/step - loss: 0.6012 - accuracy: 0.6775 - val_loss: 0.5942 - val_accuracy: 0.6870\n",
      "Epoch 5/100\n",
      "100/100 [==============================] - 9s 87ms/step - loss: 0.5746 - accuracy: 0.7135 - val_loss: 0.5885 - val_accuracy: 0.6720\n",
      "Epoch 6/100\n",
      "100/100 [==============================] - 9s 86ms/step - loss: 0.5381 - accuracy: 0.7350 - val_loss: 0.5611 - val_accuracy: 0.7150\n",
      "Epoch 7/100\n",
      "100/100 [==============================] - 9s 86ms/step - loss: 0.5115 - accuracy: 0.7445 - val_loss: 0.5537 - val_accuracy: 0.7150\n",
      "Epoch 8/100\n",
      "100/100 [==============================] - 9s 86ms/step - loss: 0.4775 - accuracy: 0.7790 - val_loss: 0.5451 - val_accuracy: 0.7220\n",
      "Epoch 9/100\n",
      "100/100 [==============================] - 9s 85ms/step - loss: 0.4496 - accuracy: 0.7895 - val_loss: 0.5844 - val_accuracy: 0.6950\n",
      "Epoch 10/100\n",
      "100/100 [==============================] - 9s 85ms/step - loss: 0.4319 - accuracy: 0.8075 - val_loss: 0.5625 - val_accuracy: 0.7130\n",
      "Epoch 11/100\n",
      "100/100 [==============================] - 9s 86ms/step - loss: 0.4174 - accuracy: 0.8025 - val_loss: 0.5380 - val_accuracy: 0.7270\n",
      "Epoch 12/100\n",
      "100/100 [==============================] - 9s 86ms/step - loss: 0.3922 - accuracy: 0.8230 - val_loss: 0.5683 - val_accuracy: 0.7170\n",
      "Epoch 13/100\n",
      "100/100 [==============================] - 9s 87ms/step - loss: 0.3678 - accuracy: 0.8495 - val_loss: 0.5524 - val_accuracy: 0.7250\n",
      "Epoch 14/100\n",
      "100/100 [==============================] - 9s 87ms/step - loss: 0.3525 - accuracy: 0.8515 - val_loss: 0.5261 - val_accuracy: 0.7410\n",
      "Epoch 15/100\n",
      "100/100 [==============================] - 9s 86ms/step - loss: 0.3375 - accuracy: 0.8550 - val_loss: 0.5255 - val_accuracy: 0.7450\n",
      "Epoch 16/100\n",
      "100/100 [==============================] - 9s 86ms/step - loss: 0.3197 - accuracy: 0.8820 - val_loss: 0.6055 - val_accuracy: 0.7150\n",
      "Epoch 17/100\n",
      "100/100 [==============================] - 9s 86ms/step - loss: 0.2976 - accuracy: 0.8825 - val_loss: 0.5747 - val_accuracy: 0.7380\n",
      "Epoch 18/100\n",
      "100/100 [==============================] - 9s 86ms/step - loss: 0.2835 - accuracy: 0.8875 - val_loss: 0.5438 - val_accuracy: 0.7470\n",
      "Epoch 19/100\n",
      "100/100 [==============================] - 9s 87ms/step - loss: 0.2622 - accuracy: 0.9030 - val_loss: 0.5393 - val_accuracy: 0.7480\n",
      "Epoch 20/100\n",
      "100/100 [==============================] - 9s 88ms/step - loss: 0.2386 - accuracy: 0.9140 - val_loss: 0.5811 - val_accuracy: 0.7370\n",
      "Epoch 21/100\n",
      "100/100 [==============================] - 9s 86ms/step - loss: 0.2313 - accuracy: 0.9145 - val_loss: 0.5671 - val_accuracy: 0.7450\n",
      "Epoch 22/100\n",
      "100/100 [==============================] - 9s 86ms/step - loss: 0.2165 - accuracy: 0.9275 - val_loss: 0.5733 - val_accuracy: 0.7500\n",
      "Epoch 23/100\n",
      "100/100 [==============================] - 9s 87ms/step - loss: 0.2012 - accuracy: 0.9360 - val_loss: 0.6188 - val_accuracy: 0.7290\n",
      "Epoch 24/100\n",
      "100/100 [==============================] - 9s 86ms/step - loss: 0.1926 - accuracy: 0.9325 - val_loss: 0.6589 - val_accuracy: 0.7210\n",
      "Epoch 25/100\n",
      "100/100 [==============================] - 9s 86ms/step - loss: 0.1688 - accuracy: 0.9440 - val_loss: 0.6239 - val_accuracy: 0.7400\n",
      "Epoch 26/100\n",
      "100/100 [==============================] - 9s 85ms/step - loss: 0.1627 - accuracy: 0.9475 - val_loss: 0.6189 - val_accuracy: 0.7500\n",
      "Epoch 27/100\n",
      "100/100 [==============================] - 9s 85ms/step - loss: 0.1471 - accuracy: 0.9565 - val_loss: 0.6477 - val_accuracy: 0.7430\n",
      "Epoch 28/100\n",
      "100/100 [==============================] - 9s 86ms/step - loss: 0.1318 - accuracy: 0.9600 - val_loss: 0.6488 - val_accuracy: 0.7460\n",
      "Epoch 29/100\n",
      "100/100 [==============================] - 9s 85ms/step - loss: 0.1249 - accuracy: 0.9665 - val_loss: 0.6835 - val_accuracy: 0.7450\n",
      "Epoch 30/100\n",
      "100/100 [==============================] - 9s 86ms/step - loss: 0.1087 - accuracy: 0.9730 - val_loss: 0.9413 - val_accuracy: 0.7000\n",
      "Epoch 31/100\n",
      "100/100 [==============================] - 9s 86ms/step - loss: 0.1080 - accuracy: 0.9675 - val_loss: 0.7105 - val_accuracy: 0.7390\n",
      "Epoch 32/100\n",
      "100/100 [==============================] - 9s 87ms/step - loss: 0.0944 - accuracy: 0.9745 - val_loss: 0.7242 - val_accuracy: 0.7510\n",
      "Epoch 33/100\n",
      "100/100 [==============================] - 9s 87ms/step - loss: 0.0845 - accuracy: 0.9805 - val_loss: 0.7060 - val_accuracy: 0.7530\n",
      "Epoch 34/100\n",
      "100/100 [==============================] - 9s 86ms/step - loss: 0.0808 - accuracy: 0.9770 - val_loss: 0.7868 - val_accuracy: 0.7460\n",
      "Epoch 35/100\n",
      "100/100 [==============================] - 9s 86ms/step - loss: 0.0724 - accuracy: 0.9815 - val_loss: 0.7425 - val_accuracy: 0.7550\n",
      "Epoch 36/100\n",
      "100/100 [==============================] - 9s 86ms/step - loss: 0.0651 - accuracy: 0.9845 - val_loss: 0.7553 - val_accuracy: 0.7630\n",
      "Epoch 37/100\n",
      "100/100 [==============================] - 9s 86ms/step - loss: 0.0569 - accuracy: 0.9845 - val_loss: 0.9093 - val_accuracy: 0.7360\n",
      "Epoch 38/100\n",
      "100/100 [==============================] - 9s 85ms/step - loss: 0.0521 - accuracy: 0.9875 - val_loss: 0.7817 - val_accuracy: 0.7600\n",
      "Epoch 39/100\n",
      "100/100 [==============================] - 9s 86ms/step - loss: 0.0442 - accuracy: 0.9905 - val_loss: 0.8420 - val_accuracy: 0.7540\n",
      "Epoch 40/100\n",
      "100/100 [==============================] - 9s 86ms/step - loss: 0.0484 - accuracy: 0.9885 - val_loss: 0.8601 - val_accuracy: 0.7480\n",
      "Epoch 41/100\n",
      "100/100 [==============================] - 9s 87ms/step - loss: 0.0366 - accuracy: 0.9945 - val_loss: 0.9416 - val_accuracy: 0.7210\n",
      "Epoch 42/100\n",
      "100/100 [==============================] - 9s 86ms/step - loss: 0.0348 - accuracy: 0.9925 - val_loss: 0.8781 - val_accuracy: 0.7450\n",
      "Epoch 43/100\n",
      "100/100 [==============================] - 9s 85ms/step - loss: 0.0351 - accuracy: 0.9930 - val_loss: 0.8613 - val_accuracy: 0.7630\n",
      "Epoch 44/100\n",
      "100/100 [==============================] - 9s 86ms/step - loss: 0.0324 - accuracy: 0.9945 - val_loss: 0.8850 - val_accuracy: 0.7700\n",
      "Epoch 45/100\n",
      "100/100 [==============================] - 9s 85ms/step - loss: 0.0219 - accuracy: 0.9965 - val_loss: 0.9786 - val_accuracy: 0.7550\n",
      "Epoch 46/100\n",
      "100/100 [==============================] - 9s 85ms/step - loss: 0.0257 - accuracy: 0.9930 - val_loss: 0.9851 - val_accuracy: 0.7580\n",
      "Epoch 47/100\n",
      "100/100 [==============================] - 9s 85ms/step - loss: 0.0187 - accuracy: 0.9975 - val_loss: 1.0929 - val_accuracy: 0.7460\n",
      "Epoch 48/100\n",
      "100/100 [==============================] - 9s 86ms/step - loss: 0.0196 - accuracy: 0.9980 - val_loss: 1.0201 - val_accuracy: 0.7640\n",
      "Epoch 49/100\n",
      "100/100 [==============================] - 9s 86ms/step - loss: 0.0154 - accuracy: 0.9980 - val_loss: 0.9973 - val_accuracy: 0.7550\n",
      "Epoch 50/100\n",
      "100/100 [==============================] - 9s 87ms/step - loss: 0.0196 - accuracy: 0.9940 - val_loss: 1.0069 - val_accuracy: 0.7650\n",
      "Epoch 51/100\n",
      "100/100 [==============================] - 9s 87ms/step - loss: 0.0143 - accuracy: 0.9980 - val_loss: 1.0781 - val_accuracy: 0.7480\n",
      "Epoch 52/100\n",
      "100/100 [==============================] - 9s 86ms/step - loss: 0.0172 - accuracy: 0.9955 - val_loss: 1.1883 - val_accuracy: 0.7290\n",
      "Epoch 53/100\n",
      "100/100 [==============================] - 9s 86ms/step - loss: 0.0180 - accuracy: 0.9945 - val_loss: 1.1786 - val_accuracy: 0.7430\n",
      "Epoch 54/100\n",
      "100/100 [==============================] - 9s 86ms/step - loss: 0.0137 - accuracy: 0.9975 - val_loss: 1.1000 - val_accuracy: 0.7560\n",
      "Epoch 55/100\n",
      "100/100 [==============================] - 9s 87ms/step - loss: 0.0083 - accuracy: 0.9995 - val_loss: 1.1124 - val_accuracy: 0.7550\n",
      "Epoch 56/100\n",
      "100/100 [==============================] - 9s 86ms/step - loss: 0.0131 - accuracy: 0.9985 - val_loss: 1.1474 - val_accuracy: 0.7560\n",
      "Epoch 57/100\n",
      "100/100 [==============================] - 9s 86ms/step - loss: 0.0141 - accuracy: 0.9940 - val_loss: 1.1476 - val_accuracy: 0.7580\n",
      "Epoch 58/100\n",
      "100/100 [==============================] - 9s 86ms/step - loss: 0.0076 - accuracy: 0.9990 - val_loss: 1.1789 - val_accuracy: 0.7580\n",
      "Epoch 59/100\n",
      "100/100 [==============================] - 9s 86ms/step - loss: 0.0104 - accuracy: 0.9975 - val_loss: 1.7172 - val_accuracy: 0.7170\n",
      "Epoch 60/100\n",
      "100/100 [==============================] - 9s 87ms/step - loss: 0.0142 - accuracy: 0.9960 - val_loss: 1.2308 - val_accuracy: 0.7580\n",
      "Epoch 61/100\n",
      "100/100 [==============================] - 9s 86ms/step - loss: 0.0061 - accuracy: 0.9990 - val_loss: 1.2321 - val_accuracy: 0.7640\n",
      "Epoch 62/100\n",
      "100/100 [==============================] - 9s 86ms/step - loss: 0.0098 - accuracy: 0.9970 - val_loss: 1.2199 - val_accuracy: 0.7660\n",
      "Epoch 63/100\n",
      "100/100 [==============================] - 9s 86ms/step - loss: 0.0074 - accuracy: 0.9985 - val_loss: 1.2359 - val_accuracy: 0.7630\n",
      "Epoch 64/100\n",
      "100/100 [==============================] - 9s 86ms/step - loss: 0.0053 - accuracy: 0.9985 - val_loss: 1.2357 - val_accuracy: 0.7630\n",
      "Epoch 65/100\n",
      "100/100 [==============================] - 9s 85ms/step - loss: 0.0062 - accuracy: 0.9995 - val_loss: 1.2940 - val_accuracy: 0.7570\n",
      "Epoch 66/100\n",
      "100/100 [==============================] - 9s 86ms/step - loss: 0.0071 - accuracy: 0.9985 - val_loss: 1.2611 - val_accuracy: 0.7610\n",
      "Epoch 67/100\n",
      "100/100 [==============================] - 9s 86ms/step - loss: 0.0055 - accuracy: 0.9985 - val_loss: 1.2982 - val_accuracy: 0.7620\n",
      "Epoch 68/100\n",
      "100/100 [==============================] - 9s 86ms/step - loss: 0.0039 - accuracy: 0.9995 - val_loss: 1.3265 - val_accuracy: 0.7570\n",
      "Epoch 69/100\n",
      "100/100 [==============================] - 9s 87ms/step - loss: 0.0101 - accuracy: 0.9970 - val_loss: 1.3272 - val_accuracy: 0.7570\n",
      "Epoch 70/100\n",
      "100/100 [==============================] - 9s 86ms/step - loss: 0.0067 - accuracy: 0.9975 - val_loss: 1.3345 - val_accuracy: 0.7650\n",
      "Epoch 71/100\n",
      "100/100 [==============================] - 9s 86ms/step - loss: 0.0056 - accuracy: 0.9975 - val_loss: 1.4090 - val_accuracy: 0.7610\n",
      "Epoch 72/100\n",
      "100/100 [==============================] - 9s 85ms/step - loss: 0.0028 - accuracy: 0.9995 - val_loss: 1.3773 - val_accuracy: 0.7630\n",
      "Epoch 73/100\n",
      "100/100 [==============================] - 9s 86ms/step - loss: 0.0027 - accuracy: 0.9995 - val_loss: 1.4390 - val_accuracy: 0.7570\n",
      "Epoch 74/100\n",
      "100/100 [==============================] - 9s 85ms/step - loss: 0.0043 - accuracy: 0.9980 - val_loss: 1.3964 - val_accuracy: 0.7640\n",
      "Epoch 75/100\n",
      "100/100 [==============================] - 9s 86ms/step - loss: 0.0015 - accuracy: 1.0000 - val_loss: 1.5452 - val_accuracy: 0.7580\n",
      "Epoch 76/100\n",
      "100/100 [==============================] - 9s 87ms/step - loss: 0.0056 - accuracy: 0.9985 - val_loss: 1.4629 - val_accuracy: 0.7610\n",
      "Epoch 77/100\n",
      "100/100 [==============================] - 9s 86ms/step - loss: 0.0018 - accuracy: 1.0000 - val_loss: 1.5236 - val_accuracy: 0.7490\n",
      "Epoch 78/100\n",
      "100/100 [==============================] - 9s 86ms/step - loss: 0.0039 - accuracy: 0.9985 - val_loss: 1.4876 - val_accuracy: 0.7590\n",
      "Epoch 79/100\n",
      "100/100 [==============================] - 9s 86ms/step - loss: 0.0032 - accuracy: 0.9995 - val_loss: 1.4518 - val_accuracy: 0.7670\n",
      "Epoch 80/100\n",
      "100/100 [==============================] - 9s 86ms/step - loss: 0.0023 - accuracy: 0.9995 - val_loss: 1.5068 - val_accuracy: 0.7650\n",
      "Epoch 81/100\n",
      "100/100 [==============================] - 9s 85ms/step - loss: 0.0061 - accuracy: 0.9970 - val_loss: 1.5041 - val_accuracy: 0.7670\n",
      "Epoch 82/100\n",
      "100/100 [==============================] - 9s 86ms/step - loss: 0.0039 - accuracy: 0.9995 - val_loss: 1.5656 - val_accuracy: 0.7620\n",
      "Epoch 83/100\n",
      "100/100 [==============================] - 9s 85ms/step - loss: 0.0027 - accuracy: 0.9990 - val_loss: 1.6825 - val_accuracy: 0.7350\n",
      "Epoch 84/100\n",
      "100/100 [==============================] - 9s 85ms/step - loss: 0.0041 - accuracy: 0.9985 - val_loss: 1.4964 - val_accuracy: 0.7560\n",
      "Epoch 85/100\n",
      "100/100 [==============================] - 9s 85ms/step - loss: 0.0010 - accuracy: 1.0000 - val_loss: 1.6463 - val_accuracy: 0.7510\n",
      "Epoch 86/100\n",
      "100/100 [==============================] - 9s 86ms/step - loss: 0.0026 - accuracy: 0.9990 - val_loss: 1.5899 - val_accuracy: 0.7620\n",
      "Epoch 87/100\n",
      "100/100 [==============================] - 9s 86ms/step - loss: 0.0143 - accuracy: 0.9970 - val_loss: 1.5136 - val_accuracy: 0.7610\n",
      "Epoch 88/100\n",
      "100/100 [==============================] - 9s 86ms/step - loss: 0.0045 - accuracy: 0.9985 - val_loss: 1.5282 - val_accuracy: 0.7640\n",
      "Epoch 89/100\n",
      "100/100 [==============================] - 9s 85ms/step - loss: 0.0018 - accuracy: 0.9995 - val_loss: 1.6069 - val_accuracy: 0.7530\n",
      "Epoch 90/100\n",
      "100/100 [==============================] - 9s 85ms/step - loss: 0.0018 - accuracy: 0.9995 - val_loss: 1.5498 - val_accuracy: 0.7650\n",
      "Epoch 91/100\n",
      "100/100 [==============================] - 9s 87ms/step - loss: 0.0023 - accuracy: 0.9990 - val_loss: 1.6319 - val_accuracy: 0.7570\n",
      "Epoch 92/100\n",
      "100/100 [==============================] - 9s 86ms/step - loss: 0.0020 - accuracy: 0.9995 - val_loss: 1.6890 - val_accuracy: 0.7510\n",
      "Epoch 93/100\n",
      "100/100 [==============================] - 9s 86ms/step - loss: 7.1188e-04 - accuracy: 1.0000 - val_loss: 1.6493 - val_accuracy: 0.7620\n",
      "Epoch 94/100\n",
      "100/100 [==============================] - 9s 85ms/step - loss: 0.0024 - accuracy: 0.9990 - val_loss: 1.6025 - val_accuracy: 0.7660\n",
      "Epoch 95/100\n",
      "100/100 [==============================] - 9s 86ms/step - loss: 0.0014 - accuracy: 0.9995 - val_loss: 1.6855 - val_accuracy: 0.7530\n",
      "Epoch 96/100\n",
      "100/100 [==============================] - 9s 86ms/step - loss: 0.0016 - accuracy: 0.9995 - val_loss: 1.7149 - val_accuracy: 0.7610\n",
      "Epoch 97/100\n",
      "100/100 [==============================] - 9s 88ms/step - loss: 0.0015 - accuracy: 0.9995 - val_loss: 1.7618 - val_accuracy: 0.7530\n",
      "Epoch 98/100\n",
      "100/100 [==============================] - 9s 86ms/step - loss: 0.0042 - accuracy: 0.9990 - val_loss: 1.7413 - val_accuracy: 0.7570\n",
      "Epoch 99/100\n",
      "100/100 [==============================] - 8s 85ms/step - loss: 0.0022 - accuracy: 0.9995 - val_loss: 1.7711 - val_accuracy: 0.7440\n",
      "Epoch 100/100\n",
      "100/100 [==============================] - 9s 85ms/step - loss: 0.0028 - accuracy: 0.9995 - val_loss: 1.7534 - val_accuracy: 0.7580\n"
     ]
    },
    {
     "data": {
      "text/plain": [
       "<tensorflow.python.keras.callbacks.History at 0x7f6f386606d8>"
      ]
     },
     "execution_count": 59,
     "metadata": {
      "tags": []
     },
     "output_type": "execute_result"
    }
   ],
   "source": [
    "model.fit(train_gen,epochs=100,steps_per_epoch=100,validation_data=(test_gen),validation_steps=50)"
   ]
  },
  {
   "cell_type": "code",
   "execution_count": null,
   "metadata": {
    "colab": {},
    "colab_type": "code",
    "id": "WmSjEuzjVNIF"
   },
   "outputs": [],
   "source": [
    "loss=model.history.history['loss']\n",
    "val_loss=model.history.history['val_loss']\n",
    "acc=model.history.history['accuracy']\n",
    "val_acc=model.history.history['val_accuracy']"
   ]
  },
  {
   "cell_type": "code",
   "execution_count": 61,
   "metadata": {
    "colab": {
     "base_uri": "https://localhost:8080/",
     "height": 283
    },
    "colab_type": "code",
    "executionInfo": {
     "elapsed": 872695,
     "status": "ok",
     "timestamp": 1591432693625,
     "user": {
      "displayName": "vikas lakka",
      "photoUrl": "",
      "userId": "02419107211909781677"
     },
     "user_tz": -330
    },
    "id": "vqgarE9nVeOM",
    "outputId": "1ff60fd3-cc08-4cab-e0d4-346acccbc150"
   },
   "outputs": [
    {
     "data": {
      "text/plain": [
       "[<matplotlib.lines.Line2D at 0x7f6f3867ae10>]"
      ]
     },
     "execution_count": 61,
     "metadata": {
      "tags": []
     },
     "output_type": "execute_result"
    },
    {
     "data": {
      "image/png": "[encoded data removed]",
      "text/plain": [
       "<Figure size 432x288 with 1 Axes>"
      ]
     },
     "metadata": {
      "needs_background": "light",
      "tags": []
     },
     "output_type": "display_data"
    }
   ],
   "source": [
    "plt.plot(loss)\n",
    "plt.plot(val_loss)"
   ]
  },
  {
   "cell_type": "code",
   "execution_count": 62,
   "metadata": {
    "colab": {
     "base_uri": "https://localhost:8080/",
     "height": 283
    },
    "colab_type": "code",
    "executionInfo": {
     "elapsed": 872178,
     "status": "ok",
     "timestamp": 1591432693628,
     "user": {
      "displayName": "vikas lakka",
      "photoUrl": "",
      "userId": "02419107211909781677"
     },
     "user_tz": -330
    },
    "id": "l5VCOTEhVhBq",
    "outputId": "3a521f2d-94ef-47d2-cdf6-360c0be7e4bb"
   },
   "outputs": [
    {
     "data": {
      "text/plain": [
       "[<matplotlib.lines.Line2D at 0x7f6f3867ac50>]"
      ]
     },
     "execution_count": 62,
     "metadata": {
      "tags": []
     },
     "output_type": "execute_result"
    },
    {
     "data": {
      "image/png": "[encoded data removed]",
      "text/plain": [
       "<Figure size 432x288 with 1 Axes>"
      ]
     },
     "metadata": {
      "needs_background": "light",
      "tags": []
     },
     "output_type": "display_data"
    }
   ],
   "source": [
    "plt.plot(acc)\n",
    "plt.plot(val_acc)"
   ]
  },
  {
   "cell_type": "code",
   "execution_count": 63,
   "metadata": {
    "colab": {
     "base_uri": "https://localhost:8080/",
     "height": 52
    },
    "colab_type": "code",
    "executionInfo": {
     "elapsed": 871877,
     "status": "ok",
     "timestamp": 1591432693632,
     "user": {
      "displayName": "vikas lakka",
      "photoUrl": "",
      "userId": "02419107211909781677"
     },
     "user_tz": -330
    },
    "id": "TQ_d-xCEja79",
    "outputId": "17017335-5d11-4b75-dc5a-e0a707d2acb4"
   },
   "outputs": [
    {
     "data": {
      "text/plain": [
       "('/tmp/cats_dogs/cats_and_dogs_filtered/train',\n",
       " '/tmp/cats_dogs/cats_and_dogs_filtered/validation')"
      ]
     },
     "execution_count": 63,
     "metadata": {
      "tags": []
     },
     "output_type": "execute_result"
    }
   ],
   "source": [
    "train_path,test_path\n"
   ]
  },
  {
   "cell_type": "code",
   "execution_count": 64,
   "metadata": {
    "colab": {
     "base_uri": "https://localhost:8080/",
     "height": 52
    },
    "colab_type": "code",
    "executionInfo": {
     "elapsed": 871492,
     "status": "ok",
     "timestamp": 1591432693634,
     "user": {
      "displayName": "vikas lakka",
      "photoUrl": "",
      "userId": "02419107211909781677"
     },
     "user_tz": -330
    },
    "id": "PNqr4mN1Vjlt",
    "outputId": "13ddfe1b-de0f-4c79-a4fe-a9c09a11d640"
   },
   "outputs": [
    {
     "name": "stdout",
     "output_type": "stream",
     "text": [
      "Found 2000 images belonging to 2 classes.\n",
      "Found 1000 images belonging to 2 classes.\n"
     ]
    }
   ],
   "source": [
    "#### Now we will perform the same using Data augmentation\n",
    "aug_gen=ImageDataGenerator(rescale=1/255.0,\n",
    "                           rotation_range=40,\n",
    "                           width_shift_range=0.2,\n",
    "                           height_shift_range=0.2,\n",
    "                           shear_range=0.2,\n",
    "                           zoom_range=0.2,\n",
    "                           horizontal_flip=True,\n",
    "                           fill_mode='nearest')\n",
    "aug_train_gen=aug_gen.flow_from_directory(train_path,\n",
    "                                          target_size=(150,150),\n",
    "                                          class_mode='binary',\n",
    "                                          batch_size=20,shuffle=True)\n",
    "\n",
    "test_datagen = ImageDataGenerator(rescale=1./255)\n",
    "aug_test_gen=test_datagen.flow_from_directory(test_path,\n",
    "                                         target_size=(150,150),\n",
    "                                         class_mode='binary',\n",
    "                                         batch_size=20)"
   ]
  },
  {
   "cell_type": "code",
   "execution_count": null,
   "metadata": {
    "colab": {},
    "colab_type": "code",
    "id": "IlUhcbDoWQsl"
   },
   "outputs": [],
   "source": [
    "model=keras.Sequential()\n",
    "model.add(Conv2D(filters=32,kernel_size=(3,3),strides=(1,1),padding='VALID',input_shape=(150,150,3),activation=tf.nn.relu))\n",
    "model.add((MaxPooling2D(pool_size=(2,2))))\n",
    "model.add(Conv2D(filters=64,kernel_size=(3,3),strides=(1,1),padding='VALID',activation=tf.nn.relu))\n",
    "model.add(MaxPooling2D(pool_size=(2,2)))\n",
    "model.add(Conv2D(filters=128,kernel_size=(3,3),strides=(1,1),padding='VALID',activation=tf.nn.relu))\n",
    "model.add(MaxPooling2D(pool_size=(2,2)))\n",
    "model.add(Conv2D(filters=128,kernel_size=(3,3),strides=(1,1),padding='VALID',activation=tf.nn.relu))\n",
    "model.add(MaxPooling2D(pool_size=(2,2)))\n",
    "model.add(Dropout(rate=0.5))\n",
    "model.add(Flatten())\n",
    "model.add(Dense(units=512,activation=tf.nn.relu))\n",
    "model.add(Dense(units=1))\n",
    "rmsprop=RMSprop(learning_rate=1e-4)\n",
    "model.compile(optimizer=rmsprop,loss=keras.losses.BinaryCrossentropy(from_logits=True),\n",
    "              metrics=['accuracy'])\n",
    "\n"
   ]
  },
  {
   "cell_type": "code",
   "execution_count": 77,
   "metadata": {
    "colab": {
     "base_uri": "https://localhost:8080/",
     "height": 1000
    },
    "colab_type": "code",
    "executionInfo": {
     "elapsed": 1688678,
     "status": "ok",
     "timestamp": 1591436998057,
     "user": {
      "displayName": "vikas lakka",
      "photoUrl": "",
      "userId": "02419107211909781677"
     },
     "user_tz": -330
    },
    "id": "PaouBZ3wXKM9",
    "outputId": "44e26812-f6f4-4faf-f319-291bbcad9ea0"
   },
   "outputs": [
    {
     "name": "stdout",
     "output_type": "stream",
     "text": [
      "Epoch 1/100\n",
      "100/100 [==============================] - 17s 171ms/step - loss: 0.6933 - accuracy: 0.5055 - val_loss: 0.6853 - val_accuracy: 0.5000\n",
      "Epoch 2/100\n",
      "100/100 [==============================] - 17s 168ms/step - loss: 0.6868 - accuracy: 0.5115 - val_loss: 0.6649 - val_accuracy: 0.5070\n",
      "Epoch 3/100\n",
      "100/100 [==============================] - 17s 168ms/step - loss: 0.6791 - accuracy: 0.5280 - val_loss: 0.6509 - val_accuracy: 0.5550\n",
      "Epoch 4/100\n",
      "100/100 [==============================] - 17s 167ms/step - loss: 0.6663 - accuracy: 0.5640 - val_loss: 0.6407 - val_accuracy: 0.6560\n",
      "Epoch 5/100\n",
      "100/100 [==============================] - 17s 168ms/step - loss: 0.6545 - accuracy: 0.5850 - val_loss: 0.6215 - val_accuracy: 0.6070\n",
      "Epoch 6/100\n",
      "100/100 [==============================] - 17s 171ms/step - loss: 0.6388 - accuracy: 0.6120 - val_loss: 0.5909 - val_accuracy: 0.6700\n",
      "Epoch 7/100\n",
      "100/100 [==============================] - 17s 167ms/step - loss: 0.6259 - accuracy: 0.6285 - val_loss: 0.6318 - val_accuracy: 0.5680\n",
      "Epoch 8/100\n",
      "100/100 [==============================] - 17s 167ms/step - loss: 0.6116 - accuracy: 0.6285 - val_loss: 0.5841 - val_accuracy: 0.6830\n",
      "Epoch 9/100\n",
      "100/100 [==============================] - 17s 167ms/step - loss: 0.6061 - accuracy: 0.6490 - val_loss: 0.5756 - val_accuracy: 0.6910\n",
      "Epoch 10/100\n",
      "100/100 [==============================] - 17s 168ms/step - loss: 0.6011 - accuracy: 0.6500 - val_loss: 0.5533 - val_accuracy: 0.6790\n",
      "Epoch 11/100\n",
      "100/100 [==============================] - 17s 167ms/step - loss: 0.5932 - accuracy: 0.6700 - val_loss: 0.5509 - val_accuracy: 0.7080\n",
      "Epoch 12/100\n",
      "100/100 [==============================] - 17s 167ms/step - loss: 0.5964 - accuracy: 0.6635 - val_loss: 0.5626 - val_accuracy: 0.7020\n",
      "Epoch 13/100\n",
      "100/100 [==============================] - 17s 168ms/step - loss: 0.5859 - accuracy: 0.6720 - val_loss: 0.5432 - val_accuracy: 0.7060\n",
      "Epoch 14/100\n",
      "100/100 [==============================] - 17s 167ms/step - loss: 0.5736 - accuracy: 0.6750 - val_loss: 0.5544 - val_accuracy: 0.7150\n",
      "Epoch 15/100\n",
      "100/100 [==============================] - 17s 167ms/step - loss: 0.5816 - accuracy: 0.6705 - val_loss: 0.5305 - val_accuracy: 0.7100\n",
      "Epoch 16/100\n",
      "100/100 [==============================] - 17s 166ms/step - loss: 0.5769 - accuracy: 0.6710 - val_loss: 0.5264 - val_accuracy: 0.7050\n",
      "Epoch 17/100\n",
      "100/100 [==============================] - 17s 166ms/step - loss: 0.5685 - accuracy: 0.6705 - val_loss: 0.5714 - val_accuracy: 0.6550\n",
      "Epoch 18/100\n",
      "100/100 [==============================] - 17s 166ms/step - loss: 0.5622 - accuracy: 0.6935 - val_loss: 0.5368 - val_accuracy: 0.6820\n",
      "Epoch 19/100\n",
      "100/100 [==============================] - 17s 168ms/step - loss: 0.5522 - accuracy: 0.7090 - val_loss: 0.5214 - val_accuracy: 0.7060\n",
      "Epoch 20/100\n",
      "100/100 [==============================] - 17s 168ms/step - loss: 0.5609 - accuracy: 0.6945 - val_loss: 0.5174 - val_accuracy: 0.7170\n",
      "Epoch 21/100\n",
      "100/100 [==============================] - 17s 167ms/step - loss: 0.5473 - accuracy: 0.6955 - val_loss: 0.5232 - val_accuracy: 0.7320\n",
      "Epoch 22/100\n",
      "100/100 [==============================] - 17s 167ms/step - loss: 0.5565 - accuracy: 0.6885 - val_loss: 0.5107 - val_accuracy: 0.7250\n",
      "Epoch 23/100\n",
      "100/100 [==============================] - 17s 167ms/step - loss: 0.5480 - accuracy: 0.7065 - val_loss: 0.5048 - val_accuracy: 0.7420\n",
      "Epoch 24/100\n",
      "100/100 [==============================] - 17s 168ms/step - loss: 0.5373 - accuracy: 0.7065 - val_loss: 0.5211 - val_accuracy: 0.7130\n",
      "Epoch 25/100\n",
      "100/100 [==============================] - 17s 168ms/step - loss: 0.5453 - accuracy: 0.7055 - val_loss: 0.5136 - val_accuracy: 0.7470\n",
      "Epoch 26/100\n",
      "100/100 [==============================] - 17s 166ms/step - loss: 0.5297 - accuracy: 0.7075 - val_loss: 0.5021 - val_accuracy: 0.7320\n",
      "Epoch 27/100\n",
      "100/100 [==============================] - 17s 166ms/step - loss: 0.5293 - accuracy: 0.7195 - val_loss: 0.5004 - val_accuracy: 0.7460\n",
      "Epoch 28/100\n",
      "100/100 [==============================] - 17s 167ms/step - loss: 0.5280 - accuracy: 0.7195 - val_loss: 0.4900 - val_accuracy: 0.7340\n",
      "Epoch 29/100\n",
      "100/100 [==============================] - 17s 167ms/step - loss: 0.5236 - accuracy: 0.7255 - val_loss: 0.4950 - val_accuracy: 0.7310\n",
      "Epoch 30/100\n",
      "100/100 [==============================] - 17s 166ms/step - loss: 0.5224 - accuracy: 0.7185 - val_loss: 0.5240 - val_accuracy: 0.7410\n",
      "Epoch 31/100\n",
      "100/100 [==============================] - 17s 166ms/step - loss: 0.5208 - accuracy: 0.7230 - val_loss: 0.5085 - val_accuracy: 0.7580\n",
      "Epoch 32/100\n",
      "100/100 [==============================] - 17s 166ms/step - loss: 0.5103 - accuracy: 0.7320 - val_loss: 0.4861 - val_accuracy: 0.7480\n",
      "Epoch 33/100\n",
      "100/100 [==============================] - 17s 167ms/step - loss: 0.5086 - accuracy: 0.7460 - val_loss: 0.5006 - val_accuracy: 0.7090\n",
      "Epoch 34/100\n",
      "100/100 [==============================] - 17s 169ms/step - loss: 0.5084 - accuracy: 0.7355 - val_loss: 0.4791 - val_accuracy: 0.7380\n",
      "Epoch 35/100\n",
      "100/100 [==============================] - 17s 167ms/step - loss: 0.5072 - accuracy: 0.7305 - val_loss: 0.5214 - val_accuracy: 0.7660\n",
      "Epoch 36/100\n",
      "100/100 [==============================] - 17s 167ms/step - loss: 0.4975 - accuracy: 0.7390 - val_loss: 0.4718 - val_accuracy: 0.7360\n",
      "Epoch 37/100\n",
      "100/100 [==============================] - 17s 167ms/step - loss: 0.5033 - accuracy: 0.7440 - val_loss: 0.4710 - val_accuracy: 0.7590\n",
      "Epoch 38/100\n",
      "100/100 [==============================] - 17s 167ms/step - loss: 0.4978 - accuracy: 0.7435 - val_loss: 0.4697 - val_accuracy: 0.7590\n",
      "Epoch 39/100\n",
      "100/100 [==============================] - 17s 168ms/step - loss: 0.4879 - accuracy: 0.7480 - val_loss: 0.4893 - val_accuracy: 0.7610\n",
      "Epoch 40/100\n",
      "100/100 [==============================] - 17s 167ms/step - loss: 0.5012 - accuracy: 0.7425 - val_loss: 0.4675 - val_accuracy: 0.7440\n",
      "Epoch 41/100\n",
      "100/100 [==============================] - 17s 166ms/step - loss: 0.4845 - accuracy: 0.7595 - val_loss: 0.4607 - val_accuracy: 0.7600\n",
      "Epoch 42/100\n",
      "100/100 [==============================] - 17s 166ms/step - loss: 0.4862 - accuracy: 0.7515 - val_loss: 0.4764 - val_accuracy: 0.7430\n",
      "Epoch 43/100\n",
      "100/100 [==============================] - 17s 169ms/step - loss: 0.4955 - accuracy: 0.7535 - val_loss: 0.5272 - val_accuracy: 0.7740\n",
      "Epoch 44/100\n",
      "100/100 [==============================] - 17s 167ms/step - loss: 0.4847 - accuracy: 0.7530 - val_loss: 0.4526 - val_accuracy: 0.7640\n",
      "Epoch 45/100\n",
      "100/100 [==============================] - 17s 166ms/step - loss: 0.4841 - accuracy: 0.7625 - val_loss: 0.4475 - val_accuracy: 0.7510\n",
      "Epoch 46/100\n",
      "100/100 [==============================] - 17s 166ms/step - loss: 0.4804 - accuracy: 0.7565 - val_loss: 0.4520 - val_accuracy: 0.7910\n",
      "Epoch 47/100\n",
      "100/100 [==============================] - 17s 167ms/step - loss: 0.4835 - accuracy: 0.7565 - val_loss: 0.4647 - val_accuracy: 0.7720\n",
      "Epoch 48/100\n",
      "100/100 [==============================] - 17s 167ms/step - loss: 0.4773 - accuracy: 0.7540 - val_loss: 0.4621 - val_accuracy: 0.7860\n",
      "Epoch 49/100\n",
      "100/100 [==============================] - 17s 167ms/step - loss: 0.4742 - accuracy: 0.7680 - val_loss: 0.4553 - val_accuracy: 0.7630\n",
      "Epoch 50/100\n",
      "100/100 [==============================] - 17s 166ms/step - loss: 0.4718 - accuracy: 0.7545 - val_loss: 0.4377 - val_accuracy: 0.7830\n",
      "Epoch 51/100\n",
      "100/100 [==============================] - 17s 167ms/step - loss: 0.4640 - accuracy: 0.7675 - val_loss: 0.4372 - val_accuracy: 0.7780\n",
      "Epoch 52/100\n",
      "100/100 [==============================] - 17s 166ms/step - loss: 0.4603 - accuracy: 0.7715 - val_loss: 0.4411 - val_accuracy: 0.7850\n",
      "Epoch 53/100\n",
      "100/100 [==============================] - 17s 167ms/step - loss: 0.4546 - accuracy: 0.7760 - val_loss: 0.4486 - val_accuracy: 0.7860\n",
      "Epoch 54/100\n",
      "100/100 [==============================] - 17s 167ms/step - loss: 0.4619 - accuracy: 0.7750 - val_loss: 0.4318 - val_accuracy: 0.7830\n",
      "Epoch 55/100\n",
      "100/100 [==============================] - 17s 166ms/step - loss: 0.4563 - accuracy: 0.7730 - val_loss: 0.4689 - val_accuracy: 0.7890\n",
      "Epoch 56/100\n",
      "100/100 [==============================] - 17s 166ms/step - loss: 0.4503 - accuracy: 0.7820 - val_loss: 0.4782 - val_accuracy: 0.7270\n",
      "Epoch 57/100\n",
      "100/100 [==============================] - 17s 166ms/step - loss: 0.4634 - accuracy: 0.7700 - val_loss: 0.4234 - val_accuracy: 0.8010\n",
      "Epoch 58/100\n",
      "100/100 [==============================] - 17s 168ms/step - loss: 0.4498 - accuracy: 0.7715 - val_loss: 0.4263 - val_accuracy: 0.7840\n",
      "Epoch 59/100\n",
      "100/100 [==============================] - 17s 166ms/step - loss: 0.4495 - accuracy: 0.7835 - val_loss: 0.4505 - val_accuracy: 0.7630\n",
      "Epoch 60/100\n",
      "100/100 [==============================] - 17s 167ms/step - loss: 0.4422 - accuracy: 0.7830 - val_loss: 0.4683 - val_accuracy: 0.7500\n",
      "Epoch 61/100\n",
      "100/100 [==============================] - 17s 168ms/step - loss: 0.4458 - accuracy: 0.7825 - val_loss: 0.4481 - val_accuracy: 0.7440\n",
      "Epoch 62/100\n",
      "100/100 [==============================] - 17s 167ms/step - loss: 0.4545 - accuracy: 0.7780 - val_loss: 0.4239 - val_accuracy: 0.7970\n",
      "Epoch 63/100\n",
      "100/100 [==============================] - 17s 167ms/step - loss: 0.4464 - accuracy: 0.7800 - val_loss: 0.4230 - val_accuracy: 0.8020\n",
      "Epoch 64/100\n",
      "100/100 [==============================] - 17s 165ms/step - loss: 0.4328 - accuracy: 0.7895 - val_loss: 0.4606 - val_accuracy: 0.7660\n",
      "Epoch 65/100\n",
      "100/100 [==============================] - 17s 167ms/step - loss: 0.4269 - accuracy: 0.7960 - val_loss: 0.4566 - val_accuracy: 0.7610\n",
      "Epoch 66/100\n",
      "100/100 [==============================] - 17s 167ms/step - loss: 0.4414 - accuracy: 0.7865 - val_loss: 0.4911 - val_accuracy: 0.7950\n",
      "Epoch 67/100\n",
      "100/100 [==============================] - 17s 167ms/step - loss: 0.4316 - accuracy: 0.7880 - val_loss: 0.4345 - val_accuracy: 0.8130\n",
      "Epoch 68/100\n",
      "100/100 [==============================] - 17s 168ms/step - loss: 0.4365 - accuracy: 0.7965 - val_loss: 0.4780 - val_accuracy: 0.7980\n",
      "Epoch 69/100\n",
      "100/100 [==============================] - 17s 166ms/step - loss: 0.4290 - accuracy: 0.7930 - val_loss: 0.4233 - val_accuracy: 0.8160\n",
      "Epoch 70/100\n",
      "100/100 [==============================] - 17s 166ms/step - loss: 0.4339 - accuracy: 0.7835 - val_loss: 0.4389 - val_accuracy: 0.7800\n",
      "Epoch 71/100\n",
      "100/100 [==============================] - 17s 165ms/step - loss: 0.4174 - accuracy: 0.8015 - val_loss: 0.4009 - val_accuracy: 0.8020\n",
      "Epoch 72/100\n",
      "100/100 [==============================] - 17s 167ms/step - loss: 0.4293 - accuracy: 0.8000 - val_loss: 0.4144 - val_accuracy: 0.8120\n",
      "Epoch 73/100\n",
      "100/100 [==============================] - 17s 168ms/step - loss: 0.4233 - accuracy: 0.7955 - val_loss: 0.4076 - val_accuracy: 0.8040\n",
      "Epoch 74/100\n",
      "100/100 [==============================] - 17s 167ms/step - loss: 0.4260 - accuracy: 0.8010 - val_loss: 0.4216 - val_accuracy: 0.7900\n",
      "Epoch 75/100\n",
      "100/100 [==============================] - 17s 167ms/step - loss: 0.4234 - accuracy: 0.7935 - val_loss: 0.4214 - val_accuracy: 0.8180\n",
      "Epoch 76/100\n",
      "100/100 [==============================] - 17s 167ms/step - loss: 0.4207 - accuracy: 0.7985 - val_loss: 0.4103 - val_accuracy: 0.7790\n",
      "Epoch 77/100\n",
      "100/100 [==============================] - 17s 167ms/step - loss: 0.4149 - accuracy: 0.7945 - val_loss: 0.4034 - val_accuracy: 0.8040\n",
      "Epoch 78/100\n",
      "100/100 [==============================] - 17s 166ms/step - loss: 0.4163 - accuracy: 0.7935 - val_loss: 0.4209 - val_accuracy: 0.8240\n",
      "Epoch 79/100\n",
      "100/100 [==============================] - 17s 167ms/step - loss: 0.4009 - accuracy: 0.8045 - val_loss: 0.4008 - val_accuracy: 0.8070\n",
      "Epoch 80/100\n",
      "100/100 [==============================] - 17s 168ms/step - loss: 0.4048 - accuracy: 0.8100 - val_loss: 0.4290 - val_accuracy: 0.7740\n",
      "Epoch 81/100\n",
      "100/100 [==============================] - 17s 167ms/step - loss: 0.4100 - accuracy: 0.8075 - val_loss: 0.4203 - val_accuracy: 0.8170\n",
      "Epoch 82/100\n",
      "100/100 [==============================] - 17s 168ms/step - loss: 0.4062 - accuracy: 0.8050 - val_loss: 0.4371 - val_accuracy: 0.8170\n",
      "Epoch 83/100\n",
      "100/100 [==============================] - 17s 166ms/step - loss: 0.4068 - accuracy: 0.8075 - val_loss: 0.4194 - val_accuracy: 0.8060\n",
      "Epoch 84/100\n",
      "100/100 [==============================] - 17s 166ms/step - loss: 0.4065 - accuracy: 0.8010 - val_loss: 0.4369 - val_accuracy: 0.8100\n",
      "Epoch 85/100\n",
      "100/100 [==============================] - 17s 166ms/step - loss: 0.4243 - accuracy: 0.7950 - val_loss: 0.4205 - val_accuracy: 0.8220\n",
      "Epoch 86/100\n",
      "100/100 [==============================] - 17s 168ms/step - loss: 0.4092 - accuracy: 0.8015 - val_loss: 0.4295 - val_accuracy: 0.7750\n",
      "Epoch 87/100\n",
      "100/100 [==============================] - 17s 167ms/step - loss: 0.4020 - accuracy: 0.8010 - val_loss: 0.3915 - val_accuracy: 0.8060\n",
      "Epoch 88/100\n",
      "100/100 [==============================] - 17s 166ms/step - loss: 0.4074 - accuracy: 0.8090 - val_loss: 0.4340 - val_accuracy: 0.8120\n",
      "Epoch 89/100\n",
      "100/100 [==============================] - 17s 166ms/step - loss: 0.4104 - accuracy: 0.8040 - val_loss: 0.4016 - val_accuracy: 0.8260\n",
      "Epoch 90/100\n",
      "100/100 [==============================] - 17s 167ms/step - loss: 0.4150 - accuracy: 0.7960 - val_loss: 0.4244 - val_accuracy: 0.7850\n",
      "Epoch 91/100\n",
      "100/100 [==============================] - 17s 168ms/step - loss: 0.3999 - accuracy: 0.8095 - val_loss: 0.4051 - val_accuracy: 0.8100\n",
      "Epoch 92/100\n",
      "100/100 [==============================] - 17s 167ms/step - loss: 0.3916 - accuracy: 0.8070 - val_loss: 0.4222 - val_accuracy: 0.8320\n",
      "Epoch 93/100\n",
      "100/100 [==============================] - 17s 166ms/step - loss: 0.4062 - accuracy: 0.8060 - val_loss: 0.4032 - val_accuracy: 0.7970\n",
      "Epoch 94/100\n",
      "100/100 [==============================] - 17s 166ms/step - loss: 0.3874 - accuracy: 0.8150 - val_loss: 0.4412 - val_accuracy: 0.7750\n",
      "Epoch 95/100\n",
      "100/100 [==============================] - 17s 165ms/step - loss: 0.3712 - accuracy: 0.8235 - val_loss: 0.4210 - val_accuracy: 0.8140\n",
      "Epoch 96/100\n",
      "100/100 [==============================] - 17s 167ms/step - loss: 0.3795 - accuracy: 0.8145 - val_loss: 0.4051 - val_accuracy: 0.8240\n",
      "Epoch 97/100\n",
      "100/100 [==============================] - 17s 166ms/step - loss: 0.3769 - accuracy: 0.8100 - val_loss: 0.4837 - val_accuracy: 0.8170\n",
      "Epoch 98/100\n",
      "100/100 [==============================] - 17s 168ms/step - loss: 0.3724 - accuracy: 0.8240 - val_loss: 0.4174 - val_accuracy: 0.7890\n",
      "Epoch 99/100\n",
      "100/100 [==============================] - 17s 166ms/step - loss: 0.3837 - accuracy: 0.8140 - val_loss: 0.3921 - val_accuracy: 0.8050\n",
      "Epoch 100/100\n",
      "100/100 [==============================] - 17s 166ms/step - loss: 0.3908 - accuracy: 0.8080 - val_loss: 0.4341 - val_accuracy: 0.8020\n"
     ]
    }
   ],
   "source": [
    "history=model.fit(aug_train_gen,epochs=100,steps_per_epoch=100,validation_data=(aug_test_gen),validation_steps=50)"
   ]
  },
  {
   "cell_type": "code",
   "execution_count": null,
   "metadata": {
    "colab": {},
    "colab_type": "code",
    "id": "SZTKc0jQXSsR"
   },
   "outputs": [],
   "source": [
    "loss=history.history['loss']\n",
    "val_loss=history.history['val_loss']\n",
    "acc=history.history['accuracy']\n",
    "val_acc=history.history['val_accuracy']"
   ]
  },
  {
   "cell_type": "code",
   "execution_count": 79,
   "metadata": {
    "colab": {
     "base_uri": "https://localhost:8080/",
     "height": 283
    },
    "colab_type": "code",
    "executionInfo": {
     "elapsed": 1683733,
     "status": "ok",
     "timestamp": 1591436998068,
     "user": {
      "displayName": "vikas lakka",
      "photoUrl": "",
      "userId": "02419107211909781677"
     },
     "user_tz": -330
    },
    "id": "7Td4vkW7Xdx2",
    "outputId": "17edbe92-2fd1-420f-ba55-11830d0a3743"
   },
   "outputs": [
    {
     "data": {
      "text/plain": [
       "[<matplotlib.lines.Line2D at 0x7f6f3d29ad30>]"
      ]
     },
     "execution_count": 79,
     "metadata": {
      "tags": []
     },
     "output_type": "execute_result"
    },
    {
     "data": {
      "image/png": "[encoded data removed]",
      "text/plain": [
       "<Figure size 432x288 with 1 Axes>"
      ]
     },
     "metadata": {
      "needs_background": "light",
      "tags": []
     },
     "output_type": "display_data"
    }
   ],
   "source": [
    "plt.plot(loss)\n",
    "plt.plot(val_loss)"
   ]
  },
  {
   "cell_type": "code",
   "execution_count": 80,
   "metadata": {
    "colab": {
     "base_uri": "https://localhost:8080/",
     "height": 283
    },
    "colab_type": "code",
    "executionInfo": {
     "elapsed": 1683541,
     "status": "ok",
     "timestamp": 1591436998072,
     "user": {
      "displayName": "vikas lakka",
      "photoUrl": "",
      "userId": "02419107211909781677"
     },
     "user_tz": -330
    },
    "id": "trNQCwpXXjSB",
    "outputId": "4dece939-87e3-456e-8563-be79c4a46ddc"
   },
   "outputs": [
    {
     "data": {
      "text/plain": [
       "[<matplotlib.lines.Line2D at 0x7f6f3594ae10>]"
      ]
     },
     "execution_count": 80,
     "metadata": {
      "tags": []
     },
     "output_type": "execute_result"
    },
    {
     "data": {
      "image/png": "[encoded data removed]",
      "text/plain": [
       "<Figure size 432x288 with 1 Axes>"
      ]
     },
     "metadata": {
      "needs_background": "light",
      "tags": []
     },
     "output_type": "display_data"
    }
   ],
   "source": [
    "plt.plot(acc)\n",
    "plt.plot(val_acc)"
   ]
  },
  {
   "cell_type": "code",
   "execution_count": null,
   "metadata": {
    "colab": {},
    "colab_type": "code",
    "id": "wSnudQh3uYns"
   },
   "outputs": [],
   "source": []
  },
  {
   "cell_type": "code",
   "execution_count": 81,
   "metadata": {
    "colab": {
     "base_uri": "https://localhost:8080/",
     "height": 586
    },
    "colab_type": "code",
    "executionInfo": {
     "elapsed": 1348,
     "status": "ok",
     "timestamp": 1591437001256,
     "user": {
      "displayName": "vikas lakka",
      "photoUrl": "",
      "userId": "02419107211909781677"
     },
     "user_tz": -330
    },
    "id": "kTQD0BuPuYiC",
    "outputId": "a5699099-32e0-4b41-8128-c6bf344e081b"
   },
   "outputs": [
    {
     "name": "stdout",
     "output_type": "stream",
     "text": [
      "Model: \"sequential_23\"\n",
      "_________________________________________________________________\n",
      "Layer (type)                 Output Shape              Param #   \n",
      "=================================================================\n",
      "conv2d_89 (Conv2D)           (None, 148, 148, 32)      896       \n",
      "_________________________________________________________________\n",
      "max_pooling2d_89 (MaxPooling (None, 74, 74, 32)        0         \n",
      "_________________________________________________________________\n",
      "conv2d_90 (Conv2D)           (None, 72, 72, 64)        18496     \n",
      "_________________________________________________________________\n",
      "max_pooling2d_90 (MaxPooling (None, 36, 36, 64)        0         \n",
      "_________________________________________________________________\n",
      "conv2d_91 (Conv2D)           (None, 34, 34, 128)       73856     \n",
      "_________________________________________________________________\n",
      "max_pooling2d_91 (MaxPooling (None, 17, 17, 128)       0         \n",
      "_________________________________________________________________\n",
      "conv2d_92 (Conv2D)           (None, 15, 15, 128)       147584    \n",
      "_________________________________________________________________\n",
      "max_pooling2d_92 (MaxPooling (None, 7, 7, 128)         0         \n",
      "_________________________________________________________________\n",
      "dropout_9 (Dropout)          (None, 7, 7, 128)         0         \n",
      "_________________________________________________________________\n",
      "flatten_23 (Flatten)         (None, 6272)              0         \n",
      "_________________________________________________________________\n",
      "dense_46 (Dense)             (None, 512)               3211776   \n",
      "_________________________________________________________________\n",
      "dense_47 (Dense)             (None, 1)                 513       \n",
      "=================================================================\n",
      "Total params: 3,453,121\n",
      "Trainable params: 3,453,121\n",
      "Non-trainable params: 0\n",
      "_________________________________________________________________\n"
     ]
    }
   ],
   "source": [
    "model=keras.Sequential()\n",
    "model.add(Conv2D(filters=32,kernel_size=(3,3),strides=(1,1),padding='VALID',input_shape=(150,150,3),activation=tf.nn.relu))\n",
    "model.add((MaxPooling2D(pool_size=(2,2))))\n",
    "model.add(Conv2D(filters=64,kernel_size=(3,3),strides=(1,1),padding='VALID',activation=tf.nn.relu))\n",
    "model.add(MaxPooling2D(pool_size=(2,2)))\n",
    "model.add(Conv2D(filters=128,kernel_size=(3,3),strides=(1,1),padding='VALID',activation=tf.nn.relu))\n",
    "model.add(MaxPooling2D(pool_size=(2,2)))\n",
    "model.add(Conv2D(filters=128,kernel_size=(3,3),strides=(1,1),padding='VALID',activation=tf.nn.relu))\n",
    "model.add(MaxPooling2D(pool_size=(2,2)))\n",
    "model.add(Dropout(rate=0.3))\n",
    "model.add(Flatten())\n",
    "model.add(Dense(units=512,activation=tf.nn.relu))\n",
    "model.add(Dense(units=1,activation=tf.nn.sigmoid))\n",
    "rmsprop=RMSprop(learning_rate=1e-4)\n",
    "model.compile(optimizer=rmsprop,loss=keras.losses.BinaryCrossentropy(from_logits=False),\n",
    "              metrics=['accuracy'])\n",
    "\n",
    "model.summary()"
   ]
  },
  {
   "cell_type": "code",
   "execution_count": 82,
   "metadata": {
    "colab": {
     "base_uri": "https://localhost:8080/",
     "height": 1000
    },
    "colab_type": "code",
    "executionInfo": {
     "elapsed": 1687229,
     "status": "ok",
     "timestamp": 1591438687422,
     "user": {
      "displayName": "vikas lakka",
      "photoUrl": "",
      "userId": "02419107211909781677"
     },
     "user_tz": -330
    },
    "id": "8Oc2XN_Kudm_",
    "outputId": "58187f1e-e636-46b9-d224-b3e697ad823a"
   },
   "outputs": [
    {
     "name": "stdout",
     "output_type": "stream",
     "text": [
      "Epoch 1/100\n",
      "100/100 [==============================] - 17s 168ms/step - loss: 0.6952 - accuracy: 0.5225 - val_loss: 0.6907 - val_accuracy: 0.5090\n",
      "Epoch 2/100\n",
      "100/100 [==============================] - 17s 166ms/step - loss: 0.6871 - accuracy: 0.5540 - val_loss: 0.6672 - val_accuracy: 0.6180\n",
      "Epoch 3/100\n",
      "100/100 [==============================] - 17s 166ms/step - loss: 0.6719 - accuracy: 0.5670 - val_loss: 0.6841 - val_accuracy: 0.5430\n",
      "Epoch 4/100\n",
      "100/100 [==============================] - 17s 168ms/step - loss: 0.6627 - accuracy: 0.6015 - val_loss: 0.6245 - val_accuracy: 0.6450\n",
      "Epoch 5/100\n",
      "100/100 [==============================] - 17s 168ms/step - loss: 0.6488 - accuracy: 0.6205 - val_loss: 0.6081 - val_accuracy: 0.6540\n",
      "Epoch 6/100\n",
      "100/100 [==============================] - 17s 168ms/step - loss: 0.6315 - accuracy: 0.6330 - val_loss: 0.6292 - val_accuracy: 0.6060\n",
      "Epoch 7/100\n",
      "100/100 [==============================] - 17s 167ms/step - loss: 0.6138 - accuracy: 0.6620 - val_loss: 0.5779 - val_accuracy: 0.6930\n",
      "Epoch 8/100\n",
      "100/100 [==============================] - 17s 167ms/step - loss: 0.6020 - accuracy: 0.6650 - val_loss: 0.5963 - val_accuracy: 0.6770\n",
      "Epoch 9/100\n",
      "100/100 [==============================] - 17s 166ms/step - loss: 0.5988 - accuracy: 0.6740 - val_loss: 0.5974 - val_accuracy: 0.6780\n",
      "Epoch 10/100\n",
      "100/100 [==============================] - 17s 168ms/step - loss: 0.6046 - accuracy: 0.6690 - val_loss: 0.5910 - val_accuracy: 0.6820\n",
      "Epoch 11/100\n",
      "100/100 [==============================] - 17s 166ms/step - loss: 0.5991 - accuracy: 0.6715 - val_loss: 0.5456 - val_accuracy: 0.7130\n",
      "Epoch 12/100\n",
      "100/100 [==============================] - 17s 167ms/step - loss: 0.5902 - accuracy: 0.6845 - val_loss: 0.5577 - val_accuracy: 0.7050\n",
      "Epoch 13/100\n",
      "100/100 [==============================] - 17s 167ms/step - loss: 0.5751 - accuracy: 0.6925 - val_loss: 0.6170 - val_accuracy: 0.6750\n",
      "Epoch 14/100\n",
      "100/100 [==============================] - 17s 166ms/step - loss: 0.5823 - accuracy: 0.6900 - val_loss: 0.5429 - val_accuracy: 0.7210\n",
      "Epoch 15/100\n",
      "100/100 [==============================] - 17s 168ms/step - loss: 0.5772 - accuracy: 0.6980 - val_loss: 0.5269 - val_accuracy: 0.7310\n",
      "Epoch 16/100\n",
      "100/100 [==============================] - 17s 168ms/step - loss: 0.5720 - accuracy: 0.7030 - val_loss: 0.5323 - val_accuracy: 0.7270\n",
      "Epoch 17/100\n",
      "100/100 [==============================] - 17s 167ms/step - loss: 0.5554 - accuracy: 0.7200 - val_loss: 0.5163 - val_accuracy: 0.7210\n",
      "Epoch 18/100\n",
      "100/100 [==============================] - 17s 166ms/step - loss: 0.5622 - accuracy: 0.7130 - val_loss: 0.5261 - val_accuracy: 0.7220\n",
      "Epoch 19/100\n",
      "100/100 [==============================] - 17s 167ms/step - loss: 0.5478 - accuracy: 0.7115 - val_loss: 0.5518 - val_accuracy: 0.7160\n",
      "Epoch 20/100\n",
      "100/100 [==============================] - 17s 168ms/step - loss: 0.5484 - accuracy: 0.7150 - val_loss: 0.5445 - val_accuracy: 0.7090\n",
      "Epoch 21/100\n",
      "100/100 [==============================] - 17s 166ms/step - loss: 0.5509 - accuracy: 0.7285 - val_loss: 0.5038 - val_accuracy: 0.7400\n",
      "Epoch 22/100\n",
      "100/100 [==============================] - 17s 168ms/step - loss: 0.5482 - accuracy: 0.7210 - val_loss: 0.5010 - val_accuracy: 0.7450\n",
      "Epoch 23/100\n",
      "100/100 [==============================] - 17s 166ms/step - loss: 0.5485 - accuracy: 0.7165 - val_loss: 0.5138 - val_accuracy: 0.7370\n",
      "Epoch 24/100\n",
      "100/100 [==============================] - 17s 168ms/step - loss: 0.5402 - accuracy: 0.7165 - val_loss: 0.5023 - val_accuracy: 0.7630\n",
      "Epoch 25/100\n",
      "100/100 [==============================] - 17s 168ms/step - loss: 0.5323 - accuracy: 0.7330 - val_loss: 0.5259 - val_accuracy: 0.7460\n",
      "Epoch 26/100\n",
      "100/100 [==============================] - 17s 167ms/step - loss: 0.5398 - accuracy: 0.7250 - val_loss: 0.4865 - val_accuracy: 0.7620\n",
      "Epoch 27/100\n",
      "100/100 [==============================] - 17s 167ms/step - loss: 0.5304 - accuracy: 0.7310 - val_loss: 0.5582 - val_accuracy: 0.7250\n",
      "Epoch 28/100\n",
      "100/100 [==============================] - 17s 166ms/step - loss: 0.5230 - accuracy: 0.7415 - val_loss: 0.4935 - val_accuracy: 0.7560\n",
      "Epoch 29/100\n",
      "100/100 [==============================] - 17s 168ms/step - loss: 0.5128 - accuracy: 0.7320 - val_loss: 0.5300 - val_accuracy: 0.7310\n",
      "Epoch 30/100\n",
      "100/100 [==============================] - 17s 166ms/step - loss: 0.5280 - accuracy: 0.7340 - val_loss: 0.5257 - val_accuracy: 0.7310\n",
      "Epoch 31/100\n",
      "100/100 [==============================] - 17s 166ms/step - loss: 0.5176 - accuracy: 0.7505 - val_loss: 0.4914 - val_accuracy: 0.7550\n",
      "Epoch 32/100\n",
      "100/100 [==============================] - 17s 167ms/step - loss: 0.5011 - accuracy: 0.7610 - val_loss: 0.5121 - val_accuracy: 0.7440\n",
      "Epoch 33/100\n",
      "100/100 [==============================] - 17s 166ms/step - loss: 0.4954 - accuracy: 0.7610 - val_loss: 0.4801 - val_accuracy: 0.7700\n",
      "Epoch 34/100\n",
      "100/100 [==============================] - 17s 168ms/step - loss: 0.4909 - accuracy: 0.7570 - val_loss: 0.4906 - val_accuracy: 0.7670\n",
      "Epoch 35/100\n",
      "100/100 [==============================] - 17s 167ms/step - loss: 0.4973 - accuracy: 0.7590 - val_loss: 0.4754 - val_accuracy: 0.7660\n",
      "Epoch 36/100\n",
      "100/100 [==============================] - 17s 166ms/step - loss: 0.4880 - accuracy: 0.7615 - val_loss: 0.4683 - val_accuracy: 0.7740\n",
      "Epoch 37/100\n",
      "100/100 [==============================] - 17s 166ms/step - loss: 0.5084 - accuracy: 0.7405 - val_loss: 0.5328 - val_accuracy: 0.7150\n",
      "Epoch 38/100\n",
      "100/100 [==============================] - 17s 166ms/step - loss: 0.4831 - accuracy: 0.7685 - val_loss: 0.4598 - val_accuracy: 0.7900\n",
      "Epoch 39/100\n",
      "100/100 [==============================] - 17s 167ms/step - loss: 0.4987 - accuracy: 0.7585 - val_loss: 0.4938 - val_accuracy: 0.7590\n",
      "Epoch 40/100\n",
      "100/100 [==============================] - 17s 168ms/step - loss: 0.4863 - accuracy: 0.7700 - val_loss: 0.4583 - val_accuracy: 0.7850\n",
      "Epoch 41/100\n",
      "100/100 [==============================] - 17s 166ms/step - loss: 0.4769 - accuracy: 0.7675 - val_loss: 0.5340 - val_accuracy: 0.7290\n",
      "Epoch 42/100\n",
      "100/100 [==============================] - 17s 166ms/step - loss: 0.4719 - accuracy: 0.7770 - val_loss: 0.4869 - val_accuracy: 0.7520\n",
      "Epoch 43/100\n",
      "100/100 [==============================] - 17s 167ms/step - loss: 0.4826 - accuracy: 0.7760 - val_loss: 0.5039 - val_accuracy: 0.7610\n",
      "Epoch 44/100\n",
      "100/100 [==============================] - 17s 167ms/step - loss: 0.4672 - accuracy: 0.7755 - val_loss: 0.4724 - val_accuracy: 0.7810\n",
      "Epoch 45/100\n",
      "100/100 [==============================] - 17s 166ms/step - loss: 0.4883 - accuracy: 0.7585 - val_loss: 0.4543 - val_accuracy: 0.7810\n",
      "Epoch 46/100\n",
      "100/100 [==============================] - 17s 166ms/step - loss: 0.4733 - accuracy: 0.7695 - val_loss: 0.4557 - val_accuracy: 0.7880\n",
      "Epoch 47/100\n",
      "100/100 [==============================] - 17s 167ms/step - loss: 0.4641 - accuracy: 0.7715 - val_loss: 0.5423 - val_accuracy: 0.7350\n",
      "Epoch 48/100\n",
      "100/100 [==============================] - 17s 167ms/step - loss: 0.4683 - accuracy: 0.7760 - val_loss: 0.6568 - val_accuracy: 0.6810\n",
      "Epoch 49/100\n",
      "100/100 [==============================] - 17s 166ms/step - loss: 0.4695 - accuracy: 0.7740 - val_loss: 0.4521 - val_accuracy: 0.7850\n",
      "Epoch 50/100\n",
      "100/100 [==============================] - 17s 166ms/step - loss: 0.4643 - accuracy: 0.7870 - val_loss: 0.4747 - val_accuracy: 0.7610\n",
      "Epoch 51/100\n",
      "100/100 [==============================] - 17s 166ms/step - loss: 0.4756 - accuracy: 0.7675 - val_loss: 0.4743 - val_accuracy: 0.7610\n",
      "Epoch 52/100\n",
      "100/100 [==============================] - 17s 166ms/step - loss: 0.4507 - accuracy: 0.7825 - val_loss: 0.4711 - val_accuracy: 0.7750\n",
      "Epoch 53/100\n",
      "100/100 [==============================] - 17s 169ms/step - loss: 0.4690 - accuracy: 0.7810 - val_loss: 0.4379 - val_accuracy: 0.7800\n",
      "Epoch 54/100\n",
      "100/100 [==============================] - 17s 166ms/step - loss: 0.4640 - accuracy: 0.7820 - val_loss: 0.4745 - val_accuracy: 0.7670\n",
      "Epoch 55/100\n",
      "100/100 [==============================] - 17s 166ms/step - loss: 0.4532 - accuracy: 0.7815 - val_loss: 0.4829 - val_accuracy: 0.7650\n",
      "Epoch 56/100\n",
      "100/100 [==============================] - 17s 166ms/step - loss: 0.4491 - accuracy: 0.7925 - val_loss: 0.4526 - val_accuracy: 0.7810\n",
      "Epoch 57/100\n",
      "100/100 [==============================] - 17s 166ms/step - loss: 0.4447 - accuracy: 0.7860 - val_loss: 0.4483 - val_accuracy: 0.7910\n",
      "Epoch 58/100\n",
      "100/100 [==============================] - 17s 167ms/step - loss: 0.4561 - accuracy: 0.7810 - val_loss: 0.5113 - val_accuracy: 0.7490\n",
      "Epoch 59/100\n",
      "100/100 [==============================] - 17s 166ms/step - loss: 0.4460 - accuracy: 0.7800 - val_loss: 0.4496 - val_accuracy: 0.7920\n",
      "Epoch 60/100\n",
      "100/100 [==============================] - 17s 166ms/step - loss: 0.4365 - accuracy: 0.7935 - val_loss: 0.4436 - val_accuracy: 0.7840\n",
      "Epoch 61/100\n",
      "100/100 [==============================] - 17s 166ms/step - loss: 0.4325 - accuracy: 0.8005 - val_loss: 0.4380 - val_accuracy: 0.7880\n",
      "Epoch 62/100\n",
      "100/100 [==============================] - 17s 170ms/step - loss: 0.4480 - accuracy: 0.7850 - val_loss: 0.4497 - val_accuracy: 0.7910\n",
      "Epoch 63/100\n",
      "100/100 [==============================] - 17s 168ms/step - loss: 0.4442 - accuracy: 0.7915 - val_loss: 0.4182 - val_accuracy: 0.8170\n",
      "Epoch 64/100\n",
      "100/100 [==============================] - 17s 167ms/step - loss: 0.4262 - accuracy: 0.8060 - val_loss: 0.4462 - val_accuracy: 0.7960\n",
      "Epoch 65/100\n",
      "100/100 [==============================] - 17s 166ms/step - loss: 0.4393 - accuracy: 0.7890 - val_loss: 0.4513 - val_accuracy: 0.7830\n",
      "Epoch 66/100\n",
      "100/100 [==============================] - 17s 167ms/step - loss: 0.4278 - accuracy: 0.8015 - val_loss: 0.4852 - val_accuracy: 0.7730\n",
      "Epoch 67/100\n",
      "100/100 [==============================] - 17s 167ms/step - loss: 0.4235 - accuracy: 0.8045 - val_loss: 0.5149 - val_accuracy: 0.7700\n",
      "Epoch 68/100\n",
      "100/100 [==============================] - 17s 167ms/step - loss: 0.4149 - accuracy: 0.8105 - val_loss: 0.4666 - val_accuracy: 0.7830\n",
      "Epoch 69/100\n",
      "100/100 [==============================] - 17s 166ms/step - loss: 0.4244 - accuracy: 0.8080 - val_loss: 0.4231 - val_accuracy: 0.7920\n",
      "Epoch 70/100\n",
      "100/100 [==============================] - 17s 166ms/step - loss: 0.4373 - accuracy: 0.7895 - val_loss: 0.4421 - val_accuracy: 0.7830\n",
      "Epoch 71/100\n",
      "100/100 [==============================] - 17s 167ms/step - loss: 0.4291 - accuracy: 0.8110 - val_loss: 0.4355 - val_accuracy: 0.7930\n",
      "Epoch 72/100\n",
      "100/100 [==============================] - 17s 168ms/step - loss: 0.4369 - accuracy: 0.7970 - val_loss: 0.4262 - val_accuracy: 0.8060\n",
      "Epoch 73/100\n",
      "100/100 [==============================] - 17s 166ms/step - loss: 0.4237 - accuracy: 0.8080 - val_loss: 0.4298 - val_accuracy: 0.7920\n",
      "Epoch 74/100\n",
      "100/100 [==============================] - 17s 166ms/step - loss: 0.4225 - accuracy: 0.8105 - val_loss: 0.4357 - val_accuracy: 0.8040\n",
      "Epoch 75/100\n",
      "100/100 [==============================] - 17s 166ms/step - loss: 0.4291 - accuracy: 0.7965 - val_loss: 0.4873 - val_accuracy: 0.7650\n",
      "Epoch 76/100\n",
      "100/100 [==============================] - 17s 168ms/step - loss: 0.4172 - accuracy: 0.8060 - val_loss: 0.4332 - val_accuracy: 0.8020\n",
      "Epoch 77/100\n",
      "100/100 [==============================] - 17s 167ms/step - loss: 0.4194 - accuracy: 0.8025 - val_loss: 0.4370 - val_accuracy: 0.8020\n",
      "Epoch 78/100\n",
      "100/100 [==============================] - 17s 166ms/step - loss: 0.4141 - accuracy: 0.8075 - val_loss: 0.4220 - val_accuracy: 0.8060\n",
      "Epoch 79/100\n",
      "100/100 [==============================] - 17s 166ms/step - loss: 0.4134 - accuracy: 0.8120 - val_loss: 0.4715 - val_accuracy: 0.7910\n",
      "Epoch 80/100\n",
      "100/100 [==============================] - 17s 167ms/step - loss: 0.4051 - accuracy: 0.8175 - val_loss: 0.4996 - val_accuracy: 0.7600\n",
      "Epoch 81/100\n",
      "100/100 [==============================] - 17s 166ms/step - loss: 0.4080 - accuracy: 0.8185 - val_loss: 0.4378 - val_accuracy: 0.7940\n",
      "Epoch 82/100\n",
      "100/100 [==============================] - 17s 167ms/step - loss: 0.4098 - accuracy: 0.8175 - val_loss: 0.4245 - val_accuracy: 0.8090\n",
      "Epoch 83/100\n",
      "100/100 [==============================] - 17s 166ms/step - loss: 0.4003 - accuracy: 0.8215 - val_loss: 0.3987 - val_accuracy: 0.8220\n",
      "Epoch 84/100\n",
      "100/100 [==============================] - 17s 166ms/step - loss: 0.4212 - accuracy: 0.8090 - val_loss: 0.4522 - val_accuracy: 0.7870\n",
      "Epoch 85/100\n",
      "100/100 [==============================] - 17s 166ms/step - loss: 0.3770 - accuracy: 0.8250 - val_loss: 0.4346 - val_accuracy: 0.7900\n",
      "Epoch 86/100\n",
      "100/100 [==============================] - 17s 167ms/step - loss: 0.3910 - accuracy: 0.8255 - val_loss: 0.4275 - val_accuracy: 0.8040\n",
      "Epoch 87/100\n",
      "100/100 [==============================] - 17s 167ms/step - loss: 0.3921 - accuracy: 0.8160 - val_loss: 0.4087 - val_accuracy: 0.8280\n",
      "Epoch 88/100\n",
      "100/100 [==============================] - 17s 166ms/step - loss: 0.3943 - accuracy: 0.8210 - val_loss: 0.4215 - val_accuracy: 0.8030\n",
      "Epoch 89/100\n",
      "100/100 [==============================] - 17s 166ms/step - loss: 0.3889 - accuracy: 0.8280 - val_loss: 0.4795 - val_accuracy: 0.7750\n",
      "Epoch 90/100\n",
      "100/100 [==============================] - 17s 170ms/step - loss: 0.3787 - accuracy: 0.8280 - val_loss: 0.4545 - val_accuracy: 0.7930\n",
      "Epoch 91/100\n",
      "100/100 [==============================] - 17s 167ms/step - loss: 0.3993 - accuracy: 0.8165 - val_loss: 0.4896 - val_accuracy: 0.7690\n",
      "Epoch 92/100\n",
      "100/100 [==============================] - 17s 167ms/step - loss: 0.3917 - accuracy: 0.8265 - val_loss: 0.4225 - val_accuracy: 0.8090\n",
      "Epoch 93/100\n",
      "100/100 [==============================] - 17s 166ms/step - loss: 0.3845 - accuracy: 0.8320 - val_loss: 0.3958 - val_accuracy: 0.8180\n",
      "Epoch 94/100\n",
      "100/100 [==============================] - 17s 167ms/step - loss: 0.3719 - accuracy: 0.8265 - val_loss: 0.4812 - val_accuracy: 0.7860\n",
      "Epoch 95/100\n",
      "100/100 [==============================] - 17s 166ms/step - loss: 0.3908 - accuracy: 0.8155 - val_loss: 0.5097 - val_accuracy: 0.7710\n",
      "Epoch 96/100\n",
      "100/100 [==============================] - 17s 168ms/step - loss: 0.3801 - accuracy: 0.8270 - val_loss: 0.4146 - val_accuracy: 0.8050\n",
      "Epoch 97/100\n",
      "100/100 [==============================] - 17s 166ms/step - loss: 0.3845 - accuracy: 0.8235 - val_loss: 0.4016 - val_accuracy: 0.8040\n",
      "Epoch 98/100\n",
      "100/100 [==============================] - 17s 166ms/step - loss: 0.3740 - accuracy: 0.8360 - val_loss: 0.5225 - val_accuracy: 0.7750\n",
      "Epoch 99/100\n",
      "100/100 [==============================] - 17s 166ms/step - loss: 0.3816 - accuracy: 0.8275 - val_loss: 0.3968 - val_accuracy: 0.8200\n",
      "Epoch 100/100\n",
      "100/100 [==============================] - 17s 167ms/step - loss: 0.3539 - accuracy: 0.8425 - val_loss: 0.6255 - val_accuracy: 0.7320\n"
     ]
    }
   ],
   "source": [
    "history=model.fit(aug_train_gen,epochs=100,steps_per_epoch=100,validation_data=(aug_test_gen),validation_steps=50)"
   ]
  },
  {
   "cell_type": "code",
   "execution_count": null,
   "metadata": {
    "colab": {},
    "colab_type": "code",
    "id": "KcB5m6wouf5V"
   },
   "outputs": [],
   "source": []
  },
  {
   "cell_type": "code",
   "execution_count": null,
   "metadata": {
    "colab": {},
    "colab_type": "code",
    "id": "lBSK-UEwuf2M"
   },
   "outputs": [],
   "source": [
    "loss=history.history['loss']\n",
    "val_loss=history.history['val_loss']\n",
    "acc=history.history['accuracy']\n",
    "val_acc=history.history['val_accuracy']"
   ]
  },
  {
   "cell_type": "code",
   "execution_count": 84,
   "metadata": {
    "colab": {
     "base_uri": "https://localhost:8080/",
     "height": 283
    },
    "colab_type": "code",
    "executionInfo": {
     "elapsed": 1687112,
     "status": "ok",
     "timestamp": 1591438687433,
     "user": {
      "displayName": "vikas lakka",
      "photoUrl": "",
      "userId": "02419107211909781677"
     },
     "user_tz": -330
    },
    "id": "jq6wGPLyufyS",
    "outputId": "1213ef23-8b14-4da7-c898-31f62ed41bf8"
   },
   "outputs": [
    {
     "data": {
      "text/plain": [
       "[<matplotlib.lines.Line2D at 0x7f6f33c93eb8>]"
      ]
     },
     "execution_count": 84,
     "metadata": {
      "tags": []
     },
     "output_type": "execute_result"
    },
    {
     "data": {
      "image/png": "[encoded data removed]",
      "text/plain": [
       "<Figure size 432x288 with 1 Axes>"
      ]
     },
     "metadata": {
      "needs_background": "light",
      "tags": []
     },
     "output_type": "display_data"
    }
   ],
   "source": [
    "plt.plot(loss)\n",
    "plt.plot(val_loss)"
   ]
  },
  {
   "cell_type": "code",
   "execution_count": 85,
   "metadata": {
    "colab": {
     "base_uri": "https://localhost:8080/",
     "height": 283
    },
    "colab_type": "code",
    "executionInfo": {
     "elapsed": 1687041,
     "status": "ok",
     "timestamp": 1591438687436,
     "user": {
      "displayName": "vikas lakka",
      "photoUrl": "",
      "userId": "02419107211909781677"
     },
     "user_tz": -330
    },
    "id": "G682swIJufup",
    "outputId": "366540a0-4236-48cf-f795-e25a72e65547"
   },
   "outputs": [
    {
     "data": {
      "text/plain": [
       "[<matplotlib.lines.Line2D at 0x7f6f3625d160>]"
      ]
     },
     "execution_count": 85,
     "metadata": {
      "tags": []
     },
     "output_type": "execute_result"
    },
    {
     "data": {
      "image/png": "[encoded data removed]",
      "text/plain": [
       "<Figure size 432x288 with 1 Axes>"
      ]
     },
     "metadata": {
      "needs_background": "light",
      "tags": []
     },
     "output_type": "display_data"
    }
   ],
   "source": [
    "plt.plot(acc)\n",
    "plt.plot(val_acc)"
   ]
  },
  {
   "cell_type": "code",
   "execution_count": null,
   "metadata": {
    "colab": {},
    "colab_type": "code",
    "id": "UPhsx7U-uqCx"
   },
   "outputs": [],
   "source": []
  }
 ],
 "metadata": {
  "accelerator": "GPU",
  "colab": {
   "authorship_tag": "ABX9TyPg90zLi1AvgN+3wjGg19k6",
   "collapsed_sections": [],
   "name": "1- Data Augmentation Cats and Dogs.ipynb",
   "provenance": []
  },
  "kernelspec": {
   "display_name": "Python 3",
   "language": "python",
   "name": "python3"
  },
  "language_info": {
   "codemirror_mode": {
    "name": "ipython",
    "version": 3
   },
   "file_extension": ".py",
   "mimetype": "text/x-python",
   "name": "python",
   "nbconvert_exporter": "python",
   "pygments_lexer": "ipython3",
   "version": "3.7.6"
  }
 },
 "nbformat": 4,
 "nbformat_minor": 4
}
