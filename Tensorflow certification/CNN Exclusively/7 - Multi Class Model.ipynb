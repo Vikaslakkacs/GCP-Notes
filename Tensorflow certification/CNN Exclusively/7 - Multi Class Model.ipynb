{
 "cells": [
  {
   "cell_type": "code",
   "execution_count": 1,
   "metadata": {
    "colab": {
     "base_uri": "https://localhost:8080/",
     "height": 408
    },
    "colab_type": "code",
    "executionInfo": {
     "elapsed": 10833,
     "status": "ok",
     "timestamp": 1591546637189,
     "user": {
      "displayName": "vikas lakka",
      "photoUrl": "",
      "userId": "02419107211909781677"
     },
     "user_tz": -330
    },
    "id": "W5bSqvM1dsFW",
    "outputId": "453ff921-83ab-41fe-b616-fe09008d9e71"
   },
   "outputs": [
    {
     "name": "stdout",
     "output_type": "stream",
     "text": [
      "--2020-06-07 16:17:11--  https://storage.googleapis.com/laurencemoroney-blog.appspot.com/rps.zip\n",
      "Resolving storage.googleapis.com (storage.googleapis.com)... 74.125.140.128, 2a00:1450:400c:c07::80\n",
      "Connecting to storage.googleapis.com (storage.googleapis.com)|74.125.140.128|:443... connected.\n",
      "HTTP request sent, awaiting response... 200 OK\n",
      "Length: 200682221 (191M) [application/zip]\n",
      "Saving to: ‘/tmp/rps.zip’\n",
      "\n",
      "/tmp/rps.zip        100%[===================>] 191.38M  65.5MB/s    in 2.9s    \n",
      "\n",
      "2020-06-07 16:17:14 (65.5 MB/s) - ‘/tmp/rps.zip’ saved [200682221/200682221]\n",
      "\n",
      "--2020-06-07 16:17:16--  https://storage.googleapis.com/laurencemoroney-blog.appspot.com/rps-test-set.zip\n",
      "Resolving storage.googleapis.com (storage.googleapis.com)... 173.194.76.128, 2a00:1450:400c:c09::80\n",
      "Connecting to storage.googleapis.com (storage.googleapis.com)|173.194.76.128|:443... connected.\n",
      "HTTP request sent, awaiting response... 200 OK\n",
      "Length: 29516758 (28M) [application/zip]\n",
      "Saving to: ‘/tmp/rps-test-set.zip’\n",
      "\n",
      "/tmp/rps-test-set.z 100%[===================>]  28.15M  25.5MB/s    in 1.1s    \n",
      "\n",
      "2020-06-07 16:17:17 (25.5 MB/s) - ‘/tmp/rps-test-set.zip’ saved [29516758/29516758]\n",
      "\n"
     ]
    }
   ],
   "source": [
    "## Here we will create a multi classification model\n",
    "### We will use Rock paper sicissior images and identify in the prediction\n",
    "### These are CGI images. So we will train model.\n",
    "!wget --no-check-certificate \\\n",
    "    https://storage.googleapis.com/laurencemoroney-blog.appspot.com/rps.zip \\\n",
    "    -O /tmp/rps.zip\n",
    "  \n",
    "!wget --no-check-certificate \\\n",
    "    https://storage.googleapis.com/laurencemoroney-blog.appspot.com/rps-test-set.zip \\\n",
    "    -O /tmp/rps-test-set.zip"
   ]
  },
  {
   "cell_type": "code",
   "execution_count": null,
   "metadata": {
    "colab": {},
    "colab_type": "code",
    "id": "dPhUScDZes5b"
   },
   "outputs": [],
   "source": [
    "import numpy as np\n",
    "import matplotlib.pyplot as plt\n",
    "import tensorflow as tf\n",
    "from tensorflow import keras\n",
    "import os\n",
    "import zipfile"
   ]
  },
  {
   "cell_type": "code",
   "execution_count": null,
   "metadata": {
    "colab": {},
    "colab_type": "code",
    "id": "jeTdUk8qfTph"
   },
   "outputs": [],
   "source": [
    "zip_file=zipfile.ZipFile('/tmp/rps.zip')\n",
    "zip_file.extractall('/tmp')\n",
    "zip_file.close()\n",
    "\n",
    "zip_file=zipfile.ZipFile('/tmp/rps-test-set.zip')\n",
    "zip_file.extractall('/tmp')\n",
    "zip_file.close()"
   ]
  },
  {
   "cell_type": "code",
   "execution_count": null,
   "metadata": {
    "colab": {},
    "colab_type": "code",
    "id": "cb5DZd4sfsjK"
   },
   "outputs": [],
   "source": [
    "train_path=os.path.join('/tmp','rps')\n",
    "test_path=os.path.join('/tmp','rps-test-set')"
   ]
  },
  {
   "cell_type": "code",
   "execution_count": null,
   "metadata": {
    "colab": {},
    "colab_type": "code",
    "id": "69VH072JgGgf"
   },
   "outputs": [],
   "source": [
    "from tensorflow.keras.preprocessing.image import ImageDataGenerator"
   ]
  },
  {
   "cell_type": "code",
   "execution_count": 6,
   "metadata": {
    "colab": {
     "base_uri": "https://localhost:8080/",
     "height": 52
    },
    "colab_type": "code",
    "executionInfo": {
     "elapsed": 13675,
     "status": "ok",
     "timestamp": 1591546640302,
     "user": {
      "displayName": "vikas lakka",
      "photoUrl": "",
      "userId": "02419107211909781677"
     },
     "user_tz": -330
    },
    "id": "vQ617F0LgxS4",
    "outputId": "27c446bf-66ba-4631-879c-e15abe6a6d46"
   },
   "outputs": [
    {
     "name": "stdout",
     "output_type": "stream",
     "text": [
      "Found 2520 images belonging to 3 classes.\n",
      "Found 372 images belonging to 3 classes.\n"
     ]
    }
   ],
   "source": [
    "train_gen=ImageDataGenerator(rescale=1/255.0,rotation_range=40, width_shift_range=0.2,height_shift_range=0.2,shear_range=0.2,zoom_range=0.2,fill_mode='nearest',\n",
    "                             horizontal_flip=True)\n",
    "train_data_gen=train_gen.flow_from_directory(train_path,target_size=(150,150),class_mode='categorical',shuffle=True,batch_size=20)\n",
    "\n",
    "test_gen=ImageDataGenerator(rescale=1/255.0)\n",
    "test_data_gen=test_gen.flow_from_directory(test_path,target_size=(150,150),class_mode='categorical',batch_size=20\n",
    "                                           )"
   ]
  },
  {
   "cell_type": "code",
   "execution_count": null,
   "metadata": {
    "colab": {},
    "colab_type": "code",
    "id": "aRyukRqTikWY"
   },
   "outputs": [],
   "source": [
    "### Model Creation\n",
    "from tensorflow.keras.layers import Conv2D,MaxPooling2D,Dense,Flatten,Dropout\n",
    "from tensorflow.keras.optimizers import RMSprop"
   ]
  },
  {
   "cell_type": "code",
   "execution_count": 8,
   "metadata": {
    "colab": {
     "base_uri": "https://localhost:8080/",
     "height": 586
    },
    "colab_type": "code",
    "executionInfo": {
     "elapsed": 21470,
     "status": "ok",
     "timestamp": 1591546648162,
     "user": {
      "displayName": "vikas lakka",
      "photoUrl": "",
      "userId": "02419107211909781677"
     },
     "user_tz": -330
    },
    "id": "uOaE1FUDixN4",
    "outputId": "e8affa00-3dd8-4a4e-abd7-aa7f6d6c0754"
   },
   "outputs": [
    {
     "name": "stdout",
     "output_type": "stream",
     "text": [
      "Model: \"sequential\"\n",
      "_________________________________________________________________\n",
      "Layer (type)                 Output Shape              Param #   \n",
      "=================================================================\n",
      "conv2d (Conv2D)              (None, 148, 148, 32)      896       \n",
      "_________________________________________________________________\n",
      "max_pooling2d (MaxPooling2D) (None, 74, 74, 32)        0         \n",
      "_________________________________________________________________\n",
      "conv2d_1 (Conv2D)            (None, 72, 72, 64)        18496     \n",
      "_________________________________________________________________\n",
      "max_pooling2d_1 (MaxPooling2 (None, 36, 36, 64)        0         \n",
      "_________________________________________________________________\n",
      "conv2d_2 (Conv2D)            (None, 34, 34, 128)       73856     \n",
      "_________________________________________________________________\n",
      "max_pooling2d_2 (MaxPooling2 (None, 17, 17, 128)       0         \n",
      "_________________________________________________________________\n",
      "dropout (Dropout)            (None, 17, 17, 128)       0         \n",
      "_________________________________________________________________\n",
      "conv2d_3 (Conv2D)            (None, 15, 15, 128)       147584    \n",
      "_________________________________________________________________\n",
      "max_pooling2d_3 (MaxPooling2 (None, 7, 7, 128)         0         \n",
      "_________________________________________________________________\n",
      "flatten (Flatten)            (None, 6272)              0         \n",
      "_________________________________________________________________\n",
      "dense (Dense)                (None, 512)               3211776   \n",
      "_________________________________________________________________\n",
      "dense_1 (Dense)              (None, 3)                 1539      \n",
      "=================================================================\n",
      "Total params: 3,454,147\n",
      "Trainable params: 3,454,147\n",
      "Non-trainable params: 0\n",
      "_________________________________________________________________\n"
     ]
    }
   ],
   "source": [
    "model=keras.Sequential()\n",
    "model.add(Conv2D(filters=32,kernel_size=(3,3),strides=(1,1),padding='VALID',input_shape=(150,150,3),activation='relu'))\n",
    "model.add(MaxPooling2D(pool_size=(2,2)))\n",
    "model.add(Conv2D(filters=64,kernel_size=(3,3),strides=(1,1),padding='VALID',activation=tf.nn.relu))\n",
    "model.add(MaxPooling2D(pool_size=(2,2)))\n",
    "model.add(Conv2D(filters=128,kernel_size=(3,3),strides=(1,1),padding='VALID',activation=tf.nn.relu))\n",
    "model.add(MaxPooling2D(pool_size=(2,2)))\n",
    "model.add(Dropout(rate=0.3))\n",
    "model.add(Conv2D(filters=128,kernel_size=(3,3),strides=(1,1),padding='VALID',activation=tf.nn.relu))\n",
    "model.add(MaxPooling2D(pool_size=(2,2)))\n",
    "\n",
    "model.add(Flatten())\n",
    "model.add(Dense(units=512,activation=tf.nn.relu))\n",
    "model.add(Dense(units=3,activation=tf.nn.softmax))\n",
    "rms=RMSprop(learning_rate=1e-4)\n",
    "model.compile(optimizer=rms,loss=keras.losses.CategoricalCrossentropy(from_logits=False),\n",
    "              metrics=['accuracy'])\n",
    "model.summary()"
   ]
  },
  {
   "cell_type": "code",
   "execution_count": 12,
   "metadata": {
    "colab": {
     "base_uri": "https://localhost:8080/",
     "height": 906
    },
    "colab_type": "code",
    "executionInfo": {
     "elapsed": 635029,
     "status": "ok",
     "timestamp": 1591547439399,
     "user": {
      "displayName": "vikas lakka",
      "photoUrl": "",
      "userId": "02419107211909781677"
     },
     "user_tz": -330
    },
    "id": "WjmCXl1ZkGRO",
    "outputId": "adcb171e-49c3-4fe2-9dcf-91dbe995fce0"
   },
   "outputs": [
    {
     "name": "stdout",
     "output_type": "stream",
     "text": [
      "Epoch 1/25\n",
      "126/126 [==============================] - 25s 199ms/step - loss: 0.5602 - accuracy: 0.7671 - val_loss: 0.3412 - val_accuracy: 0.8917\n",
      "Epoch 2/25\n",
      "126/126 [==============================] - 25s 200ms/step - loss: 0.4538 - accuracy: 0.8183 - val_loss: 0.3841 - val_accuracy: 0.7444\n",
      "Epoch 3/25\n",
      "126/126 [==============================] - 25s 201ms/step - loss: 0.4078 - accuracy: 0.8448 - val_loss: 0.1616 - val_accuracy: 0.9722\n",
      "Epoch 4/25\n",
      "126/126 [==============================] - 25s 199ms/step - loss: 0.3458 - accuracy: 0.8738 - val_loss: 0.2114 - val_accuracy: 0.9306\n",
      "Epoch 5/25\n",
      "126/126 [==============================] - 25s 200ms/step - loss: 0.3025 - accuracy: 0.8909 - val_loss: 0.1187 - val_accuracy: 0.9667\n",
      "Epoch 6/25\n",
      "126/126 [==============================] - 25s 200ms/step - loss: 0.2850 - accuracy: 0.8984 - val_loss: 0.1069 - val_accuracy: 0.9750\n",
      "Epoch 7/25\n",
      "126/126 [==============================] - 25s 199ms/step - loss: 0.2504 - accuracy: 0.9111 - val_loss: 0.1829 - val_accuracy: 0.9444\n",
      "Epoch 8/25\n",
      "126/126 [==============================] - 25s 200ms/step - loss: 0.2055 - accuracy: 0.9266 - val_loss: 0.0716 - val_accuracy: 0.9722\n",
      "Epoch 9/25\n",
      "126/126 [==============================] - 25s 200ms/step - loss: 0.2009 - accuracy: 0.9258 - val_loss: 0.0757 - val_accuracy: 0.9806\n",
      "Epoch 10/25\n",
      "126/126 [==============================] - 25s 199ms/step - loss: 0.1997 - accuracy: 0.9298 - val_loss: 0.3059 - val_accuracy: 0.8500\n",
      "Epoch 11/25\n",
      "126/126 [==============================] - 25s 199ms/step - loss: 0.1780 - accuracy: 0.9353 - val_loss: 0.0744 - val_accuracy: 0.9750\n",
      "Epoch 12/25\n",
      "126/126 [==============================] - 25s 198ms/step - loss: 0.1585 - accuracy: 0.9444 - val_loss: 0.0918 - val_accuracy: 0.9750\n",
      "Epoch 13/25\n",
      "126/126 [==============================] - 25s 197ms/step - loss: 0.1372 - accuracy: 0.9512 - val_loss: 0.0554 - val_accuracy: 0.9861\n",
      "Epoch 14/25\n",
      "126/126 [==============================] - 25s 198ms/step - loss: 0.1313 - accuracy: 0.9567 - val_loss: 0.0950 - val_accuracy: 0.9611\n",
      "Epoch 15/25\n",
      "126/126 [==============================] - 25s 199ms/step - loss: 0.1274 - accuracy: 0.9567 - val_loss: 0.0807 - val_accuracy: 0.9694\n",
      "Epoch 16/25\n",
      "126/126 [==============================] - 25s 198ms/step - loss: 0.1250 - accuracy: 0.9544 - val_loss: 0.0627 - val_accuracy: 0.9750\n",
      "Epoch 17/25\n",
      "126/126 [==============================] - 25s 199ms/step - loss: 0.1175 - accuracy: 0.9583 - val_loss: 0.0855 - val_accuracy: 0.9694\n",
      "Epoch 18/25\n",
      "126/126 [==============================] - 25s 198ms/step - loss: 0.1180 - accuracy: 0.9627 - val_loss: 0.0900 - val_accuracy: 0.9639\n",
      "Epoch 19/25\n",
      "126/126 [==============================] - 25s 198ms/step - loss: 0.1032 - accuracy: 0.9675 - val_loss: 0.0817 - val_accuracy: 0.9611\n",
      "Epoch 20/25\n",
      "126/126 [==============================] - 25s 198ms/step - loss: 0.1209 - accuracy: 0.9560 - val_loss: 0.0334 - val_accuracy: 0.9944\n",
      "Epoch 21/25\n",
      "126/126 [==============================] - 25s 198ms/step - loss: 0.0999 - accuracy: 0.9635 - val_loss: 0.4145 - val_accuracy: 0.8667\n",
      "Epoch 22/25\n",
      "126/126 [==============================] - 25s 198ms/step - loss: 0.0966 - accuracy: 0.9647 - val_loss: 0.0895 - val_accuracy: 0.9639\n",
      "Epoch 23/25\n",
      "126/126 [==============================] - 25s 197ms/step - loss: 0.0926 - accuracy: 0.9687 - val_loss: 0.0604 - val_accuracy: 0.9750\n",
      "Epoch 24/25\n",
      "126/126 [==============================] - 25s 198ms/step - loss: 0.0862 - accuracy: 0.9726 - val_loss: 0.2401 - val_accuracy: 0.9083\n",
      "Epoch 25/25\n",
      "126/126 [==============================] - 25s 199ms/step - loss: 0.0925 - accuracy: 0.9702 - val_loss: 0.1556 - val_accuracy: 0.9417\n"
     ]
    }
   ],
   "source": [
    "history=model.fit(train_data_gen,epochs=25,steps_per_epoch=126,validation_data=(test_data_gen),validation_steps=18)"
   ]
  },
  {
   "cell_type": "code",
   "execution_count": null,
   "metadata": {
    "colab": {},
    "colab_type": "code",
    "id": "2vesVL6Dke1Y"
   },
   "outputs": [],
   "source": [
    "metrics=history.history\n",
    "loss=metrics['loss']\n",
    "val_loss=metrics['val_loss']\n",
    "acc=metrics['accuracy']\n",
    "val_acc=metrics['val_accuracy']"
   ]
  },
  {
   "cell_type": "code",
   "execution_count": 14,
   "metadata": {
    "colab": {
     "base_uri": "https://localhost:8080/",
     "height": 283
    },
    "colab_type": "code",
    "executionInfo": {
     "elapsed": 633096,
     "status": "ok",
     "timestamp": 1591547439415,
     "user": {
      "displayName": "vikas lakka",
      "photoUrl": "",
      "userId": "02419107211909781677"
     },
     "user_tz": -330
    },
    "id": "YxN3garMkwfE",
    "outputId": "b76c904f-43f5-49f0-fd35-9e75749c9a92"
   },
   "outputs": [
    {
     "data": {
      "text/plain": [
       "[<matplotlib.lines.Line2D at 0x7f5d86bf8a58>]"
      ]
     },
     "execution_count": 14,
     "metadata": {
      "tags": []
     },
     "output_type": "execute_result"
    },
    {
     "data": {
      "image/png": "[encoded data removed]",
      "text/plain": [
       "<Figure size 432x288 with 1 Axes>"
      ]
     },
     "metadata": {
      "needs_background": "light",
      "tags": []
     },
     "output_type": "display_data"
    }
   ],
   "source": [
    "plt.plot(loss)\n",
    "plt.plot(val_loss)"
   ]
  },
  {
   "cell_type": "code",
   "execution_count": 15,
   "metadata": {
    "colab": {
     "base_uri": "https://localhost:8080/",
     "height": 283
    },
    "colab_type": "code",
    "executionInfo": {
     "elapsed": 632407,
     "status": "ok",
     "timestamp": 1591547439419,
     "user": {
      "displayName": "vikas lakka",
      "photoUrl": "",
      "userId": "02419107211909781677"
     },
     "user_tz": -330
    },
    "id": "mOeegESklBI9",
    "outputId": "2b7e5be6-1cfa-4ef2-e950-75653d35aa9b"
   },
   "outputs": [
    {
     "data": {
      "text/plain": [
       "[<matplotlib.lines.Line2D at 0x7f5d86bf89e8>]"
      ]
     },
     "execution_count": 15,
     "metadata": {
      "tags": []
     },
     "output_type": "execute_result"
    },
    {
     "data": {
      "image/png": "[encoded data removed]",
      "text/plain": [
       "<Figure size 432x288 with 1 Axes>"
      ]
     },
     "metadata": {
      "needs_background": "light",
      "tags": []
     },
     "output_type": "display_data"
    }
   ],
   "source": [
    "plt.plot(acc)\n",
    "plt.plot(val_acc)"
   ]
  },
  {
   "cell_type": "code",
   "execution_count": 16,
   "metadata": {
    "colab": {
     "base_uri": "https://localhost:8080/",
     "height": 256
    },
    "colab_type": "code",
    "executionInfo": {
     "elapsed": 1809,
     "status": "error",
     "timestamp": 1591547441323,
     "user": {
      "displayName": "vikas lakka",
      "photoUrl": "",
      "userId": "02419107211909781677"
     },
     "user_tz": -330
    },
    "id": "ZPZj4um_lFat",
    "outputId": "db6a820d-1879-4aee-c53e-72090af8618a"
   },
   "outputs": [
    {
     "ename": "NameError",
     "evalue": "ignored",
     "output_type": "error",
     "traceback": [
      "\u001b[0;31m---------------------------------------------------------------------------\u001b[0m",
      "\u001b[0;31mNameError\u001b[0m                                 Traceback (most recent call last)",
      "\u001b[0;32m<ipython-input-16-86594f437315>\u001b[0m in \u001b[0;36m<module>\u001b[0;34m()\u001b[0m\n\u001b[1;32m      1\u001b[0m \u001b[0;31m##visulize data\u001b[0m\u001b[0;34m\u001b[0m\u001b[0;34m\u001b[0m\u001b[0;34m\u001b[0m\u001b[0m\n\u001b[0;32m----> 2\u001b[0;31m \u001b[0mlayers\u001b[0m\u001b[0;34m=\u001b[0m\u001b[0;34m[\u001b[0m\u001b[0mlayers\u001b[0m \u001b[0;32mfor\u001b[0m \u001b[0mlayer\u001b[0m \u001b[0;32min\u001b[0m \u001b[0mmodel\u001b[0m\u001b[0;34m.\u001b[0m\u001b[0mlayers\u001b[0m\u001b[0;34m]\u001b[0m\u001b[0;34m\u001b[0m\u001b[0;34m\u001b[0m\u001b[0m\n\u001b[0m",
      "\u001b[0;32m<ipython-input-16-86594f437315>\u001b[0m in \u001b[0;36m<listcomp>\u001b[0;34m(.0)\u001b[0m\n\u001b[1;32m      1\u001b[0m \u001b[0;31m##visulize data\u001b[0m\u001b[0;34m\u001b[0m\u001b[0;34m\u001b[0m\u001b[0;34m\u001b[0m\u001b[0m\n\u001b[0;32m----> 2\u001b[0;31m \u001b[0mlayers\u001b[0m\u001b[0;34m=\u001b[0m\u001b[0;34m[\u001b[0m\u001b[0mlayers\u001b[0m \u001b[0;32mfor\u001b[0m \u001b[0mlayer\u001b[0m \u001b[0;32min\u001b[0m \u001b[0mmodel\u001b[0m\u001b[0;34m.\u001b[0m\u001b[0mlayers\u001b[0m\u001b[0;34m]\u001b[0m\u001b[0;34m\u001b[0m\u001b[0;34m\u001b[0m\u001b[0m\n\u001b[0m",
      "\u001b[0;31mNameError\u001b[0m: name 'layers' is not defined"
     ]
    }
   ],
   "source": [
    "##visulize data\n",
    "layers=[layers for layer in model.layers]"
   ]
  },
  {
   "cell_type": "code",
   "execution_count": null,
   "metadata": {
    "colab": {},
    "colab_type": "code",
    "id": "fu0aAK-nlciY"
   },
   "outputs": [],
   "source": []
  }
 ],
 "metadata": {
  "colab": {
   "authorship_tag": "ABX9TyNrHktEF7U0ilZ0GS9c2g/r",
   "collapsed_sections": [],
   "name": "1- Multi Class Model.ipynb",
   "provenance": []
  },
  "kernelspec": {
   "display_name": "Python 3",
   "language": "python",
   "name": "python3"
  },
  "language_info": {
   "codemirror_mode": {
    "name": "ipython",
    "version": 3
   },
   "file_extension": ".py",
   "mimetype": "text/x-python",
   "name": "python",
   "nbconvert_exporter": "python",
   "pygments_lexer": "ipython3",
   "version": "3.7.6"
  }
 },
 "nbformat": 4,
 "nbformat_minor": 4
}
