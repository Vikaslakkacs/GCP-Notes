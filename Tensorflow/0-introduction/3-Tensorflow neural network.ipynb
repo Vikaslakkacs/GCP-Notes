{
 "cells": [
  {
   "cell_type": "code",
   "execution_count": 1,
   "metadata": {},
   "outputs": [],
   "source": [
    "'''\n",
    "Here we will create a simple neural nets that performa simple liunear fit to 2-D data.\n",
    "Steps: We will build a graph\n",
    "        initiate a session\n",
    "        Feed data in and get the output.\n",
    "        Basically like wx+b=z\n",
    "        w=weight which we store in variable\n",
    "        x=values where we store in place holder\n",
    "        b=Bias where we store in variable\n",
    "        z=output\n",
    "\n",
    "important notes: Where ever we are using variables we have to initialise the global variable initialiser.\n",
    "'''\n",
    "import numpy as np\n",
    "import tensorflow as tf"
   ]
  },
  {
   "cell_type": "code",
   "execution_count": 2,
   "metadata": {},
   "outputs": [],
   "source": [
    "#Lets get some random seed values\n",
    "np.random.seed(101)\n",
    "tf.set_random_seed(101)"
   ]
  },
  {
   "cell_type": "code",
   "execution_count": 3,
   "metadata": {},
   "outputs": [
    {
     "data": {
      "text/plain": [
       "array([[51.63986277, 57.06675869,  2.84742265, 17.15216562, 68.52769817],\n",
       "       [83.38968626, 30.69662197, 89.36130797, 72.15438618, 18.99389542],\n",
       "       [55.42275911, 35.2131954 , 18.18924027, 78.56017619, 96.54832224],\n",
       "       [23.23536618,  8.35614337, 60.35484223, 72.89927573, 27.62388285],\n",
       "       [68.53063288, 51.78674742,  4.84845374, 13.78692376, 18.69674261]])"
      ]
     },
     "execution_count": 3,
     "metadata": {},
     "output_type": "execute_result"
    }
   ],
   "source": [
    "#lets create a random data with shape 5 X 5\n",
    "rand_a=np.random.uniform(0,100,(5,5))\n",
    "rand_a"
   ]
  },
  {
   "cell_type": "code",
   "execution_count": 4,
   "metadata": {},
   "outputs": [],
   "source": [
    "#Lets crat another randomnow with 5 X 1\n",
    "rand_b=np.random.uniform(0,100,(5,1))\n"
   ]
  },
  {
   "cell_type": "code",
   "execution_count": 5,
   "metadata": {},
   "outputs": [
    {
     "data": {
      "text/plain": [
       "array([[99.43179012],\n",
       "       [52.06653967],\n",
       "       [57.87895355],\n",
       "       [73.48190583],\n",
       "       [54.19617722]])"
      ]
     },
     "execution_count": 5,
     "metadata": {},
     "output_type": "execute_result"
    }
   ],
   "source": [
    "rand_b"
   ]
  },
  {
   "cell_type": "code",
   "execution_count": 6,
   "metadata": {},
   "outputs": [],
   "source": [
    "#now we will create place holder for random objects.\n",
    "a=tf.placeholder(tf.float32)\n",
    "b=tf.placeholder(tf.float32)"
   ]
  },
  {
   "cell_type": "code",
   "execution_count": 7,
   "metadata": {},
   "outputs": [],
   "source": [
    "#Now lets create some operations Adda and Matrix multiplication.\n",
    "add_op= a + b"
   ]
  },
  {
   "cell_type": "code",
   "execution_count": 8,
   "metadata": {},
   "outputs": [],
   "source": [
    "mul_op= a * b"
   ]
  },
  {
   "cell_type": "code",
   "execution_count": 9,
   "metadata": {},
   "outputs": [
    {
     "name": "stdout",
     "output_type": "stream",
     "text": [
      "30.0\n"
     ]
    }
   ],
   "source": [
    "#Now lets create a session and we use graphs\n",
    "with tf.compat.v1.Session() as sess:\n",
    "    #Here add_op is a+b which they are place holders and we need to give them some data to feed.\n",
    "    add_result=sess.run(add_op,feed_dict={a:10,b:20})\n",
    "    print(add_result)"
   ]
  },
  {
   "cell_type": "code",
   "execution_count": 10,
   "metadata": {},
   "outputs": [
    {
     "name": "stdout",
     "output_type": "stream",
     "text": [
      "[[151.07166  156.49855  102.27921  116.58396  167.95949 ]\n",
      " [135.45622   82.76316  141.42784  124.22093   71.06043 ]\n",
      " [113.30171   93.09215   76.06819  136.43912  154.42728 ]\n",
      " [ 96.71727   81.83804  133.83675  146.38118  101.10579 ]\n",
      " [122.72681  105.982925  59.044632  67.9831    72.89292 ]]\n",
      "\n",
      "\n",
      "[[5134.644   5674.25     283.12433 1705.4707  6813.8315 ]\n",
      " [4341.8125  1598.267   4652.734   3756.8293   988.94635]\n",
      " [3207.8113  2038.1029  1052.7742  4546.9805  5588.1157 ]\n",
      " [1707.379    614.02527 4434.989   5356.7773  2029.8555 ]\n",
      " [3714.0984  2806.6438   262.76764  747.19855 1013.292  ]]\n"
     ]
    }
   ],
   "source": [
    "#So here instead of 10 we will add the random values\n",
    "with tf.compat.v1.Session() as sess:\n",
    "    add_result=sess.run(add_op,feed_dict={a:rand_a,b:rand_b})\n",
    "    print(add_result)\n",
    "    print('\\n')\n",
    "    mul_result=sess.run(mul_op,feed_dict={a:rand_a,b:rand_b})\n",
    "    print(mul_result)"
   ]
  },
  {
   "cell_type": "code",
   "execution_count": null,
   "metadata": {},
   "outputs": [],
   "source": []
  },
  {
   "cell_type": "markdown",
   "metadata": {},
   "source": [
    "# Now all set we will create a neural nets"
   ]
  },
  {
   "cell_type": "markdown",
   "metadata": {},
   "source": [
    "## We will create a simple linear regression"
   ]
  },
  {
   "cell_type": "code",
   "execution_count": 11,
   "metadata": {},
   "outputs": [],
   "source": [
    "#Lets create featuers\n",
    "n_features=10\n",
    "#Neurons\n",
    "n_dense_neurons=3\n"
   ]
  },
  {
   "cell_type": "code",
   "execution_count": 12,
   "metadata": {},
   "outputs": [],
   "source": [
    "#We will create place holder\n",
    "x=tf.placeholder(tf.float32,shape=(None,n_features))\n"
   ]
  },
  {
   "cell_type": "code",
   "execution_count": 13,
   "metadata": {},
   "outputs": [],
   "source": [
    "#Lets create variables for weights\n",
    "w=tf.Variable(tf.random_normal([n_features,n_dense_neurons]))\n",
    "b=tf.Variable(tf.ones([n_dense_neurons]))"
   ]
  },
  {
   "cell_type": "code",
   "execution_count": 14,
   "metadata": {},
   "outputs": [],
   "source": [
    "#Lets have operation wx+b\n",
    "xw=tf.matmul(x,w)\n",
    "z=tf.add(xw,b)"
   ]
  },
  {
   "cell_type": "markdown",
   "metadata": {},
   "source": [
    "### Now lets pass the equation to activation function\n"
   ]
  },
  {
   "cell_type": "code",
   "execution_count": 15,
   "metadata": {},
   "outputs": [],
   "source": [
    "a=tf.sigmoid(z)"
   ]
  },
  {
   "cell_type": "code",
   "execution_count": 16,
   "metadata": {},
   "outputs": [],
   "source": [
    "### Lets initialise the global variable initialiser\n",
    "init=tf.global_variables_initializer()"
   ]
  },
  {
   "cell_type": "markdown",
   "metadata": {},
   "source": [
    "### Lets run this in a session\n"
   ]
  },
  {
   "cell_type": "code",
   "execution_count": 17,
   "metadata": {},
   "outputs": [],
   "source": [
    "with tf.compat.v1.Session() as sess:\n",
    "    #global initializer\n",
    "    sess.run(init)\n",
    "    \n",
    "    #Now lets run the equation\n",
    "    layer_out=sess.run(a,feed_dict={x:np.random.random([1,n_features])})"
   ]
  },
  {
   "cell_type": "code",
   "execution_count": 18,
   "metadata": {},
   "outputs": [
    {
     "name": "stdout",
     "output_type": "stream",
     "text": [
      "[[0.19592889 0.8423014  0.36188066]]\n"
     ]
    }
   ],
   "source": [
    "print(layer_out)"
   ]
  },
  {
   "cell_type": "markdown",
   "metadata": {},
   "source": [
    "## Here we wont simply assign and calculate values of neural nets simply, we wil go back and adjust the weights\n",
    "### Which is known as back propagation"
   ]
  },
  {
   "cell_type": "markdown",
   "metadata": {},
   "source": [
    "## Here we will take some more realistic example and we will adjust the weights and bias.\n",
    "# Simple Regression\n",
    "## This is a machine learning concept where "
   ]
  },
  {
   "cell_type": "code",
   "execution_count": 19,
   "metadata": {},
   "outputs": [],
   "source": [
    "x_data=np.linspace(0,10,10) + np.random.uniform(-1.5,1.5,10)"
   ]
  },
  {
   "cell_type": "code",
   "execution_count": 20,
   "metadata": {},
   "outputs": [
    {
     "data": {
      "text/plain": [
       "array([-1.20856056, -0.08034641,  2.82674411,  4.50477294,  3.42312535,\n",
       "        4.88227319,  7.18414126,  6.77068715,  9.4930023 ,  9.96290567])"
      ]
     },
     "execution_count": 20,
     "metadata": {},
     "output_type": "execute_result"
    }
   ],
   "source": [
    "x_data"
   ]
  },
  {
   "cell_type": "code",
   "execution_count": 21,
   "metadata": {},
   "outputs": [],
   "source": [
    "y_label=np.linspace(0,10,10) +  np.random.uniform(-1.5,1.5,10)"
   ]
  },
  {
   "cell_type": "code",
   "execution_count": 22,
   "metadata": {},
   "outputs": [
    {
     "data": {
      "text/plain": [
       "array([0.5420333 , 1.17575569, 0.85241231, 2.50514314, 4.67005971,\n",
       "       4.41685654, 6.66701681, 6.69180648, 7.54731409, 9.03483077])"
      ]
     },
     "execution_count": 22,
     "metadata": {},
     "output_type": "execute_result"
    }
   ],
   "source": [
    "y_label"
   ]
  },
  {
   "cell_type": "code",
   "execution_count": 23,
   "metadata": {},
   "outputs": [],
   "source": [
    "#lets plot the data\n",
    "import matplotlib.pyplot as plt\n",
    "%matplotlib inline"
   ]
  },
  {
   "cell_type": "code",
   "execution_count": 24,
   "metadata": {},
   "outputs": [
    {
     "data": {
      "text/plain": [
       "[<matplotlib.lines.Line2D at 0x7f31ac1232e8>]"
      ]
     },
     "execution_count": 24,
     "metadata": {},
     "output_type": "execute_result"
    },
    {
     "data": {
      "image/png": "[encoded data removed]",
      "text/plain": [
       "<Figure size 432x288 with 1 Axes>"
      ]
     },
     "metadata": {
      "needs_background": "light"
     },
     "output_type": "display_data"
    }
   ],
   "source": [
    "plt.plot(x_data,y_label,'*')"
   ]
  },
  {
   "cell_type": "markdown",
   "metadata": {},
   "source": [
    "# Here we have the data. points are 10 with x and y co-ordinates.\n",
    "## Now lets start building neural nets"
   ]
  },
  {
   "cell_type": "markdown",
   "metadata": {},
   "source": [
    "# We will solve y=mx+b"
   ]
  },
  {
   "cell_type": "code",
   "execution_count": 25,
   "metadata": {},
   "outputs": [
    {
     "data": {
      "text/plain": [
       "array([0.44236813, 0.87758732])"
      ]
     },
     "execution_count": 25,
     "metadata": {},
     "output_type": "execute_result"
    }
   ],
   "source": [
    "#Firstly we will take fome random values for weights and biases\n",
    "np.random.rand(2)"
   ]
  },
  {
   "cell_type": "code",
   "execution_count": 26,
   "metadata": {},
   "outputs": [],
   "source": [
    "m=tf.Variable(0.65)\n",
    "\n",
    "b=tf.Variable(0.42)"
   ]
  },
  {
   "cell_type": "markdown",
   "metadata": {},
   "source": [
    "## Lets createa cost function \n",
    "### this is like minimizing the error.\n",
    "#### In this we use the squared difference of expecred out put and actual output."
   ]
  },
  {
   "cell_type": "code",
   "execution_count": 27,
   "metadata": {},
   "outputs": [],
   "source": [
    "error= 0\n",
    "for x,y in zip(x_data,y_label):\n",
    "    #Expected output\n",
    "    y_hat=m*x+b\n",
    "    \n",
    "    #Lets see the cost function\n",
    "    error += (y-y_hat)**2\n",
    "    "
   ]
  },
  {
   "cell_type": "code",
   "execution_count": 55,
   "metadata": {},
   "outputs": [
    {
     "name": "stdout",
     "output_type": "stream",
     "text": [
      "None\n",
      "12.051334\n"
     ]
    }
   ],
   "source": []
  },
  {
   "cell_type": "markdown",
   "metadata": {},
   "source": [
    "### Lets create a optimizer using gradien descent\n",
    "#### In this we will provide the learning rate value is to how fast the neural net shoould learn."
   ]
  },
  {
   "cell_type": "code",
   "execution_count": 28,
   "metadata": {},
   "outputs": [
    {
     "name": "stdout",
     "output_type": "stream",
     "text": [
      "WARNING:tensorflow:From /home/jupyter/.local/lib/python3.5/site-packages/tensorflow_core/python/ops/math_grad.py:1375: where (from tensorflow.python.ops.array_ops) is deprecated and will be removed in a future version.\n",
      "Instructions for updating:\n",
      "Use tf.where in 2.0, which has the same broadcast rule as np.where\n"
     ]
    }
   ],
   "source": [
    "optimizer=tf.train.GradientDescentOptimizer(learning_rate=0.001)\n",
    "#Here we have to tell the optimizer to minimise the error.\n",
    "train=optimizer.minimize(error)"
   ]
  },
  {
   "cell_type": "code",
   "execution_count": 42,
   "metadata": {},
   "outputs": [
    {
     "name": "stdout",
     "output_type": "stream",
     "text": [
      "None\n"
     ]
    }
   ],
   "source": [
    "with tf.compat.v1.Session() as sess:\n",
    "    sess.run(init)\n",
    "    print(sess.run(train))"
   ]
  },
  {
   "cell_type": "code",
   "execution_count": 29,
   "metadata": {},
   "outputs": [],
   "source": [
    "init=tf.global_variables_initializer()"
   ]
  },
  {
   "cell_type": "code",
   "execution_count": 39,
   "metadata": {},
   "outputs": [],
   "source": [
    "with tf.compat.v1.Session() as sess:\n",
    "    sess.run(init)\n",
    "    \n",
    "    #We have to decide the training steps\n",
    "    training_steps=1\n",
    "    for i in range (training_steps):\n",
    "        sess.run(train)\n",
    "        \n",
    "        final_slope,final_intercept=sess.run([m,b])\n",
    "        "
   ]
  },
  {
   "cell_type": "code",
   "execution_count": 31,
   "metadata": {},
   "outputs": [
    {
     "data": {
      "text/plain": [
       "[<matplotlib.lines.Line2D at 0x7f31a47d62e8>]"
      ]
     },
     "execution_count": 31,
     "metadata": {},
     "output_type": "execute_result"
    },
    {
     "data": {
      "image/png": "[encoded data removed]",
      "text/plain": [
       "<Figure size 432x288 with 1 Axes>"
      ]
     },
     "metadata": {
      "needs_background": "light"
     },
     "output_type": "display_data"
    }
   ],
   "source": [
    "x_test=np.linspace(-1,11,10)\n",
    "#y=mx+b\n",
    "y_pred=final_slope*x_test + final_intercept\n",
    "\n",
    "plt.plot(x_test,y_pred)\n",
    "#plot the real data\n",
    "plt.plot(x_data,y_label,'*')"
   ]
  },
  {
   "cell_type": "markdown",
   "metadata": {},
   "source": [
    "### For one training set we had a pretty good training model. \n",
    "#### Now lets increase to 100 training steps.\n"
   ]
  },
  {
   "cell_type": "code",
   "execution_count": 32,
   "metadata": {},
   "outputs": [],
   "source": [
    "with tf.compat.v1.Session() as sess:\n",
    "    sess.run(init)\n",
    "    \n",
    "    training_steps=100\n",
    "    for i in range(training_steps):\n",
    "        sess.run(train)\n",
    "        final_slop,final_intercept=sess.run([m,b])\n",
    "        prin()"
   ]
  },
  {
   "cell_type": "markdown",
   "metadata": {},
   "source": [
    "## Now lets plt the results"
   ]
  },
  {
   "cell_type": "code",
   "execution_count": 33,
   "metadata": {},
   "outputs": [
    {
     "data": {
      "text/plain": [
       "[<matplotlib.lines.Line2D at 0x7f31ac9a7b38>]"
      ]
     },
     "execution_count": 33,
     "metadata": {},
     "output_type": "execute_result"
    },
    {
     "data": {
      "image/png": "[encoded data removed]",
      "text/plain": [
       "<Figure size 432x288 with 1 Axes>"
      ]
     },
     "metadata": {
      "needs_background": "light"
     },
     "output_type": "display_data"
    }
   ],
   "source": [
    "x_test=np.linspace(-1,11,10)\n",
    "#y=mx+b\n",
    "y_pred=final_slope*x_test + final_intercept\n",
    "\n",
    "plt.plot(x_test,y_pred)\n",
    "#plot the real data\n",
    "plt.plot(x_data,y_label,'*')"
   ]
  },
  {
   "cell_type": "code",
   "execution_count": 34,
   "metadata": {},
   "outputs": [],
   "source": [
    "### The above one is little better."
   ]
  },
  {
   "cell_type": "code",
   "execution_count": 44,
   "metadata": {},
   "outputs": [
    {
     "name": "stdout",
     "output_type": "stream",
     "text": [
      "0.7628271\n",
      "0.4377201\n",
      "\n",
      "\n",
      "0.79450077\n",
      "0.44430882\n",
      "\n",
      "\n",
      "0.8032383\n",
      "0.44774038\n",
      "\n",
      "\n",
      "0.80549437\n",
      "0.45026872\n",
      "\n",
      "\n",
      "0.8059201\n",
      "0.452531\n",
      "\n",
      "\n",
      "0.80582994\n",
      "0.45470738\n",
      "\n",
      "\n",
      "0.8055954\n",
      "0.45684883\n",
      "\n",
      "\n",
      "0.80532146\n",
      "0.45896986\n",
      "\n",
      "\n",
      "0.80503786\n",
      "0.46107465\n",
      "\n",
      "\n",
      "0.80475295\n",
      "0.46316442\n",
      "\n",
      "\n",
      "0.80446905\n",
      "0.4652396\n",
      "\n",
      "\n",
      "0.8041869\n",
      "0.46730042\n",
      "\n",
      "\n",
      "0.8039066\n",
      "0.46934694\n",
      "\n",
      "\n",
      "0.80362827\n",
      "0.4713793\n",
      "\n",
      "\n",
      "0.8033518\n",
      "0.47339764\n",
      "\n",
      "\n",
      "0.8030773\n",
      "0.475402\n",
      "\n",
      "\n",
      "0.80280465\n",
      "0.4773925\n",
      "\n",
      "\n",
      "0.80253386\n",
      "0.47936922\n",
      "\n",
      "\n",
      "0.802265\n",
      "0.48133227\n",
      "\n",
      "\n",
      "0.80199796\n",
      "0.48328176\n",
      "\n",
      "\n",
      "0.8017328\n",
      "0.48521775\n",
      "\n",
      "\n",
      "0.80146945\n",
      "0.48714036\n",
      "\n",
      "\n",
      "0.8012079\n",
      "0.48904967\n",
      "\n",
      "\n",
      "0.8009482\n",
      "0.4909458\n",
      "\n",
      "\n",
      "0.8006903\n",
      "0.49282876\n",
      "\n",
      "\n",
      "0.8004342\n",
      "0.4946987\n",
      "\n",
      "\n",
      "0.80017984\n",
      "0.49655572\n",
      "\n",
      "\n",
      "0.79992723\n",
      "0.49839988\n",
      "\n",
      "\n",
      "0.79967636\n",
      "0.5002313\n",
      "\n",
      "\n",
      "0.7994272\n",
      "0.5020501\n",
      "\n",
      "\n",
      "0.79917985\n",
      "0.5038563\n",
      "\n",
      "\n",
      "0.79893416\n",
      "0.50565\n",
      "\n",
      "\n",
      "0.7986902\n",
      "0.50743127\n",
      "\n",
      "\n",
      "0.79844785\n",
      "0.5092002\n",
      "\n",
      "\n",
      "0.7982073\n",
      "0.51095694\n",
      "\n",
      "\n",
      "0.7979683\n",
      "0.5127015\n",
      "\n",
      "\n",
      "0.797731\n",
      "0.514434\n",
      "\n",
      "\n",
      "0.79749537\n",
      "0.5161545\n",
      "\n",
      "\n",
      "0.7972613\n",
      "0.51786315\n",
      "\n",
      "\n",
      "0.7970289\n",
      "0.51956\n",
      "\n",
      "\n",
      "0.7967981\n",
      "0.52124506\n",
      "\n",
      "\n",
      "0.7965689\n",
      "0.52291846\n",
      "\n",
      "\n",
      "0.79634124\n",
      "0.5245803\n",
      "\n",
      "\n",
      "0.7961152\n",
      "0.52623063\n",
      "\n",
      "\n",
      "0.7958907\n",
      "0.5278695\n",
      "\n",
      "\n",
      "0.79566777\n",
      "0.5294971\n",
      "\n",
      "\n",
      "0.7954464\n",
      "0.53111345\n",
      "\n",
      "\n",
      "0.7952265\n",
      "0.5327186\n",
      "\n",
      "\n",
      "0.7950082\n",
      "0.53431267\n",
      "\n",
      "\n",
      "0.79479134\n",
      "0.5358957\n",
      "\n",
      "\n"
     ]
    }
   ],
   "source": [
    "with tf.compat.v1.Session() as sess:\n",
    "    sess.run(init)\n",
    "    \n",
    "    training_steps=50\n",
    "    for i in range(training_steps):\n",
    "        sess.run(train)\n",
    "        final_slop,final_intercept=sess.run([m,b])\n",
    "        print(final_slop)\n",
    "        \n",
    "        print(final_intercept)\n",
    "        print('\\n')"
   ]
  },
  {
   "cell_type": "code",
   "execution_count": null,
   "metadata": {},
   "outputs": [],
   "source": []
  },
  {
   "cell_type": "code",
   "execution_count": null,
   "metadata": {},
   "outputs": [],
   "source": []
  }
 ],
 "metadata": {
  "kernelspec": {
   "display_name": "Python 3",
   "language": "python",
   "name": "python3"
  },
  "language_info": {
   "codemirror_mode": {
    "name": "ipython",
    "version": 3
   },
   "file_extension": ".py",
   "mimetype": "text/x-python",
   "name": "python",
   "nbconvert_exporter": "python",
   "pygments_lexer": "ipython3",
   "version": "3.7.6"
  }
 },
 "nbformat": 4,
 "nbformat_minor": 4
}
