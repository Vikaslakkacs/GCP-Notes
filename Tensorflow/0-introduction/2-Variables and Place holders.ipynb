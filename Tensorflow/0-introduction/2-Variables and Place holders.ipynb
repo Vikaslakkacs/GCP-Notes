{
 "cells": [
  {
   "cell_type": "code",
   "execution_count": 1,
   "metadata": {},
   "outputs": [],
   "source": [
    "'''\n",
    "In deep learning during the optimization process which means modifing the weights untill the output gets the right one.\n",
    "So inthis process there should be a thing which holds the weights so that regular updates should happen.\n",
    "Variables will take care of that.\n",
    "Variables need tob e initialsed.\n",
    "\n",
    "Places holders are initially empty and they are used to feed in the actual training examples.\n",
    "They need to be declared with expected data type and optional shape argument.\n",
    "\n",
    "\n",
    "'''\n",
    "import tensorflow as tf"
   ]
  },
  {
   "cell_type": "code",
   "execution_count": 2,
   "metadata": {},
   "outputs": [],
   "source": []
  },
  {
   "cell_type": "code",
   "execution_count": null,
   "metadata": {},
   "outputs": [],
   "source": [
    "est."
   ]
  }
 ],
 "metadata": {
  "kernelspec": {
   "display_name": "Python 3",
   "language": "python",
   "name": "python3"
  },
  "language_info": {
   "codemirror_mode": {
    "name": "ipython",
    "version": 3
   },
   "file_extension": ".py",
   "mimetype": "text/x-python",
   "name": "python",
   "nbconvert_exporter": "python",
   "pygments_lexer": "ipython3",
   "version": "3.7.3"
  }
 },
 "nbformat": 4,
 "nbformat_minor": 2
}
