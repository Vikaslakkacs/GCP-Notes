{
 "cells": [
  {
   "cell_type": "code",
   "execution_count": 2,
   "metadata": {},
   "outputs": [],
   "source": [
    "'''\n",
    "Here we are going to learn Linear regression in tensorflow.\n",
    "Here we use estimator API Which is usefull for linear and logistic regression.\n",
    "Therea re many frameworks where they solves machine learning problems.\n",
    "But for typical type of ML problems which needs some indepth analysis(image classification, word embeddings)\n",
    "tensorflow is the solution.\n",
    "Important Notes:\n",
    "1.my_data.sample(n=250): This will show 250 samples from the data frame.\n",
    "2. When we are dealing with huge data we wont train all at once which will break the system instead we will\n",
    "    train them in batches.\n",
    "3. We will give this batch size while creating place holder\n",
    "'''\n",
    "import numpy as np\n",
    "import pandas as pd\n",
    "import matplotlib.pyplot as plt\n",
    "%matplotlib inline\n",
    "import tensorflow as tf"
   ]
  },
  {
   "cell_type": "code",
   "execution_count": 3,
   "metadata": {},
   "outputs": [],
   "source": [
    "# We will create a data set on our own\n",
    "x_data=np.linspace(0.0,10.0,1000000)"
   ]
  },
  {
   "cell_type": "code",
   "execution_count": 4,
   "metadata": {},
   "outputs": [],
   "source": [
    "noise=np.random.randn(len(x_data))"
   ]
  },
  {
   "cell_type": "code",
   "execution_count": 5,
   "metadata": {},
   "outputs": [
    {
     "data": {
      "text/plain": [
       "array([0.000000e+00, 1.000001e-05, 2.000002e-05, ..., 9.999980e+00,\n",
       "       9.999990e+00, 1.000000e+01])"
      ]
     },
     "execution_count": 5,
     "metadata": {},
     "output_type": "execute_result"
    }
   ],
   "source": [
    "x_data"
   ]
  },
  {
   "cell_type": "code",
   "execution_count": 6,
   "metadata": {},
   "outputs": [
    {
     "data": {
      "text/plain": [
       "array([-0.70300243, -0.1071931 , -0.47566841, ...,  1.19348294,\n",
       "       -0.87557577,  0.81494555])"
      ]
     },
     "execution_count": 6,
     "metadata": {},
     "output_type": "execute_result"
    }
   ],
   "source": [
    "noise"
   ]
  },
  {
   "cell_type": "markdown",
   "metadata": {},
   "source": [
    "## As we are working on linear regression our line is \n",
    "# Y=mx+b\n",
    "### Lets add b=5 initially\n",
    "### and m=0.5"
   ]
  },
  {
   "cell_type": "code",
   "execution_count": 7,
   "metadata": {},
   "outputs": [],
   "source": [
    "y_data=(0.5 * x_data)+5 + noise"
   ]
  },
  {
   "cell_type": "code",
   "execution_count": 8,
   "metadata": {},
   "outputs": [
    {
     "data": {
      "text/plain": [
       "array([ 4.29699757,  4.8928119 ,  4.52434159, ..., 11.19347294,\n",
       "        9.12441923, 10.81494555])"
      ]
     },
     "execution_count": 8,
     "metadata": {},
     "output_type": "execute_result"
    }
   ],
   "source": [
    "y_data"
   ]
  },
  {
   "cell_type": "code",
   "execution_count": 9,
   "metadata": {},
   "outputs": [],
   "source": [
    "#lets create a dataframe\n",
    "x_df=pd.DataFrame(x_data,columns=['x data'])"
   ]
  },
  {
   "cell_type": "code",
   "execution_count": 10,
   "metadata": {},
   "outputs": [],
   "source": [
    "y_df=pd.DataFrame(y_data,columns=['Y'])"
   ]
  },
  {
   "cell_type": "code",
   "execution_count": 11,
   "metadata": {},
   "outputs": [
    {
     "data": {
      "text/html": [
       "<div>\n",
       "<style scoped>\n",
       "    .dataframe tbody tr th:only-of-type {\n",
       "        vertical-align: middle;\n",
       "    }\n",
       "\n",
       "    .dataframe tbody tr th {\n",
       "        vertical-align: top;\n",
       "    }\n",
       "\n",
       "    .dataframe thead th {\n",
       "        text-align: right;\n",
       "    }\n",
       "</style>\n",
       "<table border=\"1\" class=\"dataframe\">\n",
       "  <thead>\n",
       "    <tr style=\"text-align: right;\">\n",
       "      <th></th>\n",
       "      <th>x data</th>\n",
       "    </tr>\n",
       "  </thead>\n",
       "  <tbody>\n",
       "    <tr>\n",
       "      <th>999995</th>\n",
       "      <td>9.99996</td>\n",
       "    </tr>\n",
       "    <tr>\n",
       "      <th>999996</th>\n",
       "      <td>9.99997</td>\n",
       "    </tr>\n",
       "    <tr>\n",
       "      <th>999997</th>\n",
       "      <td>9.99998</td>\n",
       "    </tr>\n",
       "    <tr>\n",
       "      <th>999998</th>\n",
       "      <td>9.99999</td>\n",
       "    </tr>\n",
       "    <tr>\n",
       "      <th>999999</th>\n",
       "      <td>10.00000</td>\n",
       "    </tr>\n",
       "  </tbody>\n",
       "</table>\n",
       "</div>"
      ],
      "text/plain": [
       "          x data\n",
       "999995   9.99996\n",
       "999996   9.99997\n",
       "999997   9.99998\n",
       "999998   9.99999\n",
       "999999  10.00000"
      ]
     },
     "execution_count": 11,
     "metadata": {},
     "output_type": "execute_result"
    }
   ],
   "source": [
    "x_df.tail()"
   ]
  },
  {
   "cell_type": "code",
   "execution_count": 12,
   "metadata": {},
   "outputs": [
    {
     "data": {
      "text/html": [
       "<div>\n",
       "<style scoped>\n",
       "    .dataframe tbody tr th:only-of-type {\n",
       "        vertical-align: middle;\n",
       "    }\n",
       "\n",
       "    .dataframe tbody tr th {\n",
       "        vertical-align: top;\n",
       "    }\n",
       "\n",
       "    .dataframe thead th {\n",
       "        text-align: right;\n",
       "    }\n",
       "</style>\n",
       "<table border=\"1\" class=\"dataframe\">\n",
       "  <thead>\n",
       "    <tr style=\"text-align: right;\">\n",
       "      <th></th>\n",
       "      <th>Y</th>\n",
       "    </tr>\n",
       "  </thead>\n",
       "  <tbody>\n",
       "    <tr>\n",
       "      <th>999995</th>\n",
       "      <td>10.489093</td>\n",
       "    </tr>\n",
       "    <tr>\n",
       "      <th>999996</th>\n",
       "      <td>10.376070</td>\n",
       "    </tr>\n",
       "    <tr>\n",
       "      <th>999997</th>\n",
       "      <td>11.193473</td>\n",
       "    </tr>\n",
       "    <tr>\n",
       "      <th>999998</th>\n",
       "      <td>9.124419</td>\n",
       "    </tr>\n",
       "    <tr>\n",
       "      <th>999999</th>\n",
       "      <td>10.814946</td>\n",
       "    </tr>\n",
       "  </tbody>\n",
       "</table>\n",
       "</div>"
      ],
      "text/plain": [
       "                Y\n",
       "999995  10.489093\n",
       "999996  10.376070\n",
       "999997  11.193473\n",
       "999998   9.124419\n",
       "999999  10.814946"
      ]
     },
     "execution_count": 12,
     "metadata": {},
     "output_type": "execute_result"
    }
   ],
   "source": [
    "y_df.tail()"
   ]
  },
  {
   "cell_type": "code",
   "execution_count": 13,
   "metadata": {},
   "outputs": [],
   "source": [
    "#Lets concat the x  and y data\n",
    "my_data=pd.concat([x_df,y_df],axis=1)"
   ]
  },
  {
   "cell_type": "code",
   "execution_count": 14,
   "metadata": {},
   "outputs": [
    {
     "data": {
      "text/html": [
       "<div>\n",
       "<style scoped>\n",
       "    .dataframe tbody tr th:only-of-type {\n",
       "        vertical-align: middle;\n",
       "    }\n",
       "\n",
       "    .dataframe tbody tr th {\n",
       "        vertical-align: top;\n",
       "    }\n",
       "\n",
       "    .dataframe thead th {\n",
       "        text-align: right;\n",
       "    }\n",
       "</style>\n",
       "<table border=\"1\" class=\"dataframe\">\n",
       "  <thead>\n",
       "    <tr style=\"text-align: right;\">\n",
       "      <th></th>\n",
       "      <th>x data</th>\n",
       "      <th>Y</th>\n",
       "    </tr>\n",
       "  </thead>\n",
       "  <tbody>\n",
       "    <tr>\n",
       "      <th>999995</th>\n",
       "      <td>9.99996</td>\n",
       "      <td>10.489093</td>\n",
       "    </tr>\n",
       "    <tr>\n",
       "      <th>999996</th>\n",
       "      <td>9.99997</td>\n",
       "      <td>10.376070</td>\n",
       "    </tr>\n",
       "    <tr>\n",
       "      <th>999997</th>\n",
       "      <td>9.99998</td>\n",
       "      <td>11.193473</td>\n",
       "    </tr>\n",
       "    <tr>\n",
       "      <th>999998</th>\n",
       "      <td>9.99999</td>\n",
       "      <td>9.124419</td>\n",
       "    </tr>\n",
       "    <tr>\n",
       "      <th>999999</th>\n",
       "      <td>10.00000</td>\n",
       "      <td>10.814946</td>\n",
       "    </tr>\n",
       "  </tbody>\n",
       "</table>\n",
       "</div>"
      ],
      "text/plain": [
       "          x data          Y\n",
       "999995   9.99996  10.489093\n",
       "999996   9.99997  10.376070\n",
       "999997   9.99998  11.193473\n",
       "999998   9.99999   9.124419\n",
       "999999  10.00000  10.814946"
      ]
     },
     "execution_count": 14,
     "metadata": {},
     "output_type": "execute_result"
    }
   ],
   "source": [
    "my_data.tail()"
   ]
  },
  {
   "cell_type": "markdown",
   "metadata": {},
   "source": [
    "### If we plot all the million rows it would take time . So we will plan some of them to plot "
   ]
  },
  {
   "cell_type": "code",
   "execution_count": 15,
   "metadata": {},
   "outputs": [
    {
     "data": {
      "text/html": [
       "<div>\n",
       "<style scoped>\n",
       "    .dataframe tbody tr th:only-of-type {\n",
       "        vertical-align: middle;\n",
       "    }\n",
       "\n",
       "    .dataframe tbody tr th {\n",
       "        vertical-align: top;\n",
       "    }\n",
       "\n",
       "    .dataframe thead th {\n",
       "        text-align: right;\n",
       "    }\n",
       "</style>\n",
       "<table border=\"1\" class=\"dataframe\">\n",
       "  <thead>\n",
       "    <tr style=\"text-align: right;\">\n",
       "      <th></th>\n",
       "      <th>x data</th>\n",
       "      <th>Y</th>\n",
       "    </tr>\n",
       "  </thead>\n",
       "  <tbody>\n",
       "    <tr>\n",
       "      <th>882188</th>\n",
       "      <td>8.821889</td>\n",
       "      <td>10.284598</td>\n",
       "    </tr>\n",
       "    <tr>\n",
       "      <th>778108</th>\n",
       "      <td>7.781088</td>\n",
       "      <td>8.761366</td>\n",
       "    </tr>\n",
       "    <tr>\n",
       "      <th>228066</th>\n",
       "      <td>2.280662</td>\n",
       "      <td>5.724101</td>\n",
       "    </tr>\n",
       "    <tr>\n",
       "      <th>917485</th>\n",
       "      <td>9.174859</td>\n",
       "      <td>11.532950</td>\n",
       "    </tr>\n",
       "    <tr>\n",
       "      <th>862936</th>\n",
       "      <td>8.629369</td>\n",
       "      <td>8.899647</td>\n",
       "    </tr>\n",
       "    <tr>\n",
       "      <th>...</th>\n",
       "      <td>...</td>\n",
       "      <td>...</td>\n",
       "    </tr>\n",
       "    <tr>\n",
       "      <th>72828</th>\n",
       "      <td>0.728281</td>\n",
       "      <td>3.654998</td>\n",
       "    </tr>\n",
       "    <tr>\n",
       "      <th>78768</th>\n",
       "      <td>0.787681</td>\n",
       "      <td>7.954784</td>\n",
       "    </tr>\n",
       "    <tr>\n",
       "      <th>892339</th>\n",
       "      <td>8.923399</td>\n",
       "      <td>9.421775</td>\n",
       "    </tr>\n",
       "    <tr>\n",
       "      <th>8239</th>\n",
       "      <td>0.082390</td>\n",
       "      <td>4.917694</td>\n",
       "    </tr>\n",
       "    <tr>\n",
       "      <th>332149</th>\n",
       "      <td>3.321493</td>\n",
       "      <td>6.162312</td>\n",
       "    </tr>\n",
       "  </tbody>\n",
       "</table>\n",
       "<p>250 rows × 2 columns</p>\n",
       "</div>"
      ],
      "text/plain": [
       "          x data          Y\n",
       "882188  8.821889  10.284598\n",
       "778108  7.781088   8.761366\n",
       "228066  2.280662   5.724101\n",
       "917485  9.174859  11.532950\n",
       "862936  8.629369   8.899647\n",
       "...          ...        ...\n",
       "72828   0.728281   3.654998\n",
       "78768   0.787681   7.954784\n",
       "892339  8.923399   9.421775\n",
       "8239    0.082390   4.917694\n",
       "332149  3.321493   6.162312\n",
       "\n",
       "[250 rows x 2 columns]"
      ]
     },
     "execution_count": 15,
     "metadata": {},
     "output_type": "execute_result"
    }
   ],
   "source": [
    "my_data.sample(n=250)"
   ]
  },
  {
   "cell_type": "code",
   "execution_count": 16,
   "metadata": {},
   "outputs": [
    {
     "data": {
      "text/plain": [
       "<matplotlib.axes._subplots.AxesSubplot at 0x7f39a271cc88>"
      ]
     },
     "execution_count": 16,
     "metadata": {},
     "output_type": "execute_result"
    },
    {
     "data": {
      "image/png": "[encoded data removed]",
      "text/plain": [
       "<Figure size 432x288 with 1 Axes>"
      ]
     },
     "metadata": {
      "needs_background": "light"
     },
     "output_type": "display_data"
    }
   ],
   "source": [
    "# Now lets plot it.\n",
    "my_data.plot(kind='scatter',x='x data',y='Y')"
   ]
  },
  {
   "cell_type": "code",
   "execution_count": 17,
   "metadata": {},
   "outputs": [
    {
     "data": {
      "text/plain": [
       "<matplotlib.axes._subplots.AxesSubplot at 0x7f39a069b710>"
      ]
     },
     "execution_count": 17,
     "metadata": {},
     "output_type": "execute_result"
    },
    {
     "data": {
      "image/png": "[encoded data removed]",
      "text/plain": [
       "<Figure size 432x288 with 1 Axes>"
      ]
     },
     "metadata": {
      "needs_background": "light"
     },
     "output_type": "display_data"
    }
   ],
   "source": [
    "# Now lets plot it.\n",
    "my_data.sample(250).plot(kind='scatter',x='x data',y='Y')"
   ]
  },
  {
   "cell_type": "markdown",
   "metadata": {},
   "source": [
    "## We have the data now lets try to plot with tensorflow.\n",
    "### As we have weights of 0.5 and bias of 5, Let us see how far tf will detectthose values.\n"
   ]
  },
  {
   "cell_type": "markdown",
   "metadata": {},
   "source": [
    "#### As we have huge data we will train the data in batches. So for that we need batch size."
   ]
  },
  {
   "cell_type": "code",
   "execution_count": 18,
   "metadata": {},
   "outputs": [],
   "source": [
    "#Lets divide the batch into 10 parts.\n",
    "batch_size=10"
   ]
  },
  {
   "cell_type": "code",
   "execution_count": 19,
   "metadata": {},
   "outputs": [
    {
     "data": {
      "text/plain": [
       "array([0.42509361, 0.77708411])"
      ]
     },
     "execution_count": 19,
     "metadata": {},
     "output_type": "execute_result"
    }
   ],
   "source": [
    "np.random.random(2)"
   ]
  },
  {
   "cell_type": "code",
   "execution_count": 20,
   "metadata": {},
   "outputs": [],
   "source": [
    "#Lets create variables for m and b (weights and bias respectively.)\n",
    "m=tf.Variable(0.08)\n",
    "b=tf.Variable(0.27)"
   ]
  },
  {
   "cell_type": "code",
   "execution_count": 21,
   "metadata": {},
   "outputs": [],
   "source": [
    "#Lets create 2 place holders one for x and one for y and we will give the batch size.\n",
    "xph=tf.placeholder(tf.float32,[batch_size])\n",
    "yph=tf.placeholder(tf.float32,[batch_size])"
   ]
  },
  {
   "cell_type": "markdown",
   "metadata": {},
   "source": [
    "### Now we will define the formula and we will calculate the error."
   ]
  },
  {
   "cell_type": "code",
   "execution_count": 22,
   "metadata": {},
   "outputs": [],
   "source": [
    "y_model=m*xph+b"
   ]
  },
  {
   "cell_type": "markdown",
   "metadata": {},
   "source": [
    "## Error = (y-y_model)**2\n",
    "### THis we will do in tf namings"
   ]
  },
  {
   "cell_type": "code",
   "execution_count": 23,
   "metadata": {},
   "outputs": [],
   "source": [
    "error=tf.reduce_sum(tf.square(yph-y_model))"
   ]
  },
  {
   "cell_type": "markdown",
   "metadata": {},
   "source": [
    "## Lets build optimizer"
   ]
  },
  {
   "cell_type": "code",
   "execution_count": 24,
   "metadata": {},
   "outputs": [],
   "source": [
    "optimizer=tf.train.GradientDescentOptimizer(learning_rate=0.001)\n",
    "train=optimizer.minimize(error)"
   ]
  },
  {
   "cell_type": "code",
   "execution_count": 25,
   "metadata": {},
   "outputs": [],
   "source": [
    "#Lets create initialzer\n",
    "init=tf.global_variables_initializer()"
   ]
  },
  {
   "cell_type": "markdown",
   "metadata": {},
   "source": [
    "### Lets create model"
   ]
  },
  {
   "cell_type": "code",
   "execution_count": 26,
   "metadata": {},
   "outputs": [],
   "source": [
    "with tf.compat.v1.Session() as sess:\n",
    "    sess.run(init)\n",
    "    batch=1000\n",
    "    for i in range(batch):\n",
    "        #Grab random data points from the data set\n",
    "        rand_ind=np.random.randint(len(x_data),size=batch_size)\n",
    "        #Feed that random points into x place holder and y placeholder for training\n",
    "        feed={xph:x_data[rand_ind],yph:y_data[rand_ind]}\n",
    "        sess.run(train,feed_dict=feed)\n",
    "        \n",
    "        model_m, model_b=sess.run([m,b])\n",
    "        \n",
    "        "
   ]
  },
  {
   "cell_type": "code",
   "execution_count": 27,
   "metadata": {},
   "outputs": [
    {
     "data": {
      "text/plain": [
       "array([548560, 926771, 740450,  39095, 337639, 540565, 237759, 878491,\n",
       "       828491, 149699])"
      ]
     },
     "execution_count": 27,
     "metadata": {},
     "output_type": "execute_result"
    }
   ],
   "source": [
    "np.random.randint(len(x_data),size=batch_size)"
   ]
  },
  {
   "cell_type": "code",
   "execution_count": 28,
   "metadata": {},
   "outputs": [
    {
     "data": {
      "text/plain": [
       "(0.5296304, 4.9905343)"
      ]
     },
     "execution_count": 28,
     "metadata": {},
     "output_type": "execute_result"
    }
   ],
   "source": [
    "model_m, model_b"
   ]
  },
  {
   "cell_type": "markdown",
   "metadata": {},
   "source": [
    "### Hurray It matches the training data."
   ]
  },
  {
   "cell_type": "code",
   "execution_count": 29,
   "metadata": {},
   "outputs": [],
   "source": [
    "# Lets visualize\n",
    "y_dat=(x_data*model_m)+model_b"
   ]
  },
  {
   "cell_type": "code",
   "execution_count": 30,
   "metadata": {},
   "outputs": [
    {
     "data": {
      "text/plain": [
       "[<matplotlib.lines.Line2D at 0x7f39a3e454a8>]"
      ]
     },
     "execution_count": 30,
     "metadata": {},
     "output_type": "execute_result"
    },
    {
     "data": {
      "image/png": "[encoded data removed]",
      "text/plain": [
       "<Figure size 432x288 with 1 Axes>"
      ]
     },
     "metadata": {
      "needs_background": "light"
     },
     "output_type": "display_data"
    }
   ],
   "source": [
    "my_data.sample(250).plot(kind='scatter',x='x data',y='Y')\n",
    "plt.plot(x_data,y_dat,'r')"
   ]
  },
  {
   "cell_type": "markdown",
   "metadata": {},
   "source": [
    "# Now we will run the same process using tensorflow estimator API."
   ]
  },
  {
   "cell_type": "markdown",
   "metadata": {},
   "source": [
    "## There are lot more API suc as Keras Layers etc. just like estimator. Which it has predefined models and we just have to use it instead of creating on our own."
   ]
  },
  {
   "cell_type": "markdown",
   "metadata": {},
   "source": [
    "### estimator has linear classifier, linear regression, DNN classifier, DNN regressor which we use in neural network.\n",
    "### DNNLinearcombinedRegressor which is a combo of neural nets and regressor."
   ]
  },
  {
   "cell_type": "markdown",
   "metadata": {},
   "source": [
    "### Step of implementation of Estimator API.\n",
    "#### Define feature columns\n",
    "#### Create estimator model\n",
    "#### Create data input function(either in numpy or in pandas)\n",
    "#### Train, Evaluate and Predict using scikit on estimator object."
   ]
  },
  {
   "cell_type": "markdown",
   "metadata": {},
   "source": [
    "## Now lets create model using Estimator API.\n",
    "### Note: we will do on x_data data."
   ]
  },
  {
   "cell_type": "markdown",
   "metadata": {},
   "source": [
    "###### Step:1 Creating feature columns"
   ]
  },
  {
   "cell_type": "code",
   "execution_count": 31,
   "metadata": {},
   "outputs": [],
   "source": [
    "feat_cols=[tf.feature_column.numeric_column('x',shape=[1])]"
   ]
  },
  {
   "cell_type": "markdown",
   "metadata": {},
   "source": [
    "###### Step:2 Creating Estimator\n",
    "###### This estimator is just like scikit estimator."
   ]
  },
  {
   "cell_type": "code",
   "execution_count": 33,
   "metadata": {},
   "outputs": [
    {
     "name": "stdout",
     "output_type": "stream",
     "text": [
      "INFO:tensorflow:Using default config.\n",
      "WARNING:tensorflow:Using temporary folder as model directory: /tmp/tmpsmjasuyd\n",
      "INFO:tensorflow:Using config: {'_save_summary_steps': 100, '_task_id': 0, '_log_step_count_steps': 100, '_eval_distribute': None, '_session_creation_timeout_secs': 7200, '_tf_random_seed': None, '_num_worker_replicas': 1, '_save_checkpoints_secs': 600, '_is_chief': True, '_experimental_max_worker_delay_secs': None, '_session_config': allow_soft_placement: true\n",
      "graph_options {\n",
      "  rewrite_options {\n",
      "    meta_optimizer_iterations: ONE\n",
      "  }\n",
      "}\n",
      ", '_keep_checkpoint_max': 5, '_protocol': None, '_device_fn': None, '_service': None, '_cluster_spec': <tensorflow.python.training.server_lib.ClusterSpec object at 0x7f3969f1d860>, '_keep_checkpoint_every_n_hours': 10000, '_save_checkpoints_steps': None, '_global_id_in_cluster': 0, '_task_type': 'worker', '_evaluation_master': '', '_model_dir': '/tmp/tmpsmjasuyd', '_experimental_distribute': None, '_train_distribute': None, '_master': '', '_num_ps_replicas': 0}\n"
     ]
    }
   ],
   "source": [
    "estimator=tf.estimator.LinearRegressor(feature_columns=feat_cols)"
   ]
  },
  {
   "cell_type": "markdown",
   "metadata": {},
   "source": [
    "### Let do some splitting of data."
   ]
  },
  {
   "cell_type": "code",
   "execution_count": 34,
   "metadata": {},
   "outputs": [],
   "source": [
    "from sklearn.model_selection import train_test_split"
   ]
  },
  {
   "cell_type": "code",
   "execution_count": 36,
   "metadata": {},
   "outputs": [],
   "source": [
    "x_train,x_eval,y_train,y_eval=train_test_split(x_data,\n",
    "                                               y_data,\n",
    "                                               test_size=0.3,\n",
    "                                               random_state=101)"
   ]
  },
  {
   "cell_type": "code",
   "execution_count": 37,
   "metadata": {},
   "outputs": [
    {
     "data": {
      "text/plain": [
       "(700000,)"
      ]
     },
     "execution_count": 37,
     "metadata": {},
     "output_type": "execute_result"
    }
   ],
   "source": [
    "x_train.shape"
   ]
  },
  {
   "cell_type": "code",
   "execution_count": 39,
   "metadata": {},
   "outputs": [
    {
     "data": {
      "text/plain": [
       "(300000,)"
      ]
     },
     "execution_count": 39,
     "metadata": {},
     "output_type": "execute_result"
    }
   ],
   "source": [
    "x_eval.shape"
   ]
  },
  {
   "cell_type": "markdown",
   "metadata": {},
   "source": [
    "##### Lets setup the estimator inputs. We will take numpy here\n",
    "##### In this function we will pass the input columns as dictionary and output as only one."
   ]
  },
  {
   "cell_type": "code",
   "execution_count": 40,
   "metadata": {},
   "outputs": [],
   "source": [
    "input_func=tf.estimator.inputs.numpy_input_fn({'x':x_train},\n",
    "                                             y_train,\n",
    "                                             batch_size=8,\n",
    "                                            num_epochs=None,shuffle=True)"
   ]
  },
  {
   "cell_type": "markdown",
   "metadata": {},
   "source": [
    "### We have numpy input funtion and now we will create two more input functions for evaluation"
   ]
  },
  {
   "cell_type": "code",
   "execution_count": 42,
   "metadata": {},
   "outputs": [],
   "source": [
    "train_input_func=tf.estimator.inputs.numpy_input_fn({'x':x_train},\n",
    "                                             y_train,\n",
    "                                             batch_size=8,\n",
    "                                            num_epochs=1000,shuffle=False)"
   ]
  },
  {
   "cell_type": "code",
   "execution_count": 43,
   "metadata": {},
   "outputs": [],
   "source": [
    "eval_input_fuc=tf.estimator.inputs.numpy_input_fn({'x':x_eval},\n",
    "                                             y_eval,\n",
    "                                             batch_size=8,\n",
    "                                            num_epochs=1000,shuffle=False)"
   ]
  },
  {
   "cell_type": "markdown",
   "metadata": {},
   "source": [
    "## now lets train the estimator"
   ]
  },
  {
   "cell_type": "code",
   "execution_count": 45,
   "metadata": {},
   "outputs": [
    {
     "name": "stdout",
     "output_type": "stream",
     "text": [
      "WARNING:tensorflow:From /home/jupyter/.local/lib/python3.5/site-packages/tensorflow_core/python/training/training_util.py:236: Variable.initialized_value (from tensorflow.python.ops.variables) is deprecated and will be removed in a future version.\n",
      "Instructions for updating:\n",
      "Use Variable.read_value. Variables in 2.X are initialized automatically both in eager and graph (inside tf.defun) contexts.\n",
      "WARNING:tensorflow:From /home/jupyter/.local/lib/python3.5/site-packages/tensorflow_estimator/python/estimator/inputs/queues/feeding_queue_runner.py:62: QueueRunner.__init__ (from tensorflow.python.training.queue_runner_impl) is deprecated and will be removed in a future version.\n",
      "Instructions for updating:\n",
      "To construct input pipelines, use the `tf.data` module.\n",
      "WARNING:tensorflow:From /home/jupyter/.local/lib/python3.5/site-packages/tensorflow_estimator/python/estimator/inputs/queues/feeding_functions.py:500: add_queue_runner (from tensorflow.python.training.queue_runner_impl) is deprecated and will be removed in a future version.\n",
      "Instructions for updating:\n",
      "To construct input pipelines, use the `tf.data` module.\n",
      "INFO:tensorflow:Calling model_fn.\n",
      "WARNING:tensorflow:From /home/jupyter/.local/lib/python3.5/site-packages/tensorflow_core/python/feature_column/feature_column_v2.py:305: Layer.add_variable (from tensorflow.python.keras.engine.base_layer) is deprecated and will be removed in a future version.\n",
      "Instructions for updating:\n",
      "Please use `layer.add_weight` method instead.\n",
      "WARNING:tensorflow:From /home/jupyter/.local/lib/python3.5/site-packages/tensorflow_core/python/ops/resource_variable_ops.py:1630: calling BaseResourceVariable.__init__ (from tensorflow.python.ops.resource_variable_ops) with constraint is deprecated and will be removed in a future version.\n",
      "Instructions for updating:\n",
      "If using Keras pass *_constraint arguments to layers.\n",
      "WARNING:tensorflow:From /home/jupyter/.local/lib/python3.5/site-packages/tensorflow_estimator/python/estimator/canned/linear.py:308: to_float (from tensorflow.python.ops.math_ops) is deprecated and will be removed in a future version.\n",
      "Instructions for updating:\n",
      "Use `tf.cast` instead.\n",
      "INFO:tensorflow:Done calling model_fn.\n",
      "INFO:tensorflow:Create CheckpointSaverHook.\n",
      "WARNING:tensorflow:From /home/jupyter/.local/lib/python3.5/site-packages/tensorflow_core/python/ops/array_ops.py:1475: where (from tensorflow.python.ops.array_ops) is deprecated and will be removed in a future version.\n",
      "Instructions for updating:\n",
      "Use tf.where in 2.0, which has the same broadcast rule as np.where\n",
      "INFO:tensorflow:Graph was finalized.\n",
      "INFO:tensorflow:Running local_init_op.\n",
      "INFO:tensorflow:Done running local_init_op.\n",
      "WARNING:tensorflow:From /home/jupyter/.local/lib/python3.5/site-packages/tensorflow_core/python/training/monitored_session.py:882: start_queue_runners (from tensorflow.python.training.queue_runner_impl) is deprecated and will be removed in a future version.\n",
      "Instructions for updating:\n",
      "To construct input pipelines, use the `tf.data` module.\n",
      "INFO:tensorflow:Saving checkpoints for 0 into /tmp/tmpsmjasuyd/model.ckpt.\n",
      "INFO:tensorflow:loss = 465.97015, step = 1\n",
      "INFO:tensorflow:global_step/sec: 763.884\n",
      "INFO:tensorflow:loss = 33.189438, step = 101 (0.133 sec)\n",
      "WARNING:tensorflow:It seems that global step (tf.train.get_global_step) has not been increased. Current value (could be stable): 115 vs previous value: 115. You could increase the global step by passing tf.train.get_global_step() to Optimizer.apply_gradients or Optimizer.minimize.\n",
      "WARNING:tensorflow:It seems that global step (tf.train.get_global_step) has not been increased. Current value (could be stable): 117 vs previous value: 117. You could increase the global step by passing tf.train.get_global_step() to Optimizer.apply_gradients or Optimizer.minimize.\n",
      "INFO:tensorflow:global_step/sec: 916.966\n",
      "INFO:tensorflow:loss = 14.683985, step = 201 (0.109 sec)\n",
      "WARNING:tensorflow:It seems that global step (tf.train.get_global_step) has not been increased. Current value (could be stable): 209 vs previous value: 209. You could increase the global step by passing tf.train.get_global_step() to Optimizer.apply_gradients or Optimizer.minimize.\n",
      "INFO:tensorflow:global_step/sec: 914.722\n",
      "INFO:tensorflow:loss = 7.0586677, step = 301 (0.109 sec)\n",
      "INFO:tensorflow:global_step/sec: 907.719\n",
      "INFO:tensorflow:loss = 14.224674, step = 401 (0.110 sec)\n",
      "INFO:tensorflow:global_step/sec: 907.836\n",
      "INFO:tensorflow:loss = 12.006014, step = 501 (0.111 sec)\n",
      "INFO:tensorflow:global_step/sec: 959.461\n",
      "INFO:tensorflow:loss = 5.6221857, step = 601 (0.104 sec)\n",
      "INFO:tensorflow:global_step/sec: 953.687\n",
      "INFO:tensorflow:loss = 9.553204, step = 701 (0.104 sec)\n",
      "INFO:tensorflow:global_step/sec: 978.051\n",
      "INFO:tensorflow:loss = 4.9825883, step = 801 (0.102 sec)\n",
      "INFO:tensorflow:global_step/sec: 973.649\n",
      "INFO:tensorflow:loss = 6.1540456, step = 901 (0.103 sec)\n",
      "INFO:tensorflow:Saving checkpoints for 1000 into /tmp/tmpsmjasuyd/model.ckpt.\n",
      "INFO:tensorflow:Loss for final step: 5.308588.\n"
     ]
    },
    {
     "data": {
      "text/plain": [
       "<tensorflow_estimator.python.estimator.canned.linear.LinearRegressor at 0x7f3969f1bf60>"
      ]
     },
     "execution_count": 45,
     "metadata": {},
     "output_type": "execute_result"
    }
   ],
   "source": [
    "estimator.train(input_fn=input_func,steps=1000)"
   ]
  },
  {
   "cell_type": "markdown",
   "metadata": {},
   "source": [
    "## Now lets get the metrics on training data."
   ]
  },
  {
   "cell_type": "code",
   "execution_count": 46,
   "metadata": {},
   "outputs": [
    {
     "name": "stdout",
     "output_type": "stream",
     "text": [
      "INFO:tensorflow:Calling model_fn.\n",
      "INFO:tensorflow:Done calling model_fn.\n",
      "INFO:tensorflow:Starting evaluation at 2020-03-15T12:59:37Z\n",
      "INFO:tensorflow:Graph was finalized.\n",
      "INFO:tensorflow:Restoring parameters from /tmp/tmpsmjasuyd/model.ckpt-1000\n",
      "INFO:tensorflow:Running local_init_op.\n",
      "INFO:tensorflow:Done running local_init_op.\n",
      "INFO:tensorflow:Evaluation [100/1000]\n",
      "INFO:tensorflow:Evaluation [200/1000]\n",
      "INFO:tensorflow:Evaluation [300/1000]\n",
      "INFO:tensorflow:Evaluation [400/1000]\n",
      "INFO:tensorflow:Evaluation [500/1000]\n",
      "INFO:tensorflow:Evaluation [600/1000]\n",
      "INFO:tensorflow:Evaluation [700/1000]\n",
      "INFO:tensorflow:Evaluation [800/1000]\n",
      "INFO:tensorflow:Evaluation [900/1000]\n",
      "INFO:tensorflow:Evaluation [1000/1000]\n",
      "INFO:tensorflow:Finished evaluation at 2020-03-15-12:59:39\n",
      "INFO:tensorflow:Saving dict for global step 1000: average_loss = 1.1042881, global_step = 1000, label/mean = 7.521542, loss = 8.834305, prediction/mean = 7.32142\n",
      "INFO:tensorflow:Saving 'checkpoint_path' summary for global step 1000: /tmp/tmpsmjasuyd/model.ckpt-1000\n"
     ]
    }
   ],
   "source": [
    "train_metrics=estimator.evaluate(input_fn=train_input_func,steps=1000)"
   ]
  },
  {
   "cell_type": "markdown",
   "metadata": {},
   "source": [
    "### Now metrics on evaluation data"
   ]
  },
  {
   "cell_type": "code",
   "execution_count": 47,
   "metadata": {},
   "outputs": [
    {
     "name": "stdout",
     "output_type": "stream",
     "text": [
      "INFO:tensorflow:Calling model_fn.\n",
      "INFO:tensorflow:Done calling model_fn.\n",
      "INFO:tensorflow:Starting evaluation at 2020-03-15T13:01:17Z\n",
      "INFO:tensorflow:Graph was finalized.\n",
      "INFO:tensorflow:Restoring parameters from /tmp/tmpsmjasuyd/model.ckpt-1000\n",
      "INFO:tensorflow:Running local_init_op.\n",
      "INFO:tensorflow:Done running local_init_op.\n",
      "INFO:tensorflow:Evaluation [100/1000]\n",
      "INFO:tensorflow:Evaluation [200/1000]\n",
      "INFO:tensorflow:Evaluation [300/1000]\n",
      "INFO:tensorflow:Evaluation [400/1000]\n",
      "INFO:tensorflow:Evaluation [500/1000]\n",
      "INFO:tensorflow:Evaluation [600/1000]\n",
      "INFO:tensorflow:Evaluation [700/1000]\n",
      "INFO:tensorflow:Evaluation [800/1000]\n",
      "INFO:tensorflow:Evaluation [900/1000]\n",
      "INFO:tensorflow:Evaluation [1000/1000]\n",
      "INFO:tensorflow:Finished evaluation at 2020-03-15-13:01:18\n",
      "INFO:tensorflow:Saving dict for global step 1000: average_loss = 1.0753602, global_step = 1000, label/mean = 7.4628925, loss = 8.602881, prediction/mean = 7.300697\n",
      "INFO:tensorflow:Saving 'checkpoint_path' summary for global step 1000: /tmp/tmpsmjasuyd/model.ckpt-1000\n"
     ]
    }
   ],
   "source": [
    "eval_metrics=estimator.evaluate(input_fn=eval_input_fuc,steps=1000)"
   ]
  },
  {
   "cell_type": "markdown",
   "metadata": {},
   "source": [
    "### now lets compare the results\n",
    "#### Main intention is that there should be any overfitting or underfitting in loss. So the values between training  and evaluation should not be the too large.\n",
    "#### If training data metrics are much better than evaluation metrics then we are overfitted with the traiing data."
   ]
  },
  {
   "cell_type": "code",
   "execution_count": 48,
   "metadata": {},
   "outputs": [
    {
     "name": "stdout",
     "output_type": "stream",
     "text": [
      "Training Data metrics\n",
      "\n",
      "\n",
      "{'label/mean': 7.521542, 'prediction/mean': 7.32142, 'average_loss': 1.1042881, 'loss': 8.834305, 'global_step': 1000}\n"
     ]
    }
   ],
   "source": [
    "print('Training Data metrics')\n",
    "print('\\n')\n",
    "print(train_metrics)"
   ]
  },
  {
   "cell_type": "code",
   "execution_count": 49,
   "metadata": {},
   "outputs": [
    {
     "name": "stdout",
     "output_type": "stream",
     "text": [
      "Evaluation Data metrics\n",
      "\n",
      "\n",
      "{'label/mean': 7.4628925, 'prediction/mean': 7.300697, 'average_loss': 1.0753602, 'loss': 8.602881, 'global_step': 1000}\n"
     ]
    }
   ],
   "source": [
    "print('Evaluation Data metrics')\n",
    "print('\\n')\n",
    "print(eval_metrics)"
   ]
  },
  {
   "cell_type": "markdown",
   "metadata": {},
   "source": [
    "### Well !! the model is created.\n",
    "#### Lets predict the values"
   ]
  },
  {
   "cell_type": "code",
   "execution_count": 50,
   "metadata": {},
   "outputs": [],
   "source": [
    "## Lets create data for prediction.\n",
    "brand_new_data=np.linspace(0,10,10)\n",
    "\n",
    "predict_input_func=tf.estimator.inputs.numpy_input_fn({'x':brand_new_data},shuffle=False)"
   ]
  },
  {
   "cell_type": "code",
   "execution_count": 51,
   "metadata": {},
   "outputs": [
    {
     "data": {
      "text/plain": [
       "<generator object Estimator.predict at 0x7f396a7f6678>"
      ]
     },
     "execution_count": 51,
     "metadata": {},
     "output_type": "execute_result"
    }
   ],
   "source": [
    "##Lets predict using estimator.\n",
    "estimator.predict(input_fn=predict_input_func)"
   ]
  },
  {
   "cell_type": "markdown",
   "metadata": {},
   "source": [
    "## As this is a generator object we have to loop it or list it."
   ]
  },
  {
   "cell_type": "code",
   "execution_count": 53,
   "metadata": {},
   "outputs": [
    {
     "name": "stdout",
     "output_type": "stream",
     "text": [
      "INFO:tensorflow:Calling model_fn.\n",
      "INFO:tensorflow:Done calling model_fn.\n",
      "INFO:tensorflow:Graph was finalized.\n",
      "INFO:tensorflow:Restoring parameters from /tmp/tmpsmjasuyd/model.ckpt-1000\n",
      "INFO:tensorflow:Running local_init_op.\n",
      "INFO:tensorflow:Done running local_init_op.\n"
     ]
    },
    {
     "data": {
      "text/plain": [
       "[{'predictions': array([4.4526176], dtype=float32)},\n",
       " {'predictions': array([5.089843], dtype=float32)},\n",
       " {'predictions': array([5.727068], dtype=float32)},\n",
       " {'predictions': array([6.3642926], dtype=float32)},\n",
       " {'predictions': array([7.001518], dtype=float32)},\n",
       " {'predictions': array([7.6387424], dtype=float32)},\n",
       " {'predictions': array([8.275968], dtype=float32)},\n",
       " {'predictions': array([8.913193], dtype=float32)},\n",
       " {'predictions': array([9.550418], dtype=float32)},\n",
       " {'predictions': array([10.187643], dtype=float32)}]"
      ]
     },
     "execution_count": 53,
     "metadata": {},
     "output_type": "execute_result"
    }
   ],
   "source": [
    "list(estimator.predict(input_fn=predict_input_func))"
   ]
  },
  {
   "cell_type": "code",
   "execution_count": 55,
   "metadata": {},
   "outputs": [
    {
     "name": "stdout",
     "output_type": "stream",
     "text": [
      "INFO:tensorflow:Calling model_fn.\n",
      "INFO:tensorflow:Done calling model_fn.\n",
      "INFO:tensorflow:Graph was finalized.\n",
      "INFO:tensorflow:Restoring parameters from /tmp/tmpsmjasuyd/model.ckpt-1000\n",
      "INFO:tensorflow:Running local_init_op.\n",
      "INFO:tensorflow:Done running local_init_op.\n"
     ]
    }
   ],
   "source": [
    "#Lets plot this out.\n",
    "predictions=[]\n",
    "for pred in estimator.predict(input_fn=predict_input_func):\n",
    "    predictions.append(pred['predictions'])"
   ]
  },
  {
   "cell_type": "code",
   "execution_count": 56,
   "metadata": {},
   "outputs": [
    {
     "data": {
      "text/plain": [
       "[array([4.4526176], dtype=float32),\n",
       " array([5.089843], dtype=float32),\n",
       " array([5.727068], dtype=float32),\n",
       " array([6.3642926], dtype=float32),\n",
       " array([7.001518], dtype=float32),\n",
       " array([7.6387424], dtype=float32),\n",
       " array([8.275968], dtype=float32),\n",
       " array([8.913193], dtype=float32),\n",
       " array([9.550418], dtype=float32),\n",
       " array([10.187643], dtype=float32)]"
      ]
     },
     "execution_count": 56,
     "metadata": {},
     "output_type": "execute_result"
    }
   ],
   "source": [
    "predictions"
   ]
  },
  {
   "cell_type": "code",
   "execution_count": 59,
   "metadata": {},
   "outputs": [
    {
     "data": {
      "text/html": [
       "<div>\n",
       "<style scoped>\n",
       "    .dataframe tbody tr th:only-of-type {\n",
       "        vertical-align: middle;\n",
       "    }\n",
       "\n",
       "    .dataframe tbody tr th {\n",
       "        vertical-align: top;\n",
       "    }\n",
       "\n",
       "    .dataframe thead th {\n",
       "        text-align: right;\n",
       "    }\n",
       "</style>\n",
       "<table border=\"1\" class=\"dataframe\">\n",
       "  <thead>\n",
       "    <tr style=\"text-align: right;\">\n",
       "      <th></th>\n",
       "      <th>x data</th>\n",
       "      <th>Y</th>\n",
       "    </tr>\n",
       "  </thead>\n",
       "  <tbody>\n",
       "    <tr>\n",
       "      <th>999995</th>\n",
       "      <td>9.99996</td>\n",
       "      <td>10.489093</td>\n",
       "    </tr>\n",
       "    <tr>\n",
       "      <th>999996</th>\n",
       "      <td>9.99997</td>\n",
       "      <td>10.376070</td>\n",
       "    </tr>\n",
       "    <tr>\n",
       "      <th>999997</th>\n",
       "      <td>9.99998</td>\n",
       "      <td>11.193473</td>\n",
       "    </tr>\n",
       "    <tr>\n",
       "      <th>999998</th>\n",
       "      <td>9.99999</td>\n",
       "      <td>9.124419</td>\n",
       "    </tr>\n",
       "    <tr>\n",
       "      <th>999999</th>\n",
       "      <td>10.00000</td>\n",
       "      <td>10.814946</td>\n",
       "    </tr>\n",
       "  </tbody>\n",
       "</table>\n",
       "</div>"
      ],
      "text/plain": [
       "          x data          Y\n",
       "999995   9.99996  10.489093\n",
       "999996   9.99997  10.376070\n",
       "999997   9.99998  11.193473\n",
       "999998   9.99999   9.124419\n",
       "999999  10.00000  10.814946"
      ]
     },
     "execution_count": 59,
     "metadata": {},
     "output_type": "execute_result"
    }
   ],
   "source": [
    "my_data.tail()"
   ]
  },
  {
   "cell_type": "code",
   "execution_count": 61,
   "metadata": {},
   "outputs": [
    {
     "data": {
      "text/plain": [
       "<matplotlib.axes._subplots.AxesSubplot at 0x7f396a7331d0>"
      ]
     },
     "execution_count": 61,
     "metadata": {},
     "output_type": "execute_result"
    },
    {
     "data": {
      "image/png": "[encoded data removed]",
      "text/plain": [
       "<Figure size 432x288 with 1 Axes>"
      ]
     },
     "metadata": {
      "needs_background": "light"
     },
     "output_type": "display_data"
    }
   ],
   "source": [
    "## Lets plot\n",
    "\n",
    "my_data.sample(n=250).plot(kind='scatter',x='x data',y='Y')"
   ]
  },
  {
   "cell_type": "code",
   "execution_count": 63,
   "metadata": {},
   "outputs": [
    {
     "data": {
      "text/plain": [
       "[<matplotlib.lines.Line2D at 0x7f396a6c7fd0>]"
      ]
     },
     "execution_count": 63,
     "metadata": {},
     "output_type": "execute_result"
    },
    {
     "data": {
      "image/png": "[encoded data removed]",
      "text/plain": [
       "<Figure size 432x288 with 1 Axes>"
      ]
     },
     "metadata": {
      "needs_background": "light"
     },
     "output_type": "display_data"
    }
   ],
   "source": [
    "#Now lets plot the results\n",
    "my_data.sample(n=250).plot(kind='scatter',x='x data',y='Y')\n",
    "plt.plot(brand_new_data,predictions,'r*')\n",
    "#This is falling into y=mx+b"
   ]
  },
  {
   "cell_type": "code",
   "execution_count": null,
   "metadata": {},
   "outputs": [],
   "source": []
  }
 ],
 "metadata": {
  "kernelspec": {
   "display_name": "Python 3",
   "language": "python",
   "name": "python3"
  },
  "language_info": {
   "codemirror_mode": {
    "name": "ipython",
    "version": 3
   },
   "file_extension": ".py",
   "mimetype": "text/x-python",
   "name": "python",
   "nbconvert_exporter": "python",
   "pygments_lexer": "ipython3",
   "version": "3.5.3"
  }
 },
 "nbformat": 4,
 "nbformat_minor": 4
}
