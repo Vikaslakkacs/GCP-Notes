{
 "cells": [
  {
   "cell_type": "markdown",
   "metadata": {},
   "source": [
    "### We are going to save a Mnist model and use for our digit recognition model.\n",
    "### we will create a mnist model using keras and we save it.\n"
   ]
  },
  {
   "cell_type": "code",
   "execution_count": 1,
   "metadata": {},
   "outputs": [],
   "source": [
    "import numpy as np\n",
    "import matplotlib.pyplot as plt\n",
    "%matplotlib inline\n",
    "import tensorflow as tf\n",
    "import tensorflow_datasets as tfds\n",
    "import tensorflow.keras as keras"
   ]
  },
  {
   "cell_type": "code",
   "execution_count": 2,
   "metadata": {},
   "outputs": [],
   "source": [
    "mnist=keras.datasets.mnist"
   ]
  },
  {
   "cell_type": "code",
   "execution_count": 3,
   "metadata": {},
   "outputs": [],
   "source": [
    "(x_train,y_train),(x_test,y_test)=mnist.load_data()"
   ]
  },
  {
   "cell_type": "markdown",
   "metadata": {},
   "source": [
    "#### We will do some data preprocessing"
   ]
  },
  {
   "cell_type": "code",
   "execution_count": 4,
   "metadata": {},
   "outputs": [
    {
     "data": {
      "text/plain": [
       "((60000, 28, 28), (60000,))"
      ]
     },
     "execution_count": 4,
     "metadata": {},
     "output_type": "execute_result"
    }
   ],
   "source": [
    "x_train.shape,y_train.shape"
   ]
  },
  {
   "cell_type": "code",
   "execution_count": 5,
   "metadata": {},
   "outputs": [],
   "source": [
    "x_train=np.reshape(x_train,(-1,28,28,1))"
   ]
  },
  {
   "cell_type": "code",
   "execution_count": 6,
   "metadata": {},
   "outputs": [
    {
     "data": {
      "text/plain": [
       "(60000, 28, 28, 1)"
      ]
     },
     "execution_count": 6,
     "metadata": {},
     "output_type": "execute_result"
    }
   ],
   "source": [
    "x_train.shape"
   ]
  },
  {
   "cell_type": "code",
   "execution_count": 7,
   "metadata": {},
   "outputs": [],
   "source": [
    "x_test=np.reshape(x_test,(-1,28,28,1))"
   ]
  },
  {
   "cell_type": "code",
   "execution_count": 8,
   "metadata": {},
   "outputs": [
    {
     "data": {
      "text/plain": [
       "(10000, 28, 28, 1)"
      ]
     },
     "execution_count": 8,
     "metadata": {},
     "output_type": "execute_result"
    }
   ],
   "source": [
    "x_test.shape"
   ]
  },
  {
   "cell_type": "code",
   "execution_count": 9,
   "metadata": {},
   "outputs": [
    {
     "data": {
      "text/plain": [
       "255"
      ]
     },
     "execution_count": 9,
     "metadata": {},
     "output_type": "execute_result"
    }
   ],
   "source": [
    "x_train.max()"
   ]
  },
  {
   "cell_type": "code",
   "execution_count": 10,
   "metadata": {},
   "outputs": [],
   "source": [
    "x_train=x_train/255\n",
    "x_test=x_test/255"
   ]
  },
  {
   "cell_type": "markdown",
   "metadata": {},
   "source": [
    "### We will change the y_train and test from onevalue to the array of values"
   ]
  },
  {
   "cell_type": "code",
   "execution_count": 11,
   "metadata": {},
   "outputs": [
    {
     "data": {
      "text/plain": [
       "(60000, 10)"
      ]
     },
     "execution_count": 11,
     "metadata": {},
     "output_type": "execute_result"
    }
   ],
   "source": [
    "y_train=tf.one_hot(y_train,depth=10)\n",
    "y_train=tfds.as_numpy(y_train)\n",
    "y_train.shape"
   ]
  },
  {
   "cell_type": "code",
   "execution_count": 12,
   "metadata": {},
   "outputs": [
    {
     "data": {
      "text/plain": [
       "(10000, 10)"
      ]
     },
     "execution_count": 12,
     "metadata": {},
     "output_type": "execute_result"
    }
   ],
   "source": [
    "y_test=tf.one_hot(y_test,depth=10)\n",
    "y_test=tfds.as_numpy(y_test)\n",
    "y_test.shape"
   ]
  },
  {
   "cell_type": "code",
   "execution_count": 24,
   "metadata": {},
   "outputs": [
    {
     "data": {
      "text/plain": [
       "(28, 28, 1)"
      ]
     },
     "execution_count": 24,
     "metadata": {},
     "output_type": "execute_result"
    }
   ],
   "source": []
  },
  {
   "cell_type": "markdown",
   "metadata": {},
   "source": [
    "#### Lets check one sample one."
   ]
  },
  {
   "cell_type": "code",
   "execution_count": 25,
   "metadata": {},
   "outputs": [
    {
     "name": "stdout",
     "output_type": "stream",
     "text": [
      "[0. 0. 0. 0. 0. 0. 0. 1. 0. 0.]\n"
     ]
    },
    {
     "data": {
      "image/png": "[encoded data removed]",
      "text/plain": [
       "<Figure size 432x288 with 1 Axes>"
      ]
     },
     "metadata": {
      "needs_background": "light"
     },
     "output_type": "display_data"
    }
   ],
   "source": [
    "sample=x_train[6756].reshape((28,28))\n",
    "plt.imshow(sample)\n",
    "print(y_train[6756])"
   ]
  },
  {
   "cell_type": "markdown",
   "metadata": {},
   "source": [
    "##### Its looking fine We have the data and lets create our model"
   ]
  },
  {
   "cell_type": "code",
   "execution_count": 26,
   "metadata": {},
   "outputs": [],
   "source": [
    "from tensorflow.keras.layers import Conv2D,MaxPool2D,Dense,Dropout,Flatten"
   ]
  },
  {
   "cell_type": "code",
   "execution_count": 27,
   "metadata": {},
   "outputs": [],
   "source": [
    "model=keras.Sequential()\n",
    "model.add(Conv2D(filters=32,kernel_size=[2,2],padding=\"SAME\",input_shape=(28,28,1),activation='relu'))\n",
    "model.add(MaxPool2D(pool_size=(2,2)))\n",
    "model.add(Conv2D(filters=32,kernel_size=[2,2],padding=\"SAME\",activation='relu'))\n",
    "model.add(MaxPool2D(pool_size=(2,2)))\n",
    "model.add(Dropout(rate=0.3))\n",
    "model.add(Conv2D(filters=32,kernel_size=[2,2],padding=\"SAME\",activation='relu'))\n",
    "model.add(MaxPool2D(pool_size=(2,2)))\n",
    "model.add(Conv2D(filters=32,kernel_size=[2,2],padding=\"SAME\",activation='relu'))\n",
    "model.add(MaxPool2D(pool_size=(2,2)))\n",
    "model.add(Dropout(rate=0.3))\n",
    "model.add(Flatten())\n",
    "model.add(Dense(1024,activation='relu'))\n",
    "model.add(Dense(2048,activation='relu'))\n",
    "model.add(Dropout(0.3))\n",
    "model.add(Dense(10))\n",
    "model.compile(optimizer='adam',\n",
    "             loss=keras.losses.CategoricalCrossentropy(from_logits=True),\n",
    "             metrics=['accuracy'])"
   ]
  },
  {
   "cell_type": "code",
   "execution_count": 28,
   "metadata": {},
   "outputs": [
    {
     "name": "stdout",
     "output_type": "stream",
     "text": [
      "Train on 60000 samples\n",
      "Epoch 1/30\n",
      "60000/60000 [==============================] - 122s 2ms/sample - loss: 0.5799 - accuracy: 0.8021\n",
      "Epoch 2/30\n",
      "60000/60000 [==============================] - 116s 2ms/sample - loss: 0.2362 - accuracy: 0.9265\n",
      "Epoch 3/30\n",
      "60000/60000 [==============================] - 117s 2ms/sample - loss: 0.1836 - accuracy: 0.9440\n",
      "Epoch 4/30\n",
      "60000/60000 [==============================] - 118s 2ms/sample - loss: 0.1585 - accuracy: 0.9513\n",
      "Epoch 5/30\n",
      "60000/60000 [==============================] - 117s 2ms/sample - loss: 0.1413 - accuracy: 0.9565\n",
      "Epoch 6/30\n",
      "60000/60000 [==============================] - 114s 2ms/sample - loss: 0.1297 - accuracy: 0.9604\n",
      "Epoch 7/30\n",
      "60000/60000 [==============================] - 118s 2ms/sample - loss: 0.1222 - accuracy: 0.9627\n",
      "Epoch 8/30\n",
      "60000/60000 [==============================] - 117s 2ms/sample - loss: 0.1174 - accuracy: 0.9638\n",
      "Epoch 9/30\n",
      "60000/60000 [==============================] - 116s 2ms/sample - loss: 0.1127 - accuracy: 0.9654\n",
      "Epoch 10/30\n",
      "60000/60000 [==============================] - 115s 2ms/sample - loss: 0.1098 - accuracy: 0.9665\n",
      "Epoch 11/30\n",
      "60000/60000 [==============================] - 116s 2ms/sample - loss: 0.1058 - accuracy: 0.9675\n",
      "Epoch 12/30\n",
      "60000/60000 [==============================] - 118s 2ms/sample - loss: 0.1013 - accuracy: 0.9701\n",
      "Epoch 13/30\n",
      "60000/60000 [==============================] - 119s 2ms/sample - loss: 0.1001 - accuracy: 0.9696\n",
      "Epoch 14/30\n",
      "60000/60000 [==============================] - 116s 2ms/sample - loss: 0.0994 - accuracy: 0.9698\n",
      "Epoch 15/30\n",
      "60000/60000 [==============================] - 117s 2ms/sample - loss: 0.0973 - accuracy: 0.9707\n",
      "Epoch 16/30\n",
      "60000/60000 [==============================] - 117s 2ms/sample - loss: 0.0944 - accuracy: 0.9714\n",
      "Epoch 17/30\n",
      "60000/60000 [==============================] - 113s 2ms/sample - loss: 0.0927 - accuracy: 0.9715\n",
      "Epoch 18/30\n",
      "60000/60000 [==============================] - 116s 2ms/sample - loss: 0.0915 - accuracy: 0.9722\n",
      "Epoch 19/30\n",
      "60000/60000 [==============================] - 118s 2ms/sample - loss: 0.0906 - accuracy: 0.9721\n",
      "Epoch 20/30\n",
      "60000/60000 [==============================] - 120s 2ms/sample - loss: 0.0893 - accuracy: 0.9731\n",
      "Epoch 21/30\n",
      "60000/60000 [==============================] - 116s 2ms/sample - loss: 0.0873 - accuracy: 0.9745\n",
      "Epoch 22/30\n",
      "60000/60000 [==============================] - 121s 2ms/sample - loss: 0.0878 - accuracy: 0.9732\n",
      "Epoch 23/30\n",
      "60000/60000 [==============================] - 117s 2ms/sample - loss: 0.0883 - accuracy: 0.9737\n",
      "Epoch 24/30\n",
      "60000/60000 [==============================] - 118s 2ms/sample - loss: 0.0877 - accuracy: 0.9733\n",
      "Epoch 25/30\n",
      "60000/60000 [==============================] - 121s 2ms/sample - loss: 0.0821 - accuracy: 0.9756\n",
      "Epoch 26/30\n",
      "60000/60000 [==============================] - 116s 2ms/sample - loss: 0.0879 - accuracy: 0.9734\n",
      "Epoch 27/30\n",
      "60000/60000 [==============================] - 118s 2ms/sample - loss: 0.0863 - accuracy: 0.9742\n",
      "Epoch 28/30\n",
      "60000/60000 [==============================] - 112s 2ms/sample - loss: 0.0841 - accuracy: 0.9747\n",
      "Epoch 29/30\n",
      "60000/60000 [==============================] - 116s 2ms/sample - loss: 0.0847 - accuracy: 0.9751\n",
      "Epoch 30/30\n",
      "60000/60000 [==============================] - 119s 2ms/sample - loss: 0.0848 - accuracy: 0.9752\n"
     ]
    },
    {
     "data": {
      "text/plain": [
       "<tensorflow.python.keras.callbacks.History at 0x7f83802121d0>"
      ]
     },
     "execution_count": 28,
     "metadata": {},
     "output_type": "execute_result"
    }
   ],
   "source": [
    "model.fit(x_train,y_train,epochs=30)"
   ]
  },
  {
   "cell_type": "code",
   "execution_count": 29,
   "metadata": {},
   "outputs": [
    {
     "name": "stdout",
     "output_type": "stream",
     "text": [
      "60000/60000 [==============================] - 42s 693us/sample - loss: 0.0316 - accuracy: 0.9912\n"
     ]
    },
    {
     "data": {
      "text/plain": [
       "[0.03161073074899226, 0.99115]"
      ]
     },
     "execution_count": 29,
     "metadata": {},
     "output_type": "execute_result"
    }
   ],
   "source": [
    "model.evaluate(x_train,y_train)"
   ]
  },
  {
   "cell_type": "code",
   "execution_count": 30,
   "metadata": {},
   "outputs": [],
   "source": [
    "model.save('mnist_keras.h5')"
   ]
  },
  {
   "cell_type": "code",
   "execution_count": 31,
   "metadata": {},
   "outputs": [],
   "source": [
    "model_2=keras.models.load_model('mnist_keras.h5')"
   ]
  },
  {
   "cell_type": "code",
   "execution_count": 33,
   "metadata": {},
   "outputs": [
    {
     "name": "stdout",
     "output_type": "stream",
     "text": [
      "10000/10000 [==============================] - 7s 725us/sample - loss: 0.0388 - accuracy: 0.9885\n"
     ]
    },
    {
     "data": {
      "text/plain": [
       "[0.038817839704966176, 0.9885]"
      ]
     },
     "execution_count": 33,
     "metadata": {},
     "output_type": "execute_result"
    }
   ],
   "source": [
    "model_2.evaluate(x_test,y_test)"
   ]
  },
  {
   "cell_type": "code",
   "execution_count": 34,
   "metadata": {},
   "outputs": [
    {
     "data": {
      "text/plain": [
       "'2.1.0'"
      ]
     },
     "execution_count": 34,
     "metadata": {},
     "output_type": "execute_result"
    }
   ],
   "source": [
    "tf.__version__"
   ]
  },
  {
   "cell_type": "code",
   "execution_count": null,
   "metadata": {},
   "outputs": [],
   "source": []
  },
  {
   "cell_type": "code",
   "execution_count": 42,
   "metadata": {},
   "outputs": [],
   "source": [
    "predict=x_train[334].reshape((1,28,28,1))"
   ]
  },
  {
   "cell_type": "code",
   "execution_count": 43,
   "metadata": {},
   "outputs": [
    {
     "data": {
      "text/plain": [
       "(1, 28, 28, 1)"
      ]
     },
     "execution_count": 43,
     "metadata": {},
     "output_type": "execute_result"
    }
   ],
   "source": [
    "predict.shape"
   ]
  },
  {
   "cell_type": "code",
   "execution_count": 44,
   "metadata": {},
   "outputs": [
    {
     "data": {
      "text/plain": [
       "array([9])"
      ]
     },
     "execution_count": 44,
     "metadata": {},
     "output_type": "execute_result"
    }
   ],
   "source": [
    "model.predict_classes(predict)"
   ]
  },
  {
   "cell_type": "code",
   "execution_count": 46,
   "metadata": {},
   "outputs": [
    {
     "name": "stdout",
     "output_type": "stream",
     "text": [
      "[0. 0. 0. 0. 0. 0. 0. 0. 0. 1.]\n"
     ]
    }
   ],
   "source": [
    "print(y_train[334])"
   ]
  },
  {
   "cell_type": "code",
   "execution_count": null,
   "metadata": {},
   "outputs": [],
   "source": []
  }
 ],
 "metadata": {
  "kernelspec": {
   "display_name": "Python 3",
   "language": "python",
   "name": "python3"
  },
  "language_info": {
   "codemirror_mode": {
    "name": "ipython",
    "version": 3
   },
   "file_extension": ".py",
   "mimetype": "text/x-python",
   "name": "python",
   "nbconvert_exporter": "python",
   "pygments_lexer": "ipython3",
   "version": "3.7.6"
  }
 },
 "nbformat": 4,
 "nbformat_minor": 4
}
