{
 "cells": [
  {
   "cell_type": "markdown",
   "metadata": {},
   "source": [
    "### We will detect spam ham mails from the tsv file"
   ]
  },
  {
   "cell_type": "code",
   "execution_count": 1,
   "metadata": {},
   "outputs": [],
   "source": [
    "import numpy as np\n",
    "import matplotlib.pyplot as plt\n",
    "import pandas as pd\n",
    "import tensorflow as tf\n",
    "from tensorflow import keras\n"
   ]
  },
  {
   "cell_type": "code",
   "execution_count": 18,
   "metadata": {},
   "outputs": [
    {
     "name": "stdout",
     "output_type": "stream",
     "text": [
      "5575\n",
      "spam\tHad your contract mobile 11 Mnths? Latest Motorola, Nokia etc. all FREE! Double Mins & Text on Orange tariffs. TEXT YES for callback, no to remove from records.\t160\t8\n",
      "\n",
      "ham\tNo, I was trying it all weekend ;V\t34\t2\n",
      "\n",
      "ham\tYou know, wot people wear. T shirts, jumpers, hat, belt, is all we know. We r at Cribbs\t87\t7\n",
      "\n",
      "ham\tCool, what time you think you can get here?\t43\t2\n",
      "\n",
      "ham\tWen did you get so spiritual and deep. That's great\t51\t2\n",
      "\n",
      "ham\tHave a safe trip to Nigeria. Wish you happiness and very soon company to share moments with\t91\t1\n",
      "\n",
      "ham\tHahaha..use your brain dear\t27\t2\n",
      "\n",
      "ham\tWell keep in mind I've only got enough gas for one more round trip barring a sudden influx of cash\t98\t1\n",
      "\n",
      "ham\tYeh. Indians was nice. Tho it did kane me off a bit he he. We shud go out 4 a drink sometime soon. Mite hav 2 go 2 da works 4 a laugh soon. Love Pete x x\t153\t5\n",
      "\n",
      "ham\tYes i have. So that's why u texted. Pshew...missing you so much\t63\t6\n",
      "\n",
      "ham\tNo. I meant the calculation is the same. That  &lt;#&gt; units at  &lt;#&gt; . This school is really expensive. Have you started practicing your accent. Because its important. And have you decided if you are doing 4years of dental school or if you'll just do the nmde exam.\t273\t18\n",
      "\n",
      "ham\tSorry, I'll call later\t22\t2\n",
      "\n",
      "ham\tif you aren't here in the next  &lt;#&gt;  hours imma flip my shit\t66\t6\n",
      "\n",
      "ham\tAnything lor. Juz both of us lor.\t33\t2\n",
      "\n",
      "ham\tGet me out of this dump heap. My mom decided to come to lowes. BORING.\t70\t3\n",
      "\n",
      "ham\tOk lor... Sony ericsson salesman... I ask shuhui then she say quite gd 2 use so i considering...\t96\t9\n",
      "\n",
      "ham\tArd 6 like dat lor.\t19\t1\n",
      "\n",
      "ham\tWhy don't you wait 'til at least wednesday to see if you get your .\t67\t3\n",
      "\n",
      "ham\tHuh y lei...\t12\t3\n",
      "\n",
      "spam\tREMINDER FROM O2: To get 2.50 pounds free call credit and details of great offers pls reply 2 this text with your valid name, house no and postcode\t147\t3\n",
      "\n",
      "spam\tThis is the 2nd time we have tried 2 contact u. U have won the £750 Pound prize. 2 claim is easy, call 087187272008 NOW1! Only 10p per minute. BT-national-rate.\t160\t8\n",
      "\n",
      "ham\tWill ü b going to esplanade fr home?\t36\t1\n",
      "\n",
      "ham\tPity, * was in mood for that. So...any other suggestions?\t57\t7\n",
      "\n",
      "ham\tThe guy did some bitching but I acted like i'd be interested in buying something else next week and he gave it to us for free\t125\t1\n",
      "\n",
      "ham\tRofl. Its true to its name\t26\t1\n",
      "\n"
     ]
    }
   ],
   "source": [
    "with open('smsspamcollection.tsv','r',errors='ignore') as spam:\n",
    "    spam_read= spam.readlines()\n",
    "    print(len(spam_read))\n",
    "    for lines in spam_read[5550:]:\n",
    "        print(lines)\n",
    "        "
   ]
  },
  {
   "cell_type": "code",
   "execution_count": null,
   "metadata": {},
   "outputs": [],
   "source": []
  }
 ],
 "metadata": {
  "kernelspec": {
   "display_name": "Python 3",
   "language": "python",
   "name": "python3"
  },
  "language_info": {
   "codemirror_mode": {
    "name": "ipython",
    "version": 3
   },
   "file_extension": ".py",
   "mimetype": "text/x-python",
   "name": "python",
   "nbconvert_exporter": "python",
   "pygments_lexer": "ipython3",
   "version": "3.7.6"
  }
 },
 "nbformat": 4,
 "nbformat_minor": 4
}
