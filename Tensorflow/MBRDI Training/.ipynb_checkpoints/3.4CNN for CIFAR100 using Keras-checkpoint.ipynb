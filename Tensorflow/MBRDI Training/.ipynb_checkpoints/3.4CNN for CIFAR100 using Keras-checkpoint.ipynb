{
 "cells": [
  {
   "cell_type": "markdown",
   "metadata": {},
   "source": [
    "## CIFAR100 Using Keras\n",
    "#### if the accuracy doesn't show up we will use image data generator to generate randomness in the data\n",
    "#### 1. WE will create model in keras\n",
    "#### 2. Create model in keras with image data generator\n",
    "#### 3. Create model using only tensorflow."
   ]
  },
  {
   "cell_type": "code",
   "execution_count": 80,
   "metadata": {},
   "outputs": [],
   "source": [
    "import numpy as np\n",
    "import matplotlib.pyplot as plt\n",
    "%matplotlib inline\n",
    "import tensorflow as tf\n",
    "import tensorflow_datasets as tfds\n",
    "from tensorflow import keras"
   ]
  },
  {
   "cell_type": "code",
   "execution_count": 81,
   "metadata": {},
   "outputs": [],
   "source": [
    "cifar=keras.datasets.cifar100"
   ]
  },
  {
   "cell_type": "code",
   "execution_count": 82,
   "metadata": {},
   "outputs": [],
   "source": [
    "\n",
    "CIFAR100_LABELS_LIST = [\n",
    "    'apple', 'aquarium_fish', 'baby', 'bear', 'beaver', 'bed', 'bee', 'beetle', \n",
    "    'bicycle', 'bottle', 'bowl', 'boy', 'bridge', 'bus', 'butterfly', 'camel', \n",
    "    'can', 'castle', 'caterpillar', 'cattle', 'chair', 'chimpanzee', 'clock', \n",
    "    'cloud', 'cockroach', 'couch', 'crab', 'crocodile', 'cup', 'dinosaur', \n",
    "    'dolphin', 'elephant', 'flatfish', 'forest', 'fox', 'girl', 'hamster', \n",
    "    'house', 'kangaroo', 'keyboard', 'lamp', 'lawn_mower', 'leopard', 'lion',\n",
    "    'lizard', 'lobster', 'man', 'maple_tree', 'motorcycle', 'mountain', 'mouse',\n",
    "    'mushroom', 'oak_tree', 'orange', 'orchid', 'otter', 'palm_tree', 'pear',\n",
    "    'pickup_truck', 'pine_tree', 'plain', 'plate', 'poppy', 'porcupine',\n",
    "    'possum', 'rabbit', 'raccoon', 'ray', 'road', 'rocket', 'rose',\n",
    "    'sea', 'seal', 'shark', 'shrew', 'skunk', 'skyscraper', 'snail', 'snake',\n",
    "    'spider', 'squirrel', 'streetcar', 'sunflower', 'sweet_pepper', 'table',\n",
    "    'tank', 'telephone', 'television', 'tiger', 'tractor', 'train', 'trout',\n",
    "    'tulip', 'turtle', 'wardrobe', 'whale', 'willow_tree', 'wolf', 'woman',\n",
    "    'worm'\n",
    "]"
   ]
  },
  {
   "cell_type": "code",
   "execution_count": 83,
   "metadata": {},
   "outputs": [],
   "source": [
    "(x_train,y_train),(x_test,y_test)=cifar.load_data()"
   ]
  },
  {
   "cell_type": "code",
   "execution_count": 84,
   "metadata": {},
   "outputs": [
    {
     "data": {
      "text/plain": [
       "((50000, 32, 32, 3), (50000, 1))"
      ]
     },
     "execution_count": 84,
     "metadata": {},
     "output_type": "execute_result"
    }
   ],
   "source": [
    "x_train.shape,y_train.shape"
   ]
  },
  {
   "cell_type": "markdown",
   "metadata": {},
   "source": [
    "### Data Preprocessing"
   ]
  },
  {
   "cell_type": "code",
   "execution_count": 85,
   "metadata": {},
   "outputs": [],
   "source": [
    "x_train=x_train/255\n",
    "x_test=x_test/255"
   ]
  },
  {
   "cell_type": "code",
   "execution_count": 86,
   "metadata": {},
   "outputs": [
    {
     "data": {
      "text/plain": [
       "dtype('int64')"
      ]
     },
     "execution_count": 86,
     "metadata": {},
     "output_type": "execute_result"
    }
   ],
   "source": [
    "y_train.dtype"
   ]
  },
  {
   "cell_type": "code",
   "execution_count": 87,
   "metadata": {},
   "outputs": [],
   "source": [
    "y_train=tf.one_hot(y_train,depth=100)\n",
    "y_train=tfds.as_numpy(y_train)\n",
    "y_test=tf.one_hot(y_test,depth=100)\n",
    "y_test=tfds.as_numpy(y_test)"
   ]
  },
  {
   "cell_type": "code",
   "execution_count": 88,
   "metadata": {},
   "outputs": [
    {
     "data": {
      "text/plain": [
       "dtype('float32')"
      ]
     },
     "execution_count": 88,
     "metadata": {},
     "output_type": "execute_result"
    }
   ],
   "source": [
    "y_test.dtype"
   ]
  },
  {
   "cell_type": "code",
   "execution_count": 89,
   "metadata": {},
   "outputs": [],
   "source": [
    "y_test=np.reshape(y_test,(-1,100))"
   ]
  },
  {
   "cell_type": "code",
   "execution_count": 90,
   "metadata": {},
   "outputs": [
    {
     "data": {
      "text/plain": [
       "(10000, 100)"
      ]
     },
     "execution_count": 90,
     "metadata": {},
     "output_type": "execute_result"
    }
   ],
   "source": [
    "y_test.shape"
   ]
  },
  {
   "cell_type": "code",
   "execution_count": 91,
   "metadata": {},
   "outputs": [],
   "source": [
    "y_train=np.reshape(y_train,(-1,100))"
   ]
  },
  {
   "cell_type": "code",
   "execution_count": 101,
   "metadata": {},
   "outputs": [
    {
     "data": {
      "text/plain": [
       "(50000, 32, 32, 3)"
      ]
     },
     "execution_count": 101,
     "metadata": {},
     "output_type": "execute_result"
    }
   ],
   "source": [
    "x_train.shape"
   ]
  },
  {
   "cell_type": "code",
   "execution_count": 92,
   "metadata": {},
   "outputs": [
    {
     "name": "stdout",
     "output_type": "stream",
     "text": [
      "[0. 0. 0. 0. 0. 0. 0. 0. 0. 0. 0. 0. 0. 0. 0. 0. 0. 0. 0. 1. 0. 0. 0. 0.\n",
      " 0. 0. 0. 0. 0. 0. 0. 0. 0. 0. 0. 0. 0. 0. 0. 0. 0. 0. 0. 0. 0. 0. 0. 0.\n",
      " 0. 0. 0. 0. 0. 0. 0. 0. 0. 0. 0. 0. 0. 0. 0. 0. 0. 0. 0. 0. 0. 0. 0. 0.\n",
      " 0. 0. 0. 0. 0. 0. 0. 0. 0. 0. 0. 0. 0. 0. 0. 0. 0. 0. 0. 0. 0. 0. 0. 0.\n",
      " 0. 0. 0. 0.]\n"
     ]
    },
    {
     "data": {
      "image/png": "[encoded data removed]",
      "text/plain": [
       "<Figure size 432x288 with 1 Axes>"
      ]
     },
     "metadata": {
      "needs_background": "light"
     },
     "output_type": "display_data"
    }
   ],
   "source": [
    "sample=x_train[8687]\n",
    "plt.imshow(sample)\n",
    "print(y_train[8687])\n",
    "#print(CIFAR100_LABELS_LIST[y_train[8687][0]])"
   ]
  },
  {
   "cell_type": "markdown",
   "metadata": {},
   "source": [
    "### This is going nice."
   ]
  },
  {
   "cell_type": "code",
   "execution_count": 93,
   "metadata": {},
   "outputs": [],
   "source": [
    "from tensorflow.keras.layers import Conv2D,MaxPool2D,Dropout,Dense,Flatten"
   ]
  },
  {
   "cell_type": "code",
   "execution_count": 110,
   "metadata": {},
   "outputs": [],
   "source": []
  },
  {
   "cell_type": "code",
   "execution_count": 124,
   "metadata": {},
   "outputs": [],
   "source": [
    "model=keras.Sequential()\n",
    "model.add(Conv2D(filters=32,kernel_size=[4,4],strides=(2,2),input_shape=(32,32,3),activation='relu'))\n",
    "model.add(MaxPool2D((2,2)))\n",
    "model.add(Conv2D(filters=64,kernel_size=[4,4],strides=(2,2),activation='relu'))\n",
    "model.add(MaxPool2D((2,2)))\n",
    "model.add(Dropout(0.2))\n",
    "#model.add(Conv2D(filters=128,kernel_size=[4,4],strides=(2,2),activation='relu'))\n",
    "#model.add(MaxPool2D((2,2)))\n",
    "#model.add(Conv2D(filters=256,kernel_size=[4,4],strides=(2,2),activation='relu'))\n",
    "#model.add(MaxPool2D((2,2)))\n",
    "#model.add(Dropout(0.2))\n",
    "model.add(Flatten())\n",
    "model.add(Dense(1024,activation='relu'))\n",
    "model.add(Dense(2048,activation='relu'))\n",
    "model.add(Dropout(rate=0.4))\n",
    "model.add(Dense(100))"
   ]
  },
  {
   "cell_type": "code",
   "execution_count": 125,
   "metadata": {},
   "outputs": [],
   "source": [
    "model.compile(optimizer='adam',\n",
    "             loss=tf.keras.losses.CategoricalCrossentropy(from_logits=True),\n",
    "             metrics=['accuracy'])"
   ]
  },
  {
   "cell_type": "code",
   "execution_count": 126,
   "metadata": {},
   "outputs": [
    {
     "data": {
      "text/plain": [
       "((50000, 32, 32, 3), dtype('float64'), (50000, 100), dtype('float32'))"
      ]
     },
     "execution_count": 126,
     "metadata": {},
     "output_type": "execute_result"
    }
   ],
   "source": [
    "x_train.shape,x_train.dtype,y_train.shape,y_train.dtype"
   ]
  },
  {
   "cell_type": "code",
   "execution_count": 127,
   "metadata": {},
   "outputs": [
    {
     "name": "stdout",
     "output_type": "stream",
     "text": [
      "Train on 50000 samples\n",
      "Epoch 1/25\n",
      "50000/50000 [==============================] - 59s 1ms/sample - loss: 4.1100 - accuracy: 0.0576\n",
      "Epoch 2/25\n",
      "50000/50000 [==============================] - 64s 1ms/sample - loss: 3.7300 - accuracy: 0.1149\n",
      "Epoch 3/25\n",
      "50000/50000 [==============================] - 63s 1ms/sample - loss: 3.5662 - accuracy: 0.1450\n",
      "Epoch 4/25\n",
      "50000/50000 [==============================] - 58s 1ms/sample - loss: 3.4661 - accuracy: 0.1611\n",
      "Epoch 5/25\n",
      "50000/50000 [==============================] - 68s 1ms/sample - loss: 3.3855 - accuracy: 0.1780\n",
      "Epoch 6/25\n",
      "50000/50000 [==============================] - 59s 1ms/sample - loss: 3.3276 - accuracy: 0.1868\n",
      "Epoch 7/25\n",
      "50000/50000 [==============================] - 57s 1ms/sample - loss: 3.2784 - accuracy: 0.1967\n",
      "Epoch 8/25\n",
      "50000/50000 [==============================] - 62s 1ms/sample - loss: 3.2297 - accuracy: 0.2070\n",
      "Epoch 9/25\n",
      "50000/50000 [==============================] - 53s 1ms/sample - loss: 3.1981 - accuracy: 0.2102\n",
      "Epoch 10/25\n",
      "50000/50000 [==============================] - 63s 1ms/sample - loss: 3.1599 - accuracy: 0.2186\n",
      "Epoch 11/25\n",
      "50000/50000 [==============================] - 63s 1ms/sample - loss: 3.1264 - accuracy: 0.2254\n",
      "Epoch 12/25\n",
      "50000/50000 [==============================] - 57s 1ms/sample - loss: 3.1025 - accuracy: 0.2280\n",
      "Epoch 13/25\n",
      "50000/50000 [==============================] - 60s 1ms/sample - loss: 3.0781 - accuracy: 0.2320\n",
      "Epoch 14/25\n",
      "50000/50000 [==============================] - 60s 1ms/sample - loss: 3.0453 - accuracy: 0.2370\n",
      "Epoch 15/25\n",
      "50000/50000 [==============================] - 57s 1ms/sample - loss: 3.0271 - accuracy: 0.2419\n",
      "Epoch 16/25\n",
      "50000/50000 [==============================] - 58s 1ms/sample - loss: 3.0025 - accuracy: 0.2443\n",
      "Epoch 17/25\n",
      "50000/50000 [==============================] - 57s 1ms/sample - loss: 2.9833 - accuracy: 0.2501\n",
      "Epoch 18/25\n",
      "50000/50000 [==============================] - 57s 1ms/sample - loss: 2.9693 - accuracy: 0.2504\n",
      "Epoch 19/25\n",
      "50000/50000 [==============================] - 59s 1ms/sample - loss: 2.9522 - accuracy: 0.2569\n",
      "Epoch 20/25\n",
      "50000/50000 [==============================] - 59s 1ms/sample - loss: 2.9372 - accuracy: 0.2547\n",
      "Epoch 21/25\n",
      "50000/50000 [==============================] - 59s 1ms/sample - loss: 2.9126 - accuracy: 0.2626\n",
      "Epoch 22/25\n",
      "50000/50000 [==============================] - 60s 1ms/sample - loss: 2.9141 - accuracy: 0.2623\n",
      "Epoch 23/25\n",
      "50000/50000 [==============================] - 59s 1ms/sample - loss: 2.8828 - accuracy: 0.2682\n",
      "Epoch 24/25\n",
      "50000/50000 [==============================] - 55s 1ms/sample - loss: 2.8856 - accuracy: 0.2680\n",
      "Epoch 25/25\n",
      "50000/50000 [==============================] - 58s 1ms/sample - loss: 2.8617 - accuracy: 0.2709\n"
     ]
    },
    {
     "data": {
      "text/plain": [
       "<tensorflow.python.keras.callbacks.History at 0x7fa19a6d0590>"
      ]
     },
     "execution_count": 127,
     "metadata": {},
     "output_type": "execute_result"
    }
   ],
   "source": [
    "model.fit(x_train,y_train,epochs=25)"
   ]
  },
  {
   "cell_type": "markdown",
   "metadata": {},
   "source": [
    "### WE have very low accuracy.\n",
    "#### Lets changethe model.\n",
    "#### We will take off strides and let it stride only 1 step at a time"
   ]
  },
  {
   "cell_type": "code",
   "execution_count": 128,
   "metadata": {},
   "outputs": [],
   "source": []
  },
  {
   "cell_type": "code",
   "execution_count": null,
   "metadata": {},
   "outputs": [],
   "source": []
  },
  {
   "cell_type": "code",
   "execution_count": null,
   "metadata": {},
   "outputs": [],
   "source": []
  },
  {
   "cell_type": "code",
   "execution_count": 129,
   "metadata": {},
   "outputs": [
    {
     "name": "stdout",
     "output_type": "stream",
     "text": [
      "Train on 50000 samples\n",
      "Epoch 1/25\n",
      "50000/50000 [==============================] - 42s 850us/sample - loss: 4.1668 - accuracy: 0.0596\n",
      "Epoch 2/25\n",
      "50000/50000 [==============================] - 43s 851us/sample - loss: 3.6534 - accuracy: 0.1344\n",
      "Epoch 3/25\n",
      "50000/50000 [==============================] - 41s 825us/sample - loss: 3.4332 - accuracy: 0.1772\n",
      "Epoch 4/25\n",
      "50000/50000 [==============================] - 43s 852us/sample - loss: 3.2762 - accuracy: 0.2026\n",
      "Epoch 5/25\n",
      "50000/50000 [==============================] - 43s 858us/sample - loss: 3.1700 - accuracy: 0.2231\n",
      "Epoch 6/25\n",
      "50000/50000 [==============================] - 43s 860us/sample - loss: 3.0741 - accuracy: 0.2381\n",
      "Epoch 7/25\n",
      "50000/50000 [==============================] - 41s 814us/sample - loss: 2.9918 - accuracy: 0.2556\n",
      "Epoch 8/25\n",
      "50000/50000 [==============================] - 40s 802us/sample - loss: 2.9226 - accuracy: 0.2699\n",
      "Epoch 9/25\n",
      "50000/50000 [==============================] - 40s 807us/sample - loss: 2.8590 - accuracy: 0.2817\n",
      "Epoch 10/25\n",
      "50000/50000 [==============================] - 40s 793us/sample - loss: 2.7941 - accuracy: 0.2928\n",
      "Epoch 11/25\n",
      "50000/50000 [==============================] - 43s 856us/sample - loss: 2.7430 - accuracy: 0.3027\n",
      "Epoch 12/25\n",
      "50000/50000 [==============================] - 46s 924us/sample - loss: 2.6911 - accuracy: 0.3121\n",
      "Epoch 13/25\n",
      "50000/50000 [==============================] - 47s 934us/sample - loss: 2.6466 - accuracy: 0.3229\n",
      "Epoch 14/25\n",
      "50000/50000 [==============================] - 48s 952us/sample - loss: 2.6000 - accuracy: 0.3313\n",
      "Epoch 15/25\n",
      "50000/50000 [==============================] - 48s 960us/sample - loss: 2.5711 - accuracy: 0.3349\n",
      "Epoch 16/25\n",
      "50000/50000 [==============================] - 47s 931us/sample - loss: 2.5264 - accuracy: 0.3444\n",
      "Epoch 17/25\n",
      "50000/50000 [==============================] - 48s 956us/sample - loss: 2.4936 - accuracy: 0.3527\n",
      "Epoch 18/25\n",
      "50000/50000 [==============================] - 45s 905us/sample - loss: 2.4595 - accuracy: 0.3568\n",
      "Epoch 19/25\n",
      "50000/50000 [==============================] - 45s 897us/sample - loss: 2.4354 - accuracy: 0.3609\n",
      "Epoch 20/25\n",
      "50000/50000 [==============================] - 45s 907us/sample - loss: 2.3940 - accuracy: 0.3681\n",
      "Epoch 21/25\n",
      "50000/50000 [==============================] - 44s 871us/sample - loss: 2.3688 - accuracy: 0.3753\n",
      "Epoch 22/25\n",
      "50000/50000 [==============================] - 44s 874us/sample - loss: 2.3483 - accuracy: 0.3769\n",
      "Epoch 23/25\n",
      "50000/50000 [==============================] - 45s 891us/sample - loss: 2.3181 - accuracy: 0.3834\n",
      "Epoch 24/25\n",
      "50000/50000 [==============================] - 45s 897us/sample - loss: 2.2937 - accuracy: 0.3847\n",
      "Epoch 25/25\n",
      "50000/50000 [==============================] - 42s 849us/sample - loss: 2.2726 - accuracy: 0.3906\n"
     ]
    },
    {
     "data": {
      "text/plain": [
       "<tensorflow.python.keras.callbacks.History at 0x7fa0eaa3ee90>"
      ]
     },
     "execution_count": 129,
     "metadata": {},
     "output_type": "execute_result"
    }
   ],
   "source": [
    "model=keras.Sequential()\n",
    "model.add(Conv2D(filters=32,kernel_size=[4,4],input_shape=(32,32,3),activation='relu'))\n",
    "model.add(MaxPool2D(pool_size=(2,2)))\n",
    "model.add(Conv2D(filters=64,kernel_size=[4,4],activation='relu'))\n",
    "model.add(MaxPool2D(pool_size=(2,2)))\n",
    "model.add(Conv2D(filters=128,kernel_size=[4,4],activation='relu'))\n",
    "model.add(MaxPool2D(pool_size=(2,2)))\n",
    "model.add(Flatten())\n",
    "model.add(Dense(128,activation='relu'))\n",
    "model.add(Dropout(rate=0.5))\n",
    "model.add(Dense(100))\n",
    "model.compile(optimizer='adam',\n",
    "             loss=tf.keras.losses.CategoricalCrossentropy(from_logits=True),\n",
    "             metrics=['accuracy'])\n",
    "model.fit(x_train,y_train,epochs=25)"
   ]
  },
  {
   "cell_type": "markdown",
   "metadata": {},
   "source": [
    "### This model has little more accuracy"
   ]
  },
  {
   "cell_type": "code",
   "execution_count": 130,
   "metadata": {},
   "outputs": [
    {
     "data": {
      "text/plain": [
       "['loss', 'accuracy']"
      ]
     },
     "execution_count": 130,
     "metadata": {},
     "output_type": "execute_result"
    }
   ],
   "source": [
    "model.metrics_names"
   ]
  },
  {
   "cell_type": "markdown",
   "metadata": {},
   "source": [
    "#### Lets evaluate the model"
   ]
  },
  {
   "cell_type": "code",
   "execution_count": 132,
   "metadata": {},
   "outputs": [
    {
     "name": "stdout",
     "output_type": "stream",
     "text": [
      "10000/10000 [==============================] - 4s 386us/sample - loss: 2.9449 - accuracy: 0.3134\n"
     ]
    },
    {
     "data": {
      "text/plain": [
       "[2.944863168334961, 0.3134]"
      ]
     },
     "execution_count": 132,
     "metadata": {},
     "output_type": "execute_result"
    }
   ],
   "source": [
    "model.evaluate(x_test,y_test)"
   ]
  },
  {
   "cell_type": "markdown",
   "metadata": {},
   "source": [
    "### now lets add some more layers to it."
   ]
  },
  {
   "cell_type": "code",
   "execution_count": 135,
   "metadata": {},
   "outputs": [
    {
     "name": "stdout",
     "output_type": "stream",
     "text": [
      "Train on 50000 samples\n",
      "Epoch 1/25\n",
      "50000/50000 [==============================] - 47s 936us/sample - loss: 4.1750 - accuracy: 0.0522\n",
      "Epoch 2/25\n",
      "50000/50000 [==============================] - 47s 938us/sample - loss: 3.6677 - accuracy: 0.1246\n",
      "Epoch 3/25\n",
      "50000/50000 [==============================] - 46s 928us/sample - loss: 3.3867 - accuracy: 0.1772\n",
      "Epoch 4/25\n",
      "50000/50000 [==============================] - 46s 918us/sample - loss: 3.1973 - accuracy: 0.2125\n",
      "Epoch 5/25\n",
      "50000/50000 [==============================] - 45s 905us/sample - loss: 3.0663 - accuracy: 0.2361\n",
      "Epoch 6/25\n",
      "50000/50000 [==============================] - 48s 965us/sample - loss: 2.9710 - accuracy: 0.2548\n",
      "Epoch 7/25\n",
      "50000/50000 [==============================] - 48s 966us/sample - loss: 2.8814 - accuracy: 0.2742\n",
      "Epoch 8/25\n",
      "50000/50000 [==============================] - 48s 968us/sample - loss: 2.8051 - accuracy: 0.2882\n",
      "Epoch 9/25\n",
      "50000/50000 [==============================] - 48s 959us/sample - loss: 2.7541 - accuracy: 0.2981\n",
      "Epoch 10/25\n",
      "50000/50000 [==============================] - 49s 972us/sample - loss: 2.6964 - accuracy: 0.3104\n",
      "Epoch 11/25\n",
      "50000/50000 [==============================] - 49s 973us/sample - loss: 2.6442 - accuracy: 0.3211\n",
      "Epoch 12/25\n",
      "50000/50000 [==============================] - 48s 963us/sample - loss: 2.5962 - accuracy: 0.3286\n",
      "Epoch 13/25\n",
      "50000/50000 [==============================] - 44s 884us/sample - loss: 2.5592 - accuracy: 0.3368\n",
      "Epoch 14/25\n",
      "50000/50000 [==============================] - 46s 918us/sample - loss: 2.5158 - accuracy: 0.3481\n",
      "Epoch 15/25\n",
      "50000/50000 [==============================] - 45s 897us/sample - loss: 2.4811 - accuracy: 0.3527\n",
      "Epoch 16/25\n",
      "50000/50000 [==============================] - 48s 951us/sample - loss: 2.4493 - accuracy: 0.3574\n",
      "Epoch 17/25\n",
      "50000/50000 [==============================] - 49s 982us/sample - loss: 2.4284 - accuracy: 0.3637\n",
      "Epoch 18/25\n",
      "50000/50000 [==============================] - 48s 959us/sample - loss: 2.3983 - accuracy: 0.3705\n",
      "Epoch 19/25\n",
      "50000/50000 [==============================] - 45s 899us/sample - loss: 2.3726 - accuracy: 0.3750\n",
      "Epoch 20/25\n",
      "50000/50000 [==============================] - 44s 885us/sample - loss: 2.3482 - accuracy: 0.3780\n",
      "Epoch 21/25\n",
      "50000/50000 [==============================] - 45s 901us/sample - loss: 2.3231 - accuracy: 0.3842\n",
      "Epoch 22/25\n",
      "50000/50000 [==============================] - 46s 913us/sample - loss: 2.3049 - accuracy: 0.3897\n",
      "Epoch 23/25\n",
      "50000/50000 [==============================] - 47s 938us/sample - loss: 2.2888 - accuracy: 0.3920\n",
      "Epoch 24/25\n",
      "50000/50000 [==============================] - 44s 886us/sample - loss: 2.2610 - accuracy: 0.3985\n",
      "Epoch 25/25\n",
      "50000/50000 [==============================] - 44s 885us/sample - loss: 2.2509 - accuracy: 0.3980\n"
     ]
    },
    {
     "data": {
      "text/plain": [
       "<tensorflow.python.keras.callbacks.History at 0x7fa0dfcefdd0>"
      ]
     },
     "execution_count": 135,
     "metadata": {},
     "output_type": "execute_result"
    }
   ],
   "source": [
    "model=keras.Sequential()\n",
    "model.add(Conv2D(filters=32,kernel_size=[2,2],input_shape=(32,32,3),activation='relu'))\n",
    "model.add(MaxPool2D(pool_size=(2,2)))\n",
    "model.add(Conv2D(filters=64,kernel_size=[2,2],activation='relu'))\n",
    "model.add(MaxPool2D(pool_size=(2,2)))\n",
    "model.add(Dropout(rate=0.3))\n",
    "model.add(Conv2D(filters=128,kernel_size=[2,2],activation='relu'))\n",
    "model.add(MaxPool2D(pool_size=(2,2)))\n",
    "model.add(Conv2D(filters=256,kernel_size=[2,2],activation='relu'))\n",
    "model.add(MaxPool2D(pool_size=(2,2)))\n",
    "model.add(Flatten())\n",
    "model.add(Dense(128,activation='relu'))\n",
    "model.add(Dropout(rate=0.3))\n",
    "model.add(Dense(100))\n",
    "model.compile(optimizer='adam',\n",
    "             loss=tf.keras.losses.CategoricalCrossentropy(from_logits=True),\n",
    "             metrics=['accuracy'])\n",
    "model.fit(x_train,y_train,epochs=25)"
   ]
  },
  {
   "cell_type": "code",
   "execution_count": 136,
   "metadata": {},
   "outputs": [
    {
     "name": "stdout",
     "output_type": "stream",
     "text": [
      "10000/10000 [==============================] - 3s 287us/sample - loss: 2.3620 - accuracy: 0.3893\n"
     ]
    },
    {
     "data": {
      "text/plain": [
       "[2.3620192943573, 0.3893]"
      ]
     },
     "execution_count": 136,
     "metadata": {},
     "output_type": "execute_result"
    }
   ],
   "source": [
    "model.evaluate(x_test,y_test)"
   ]
  },
  {
   "cell_type": "markdown",
   "metadata": {},
   "source": [
    "### This is better than the pervious one.\n",
    "#### Now we will add one more dense layer and change the number of neurons. WE will change the epochs also"
   ]
  },
  {
   "cell_type": "code",
   "execution_count": 137,
   "metadata": {},
   "outputs": [
    {
     "name": "stdout",
     "output_type": "stream",
     "text": [
      "Train on 50000 samples\n",
      "Epoch 1/30\n",
      "50000/50000 [==============================] - 61s 1ms/sample - loss: 4.1174 - accuracy: 0.0562\n",
      "Epoch 2/30\n",
      "50000/50000 [==============================] - 60s 1ms/sample - loss: 3.6020 - accuracy: 0.1347\n",
      "Epoch 3/30\n",
      "50000/50000 [==============================] - 60s 1ms/sample - loss: 3.2954 - accuracy: 0.1918\n",
      "Epoch 4/30\n",
      "50000/50000 [==============================] - 60s 1ms/sample - loss: 3.0847 - accuracy: 0.2299\n",
      "Epoch 5/30\n",
      "50000/50000 [==============================] - 59s 1ms/sample - loss: 2.9443 - accuracy: 0.2569\n",
      "Epoch 6/30\n",
      "50000/50000 [==============================] - 60s 1ms/sample - loss: 2.8313 - accuracy: 0.2817\n",
      "Epoch 7/30\n",
      "50000/50000 [==============================] - 57s 1ms/sample - loss: 2.7301 - accuracy: 0.2997\n",
      "Epoch 8/30\n",
      "50000/50000 [==============================] - 58s 1ms/sample - loss: 2.6428 - accuracy: 0.3174\n",
      "Epoch 9/30\n",
      "50000/50000 [==============================] - 57s 1ms/sample - loss: 2.5723 - accuracy: 0.3314\n",
      "Epoch 10/30\n",
      "50000/50000 [==============================] - 59s 1ms/sample - loss: 2.5067 - accuracy: 0.3465\n",
      "Epoch 11/30\n",
      "50000/50000 [==============================] - 58s 1ms/sample - loss: 2.4502 - accuracy: 0.3543\n",
      "Epoch 12/30\n",
      "50000/50000 [==============================] - 59s 1ms/sample - loss: 2.4009 - accuracy: 0.3664\n",
      "Epoch 13/30\n",
      "50000/50000 [==============================] - 59s 1ms/sample - loss: 2.3550 - accuracy: 0.3749\n",
      "Epoch 14/30\n",
      "50000/50000 [==============================] - 57s 1ms/sample - loss: 2.3095 - accuracy: 0.3876\n",
      "Epoch 15/30\n",
      "50000/50000 [==============================] - 58s 1ms/sample - loss: 2.2715 - accuracy: 0.3966\n",
      "Epoch 16/30\n",
      "50000/50000 [==============================] - 58s 1ms/sample - loss: 2.2368 - accuracy: 0.4029\n",
      "Epoch 17/30\n",
      "50000/50000 [==============================] - 56s 1ms/sample - loss: 2.2016 - accuracy: 0.4096\n",
      "Epoch 18/30\n",
      "50000/50000 [==============================] - 61s 1ms/sample - loss: 2.1653 - accuracy: 0.4149\n",
      "Epoch 19/30\n",
      "50000/50000 [==============================] - 63s 1ms/sample - loss: 2.1452 - accuracy: 0.4201\n",
      "Epoch 20/30\n",
      "50000/50000 [==============================] - 64s 1ms/sample - loss: 2.1097 - accuracy: 0.4288\n",
      "Epoch 21/30\n",
      "50000/50000 [==============================] - 61s 1ms/sample - loss: 2.0798 - accuracy: 0.4350\n",
      "Epoch 22/30\n",
      "50000/50000 [==============================] - 63s 1ms/sample - loss: 2.0627 - accuracy: 0.4379\n",
      "Epoch 23/30\n",
      "50000/50000 [==============================] - 63s 1ms/sample - loss: 2.0429 - accuracy: 0.4434\n",
      "Epoch 24/30\n",
      "50000/50000 [==============================] - 63s 1ms/sample - loss: 2.0235 - accuracy: 0.4476\n",
      "Epoch 25/30\n",
      "50000/50000 [==============================] - 63s 1ms/sample - loss: 2.0014 - accuracy: 0.4528\n",
      "Epoch 26/30\n",
      "50000/50000 [==============================] - 62s 1ms/sample - loss: 1.9836 - accuracy: 0.4553\n",
      "Epoch 27/30\n",
      "50000/50000 [==============================] - 59s 1ms/sample - loss: 1.9610 - accuracy: 0.4574\n",
      "Epoch 28/30\n",
      "50000/50000 [==============================] - 62s 1ms/sample - loss: 1.9470 - accuracy: 0.4626\n",
      "Epoch 29/30\n",
      "50000/50000 [==============================] - 60s 1ms/sample - loss: 1.9334 - accuracy: 0.4677\n",
      "Epoch 30/30\n",
      "50000/50000 [==============================] - 62s 1ms/sample - loss: 1.9163 - accuracy: 0.4684\n"
     ]
    },
    {
     "data": {
      "text/plain": [
       "<tensorflow.python.keras.callbacks.History at 0x7fa0de472c50>"
      ]
     },
     "execution_count": 137,
     "metadata": {},
     "output_type": "execute_result"
    }
   ],
   "source": [
    "model=keras.Sequential()\n",
    "model.add(Conv2D(filters=32,kernel_size=[2,2],input_shape=(32,32,3),activation='relu'))\n",
    "model.add(MaxPool2D(pool_size=(2,2)))\n",
    "model.add(Conv2D(filters=64,kernel_size=[2,2],activation='relu'))\n",
    "model.add(MaxPool2D(pool_size=(2,2)))\n",
    "model.add(Dropout(rate=0.3))\n",
    "model.add(Conv2D(filters=128,kernel_size=[2,2],activation='relu'))\n",
    "model.add(MaxPool2D(pool_size=(2,2)))\n",
    "model.add(Conv2D(filters=256,kernel_size=[2,2],activation='relu'))\n",
    "model.add(MaxPool2D(pool_size=(2,2)))\n",
    "model.add(Flatten())\n",
    "model.add(Dense(512,activation='relu'))\n",
    "model.add(Dense(1024,activation='relu'))\n",
    "model.add(Dropout(rate=0.3))\n",
    "model.add(Dense(100))\n",
    "model.compile(optimizer='adam',\n",
    "             loss=tf.keras.losses.CategoricalCrossentropy(from_logits=True),\n",
    "             metrics=['accuracy'])\n",
    "model.fit(x_train,y_train,epochs=30)"
   ]
  },
  {
   "cell_type": "code",
   "execution_count": 139,
   "metadata": {},
   "outputs": [
    {
     "name": "stdout",
     "output_type": "stream",
     "text": [
      "10000/10000 [==============================] - 5s 488us/sample - loss: 2.4890 - accuracy: 0.3877\n"
     ]
    },
    {
     "data": {
      "text/plain": [
       "[2.4890361431121826, 0.3877]"
      ]
     },
     "execution_count": 139,
     "metadata": {},
     "output_type": "execute_result"
    }
   ],
   "source": [
    "model.evaluate(x_test,y_test)"
   ]
  },
  {
   "cell_type": "markdown",
   "metadata": {},
   "source": [
    "#### It is like overfitting in the training data. but while coming to evaluation we dnt have that much accuracy.\n",
    "#### lets make some data random and then we will run the model."
   ]
  },
  {
   "cell_type": "code",
   "execution_count": 140,
   "metadata": {},
   "outputs": [],
   "source": [
    "from tensorflow.keras.preprocessing.image import ImageDataGenerator"
   ]
  },
  {
   "cell_type": "code",
   "execution_count": 141,
   "metadata": {},
   "outputs": [],
   "source": [
    "image_gen=ImageDataGenerator(rotation_range=30,\n",
    "                          width_shift_range=0.1,\n",
    "                          height_shift_range=0.1,\n",
    "                          rescale=1/255,\n",
    "                          shear_range=0.2,\n",
    "                          zoom_range=0.2,\n",
    "                          horizontal_flip=True,\n",
    "                          fill_mode='nearest')"
   ]
  },
  {
   "cell_type": "markdown",
   "metadata": {},
   "source": [
    "### Its working"
   ]
  },
  {
   "cell_type": "code",
   "execution_count": 143,
   "metadata": {},
   "outputs": [
    {
     "data": {
      "text/plain": [
       "<matplotlib.image.AxesImage at 0x7fa0dbbb2610>"
      ]
     },
     "execution_count": 143,
     "metadata": {},
     "output_type": "execute_result"
    },
    {
     "data": {
      "image/png": "[encoded data removed]",
      "text/plain": [
       "<Figure size 432x288 with 1 Axes>"
      ]
     },
     "metadata": {
      "needs_background": "light"
     },
     "output_type": "display_data"
    }
   ],
   "source": [
    "plt.imshow(image_gen.random_transform(x_train[234]))"
   ]
  },
  {
   "cell_type": "code",
   "execution_count": 144,
   "metadata": {},
   "outputs": [],
   "source": [
    "image_gen.fit(x_train)"
   ]
  },
  {
   "cell_type": "markdown",
   "metadata": {},
   "source": [
    "### Now lets create model and check accuracy"
   ]
  },
  {
   "cell_type": "code",
   "execution_count": null,
   "metadata": {},
   "outputs": [],
   "source": [
    "model=keras.Sequential()\n",
    "model.add(Conv2D(filters=32,kernel_size=[2,2],input_shape=(32,32,3),activation='relu'))\n",
    "model.add(MaxPool2D(pool_size=(2,2)))\n",
    "model.add(Conv2D(filters=64,kernel_size=[2,2],activation='relu'))\n",
    "model.add(MaxPool2D(pool_size=(2,2)))\n",
    "model.add(Dropout(rate=0.3))\n",
    "model.add(Conv2D(filters=128,kernel_size=[2,2],activation='relu'))\n",
    "model.add(MaxPool2D(pool_size=(2,2)))\n",
    "model.add(Conv2D(filters=256,kernel_size=[2,2],activation='relu'))\n",
    "model.add(MaxPool2D(pool_size=(2,2)))\n",
    "model.add(Flatten())\n",
    "model.add(Dense(128,activation='relu'))\n",
    "model.add(Dropout(rate=0.3))\n",
    "model.add(Dense(100))\n",
    "model.compile(optimizer='adam',\n",
    "             loss=tf.keras.losses.CategoricalCrossentropy(from_logits=True),\n",
    "             metrics=['accuracy'])\n",
    "model.fit(image_gen.flow(x_train,y_train,batch_size=50,shuffle=True,),epochs=25)"
   ]
  },
  {
   "cell_type": "code",
   "execution_count": null,
   "metadata": {},
   "outputs": [],
   "source": [
    "len(list(image_gen.flow(x_train)))"
   ]
  },
  {
   "cell_type": "code",
   "execution_count": null,
   "metadata": {},
   "outputs": [],
   "source": []
  }
 ],
 "metadata": {
  "kernelspec": {
   "display_name": "Python 3",
   "language": "python",
   "name": "python3"
  },
  "language_info": {
   "codemirror_mode": {
    "name": "ipython",
    "version": 3
   },
   "file_extension": ".py",
   "mimetype": "text/x-python",
   "name": "python",
   "nbconvert_exporter": "python",
   "pygments_lexer": "ipython3",
   "version": "3.7.6"
  }
 },
 "nbformat": 4,
 "nbformat_minor": 4
}
