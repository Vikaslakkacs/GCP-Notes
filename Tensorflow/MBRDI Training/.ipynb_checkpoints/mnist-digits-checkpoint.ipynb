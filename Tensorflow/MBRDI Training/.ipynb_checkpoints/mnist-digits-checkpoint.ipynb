{
 "cells": [
  {
   "cell_type": "code",
   "execution_count": 1,
   "metadata": {
    "colab": {},
    "colab_type": "code",
    "id": "ID2l2Gpx3Rih"
   },
   "outputs": [],
   "source": [
    "from __future__ import absolute_import, division, print_function, unicode_literals\n",
    "\n",
    "\n",
    "import tensorflow as tf\n",
    "import matplotlib.pyplot as plt\n",
    "import numpy as np"
   ]
  },
  {
   "cell_type": "markdown",
   "metadata": {
    "colab_type": "text",
    "id": "Zvm4Z21g3Rio"
   },
   "source": [
    "Load and prepare the MNIST dataset. Convert the samples from integers to floating-point numbers:"
   ]
  },
  {
   "cell_type": "code",
   "execution_count": 2,
   "metadata": {
    "colab": {},
    "colab_type": "code",
    "id": "IynGI-3R3Rip"
   },
   "outputs": [
    {
     "name": "stdout",
     "output_type": "stream",
     "text": [
      "Downloading data from https://storage.googleapis.com/tensorflow/tf-keras-datasets/mnist.npz\n",
      "11493376/11490434 [==============================] - 0s 0us/step\n"
     ]
    }
   ],
   "source": [
    "mnist = tf.keras.datasets.mnist\n",
    "\n",
    "(x_train, y_train), (x_test, y_test) = mnist.load_data()\n",
    "x_train, x_test = x_train / 255.0, x_test / 255.0                 # Converting to floating point numbers"
   ]
  },
  {
   "cell_type": "markdown",
   "metadata": {
    "colab_type": "text",
    "id": "xevqoTFi3Ris"
   },
   "source": [
    "Examine the data"
   ]
  },
  {
   "cell_type": "code",
   "execution_count": 3,
   "metadata": {
    "colab": {},
    "colab_type": "code",
    "id": "obZMxzet3Riu",
    "outputId": "680b2001-2f53-4e08-d515-cd810ca07cc5"
   },
   "outputs": [
    {
     "name": "stdout",
     "output_type": "stream",
     "text": [
      "(28, 28) 5\n"
     ]
    },
    {
     "data": {
      "image/png": "[encoded data removed]",
      "text/plain": [
       "<Figure size 432x288 with 1 Axes>"
      ]
     },
     "metadata": {
      "needs_background": "light"
     },
     "output_type": "display_data"
    }
   ],
   "source": [
    "# get the first image and it's label\n",
    "img1_arr, img1_label = x_train[0], y_train[0]\n",
    "print (img1_arr.shape, img1_label)\n",
    "\n",
    "\n",
    "# reshape first image(1 D vector) to 2D dimension image\n",
    "img1_2d = np.reshape(img1_arr, (28, 28))\n",
    "\n",
    "plt.subplot(111)\n",
    "plt.imshow(img1_2d, cmap=plt.get_cmap('gray'))\n",
    "plt.show()"
   ]
  },
  {
   "cell_type": "markdown",
   "metadata": {
    "colab_type": "text",
    "id": "xrHNOrAS3Ri0"
   },
   "source": [
    "Build the `tf.keras.Sequential model` by stacking layers. Choose an optimizer and loss function for training:"
   ]
  },
  {
   "cell_type": "code",
   "execution_count": 4,
   "metadata": {
    "colab": {},
    "colab_type": "code",
    "id": "TdP-8ohs3Ri1"
   },
   "outputs": [],
   "source": [
    "model = tf.keras.models.Sequential([\n",
    "  tf.keras.layers.Flatten(input_shape=(28, 28)),\n",
    "  tf.keras.layers.Dense(128, activation='relu'),\n",
    "  tf.keras.layers.Dropout(0.2),\n",
    "  tf.keras.layers.Dense(10)\n",
    "])"
   ]
  },
  {
   "cell_type": "markdown",
   "metadata": {
    "colab_type": "text",
    "id": "evhoPeao3Ri6"
   },
   "source": [
    "For each example the model returns a vector of \"logits\" or \"log-odds\" scores, one for each class."
   ]
  },
  {
   "cell_type": "code",
   "execution_count": 5,
   "metadata": {
    "colab": {},
    "colab_type": "code",
    "id": "FeCQayh83Ri7",
    "outputId": "1c53dd1a-c972-4802-94c1-c4d0d24d83be"
   },
   "outputs": [
    {
     "name": "stdout",
     "output_type": "stream",
     "text": [
      "WARNING:tensorflow:Layer flatten is casting an input tensor from dtype float64 to the layer's dtype of float32, which is new behavior in TensorFlow 2.  The layer has dtype float32 because it's dtype defaults to floatx.\n",
      "\n",
      "If you intended to run this layer in float32, you can safely ignore this warning. If in doubt, this warning is likely only an issue if you are porting a TensorFlow 1.X model to TensorFlow 2.\n",
      "\n",
      "To change all layers to have dtype float64 by default, call `tf.keras.backend.set_floatx('float64')`. To change just this layer, pass dtype='float64' to the layer constructor. If you are the author of this layer, you can disable autocasting by passing autocast=False to the base Layer constructor.\n",
      "\n"
     ]
    },
    {
     "data": {
      "text/plain": [
       "array([[-0.7575868 ,  1.0839696 ,  0.16498771, -0.17567427,  0.34324515,\n",
       "         0.5006251 , -0.37671593,  0.18363798, -0.79072344,  0.13969736]],\n",
       "      dtype=float32)"
      ]
     },
     "execution_count": 5,
     "metadata": {},
     "output_type": "execute_result"
    }
   ],
   "source": [
    "predictions = model(x_train[:1]).numpy()\n",
    "predictions"
   ]
  },
  {
   "cell_type": "markdown",
   "metadata": {
    "colab_type": "text",
    "id": "BbqsY37S3Ri_"
   },
   "source": [
    "The `tf.nn.softmax` function converts these logits to \"probabilities\" for each class:"
   ]
  },
  {
   "cell_type": "code",
   "execution_count": 19,
   "metadata": {
    "colab": {},
    "colab_type": "code",
    "id": "J0v5w3pn3RjA",
    "outputId": "13051559-fd69-45d0-a079-bbff40bba035"
   },
   "outputs": [
    {
     "data": {
      "text/plain": [
       "array([[2.6095312e-11, 7.9321161e-08, 6.5775541e-10, ..., 2.7742868e-09,\n",
       "        4.0819449e-11, 4.8915414e-09],\n",
       "       [9.9999726e-01, 2.7808972e-10, 2.4386768e-06, ..., 3.0158240e-08,\n",
       "        1.3738746e-09, 8.5120128e-08],\n",
       "       [3.9113999e-07, 2.6814777e-07, 6.4628766e-05, ..., 8.6574037e-05,\n",
       "        6.0493576e-06, 2.1416288e-04],\n",
       "       ...,\n",
       "       [1.7917660e-08, 9.9761826e-01, 5.9064092e-05, ..., 1.4757281e-03,\n",
       "        5.1124171e-06, 1.1631962e-07],\n",
       "       [3.1596592e-09, 6.0221264e-06, 9.9908292e-01, ..., 1.3081951e-05,\n",
       "        1.7199180e-07, 6.6491422e-14],\n",
       "       [8.1270504e-11, 3.0072300e-07, 3.3494923e-12, ..., 4.0059303e-11,\n",
       "        3.4926489e-07, 6.6798566e-06]], dtype=float32)"
      ]
     },
     "execution_count": 19,
     "metadata": {},
     "output_type": "execute_result"
    }
   ],
   "source": [
    "tf.nn.softmax(predictions).numpy()"
   ]
  },
  {
   "cell_type": "markdown",
   "metadata": {
    "colab_type": "text",
    "id": "eqowOcvD3RjF"
   },
   "source": [
    "The `losses.SparseCategoricalCrossentropy` loss takes a vector of logits and a True index and returns a scalar loss for each example."
   ]
  },
  {
   "cell_type": "code",
   "execution_count": 7,
   "metadata": {
    "colab": {},
    "colab_type": "code",
    "id": "H6VNAXuZ3RjG"
   },
   "outputs": [],
   "source": [
    "loss_fn = tf.keras.losses.SparseCategoricalCrossentropy(from_logits=True)"
   ]
  },
  {
   "cell_type": "markdown",
   "metadata": {
    "colab_type": "text",
    "id": "xVnC4Jsb3RjQ"
   },
   "source": [
    "This loss is equal to the negative log probability of the the true class: It is zero if the model is sure of the correct class.\n",
    "\n",
    "This untrained model gives probabilities close to random (1/10 for each class), so the initial loss should be close to -`tf.log(1/10) ~= 2.3`."
   ]
  },
  {
   "cell_type": "code",
   "execution_count": 8,
   "metadata": {
    "colab": {},
    "colab_type": "code",
    "id": "Dnougpe-3RjR",
    "outputId": "30923f11-7f4d-4440-ed29-ba0013563132"
   },
   "outputs": [
    {
     "data": {
      "text/plain": [
       "1.9837697"
      ]
     },
     "execution_count": 8,
     "metadata": {},
     "output_type": "execute_result"
    }
   ],
   "source": [
    "loss_fn(y_train[:1], predictions).numpy()"
   ]
  },
  {
   "cell_type": "markdown",
   "metadata": {
    "colab_type": "text",
    "id": "jVeG-P8U3RjV"
   },
   "source": [
    "#### Model Complilation"
   ]
  },
  {
   "cell_type": "code",
   "execution_count": 9,
   "metadata": {
    "colab": {},
    "colab_type": "code",
    "id": "V06IkjW73RjW"
   },
   "outputs": [],
   "source": [
    "model.compile(optimizer='adam',\n",
    "              loss=loss_fn,\n",
    "              metrics=['accuracy'])"
   ]
  },
  {
   "cell_type": "markdown",
   "metadata": {
    "colab_type": "text",
    "id": "ORGzG8sM3RjZ"
   },
   "source": [
    "The `Model.fit` method adjusts the model parameters to minimize the loss:"
   ]
  },
  {
   "cell_type": "code",
   "execution_count": 10,
   "metadata": {
    "colab": {},
    "colab_type": "code",
    "id": "mMX29of03Rja",
    "outputId": "3402e271-511d-4b4e-df7f-810481491c8c"
   },
   "outputs": [
    {
     "name": "stdout",
     "output_type": "stream",
     "text": [
      "Train on 60000 samples\n",
      "Epoch 1/5\n",
      "60000/60000 [==============================] - 4s 73us/sample - loss: 0.2989 - accuracy: 0.9139\n",
      "Epoch 2/5\n",
      "60000/60000 [==============================] - 4s 69us/sample - loss: 0.1450 - accuracy: 0.9570\n",
      "Epoch 3/5\n",
      "60000/60000 [==============================] - 4s 71us/sample - loss: 0.1076 - accuracy: 0.9678\n",
      "Epoch 4/5\n",
      "60000/60000 [==============================] - 4s 69us/sample - loss: 0.0889 - accuracy: 0.9721\n",
      "Epoch 5/5\n",
      "60000/60000 [==============================] - 4s 70us/sample - loss: 0.0762 - accuracy: 0.9757\n"
     ]
    },
    {
     "data": {
      "text/plain": [
       "<tensorflow.python.keras.callbacks.History at 0x7f64adba41d0>"
      ]
     },
     "execution_count": 10,
     "metadata": {},
     "output_type": "execute_result"
    }
   ],
   "source": [
    "model.fit(x_train, y_train, epochs=5)"
   ]
  },
  {
   "cell_type": "code",
   "execution_count": 27,
   "metadata": {},
   "outputs": [
    {
     "data": {
      "text/plain": [
       "array([[ 15.87287  , -14.873576 ,  -6.549876 , -10.220704 , -11.19748  ,\n",
       "          1.8803061,   6.372819 ,  -2.5097384,  -7.2257056,  -3.8964365]],\n",
       "      dtype=float32)"
      ]
     },
     "execution_count": 27,
     "metadata": {},
     "output_type": "execute_result"
    }
   ],
   "source": [
    "predictions = model(x_train[[image_index]]).numpy()\n",
    "predictions"
   ]
  },
  {
   "cell_type": "markdown",
   "metadata": {
    "colab_type": "text",
    "id": "5H9ldRLo3Rjd"
   },
   "source": [
    "#### Evaluation"
   ]
  },
  {
   "cell_type": "markdown",
   "metadata": {
    "colab_type": "text",
    "id": "g9zX24h_3Rjd"
   },
   "source": [
    "The `Model.evaluate` method checks the models performance, usually on a \"Validation-set\"."
   ]
  },
  {
   "cell_type": "code",
   "execution_count": 23,
   "metadata": {
    "colab": {},
    "colab_type": "code",
    "id": "X-N3_eRA3Rje",
    "outputId": "86ff4794-2234-4a93-c2ac-5a485aaaa18f"
   },
   "outputs": [
    {
     "name": "stdout",
     "output_type": "stream",
     "text": [
      "10000/10000 - 0s - loss: 0.0791 - accuracy: 0.9759\n"
     ]
    },
    {
     "data": {
      "text/plain": [
       "[0.07909793296433054, 0.9759]"
      ]
     },
     "execution_count": 23,
     "metadata": {},
     "output_type": "execute_result"
    }
   ],
   "source": [
    "model.evaluate(x_test,  y_test, verbose=2)"
   ]
  },
  {
   "cell_type": "markdown",
   "metadata": {
    "colab_type": "text",
    "id": "99sCehVO3Rji"
   },
   "source": [
    "The image classifier is now trained to ~98% accuracy on this dataset"
   ]
  },
  {
   "cell_type": "markdown",
   "metadata": {
    "colab_type": "text",
    "id": "VzaypXp13Rjk"
   },
   "source": [
    "#### Predictions"
   ]
  },
  {
   "cell_type": "code",
   "execution_count": 24,
   "metadata": {
    "colab": {},
    "colab_type": "code",
    "id": "snmwjwmE3Rjl",
    "outputId": "56b66ea7-be05-4f04-841a-29000df133d2"
   },
   "outputs": [
    {
     "name": "stdout",
     "output_type": "stream",
     "text": [
      "Original digit =  9\n",
      "Predicted digit =  9\n"
     ]
    }
   ],
   "source": [
    "image_index = 4444\n",
    "\n",
    "print(\"Original digit = \",y_test[image_index])\n",
    "print(\"Predicted digit = \",model.predict_classes(x_test)[image_index])"
   ]
  },
  {
   "cell_type": "code",
   "execution_count": 25,
   "metadata": {},
   "outputs": [
    {
     "data": {
      "image/png": "[encoded data removed]",
      "text/plain": [
       "<Figure size 432x288 with 1 Axes>"
      ]
     },
     "metadata": {
      "needs_background": "light"
     },
     "output_type": "display_data"
    }
   ],
   "source": [
    "plt.imshow(x_test[image_index])\n",
    "plt.show()"
   ]
  },
  {
   "cell_type": "code",
   "execution_count": 30,
   "metadata": {},
   "outputs": [],
   "source": [
    "predicted=model.predict_classes(x_test)"
   ]
  },
  {
   "cell_type": "code",
   "execution_count": 31,
   "metadata": {},
   "outputs": [],
   "source": [
    "from sklearn.metrics import confusion_matrix\n",
    "from sklearn.metrics import recall_score\n",
    "from sklearn.metrics import precision_score"
   ]
  },
  {
   "cell_type": "code",
   "execution_count": 41,
   "metadata": {},
   "outputs": [
    {
     "data": {
      "text/plain": [
       "array([7, 2, 1, ..., 4, 5, 6], dtype=uint8)"
      ]
     },
     "execution_count": 41,
     "metadata": {},
     "output_type": "execute_result"
    }
   ],
   "source": [
    "y_test"
   ]
  },
  {
   "cell_type": "code",
   "execution_count": 42,
   "metadata": {},
   "outputs": [],
   "source": [
    "from sklearn.metrics import confusion_matrix"
   ]
  },
  {
   "cell_type": "code",
   "execution_count": 44,
   "metadata": {},
   "outputs": [
    {
     "name": "stdout",
     "output_type": "stream",
     "text": [
      "[[ 969    0    1    1    1    1    2    2    1    2]\n",
      " [   0 1126    3    0    0    0    2    1    3    0]\n",
      " [   6    0 1005    9    2    0    2    3    4    1]\n",
      " [   1    0    1  993    0    1    0    8    3    3]\n",
      " [   1    0    2    0  963    0    3    1    2   10]\n",
      " [   2    0    0   15    2  863    3    1    4    2]\n",
      " [   7    3    1    1    6    6  931    0    3    0]\n",
      " [   1    7    8    4    2    0    0 1001    0    5]\n",
      " [   4    0    4    7    5    5    4    8  932    5]\n",
      " [   4    4    0    8   10    4    0    3    0  976]]\n"
     ]
    }
   ],
   "source": [
    "print(confusion_matrix(y_test,predicted))"
   ]
  },
  {
   "cell_type": "code",
   "execution_count": 45,
   "metadata": {},
   "outputs": [],
   "source": [
    "from sklearn.metrics import classification_report"
   ]
  },
  {
   "cell_type": "code",
   "execution_count": 47,
   "metadata": {},
   "outputs": [
    {
     "name": "stdout",
     "output_type": "stream",
     "text": [
      "             precision    recall  f1-score   support\n",
      "\n",
      "          0       0.97      0.99      0.98       980\n",
      "          1       0.99      0.99      0.99      1135\n",
      "          2       0.98      0.97      0.98      1032\n",
      "          3       0.96      0.98      0.97      1010\n",
      "          4       0.97      0.98      0.98       982\n",
      "          5       0.98      0.97      0.97       892\n",
      "          6       0.98      0.97      0.98       958\n",
      "          7       0.97      0.97      0.97      1028\n",
      "          8       0.98      0.96      0.97       974\n",
      "          9       0.97      0.97      0.97      1009\n",
      "\n",
      "avg / total       0.98      0.98      0.98     10000\n",
      "\n"
     ]
    }
   ],
   "source": [
    "print(classification_report(y_test,predicted))"
   ]
  },
  {
   "cell_type": "code",
   "execution_count": null,
   "metadata": {},
   "outputs": [],
   "source": []
  }
 ],
 "metadata": {
  "colab": {
   "name": "mnist-digits.ipynb",
   "provenance": []
  },
  "kernelspec": {
   "display_name": "Python 3",
   "language": "python",
   "name": "python3"
  },
  "language_info": {
   "codemirror_mode": {
    "name": "ipython",
    "version": 3
   },
   "file_extension": ".py",
   "mimetype": "text/x-python",
   "name": "python",
   "nbconvert_exporter": "python",
   "pygments_lexer": "ipython3",
   "version": "3.5.3"
  }
 },
 "nbformat": 4,
 "nbformat_minor": 4
}
