{
 "cells": [
  {
   "cell_type": "code",
   "execution_count": 1,
   "metadata": {},
   "outputs": [],
   "source": [
    "import tensorflow as tf\n",
    "from sklearn.datasets import load_boston\n",
    "from sklearn.preprocessing import scale\n",
    "from matplotlib import pyplot as plt"
   ]
  },
  {
   "cell_type": "markdown",
   "metadata": {},
   "source": [
    "### We will load the Data"
   ]
  },
  {
   "cell_type": "code",
   "execution_count": 4,
   "metadata": {},
   "outputs": [],
   "source": [
    "#Get the data\n",
    "#True in load_boston means to give the input and output values seperately\n",
    "total_features,total_prices=load_boston(True)\n",
    "\n",
    "#Keep 300 samples for training\n",
    "train_features=scale(total_features[:300])\n",
    "train_prices=total_prices[:300]\n",
    "\n",
    "#Keep 100 for Validation\n",
    "valid_features=scale(total_features[300:400])\n",
    "valid_prices=total_prices[300:400]\n",
    "\n",
    "#Keep remainng samples for test\n",
    "test_features=scale(total_features[400:])\n",
    "test_prices=total_prices[400:]\n"
   ]
  },
  {
   "cell_type": "markdown",
   "metadata": {},
   "source": [
    "### We will define the weights"
   ]
  },
  {
   "cell_type": "code",
   "execution_count": 12,
   "metadata": {},
   "outputs": [],
   "source": [
    "w=tf.Variable(tf.truncated_normal([13,1],mean=0.0,stddev=1.0,dtype=tf.float64))\n",
    "b=tf.Variable(tf.zeros(1,dtype=tf.float64))"
   ]
  },
  {
   "cell_type": "code",
   "execution_count": null,
   "metadata": {},
   "outputs": [],
   "source": []
  },
  {
   "cell_type": "markdown",
   "metadata": {},
   "source": [
    "### Define function which calculates predicition and error"
   ]
  },
  {
   "cell_type": "code",
   "execution_count": 10,
   "metadata": {},
   "outputs": [],
   "source": [
    "def calc(x,y):\n",
    "    #returns predictions and error\n",
    "    predictions=tf.add(b,tf.matmul(x,w))\n",
    "    error=tf.reduce_mean(tf.square(y-predictions))\n",
    "    return [predictions,error]"
   ]
  },
  {
   "cell_type": "code",
   "execution_count": 13,
   "metadata": {},
   "outputs": [],
   "source": [
    "y, cost=calc(train_features,train_prices)\n",
    "# Feel free to change these 2 values:\n",
    "learning_rate=0.025\n",
    "epochs=3000\n",
    "points=[[],[]]"
   ]
  },
  {
   "cell_type": "code",
   "execution_count": 14,
   "metadata": {},
   "outputs": [],
   "source": [
    "init=tf.global_variables_initializer()\n",
    "optimizer=tf.train.GradientDescentOptimizer(learning_rate).minimize(cost)"
   ]
  },
  {
   "cell_type": "code",
   "execution_count": 17,
   "metadata": {},
   "outputs": [
    {
     "name": "stdout",
     "output_type": "stream",
     "text": [
      "672.2184855765735\n",
      "78.78744704277482\n",
      "78.73356020870298\n",
      "78.72720107763203\n",
      "78.72578071459229\n",
      "78.72542929503952\n",
      "78.72533551850123\n",
      "78.7253091485822\n",
      "78.72530147963523\n",
      "78.72529920325596\n",
      "78.72529851940082\n",
      "78.72529831254103\n",
      "78.72529824972281\n",
      "78.72529823060435\n",
      "78.72529822477856\n",
      "78.7252982230021\n",
      "78.7252982224602\n",
      "78.72529822229482\n",
      "78.72529822224438\n",
      "78.72529822222897\n",
      "78.7252982222243\n",
      "78.72529822222285\n",
      "78.72529822222239\n",
      "78.7252982222223\n",
      "78.72529822222225\n",
      "78.72529822222224\n",
      "78.7252982222222\n",
      "78.72529822222224\n",
      "78.72529822222222\n",
      "78.72529822222224\n"
     ]
    },
    {
     "data": {
      "image/png": "[encoded data removed]",
      "text/plain": [
       "<Figure size 432x288 with 1 Axes>"
      ]
     },
     "metadata": {
      "needs_background": "light"
     },
     "output_type": "display_data"
    },
    {
     "name": "stdout",
     "output_type": "stream",
     "text": [
      "Validation error = 104.34367777777747 \n",
      "\n",
      "Test error = 123.33357347589039 \n",
      "\n"
     ]
    }
   ],
   "source": [
    "with tf.Session() as sess:\n",
    "    sess.run(init)\n",
    "    \n",
    "    for i in list(range(epochs)):\n",
    "        \n",
    "        sess.run(optimizer)\n",
    "        \n",
    "        if i%10 == 0:\n",
    "            points[0].append(i+1)\n",
    "            points[1].append(sess.run(cost))\n",
    "            \n",
    "        if i%100 == 0:\n",
    "            print(sess.run(cost))\n",
    "                \n",
    "    plt.plot(points[0],points[1],'r--')\n",
    "    plt.axis([0,epochs,50,600])\n",
    "    plt.show()\n",
    "    valid_cost=calc(valid_features,valid_prices)[1]\n",
    "    print('Validation error =', sess.run(valid_cost), '\\n')\n",
    "    test_cost=calc(test_features,test_prices)[1]\n",
    "    print('Test error =', sess.run(test_cost), '\\n')"
   ]
  },
  {
   "cell_type": "code",
   "execution_count": null,
   "metadata": {},
   "outputs": [],
   "source": [
    "valid_prices"
   ]
  }
 ],
 "metadata": {
  "kernelspec": {
   "display_name": "Python 3",
   "language": "python",
   "name": "python3"
  },
  "language_info": {
   "codemirror_mode": {
    "name": "ipython",
    "version": 3
   },
   "file_extension": ".py",
   "mimetype": "text/x-python",
   "name": "python",
   "nbconvert_exporter": "python",
   "pygments_lexer": "ipython3",
   "version": "3.5.3"
  }
 },
 "nbformat": 4,
 "nbformat_minor": 4
}
