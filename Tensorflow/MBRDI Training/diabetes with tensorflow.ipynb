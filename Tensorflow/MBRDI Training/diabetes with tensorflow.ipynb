{
 "cells": [
  {
   "cell_type": "code",
   "execution_count": 1,
   "metadata": {},
   "outputs": [],
   "source": [
    "import tensorflow as tf"
   ]
  },
  {
   "cell_type": "code",
   "execution_count": 5,
   "metadata": {},
   "outputs": [],
   "source": [
    "import pandas as pd"
   ]
  },
  {
   "cell_type": "code",
   "execution_count": 7,
   "metadata": {},
   "outputs": [],
   "source": [
    "df=pd.read_csv(\"diabetes.csv\")"
   ]
  },
  {
   "cell_type": "code",
   "execution_count": 8,
   "metadata": {},
   "outputs": [
    {
     "name": "stdout",
     "output_type": "stream",
     "text": [
      "<class 'pandas.core.frame.DataFrame'>\n",
      "RangeIndex: 768 entries, 0 to 767\n",
      "Data columns (total 9 columns):\n",
      "Pregnancies                 768 non-null int64\n",
      "Glucose                     768 non-null int64\n",
      "BloodPressure               768 non-null int64\n",
      "SkinThickness               768 non-null int64\n",
      "Insulin                     768 non-null int64\n",
      "BMI                         768 non-null float64\n",
      "DiabetesPedigreeFunction    768 non-null float64\n",
      "Age                         768 non-null int64\n",
      "Outcome                     768 non-null int64\n",
      "dtypes: float64(2), int64(7)\n",
      "memory usage: 54.1 KB\n"
     ]
    }
   ],
   "source": [
    "df.info()"
   ]
  },
  {
   "cell_type": "code",
   "execution_count": 9,
   "metadata": {},
   "outputs": [],
   "source": [
    "y=df[\"Outcome\"]\n",
    "x=df.drop(columns=[\"Outcome\"])"
   ]
  },
  {
   "cell_type": "code",
   "execution_count": null,
   "metadata": {},
   "outputs": [],
   "source": []
  },
  {
   "cell_type": "code",
   "execution_count": 3,
   "metadata": {},
   "outputs": [],
   "source": [
    "from keras.models import Sequential\n",
    "from keras.layers import Dense\n"
   ]
  },
  {
   "cell_type": "code",
   "execution_count": 122,
   "metadata": {},
   "outputs": [],
   "source": [
    "model=Sequential()"
   ]
  },
  {
   "cell_type": "code",
   "execution_count": 123,
   "metadata": {},
   "outputs": [],
   "source": [
    "#WE will have 3 layers\n",
    "#When it is data we will go with dense layer\n",
    "model.add(Dense(10,input_dim=8,activation='relu'))\n",
    "model.add(Dense(8,activation='relu'))\n",
    "#model.add(Dense(4,activation='relu'))\n",
    "#model.add(Dense(2,activation='relu'))\n",
    "model.add(Dense(1,activation='sigmoid'))"
   ]
  },
  {
   "cell_type": "markdown",
   "metadata": {},
   "source": [
    "## Compiling Keras"
   ]
  },
  {
   "cell_type": "code",
   "execution_count": 124,
   "metadata": {},
   "outputs": [],
   "source": [
    "model.compile(loss='binary_crossentropy',optimizer='adam',metrics=['accuracy'])"
   ]
  },
  {
   "cell_type": "code",
   "execution_count": 125,
   "metadata": {},
   "outputs": [
    {
     "data": {
      "text/plain": [
       "'sequential_12'"
      ]
     },
     "execution_count": 125,
     "metadata": {},
     "output_type": "execute_result"
    }
   ],
   "source": [
    "model.name"
   ]
  },
  {
   "cell_type": "code",
   "execution_count": 126,
   "metadata": {},
   "outputs": [
    {
     "name": "stdout",
     "output_type": "stream",
     "text": [
      "Model: \"sequential_12\"\n",
      "_________________________________________________________________\n",
      "Layer (type)                 Output Shape              Param #   \n",
      "=================================================================\n",
      "dense_79 (Dense)             (None, 10)                90        \n",
      "_________________________________________________________________\n",
      "dense_80 (Dense)             (None, 8)                 88        \n",
      "_________________________________________________________________\n",
      "dense_81 (Dense)             (None, 1)                 9         \n",
      "=================================================================\n",
      "Total params: 187\n",
      "Trainable params: 187\n",
      "Non-trainable params: 0\n",
      "_________________________________________________________________\n"
     ]
    }
   ],
   "source": [
    "model.summary()"
   ]
  },
  {
   "cell_type": "code",
   "execution_count": 127,
   "metadata": {},
   "outputs": [
    {
     "name": "stdout",
     "output_type": "stream",
     "text": [
      "Epoch 1/150\n",
      "768/768 [==============================] - 0s 220us/step - loss: 50.7015 - accuracy: 0.3490\n",
      "Epoch 2/150\n",
      "768/768 [==============================] - 0s 44us/step - loss: 37.1431 - accuracy: 0.3490\n",
      "Epoch 3/150\n",
      "768/768 [==============================] - 0s 46us/step - loss: 27.2746 - accuracy: 0.3490\n",
      "Epoch 4/150\n",
      "768/768 [==============================] - 0s 46us/step - loss: 19.4658 - accuracy: 0.3490\n",
      "Epoch 5/150\n",
      "768/768 [==============================] - 0s 48us/step - loss: 11.7469 - accuracy: 0.3581\n",
      "Epoch 6/150\n",
      "768/768 [==============================] - 0s 46us/step - loss: 4.4297 - accuracy: 0.4596\n",
      "Epoch 7/150\n",
      "768/768 [==============================] - 0s 46us/step - loss: 2.6139 - accuracy: 0.5820\n",
      "Epoch 8/150\n",
      "768/768 [==============================] - 0s 43us/step - loss: 2.3792 - accuracy: 0.5703\n",
      "Epoch 9/150\n",
      "768/768 [==============================] - 0s 44us/step - loss: 2.1678 - accuracy: 0.5859\n",
      "Epoch 10/150\n",
      "768/768 [==============================] - 0s 45us/step - loss: 2.0212 - accuracy: 0.5872\n",
      "Epoch 11/150\n",
      "768/768 [==============================] - 0s 44us/step - loss: 1.8611 - accuracy: 0.5924\n",
      "Epoch 12/150\n",
      "768/768 [==============================] - 0s 41us/step - loss: 1.7348 - accuracy: 0.5898\n",
      "Epoch 13/150\n",
      "768/768 [==============================] - 0s 47us/step - loss: 1.6209 - accuracy: 0.5924\n",
      "Epoch 14/150\n",
      "768/768 [==============================] - 0s 44us/step - loss: 1.5200 - accuracy: 0.5977\n",
      "Epoch 15/150\n",
      "768/768 [==============================] - 0s 46us/step - loss: 1.4310 - accuracy: 0.6016\n",
      "Epoch 16/150\n",
      "768/768 [==============================] - 0s 43us/step - loss: 1.3668 - accuracy: 0.5990\n",
      "Epoch 17/150\n",
      "768/768 [==============================] - 0s 46us/step - loss: 1.2938 - accuracy: 0.6081\n",
      "Epoch 18/150\n",
      "768/768 [==============================] - 0s 42us/step - loss: 1.2342 - accuracy: 0.6107\n",
      "Epoch 19/150\n",
      "768/768 [==============================] - 0s 43us/step - loss: 1.1884 - accuracy: 0.6055\n",
      "Epoch 20/150\n",
      "768/768 [==============================] - 0s 43us/step - loss: 1.1451 - accuracy: 0.6224\n",
      "Epoch 21/150\n",
      "768/768 [==============================] - 0s 43us/step - loss: 1.1010 - accuracy: 0.6068\n",
      "Epoch 22/150\n",
      "768/768 [==============================] - 0s 46us/step - loss: 1.0674 - accuracy: 0.6068\n",
      "Epoch 23/150\n",
      "768/768 [==============================] - 0s 45us/step - loss: 1.0315 - accuracy: 0.6289\n",
      "Epoch 24/150\n",
      "768/768 [==============================] - 0s 43us/step - loss: 1.0072 - accuracy: 0.6198\n",
      "Epoch 25/150\n",
      "768/768 [==============================] - 0s 43us/step - loss: 0.9759 - accuracy: 0.6302\n",
      "Epoch 26/150\n",
      "768/768 [==============================] - 0s 44us/step - loss: 0.9502 - accuracy: 0.6263\n",
      "Epoch 27/150\n",
      "768/768 [==============================] - 0s 45us/step - loss: 0.9273 - accuracy: 0.6237\n",
      "Epoch 28/150\n",
      "768/768 [==============================] - 0s 44us/step - loss: 0.9075 - accuracy: 0.6367\n",
      "Epoch 29/150\n",
      "768/768 [==============================] - 0s 45us/step - loss: 0.8912 - accuracy: 0.6302\n",
      "Epoch 30/150\n",
      "768/768 [==============================] - 0s 43us/step - loss: 0.8681 - accuracy: 0.6341\n",
      "Epoch 31/150\n",
      "768/768 [==============================] - 0s 43us/step - loss: 0.8595 - accuracy: 0.6367\n",
      "Epoch 32/150\n",
      "768/768 [==============================] - 0s 43us/step - loss: 0.8428 - accuracy: 0.6497\n",
      "Epoch 33/150\n",
      "768/768 [==============================] - 0s 43us/step - loss: 0.8270 - accuracy: 0.6406\n",
      "Epoch 34/150\n",
      "768/768 [==============================] - 0s 44us/step - loss: 0.8118 - accuracy: 0.6458\n",
      "Epoch 35/150\n",
      "768/768 [==============================] - 0s 44us/step - loss: 0.7984 - accuracy: 0.6432\n",
      "Epoch 36/150\n",
      "768/768 [==============================] - 0s 45us/step - loss: 0.7848 - accuracy: 0.6419\n",
      "Epoch 37/150\n",
      "768/768 [==============================] - 0s 44us/step - loss: 0.7810 - accuracy: 0.6497\n",
      "Epoch 38/150\n",
      "768/768 [==============================] - 0s 43us/step - loss: 0.7633 - accuracy: 0.6536\n",
      "Epoch 39/150\n",
      "768/768 [==============================] - 0s 44us/step - loss: 0.7483 - accuracy: 0.6562\n",
      "Epoch 40/150\n",
      "768/768 [==============================] - 0s 42us/step - loss: 0.7364 - accuracy: 0.6641\n",
      "Epoch 41/150\n",
      "768/768 [==============================] - 0s 43us/step - loss: 0.7260 - accuracy: 0.6602\n",
      "Epoch 42/150\n",
      "768/768 [==============================] - 0s 45us/step - loss: 0.7142 - accuracy: 0.6628\n",
      "Epoch 43/150\n",
      "768/768 [==============================] - 0s 43us/step - loss: 0.7090 - accuracy: 0.6641\n",
      "Epoch 44/150\n",
      "768/768 [==============================] - 0s 42us/step - loss: 0.6976 - accuracy: 0.6706\n",
      "Epoch 45/150\n",
      "768/768 [==============================] - 0s 45us/step - loss: 0.6885 - accuracy: 0.6549\n",
      "Epoch 46/150\n",
      "768/768 [==============================] - 0s 43us/step - loss: 0.6831 - accuracy: 0.6680\n",
      "Epoch 47/150\n",
      "768/768 [==============================] - 0s 44us/step - loss: 0.6868 - accuracy: 0.6680\n",
      "Epoch 48/150\n",
      "768/768 [==============================] - 0s 42us/step - loss: 0.6677 - accuracy: 0.6654\n",
      "Epoch 49/150\n",
      "768/768 [==============================] - 0s 43us/step - loss: 0.6611 - accuracy: 0.6745\n",
      "Epoch 50/150\n",
      "768/768 [==============================] - 0s 43us/step - loss: 0.6633 - accuracy: 0.6732\n",
      "Epoch 51/150\n",
      "768/768 [==============================] - 0s 44us/step - loss: 0.6516 - accuracy: 0.6797\n",
      "Epoch 52/150\n",
      "768/768 [==============================] - 0s 44us/step - loss: 0.6415 - accuracy: 0.6823\n",
      "Epoch 53/150\n",
      "768/768 [==============================] - 0s 43us/step - loss: 0.6358 - accuracy: 0.6862\n",
      "Epoch 54/150\n",
      "768/768 [==============================] - 0s 42us/step - loss: 0.6364 - accuracy: 0.6888\n",
      "Epoch 55/150\n",
      "768/768 [==============================] - 0s 43us/step - loss: 0.6288 - accuracy: 0.6849\n",
      "Epoch 56/150\n",
      "768/768 [==============================] - 0s 43us/step - loss: 0.6238 - accuracy: 0.6940\n",
      "Epoch 57/150\n",
      "768/768 [==============================] - 0s 43us/step - loss: 0.6220 - accuracy: 0.6823\n",
      "Epoch 58/150\n",
      "768/768 [==============================] - 0s 43us/step - loss: 0.6233 - accuracy: 0.6784\n",
      "Epoch 59/150\n",
      "768/768 [==============================] - 0s 41us/step - loss: 0.6142 - accuracy: 0.6771\n",
      "Epoch 60/150\n",
      "768/768 [==============================] - 0s 43us/step - loss: 0.6128 - accuracy: 0.6953\n",
      "Epoch 61/150\n",
      "768/768 [==============================] - 0s 43us/step - loss: 0.6060 - accuracy: 0.7005\n",
      "Epoch 62/150\n",
      "768/768 [==============================] - 0s 44us/step - loss: 0.6118 - accuracy: 0.6979\n",
      "Epoch 63/150\n",
      "768/768 [==============================] - 0s 43us/step - loss: 0.6077 - accuracy: 0.6862\n",
      "Epoch 64/150\n",
      "768/768 [==============================] - 0s 44us/step - loss: 0.6054 - accuracy: 0.6810\n",
      "Epoch 65/150\n",
      "768/768 [==============================] - 0s 43us/step - loss: 0.6011 - accuracy: 0.6914\n",
      "Epoch 66/150\n",
      "768/768 [==============================] - 0s 43us/step - loss: 0.5911 - accuracy: 0.7031\n",
      "Epoch 67/150\n",
      "768/768 [==============================] - 0s 44us/step - loss: 0.5940 - accuracy: 0.6875\n",
      "Epoch 68/150\n",
      "768/768 [==============================] - 0s 44us/step - loss: 0.5959 - accuracy: 0.6784\n",
      "Epoch 69/150\n",
      "768/768 [==============================] - 0s 45us/step - loss: 0.5912 - accuracy: 0.6940\n",
      "Epoch 70/150\n",
      "768/768 [==============================] - 0s 44us/step - loss: 0.5864 - accuracy: 0.7044\n",
      "Epoch 71/150\n",
      "768/768 [==============================] - 0s 43us/step - loss: 0.5886 - accuracy: 0.6875\n",
      "Epoch 72/150\n",
      "768/768 [==============================] - 0s 44us/step - loss: 0.5896 - accuracy: 0.6914\n",
      "Epoch 73/150\n",
      "768/768 [==============================] - 0s 42us/step - loss: 0.5896 - accuracy: 0.6979\n",
      "Epoch 74/150\n",
      "768/768 [==============================] - 0s 43us/step - loss: 0.5770 - accuracy: 0.6992\n",
      "Epoch 75/150\n",
      "768/768 [==============================] - 0s 44us/step - loss: 0.5775 - accuracy: 0.6992\n",
      "Epoch 76/150\n",
      "768/768 [==============================] - 0s 43us/step - loss: 0.5762 - accuracy: 0.7122\n",
      "Epoch 77/150\n",
      "768/768 [==============================] - 0s 44us/step - loss: 0.5763 - accuracy: 0.6992\n",
      "Epoch 78/150\n",
      "768/768 [==============================] - 0s 43us/step - loss: 0.5719 - accuracy: 0.7083\n",
      "Epoch 79/150\n",
      "768/768 [==============================] - 0s 43us/step - loss: 0.5787 - accuracy: 0.7057\n",
      "Epoch 80/150\n",
      "768/768 [==============================] - 0s 44us/step - loss: 0.5778 - accuracy: 0.7148\n",
      "Epoch 81/150\n",
      "768/768 [==============================] - 0s 43us/step - loss: 0.5675 - accuracy: 0.7083\n",
      "Epoch 82/150\n",
      "768/768 [==============================] - 0s 44us/step - loss: 0.5660 - accuracy: 0.7083\n",
      "Epoch 83/150\n",
      "768/768 [==============================] - 0s 43us/step - loss: 0.5731 - accuracy: 0.7044\n",
      "Epoch 84/150\n",
      "768/768 [==============================] - 0s 44us/step - loss: 0.5619 - accuracy: 0.7188\n",
      "Epoch 85/150\n",
      "768/768 [==============================] - 0s 43us/step - loss: 0.5718 - accuracy: 0.7122\n",
      "Epoch 86/150\n",
      "768/768 [==============================] - 0s 44us/step - loss: 0.5649 - accuracy: 0.7096\n",
      "Epoch 87/150\n",
      "768/768 [==============================] - 0s 45us/step - loss: 0.5663 - accuracy: 0.7070\n",
      "Epoch 88/150\n",
      "768/768 [==============================] - 0s 42us/step - loss: 0.5618 - accuracy: 0.7174\n",
      "Epoch 89/150\n",
      "768/768 [==============================] - 0s 43us/step - loss: 0.5650 - accuracy: 0.7044\n",
      "Epoch 90/150\n",
      "768/768 [==============================] - 0s 45us/step - loss: 0.5587 - accuracy: 0.7057\n",
      "Epoch 91/150\n",
      "768/768 [==============================] - 0s 43us/step - loss: 0.5606 - accuracy: 0.7135\n",
      "Epoch 92/150\n",
      "768/768 [==============================] - 0s 43us/step - loss: 0.5568 - accuracy: 0.7214\n",
      "Epoch 93/150\n",
      "768/768 [==============================] - 0s 44us/step - loss: 0.5551 - accuracy: 0.7201\n",
      "Epoch 94/150\n",
      "768/768 [==============================] - 0s 43us/step - loss: 0.5535 - accuracy: 0.7227\n",
      "Epoch 95/150\n",
      "768/768 [==============================] - 0s 44us/step - loss: 0.5626 - accuracy: 0.7083\n",
      "Epoch 96/150\n",
      "768/768 [==============================] - 0s 42us/step - loss: 0.5662 - accuracy: 0.7057\n",
      "Epoch 97/150\n",
      "768/768 [==============================] - 0s 44us/step - loss: 0.5517 - accuracy: 0.7188\n",
      "Epoch 98/150\n",
      "768/768 [==============================] - 0s 44us/step - loss: 0.5465 - accuracy: 0.7344\n",
      "Epoch 99/150\n",
      "768/768 [==============================] - 0s 45us/step - loss: 0.5474 - accuracy: 0.7201\n",
      "Epoch 100/150\n",
      "768/768 [==============================] - 0s 46us/step - loss: 0.5517 - accuracy: 0.7135\n",
      "Epoch 101/150\n",
      "768/768 [==============================] - 0s 45us/step - loss: 0.5441 - accuracy: 0.7318\n",
      "Epoch 102/150\n",
      "768/768 [==============================] - 0s 43us/step - loss: 0.5478 - accuracy: 0.7135\n",
      "Epoch 103/150\n",
      "768/768 [==============================] - 0s 42us/step - loss: 0.5434 - accuracy: 0.7305\n",
      "Epoch 104/150\n",
      "768/768 [==============================] - 0s 46us/step - loss: 0.5427 - accuracy: 0.7357\n",
      "Epoch 105/150\n",
      "768/768 [==============================] - 0s 43us/step - loss: 0.5434 - accuracy: 0.7344\n",
      "Epoch 106/150\n",
      "768/768 [==============================] - 0s 44us/step - loss: 0.5410 - accuracy: 0.7305\n",
      "Epoch 107/150\n",
      "768/768 [==============================] - 0s 42us/step - loss: 0.5385 - accuracy: 0.7318\n",
      "Epoch 108/150\n",
      "768/768 [==============================] - 0s 44us/step - loss: 0.5420 - accuracy: 0.7409\n",
      "Epoch 109/150\n",
      "768/768 [==============================] - 0s 43us/step - loss: 0.5410 - accuracy: 0.7266\n",
      "Epoch 110/150\n",
      "768/768 [==============================] - 0s 42us/step - loss: 0.5408 - accuracy: 0.7305\n",
      "Epoch 111/150\n",
      "768/768 [==============================] - 0s 47us/step - loss: 0.5350 - accuracy: 0.7318\n",
      "Epoch 112/150\n",
      "768/768 [==============================] - 0s 43us/step - loss: 0.5424 - accuracy: 0.7188\n",
      "Epoch 113/150\n",
      "768/768 [==============================] - 0s 46us/step - loss: 0.5415 - accuracy: 0.7214\n",
      "Epoch 114/150\n",
      "768/768 [==============================] - 0s 44us/step - loss: 0.5373 - accuracy: 0.7409\n",
      "Epoch 115/150\n",
      "768/768 [==============================] - 0s 44us/step - loss: 0.5395 - accuracy: 0.7214\n",
      "Epoch 116/150\n",
      "768/768 [==============================] - 0s 44us/step - loss: 0.5381 - accuracy: 0.7344\n",
      "Epoch 117/150\n",
      "768/768 [==============================] - 0s 43us/step - loss: 0.5377 - accuracy: 0.7409\n",
      "Epoch 118/150\n",
      "768/768 [==============================] - 0s 43us/step - loss: 0.5437 - accuracy: 0.7240\n",
      "Epoch 119/150\n",
      "768/768 [==============================] - 0s 45us/step - loss: 0.5357 - accuracy: 0.7344\n",
      "Epoch 120/150\n",
      "768/768 [==============================] - 0s 47us/step - loss: 0.5326 - accuracy: 0.7305\n",
      "Epoch 121/150\n",
      "768/768 [==============================] - 0s 44us/step - loss: 0.5318 - accuracy: 0.7422\n",
      "Epoch 122/150\n",
      "768/768 [==============================] - 0s 45us/step - loss: 0.5311 - accuracy: 0.7435\n",
      "Epoch 123/150\n",
      "768/768 [==============================] - 0s 43us/step - loss: 0.5326 - accuracy: 0.7396\n",
      "Epoch 124/150\n",
      "768/768 [==============================] - 0s 42us/step - loss: 0.5359 - accuracy: 0.7318\n",
      "Epoch 125/150\n",
      "768/768 [==============================] - 0s 44us/step - loss: 0.5302 - accuracy: 0.7331\n",
      "Epoch 126/150\n",
      "768/768 [==============================] - 0s 42us/step - loss: 0.5292 - accuracy: 0.7370\n",
      "Epoch 127/150\n",
      "768/768 [==============================] - 0s 43us/step - loss: 0.5373 - accuracy: 0.7240\n",
      "Epoch 128/150\n",
      "768/768 [==============================] - 0s 45us/step - loss: 0.5366 - accuracy: 0.7292\n",
      "Epoch 129/150\n",
      "768/768 [==============================] - 0s 43us/step - loss: 0.5282 - accuracy: 0.7370\n",
      "Epoch 130/150\n",
      "768/768 [==============================] - 0s 43us/step - loss: 0.5258 - accuracy: 0.7305\n",
      "Epoch 131/150\n",
      "768/768 [==============================] - 0s 42us/step - loss: 0.5297 - accuracy: 0.7500\n",
      "Epoch 132/150\n",
      "768/768 [==============================] - 0s 42us/step - loss: 0.5317 - accuracy: 0.7357\n",
      "Epoch 133/150\n",
      "768/768 [==============================] - 0s 43us/step - loss: 0.5277 - accuracy: 0.7461\n",
      "Epoch 134/150\n",
      "768/768 [==============================] - 0s 42us/step - loss: 0.5306 - accuracy: 0.7318\n",
      "Epoch 135/150\n",
      "768/768 [==============================] - 0s 43us/step - loss: 0.5285 - accuracy: 0.7292\n",
      "Epoch 136/150\n",
      "768/768 [==============================] - 0s 42us/step - loss: 0.5242 - accuracy: 0.7500\n",
      "Epoch 137/150\n",
      "768/768 [==============================] - 0s 45us/step - loss: 0.5230 - accuracy: 0.7331\n",
      "Epoch 138/150\n",
      "768/768 [==============================] - 0s 45us/step - loss: 0.5268 - accuracy: 0.7409\n",
      "Epoch 139/150\n",
      "768/768 [==============================] - 0s 42us/step - loss: 0.5213 - accuracy: 0.7344\n",
      "Epoch 140/150\n",
      "768/768 [==============================] - 0s 42us/step - loss: 0.5307 - accuracy: 0.7305\n",
      "Epoch 141/150\n",
      "768/768 [==============================] - 0s 42us/step - loss: 0.5222 - accuracy: 0.7409\n",
      "Epoch 142/150\n",
      "768/768 [==============================] - 0s 42us/step - loss: 0.5232 - accuracy: 0.7448\n",
      "Epoch 143/150\n",
      "768/768 [==============================] - 0s 42us/step - loss: 0.5219 - accuracy: 0.7383\n",
      "Epoch 144/150\n",
      "768/768 [==============================] - 0s 44us/step - loss: 0.5209 - accuracy: 0.7318\n",
      "Epoch 145/150\n",
      "768/768 [==============================] - 0s 42us/step - loss: 0.5402 - accuracy: 0.7227\n",
      "Epoch 146/150\n",
      "768/768 [==============================] - 0s 45us/step - loss: 0.5370 - accuracy: 0.7331\n",
      "Epoch 147/150\n",
      "768/768 [==============================] - 0s 44us/step - loss: 0.5184 - accuracy: 0.7513\n",
      "Epoch 148/150\n",
      "768/768 [==============================] - 0s 43us/step - loss: 0.5183 - accuracy: 0.7474\n",
      "Epoch 149/150\n",
      "768/768 [==============================] - 0s 44us/step - loss: 0.5221 - accuracy: 0.7357\n",
      "Epoch 150/150\n",
      "768/768 [==============================] - 0s 42us/step - loss: 0.5188 - accuracy: 0.7435\n"
     ]
    },
    {
     "data": {
      "text/plain": [
       "<keras.callbacks.callbacks.History at 0x7fcc26230ac8>"
      ]
     },
     "execution_count": 127,
     "metadata": {},
     "output_type": "execute_result"
    }
   ],
   "source": [
    "model.fit(x,y,epochs=150)"
   ]
  },
  {
   "cell_type": "code",
   "execution_count": 128,
   "metadata": {},
   "outputs": [
    {
     "name": "stdout",
     "output_type": "stream",
     "text": [
      "768/768 [==============================] - 0s 46us/step\n"
     ]
    }
   ],
   "source": [
    "_,accuracy=model.evaluate(x,y)"
   ]
  },
  {
   "cell_type": "code",
   "execution_count": 129,
   "metadata": {},
   "outputs": [
    {
     "name": "stdout",
     "output_type": "stream",
     "text": [
      "0.7473958134651184\n"
     ]
    }
   ],
   "source": [
    "print(accuracy)"
   ]
  },
  {
   "cell_type": "code",
   "execution_count": 130,
   "metadata": {},
   "outputs": [
    {
     "data": {
      "text/plain": [
       "0.5118592989941438"
      ]
     },
     "execution_count": 130,
     "metadata": {},
     "output_type": "execute_result"
    }
   ],
   "source": [
    "_"
   ]
  },
  {
   "cell_type": "code",
   "execution_count": 136,
   "metadata": {},
   "outputs": [],
   "source": [
    "prediction=model.predict_classes(x)"
   ]
  },
  {
   "cell_type": "code",
   "execution_count": 137,
   "metadata": {},
   "outputs": [],
   "source": [
    "#WE will add this into data fram\n",
    "df['prediction']=prediction"
   ]
  },
  {
   "cell_type": "code",
   "execution_count": 138,
   "metadata": {},
   "outputs": [
    {
     "data": {
      "text/html": [
       "<div>\n",
       "<style scoped>\n",
       "    .dataframe tbody tr th:only-of-type {\n",
       "        vertical-align: middle;\n",
       "    }\n",
       "\n",
       "    .dataframe tbody tr th {\n",
       "        vertical-align: top;\n",
       "    }\n",
       "\n",
       "    .dataframe thead th {\n",
       "        text-align: right;\n",
       "    }\n",
       "</style>\n",
       "<table border=\"1\" class=\"dataframe\">\n",
       "  <thead>\n",
       "    <tr style=\"text-align: right;\">\n",
       "      <th></th>\n",
       "      <th>Pregnancies</th>\n",
       "      <th>Glucose</th>\n",
       "      <th>BloodPressure</th>\n",
       "      <th>SkinThickness</th>\n",
       "      <th>Insulin</th>\n",
       "      <th>BMI</th>\n",
       "      <th>DiabetesPedigreeFunction</th>\n",
       "      <th>Age</th>\n",
       "      <th>Outcome</th>\n",
       "      <th>prediction</th>\n",
       "    </tr>\n",
       "  </thead>\n",
       "  <tbody>\n",
       "    <tr>\n",
       "      <th>0</th>\n",
       "      <td>6</td>\n",
       "      <td>148</td>\n",
       "      <td>72</td>\n",
       "      <td>35</td>\n",
       "      <td>0</td>\n",
       "      <td>33.6</td>\n",
       "      <td>0.627</td>\n",
       "      <td>50</td>\n",
       "      <td>1</td>\n",
       "      <td>1</td>\n",
       "    </tr>\n",
       "    <tr>\n",
       "      <th>1</th>\n",
       "      <td>1</td>\n",
       "      <td>85</td>\n",
       "      <td>66</td>\n",
       "      <td>29</td>\n",
       "      <td>0</td>\n",
       "      <td>26.6</td>\n",
       "      <td>0.351</td>\n",
       "      <td>31</td>\n",
       "      <td>0</td>\n",
       "      <td>0</td>\n",
       "    </tr>\n",
       "    <tr>\n",
       "      <th>2</th>\n",
       "      <td>8</td>\n",
       "      <td>183</td>\n",
       "      <td>64</td>\n",
       "      <td>0</td>\n",
       "      <td>0</td>\n",
       "      <td>23.3</td>\n",
       "      <td>0.672</td>\n",
       "      <td>32</td>\n",
       "      <td>1</td>\n",
       "      <td>1</td>\n",
       "    </tr>\n",
       "    <tr>\n",
       "      <th>3</th>\n",
       "      <td>1</td>\n",
       "      <td>89</td>\n",
       "      <td>66</td>\n",
       "      <td>23</td>\n",
       "      <td>94</td>\n",
       "      <td>28.1</td>\n",
       "      <td>0.167</td>\n",
       "      <td>21</td>\n",
       "      <td>0</td>\n",
       "      <td>0</td>\n",
       "    </tr>\n",
       "    <tr>\n",
       "      <th>4</th>\n",
       "      <td>0</td>\n",
       "      <td>137</td>\n",
       "      <td>40</td>\n",
       "      <td>35</td>\n",
       "      <td>168</td>\n",
       "      <td>43.1</td>\n",
       "      <td>2.288</td>\n",
       "      <td>33</td>\n",
       "      <td>1</td>\n",
       "      <td>1</td>\n",
       "    </tr>\n",
       "  </tbody>\n",
       "</table>\n",
       "</div>"
      ],
      "text/plain": [
       "   Pregnancies  Glucose  BloodPressure  SkinThickness  Insulin   BMI  \\\n",
       "0            6      148             72             35        0  33.6   \n",
       "1            1       85             66             29        0  26.6   \n",
       "2            8      183             64              0        0  23.3   \n",
       "3            1       89             66             23       94  28.1   \n",
       "4            0      137             40             35      168  43.1   \n",
       "\n",
       "   DiabetesPedigreeFunction  Age  Outcome  prediction  \n",
       "0                     0.627   50        1           1  \n",
       "1                     0.351   31        0           0  \n",
       "2                     0.672   32        1           1  \n",
       "3                     0.167   21        0           0  \n",
       "4                     2.288   33        1           1  "
      ]
     },
     "execution_count": 138,
     "metadata": {},
     "output_type": "execute_result"
    }
   ],
   "source": [
    "df.head()"
   ]
  },
  {
   "cell_type": "code",
   "execution_count": 139,
   "metadata": {},
   "outputs": [],
   "source": [
    "from sklearn.metrics import confusion_matrix\n",
    "from sklearn.metrics import precision_score\n",
    "from sklearn.metrics import recall_score\n",
    "from sklearn.metrics import f1_score"
   ]
  },
  {
   "cell_type": "code",
   "execution_count": 140,
   "metadata": {},
   "outputs": [],
   "source": [
    "outcome=df.Outcome\n",
    "predicted=df.prediction"
   ]
  },
  {
   "cell_type": "code",
   "execution_count": 141,
   "metadata": {},
   "outputs": [
    {
     "data": {
      "text/plain": [
       "array([[444,  56],\n",
       "       [138, 130]])"
      ]
     },
     "execution_count": 141,
     "metadata": {},
     "output_type": "execute_result"
    }
   ],
   "source": [
    "confusion_matrix(outcome,predicted)"
   ]
  },
  {
   "cell_type": "code",
   "execution_count": 142,
   "metadata": {},
   "outputs": [
    {
     "data": {
      "text/plain": [
       "0.6989247311827957"
      ]
     },
     "execution_count": 142,
     "metadata": {},
     "output_type": "execute_result"
    }
   ],
   "source": []
  },
  {
   "cell_type": "code",
   "execution_count": 144,
   "metadata": {},
   "outputs": [
    {
     "data": {
      "text/plain": [
       "0.48507462686567165"
      ]
     },
     "execution_count": 144,
     "metadata": {},
     "output_type": "execute_result"
    }
   ],
   "source": [
    "#IT could able to find 48% of ppl who has diabbetes.\n",
    "recall_score(outcome,predicted)"
   ]
  },
  {
   "cell_type": "code",
   "execution_count": 147,
   "metadata": {},
   "outputs": [
    {
     "data": {
      "text/plain": [
       "0.6989247311827957"
      ]
     },
     "execution_count": 147,
     "metadata": {},
     "output_type": "execute_result"
    }
   ],
   "source": [
    "#out of 57% of ppl who has diabetes the right ppl have diabetes are 69%- This is the precision.\n",
    "\n",
    "precision_score(outcome,predicted)"
   ]
  },
  {
   "cell_type": "code",
   "execution_count": 146,
   "metadata": {},
   "outputs": [
    {
     "data": {
      "text/plain": [
       "0.5726872246696036"
      ]
     },
     "execution_count": 146,
     "metadata": {},
     "output_type": "execute_result"
    }
   ],
   "source": [
    "#Harmonic mean \n",
    "f1_score(outcome,predicted)"
   ]
  },
  {
   "cell_type": "code",
   "execution_count": 148,
   "metadata": {},
   "outputs": [],
   "source": [
    "#Lets create heatmap for confusion matrix\n",
    "import seaborn as sns"
   ]
  },
  {
   "cell_type": "code",
   "execution_count": 152,
   "metadata": {},
   "outputs": [
    {
     "data": {
      "text/plain": [
       "<matplotlib.axes._subplots.AxesSubplot at 0x7fcc254235f8>"
      ]
     },
     "execution_count": 152,
     "metadata": {},
     "output_type": "execute_result"
    },
    {
     "data": {
      "image/png": "[encoded data removed]",
      "text/plain": [
       "<Figure size 432x288 with 2 Axes>"
      ]
     },
     "metadata": {
      "needs_background": "light"
     },
     "output_type": "display_data"
    }
   ],
   "source": [
    "sns.heatmap(confusion_matrix(outcome,predicted),fmt=True,)"
   ]
  },
  {
   "cell_type": "code",
   "execution_count": 155,
   "metadata": {},
   "outputs": [],
   "source": [
    "from sklearn.metrics import classification_report"
   ]
  },
  {
   "cell_type": "code",
   "execution_count": 157,
   "metadata": {},
   "outputs": [
    {
     "name": "stdout",
     "output_type": "stream",
     "text": [
      "             precision    recall  f1-score   support\n",
      "\n",
      "          0       0.76      0.89      0.82       500\n",
      "          1       0.70      0.49      0.57       268\n",
      "\n",
      "avg / total       0.74      0.75      0.73       768\n",
      "\n"
     ]
    }
   ],
   "source": [
    "print(classification_report(outcome,predicted))"
   ]
  },
  {
   "cell_type": "code",
   "execution_count": null,
   "metadata": {},
   "outputs": [],
   "source": []
  }
 ],
 "metadata": {
  "kernelspec": {
   "display_name": "Python 3",
   "language": "python",
   "name": "python3"
  },
  "language_info": {
   "codemirror_mode": {
    "name": "ipython",
    "version": 3
   },
   "file_extension": ".py",
   "mimetype": "text/x-python",
   "name": "python",
   "nbconvert_exporter": "python",
   "pygments_lexer": "ipython3",
   "version": "3.5.3"
  }
 },
 "nbformat": 4,
 "nbformat_minor": 4
}
