{
 "cells": [
  {
   "cell_type": "markdown",
   "metadata": {},
   "source": [
    "## Mnist With CNN\n",
    "### Steps to achieve\n",
    "#### Load the data\n",
    "#### Create convolution layers\n",
    "#### Create pooling layers\n",
    "#### Create dropout layers\n",
    "#### Create Dense nn and pass the above data"
   ]
  },
  {
   "cell_type": "code",
   "execution_count": 1,
   "metadata": {},
   "outputs": [],
   "source": [
    "# Lets create\n",
    "import numpy as np\n",
    "import matplotlib.pyplot as plt\n",
    "%matplotlib inline\n",
    "import tensorflow as tf\n",
    "import tensorflow_datasets as tfds"
   ]
  },
  {
   "cell_type": "markdown",
   "metadata": {},
   "source": [
    "## create function to load the mnist data and convert that to numpy."
   ]
  },
  {
   "cell_type": "code",
   "execution_count": 2,
   "metadata": {},
   "outputs": [],
   "source": [
    "def mnist_data(train_test):\n",
    "    mnist=tfds.load('mnist',split=train_test)\n",
    "    #Convert tensor data set to numpy\n",
    "    mnist_numpy=tfds.as_numpy(mnist)\n",
    "    mnist_list=list(mnist_numpy)\n",
    "    x_data,y_data=[],[]\n",
    "    for example in mnist_list:\n",
    "        x_data.append(example['image'])\n",
    "        y_data.append(example['label'])\n",
    "    x_data=np.asarray(x_data)\n",
    "    #resize it to (28,28)\n",
    "    x_data.resize((len(x_data),784))\n",
    "    #one hot encoding for y_data\n",
    "    y_data=tf.one_hot(y_data,depth=10)\n",
    "    y_data=tfds.as_numpy(y_data)\n",
    "    return (x_data,y_data)\n",
    "        \n",
    "        "
   ]
  },
  {
   "cell_type": "code",
   "execution_count": null,
   "metadata": {},
   "outputs": [],
   "source": []
  },
  {
   "cell_type": "code",
   "execution_count": 57,
   "metadata": {},
   "outputs": [],
   "source": [
    "#Load Train data and test data\n",
    "x_train,y_train=mnist_data(tfds.Split.TRAIN)\n",
    "x_test,y_test=mnist_data(tfds.Split.TEST)"
   ]
  },
  {
   "cell_type": "code",
   "execution_count": 58,
   "metadata": {},
   "outputs": [
    {
     "data": {
      "text/plain": [
       "(60000, 784)"
      ]
     },
     "execution_count": 58,
     "metadata": {},
     "output_type": "execute_result"
    }
   ],
   "source": [
    "x_train.shape"
   ]
  },
  {
   "cell_type": "markdown",
   "metadata": {},
   "source": [
    "## Pre Process the data"
   ]
  },
  {
   "cell_type": "code",
   "execution_count": 61,
   "metadata": {},
   "outputs": [],
   "source": [
    "x_train=x_train/255\n",
    "#x_test=x_test/255"
   ]
  },
  {
   "cell_type": "code",
   "execution_count": 62,
   "metadata": {},
   "outputs": [
    {
     "data": {
      "text/plain": [
       "1.0"
      ]
     },
     "execution_count": 62,
     "metadata": {},
     "output_type": "execute_result"
    }
   ],
   "source": [
    "x_train.max()"
   ]
  },
  {
   "cell_type": "code",
   "execution_count": 63,
   "metadata": {},
   "outputs": [],
   "source": [
    "#lets plot\n",
    "#plt.imshow(x_train[654].resize((1,28,28)),cmap='gray')"
   ]
  },
  {
   "cell_type": "markdown",
   "metadata": {},
   "source": [
    "### Create convolution layers\n",
    "#### Steps for creating\n",
    "##### Initialise the weights and bias\n",
    "##### Create conv2d layer\n",
    "##### Create Pooling layer\n",
    "###### ** We will create function for each steps so that it would be easy to debug **"
   ]
  },
  {
   "cell_type": "code",
   "execution_count": 64,
   "metadata": {},
   "outputs": [],
   "source": [
    "# initialize weights\n",
    "def init_weights(shape):\n",
    "    #We will grab weights from random distribution\n",
    "    #print(shape)\n",
    "    init_random_dist=tf.compat.v1.truncated_normal(shape,stddev=0.1)\n",
    "    return tf.Variable(init_random_dist)"
   ]
  },
  {
   "cell_type": "code",
   "execution_count": 65,
   "metadata": {},
   "outputs": [],
   "source": [
    "# Initialize the bias values\n",
    "def init_bias(shape):\n",
    "    init_bias_vals=tf.constant(0.1,dtype=tf.float32,shape=shape)\n",
    "    return tf.Variable(init_bias_vals)"
   ]
  },
  {
   "cell_type": "code",
   "execution_count": null,
   "metadata": {},
   "outputs": [],
   "source": []
  },
  {
   "cell_type": "markdown",
   "metadata": {},
   "source": [
    "#### Conv 2d layer creation"
   ]
  },
  {
   "cell_type": "code",
   "execution_count": 66,
   "metadata": {},
   "outputs": [],
   "source": [
    "def con2d(x,w):\n",
    "    #x-input tensor [batch,h,w,c]\n",
    "    #w-[filter height,filter weight,channels in,channels out]\n",
    "    return tf.nn.conv2d(x,w,strides=[1,1,1,1],padding='SAME')\n",
    "# We can give values to strides for each batch,height,width,color channels."
   ]
  },
  {
   "cell_type": "markdown",
   "metadata": {},
   "source": [
    "### Pooling layer "
   ]
  },
  {
   "cell_type": "code",
   "execution_count": 67,
   "metadata": {},
   "outputs": [],
   "source": [
    "def max_pool_2by2(x):\n",
    "    # x--[batch,height,width,channels]\n",
    "    # for kzise as we have to do pooling only for height and width so we will make as [1,2,2,1] same for strides\n",
    "    return tf.nn.max_pool(x,ksize=[1,2,2,1],strides=[1,2,2,1],padding='SAME')"
   ]
  },
  {
   "cell_type": "markdown",
   "metadata": {},
   "source": [
    "### Create layers"
   ]
  },
  {
   "cell_type": "code",
   "execution_count": 68,
   "metadata": {},
   "outputs": [],
   "source": [
    "def convolution_layer(input_x,shape):\n",
    "    w=init_weights(shape)\n",
    "    b=init_bias([shape[3]])\n",
    "    return tf.nn.relu(con2d(input_x,w)+b)"
   ]
  },
  {
   "cell_type": "markdown",
   "metadata": {},
   "source": [
    "## normal layer"
   ]
  },
  {
   "cell_type": "code",
   "execution_count": 69,
   "metadata": {},
   "outputs": [],
   "source": [
    "def normal_full_layer(input_layer,size):\n",
    "    input_size=int(input_layer.get_shape()[1])\n",
    "    w=init_weights([input_size,size])\n",
    "    b=init_bias([size])\n",
    "    return tf.matmul(input_layer,w)+b"
   ]
  },
  {
   "cell_type": "code",
   "execution_count": 70,
   "metadata": {},
   "outputs": [],
   "source": [
    "tf.compat.v1.disable_eager_execution()"
   ]
  },
  {
   "cell_type": "code",
   "execution_count": 71,
   "metadata": {},
   "outputs": [],
   "source": [
    "#place holders\n",
    "x=tf.compat.v1.placeholder(tf.float32,shape=[None,784])\n",
    "y_true=tf.compat.v1.placeholder(tf.float32,shape=[None,10])"
   ]
  },
  {
   "cell_type": "code",
   "execution_count": 72,
   "metadata": {},
   "outputs": [],
   "source": [
    "#olayers\n",
    "x_image=tf.reshape(x,[-1,28,28,1])"
   ]
  },
  {
   "cell_type": "code",
   "execution_count": 73,
   "metadata": {},
   "outputs": [],
   "source": [
    "# Casting is important here to match the data types.\n",
    "x_image=tf.cast(x_image,dtype=tf.float32)"
   ]
  },
  {
   "cell_type": "code",
   "execution_count": 74,
   "metadata": {},
   "outputs": [],
   "source": [
    "# for 5 x 5 filter we are extracting 32 features for each 5 x5 patch and 1 is input channel[as of now we have gray chanl]\n",
    "convo_1=convolution_layer(x_image,shape=[5,5,1,32])\n",
    "convo_1_pooling=max_pool_2by2(convo_1)"
   ]
  },
  {
   "cell_type": "code",
   "execution_count": 75,
   "metadata": {},
   "outputs": [],
   "source": [
    "## Why did we gave 32 for the in_channels: Because the output of convo_1 layer is 32 which we are giving as input\n",
    "convo_2=convolution_layer(convo_1_pooling,shape=[5,5,32,64])\n",
    "convo_2_pooling=max_pool_2by2(convo_2)"
   ]
  },
  {
   "cell_type": "markdown",
   "metadata": {},
   "source": [
    "#### Lets flatten the layer to pass to the fully connected nn"
   ]
  },
  {
   "cell_type": "code",
   "execution_count": 76,
   "metadata": {},
   "outputs": [],
   "source": [
    "convo_2_flat=tf.reshape(convo_2_pooling,shape=[-1,7*7*64])\n",
    "full_layer_one=tf.nn.relu(normal_full_layer(convo_2_flat,1024))\n"
   ]
  },
  {
   "cell_type": "code",
   "execution_count": 77,
   "metadata": {},
   "outputs": [
    {
     "data": {
      "text/plain": [
       "TensorShape([None, 7, 7, 64])"
      ]
     },
     "execution_count": 77,
     "metadata": {},
     "output_type": "execute_result"
    }
   ],
   "source": [
    "convo_2_pooling.get_shape()"
   ]
  },
  {
   "cell_type": "markdown",
   "metadata": {},
   "source": [
    "### Lets add drop out"
   ]
  },
  {
   "cell_type": "code",
   "execution_count": 78,
   "metadata": {},
   "outputs": [],
   "source": [
    "hold_prob=tf.compat.v1.placeholder(tf.float32)\n",
    "full_one_dropout=tf.nn.dropout(full_layer_one,rate=hold_prob)"
   ]
  },
  {
   "cell_type": "code",
   "execution_count": 79,
   "metadata": {},
   "outputs": [],
   "source": [
    "y_pred=normal_full_layer(full_one_dropout,10)"
   ]
  },
  {
   "cell_type": "markdown",
   "metadata": {},
   "source": [
    "### Loss Function"
   ]
  },
  {
   "cell_type": "code",
   "execution_count": 80,
   "metadata": {},
   "outputs": [],
   "source": [
    "cross_entropy=tf.reduce_mean(tf.compat.v1.nn.softmax_cross_entropy_with_logits(labels=y_true,logits=y_pred))"
   ]
  },
  {
   "cell_type": "code",
   "execution_count": 81,
   "metadata": {},
   "outputs": [],
   "source": [
    "optmizer=tf.compat.v1.train.AdamOptimizer(learning_rate=0.001)\n",
    "train=optmizer.minimize(cross_entropy)"
   ]
  },
  {
   "cell_type": "code",
   "execution_count": 82,
   "metadata": {},
   "outputs": [],
   "source": [
    "init=tf.compat.v1.global_variables_initializer()"
   ]
  },
  {
   "cell_type": "code",
   "execution_count": 83,
   "metadata": {},
   "outputs": [],
   "source": [
    "#y_train[rand_int].shape,y_train[rand_int].dtype,"
   ]
  },
  {
   "cell_type": "code",
   "execution_count": 84,
   "metadata": {},
   "outputs": [],
   "source": [
    "#y_train[rand_int]"
   ]
  },
  {
   "cell_type": "code",
   "execution_count": 85,
   "metadata": {},
   "outputs": [
    {
     "name": "stdout",
     "output_type": "stream",
     "text": [
      "on step:0\n",
      "Accuracy: \n",
      "0.098\n",
      "\n",
      "\n",
      "on step:100\n",
      "Accuracy: \n",
      "0.098\n",
      "\n",
      "\n",
      "on step:200\n",
      "Accuracy: \n",
      "0.098\n",
      "\n",
      "\n",
      "on step:300\n",
      "Accuracy: \n",
      "0.098\n",
      "\n",
      "\n",
      "on step:400\n",
      "Accuracy: \n",
      "0.098\n",
      "\n",
      "\n"
     ]
    }
   ],
   "source": [
    "steps=500\n",
    "with tf.compat.v1.Session() as sess:\n",
    "    sess.run(init)\n",
    "    for i in range(steps):\n",
    "        #import pdb; pdb.set_trace()\n",
    "        rand_int=np.random.randint(len(x_train),size=50)\n",
    "        #print(sess.run(y_train[rand_int].shape))\n",
    "        sess.run(train,feed_dict={x:x_train[rand_int],y_true:y_train[rand_int],hold_prob:0.8})\n",
    "        #For every 100 steps we will report the acuracy on test set.\n",
    "        if i%100==0:\n",
    "            print(\"on step:{}\".format(i))\n",
    "            print('Accuracy: ')\n",
    "            matches=tf.equal(tf.argmax(y_pred,1),tf.argmax(y_true,1))\n",
    "            acc=tf.reduce_mean(tf.cast(matches,tf.float32))\n",
    "\n",
    "            print(sess.run(acc,feed_dict={x:x_test,y_true:y_test,hold_prob:1.0}))\n",
    "            print(\"\\n\")"
   ]
  },
  {
   "cell_type": "code",
   "execution_count": 86,
   "metadata": {},
   "outputs": [],
   "source": [
    "rand_int=np.random.randint(len(x_train),size=50)"
   ]
  },
  {
   "cell_type": "code",
   "execution_count": 87,
   "metadata": {},
   "outputs": [
    {
     "data": {
      "text/plain": [
       "(50, 784)"
      ]
     },
     "execution_count": 87,
     "metadata": {},
     "output_type": "execute_result"
    }
   ],
   "source": [
    "x_train[rand_int].shape"
   ]
  },
  {
   "cell_type": "code",
   "execution_count": null,
   "metadata": {},
   "outputs": [],
   "source": [
    "x_train[rand_int].shape"
   ]
  },
  {
   "cell_type": "code",
   "execution_count": null,
   "metadata": {},
   "outputs": [],
   "source": []
  }
 ],
 "metadata": {
  "kernelspec": {
   "display_name": "Python 3",
   "language": "python",
   "name": "python3"
  },
  "language_info": {
   "codemirror_mode": {
    "name": "ipython",
    "version": 3
   },
   "file_extension": ".py",
   "mimetype": "text/x-python",
   "name": "python",
   "nbconvert_exporter": "python",
   "pygments_lexer": "ipython3",
   "version": "3.7.6"
  }
 },
 "nbformat": 4,
 "nbformat_minor": 4
}
