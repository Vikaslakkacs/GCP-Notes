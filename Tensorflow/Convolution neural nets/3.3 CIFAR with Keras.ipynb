{
 "cells": [
  {
   "cell_type": "markdown",
   "metadata": {},
   "source": [
    "### We will run CNN completely with Keras\n",
    "#### WE will pick data from keras data set\n",
    "#### Use image data generator for some data changes and apply random data"
   ]
  },
  {
   "cell_type": "code",
   "execution_count": 1,
   "metadata": {},
   "outputs": [],
   "source": [
    "import numpy as np\n",
    "import matplotlib.pyplot as plt\n",
    "import tensorflow as tf\n",
    "%matplotlib inline\n",
    "import tensorflow_datasets as tfds\n",
    "from tensorflow import keras"
   ]
  },
  {
   "cell_type": "code",
   "execution_count": 2,
   "metadata": {},
   "outputs": [],
   "source": [
    "\n",
    "cifar=keras.datasets.cifar10"
   ]
  },
  {
   "cell_type": "code",
   "execution_count": 3,
   "metadata": {},
   "outputs": [],
   "source": [
    "(x_train,y_train),(x_test,y_test)=cifar.load_data()"
   ]
  },
  {
   "cell_type": "code",
   "execution_count": 4,
   "metadata": {},
   "outputs": [
    {
     "data": {
      "text/plain": [
       "((50000, 32, 32, 3), (50000, 1))"
      ]
     },
     "execution_count": 4,
     "metadata": {},
     "output_type": "execute_result"
    }
   ],
   "source": [
    "x_train.shape,y_train.shape"
   ]
  },
  {
   "cell_type": "code",
   "execution_count": 5,
   "metadata": {},
   "outputs": [
    {
     "data": {
      "text/plain": [
       "255"
      ]
     },
     "execution_count": 5,
     "metadata": {},
     "output_type": "execute_result"
    }
   ],
   "source": [
    "x_train.max()"
   ]
  },
  {
   "cell_type": "markdown",
   "metadata": {},
   "source": [
    "### Lets do some data preprocessing\n"
   ]
  },
  {
   "cell_type": "code",
   "execution_count": 6,
   "metadata": {},
   "outputs": [],
   "source": [
    "x_train=x_train/255\n",
    "x_test=x_test/255"
   ]
  },
  {
   "cell_type": "markdown",
   "metadata": {},
   "source": [
    "### Sample data"
   ]
  },
  {
   "cell_type": "code",
   "execution_count": 7,
   "metadata": {},
   "outputs": [
    {
     "name": "stdout",
     "output_type": "stream",
     "text": [
      "[8]\n",
      "\n",
      "\n",
      "its right\n"
     ]
    },
    {
     "data": {
      "image/png": "[encoded data removed]",
      "text/plain": [
       "<Figure size 432x288 with 1 Axes>"
      ]
     },
     "metadata": {
      "needs_background": "light"
     },
     "output_type": "display_data"
    }
   ],
   "source": [
    "sample=x_train[567]\n",
    "plt.imshow(sample)\n",
    "print(y_train[567])\n",
    "print('\\n')\n",
    "print('its right')"
   ]
  },
  {
   "cell_type": "markdown",
   "metadata": {},
   "source": [
    "#### lets encode the y data"
   ]
  },
  {
   "cell_type": "code",
   "execution_count": 8,
   "metadata": {},
   "outputs": [],
   "source": [
    "y_train=tf.one_hot(y_train,depth=10)\n",
    "y_train=tfds.as_numpy(y_train)"
   ]
  },
  {
   "cell_type": "code",
   "execution_count": 9,
   "metadata": {},
   "outputs": [],
   "source": [
    "y_train=np.reshape(y_train,[-1,10])"
   ]
  },
  {
   "cell_type": "code",
   "execution_count": 10,
   "metadata": {},
   "outputs": [
    {
     "data": {
      "text/plain": [
       "(50000, 10)"
      ]
     },
     "execution_count": 10,
     "metadata": {},
     "output_type": "execute_result"
    }
   ],
   "source": [
    "y_train.shape"
   ]
  },
  {
   "cell_type": "code",
   "execution_count": 11,
   "metadata": {},
   "outputs": [],
   "source": [
    "y_test=tf.one_hot(y_test,depth=10)\n",
    "y_test=tfds.as_numpy(y_test)\n",
    "y_test=np.reshape(y_test,[-1,10])"
   ]
  },
  {
   "cell_type": "code",
   "execution_count": null,
   "metadata": {},
   "outputs": [],
   "source": []
  },
  {
   "cell_type": "markdown",
   "metadata": {},
   "source": [
    "### Now we will use Keras model witout Image data generator."
   ]
  },
  {
   "cell_type": "code",
   "execution_count": 12,
   "metadata": {},
   "outputs": [],
   "source": [
    "from tensorflow.keras.layers import Dense,Flatten,Convolution2D,Dropout,MaxPool2D"
   ]
  },
  {
   "cell_type": "code",
   "execution_count": 13,
   "metadata": {},
   "outputs": [],
   "source": [
    "model=keras.Sequential()"
   ]
  },
  {
   "cell_type": "markdown",
   "metadata": {},
   "source": [
    "#### add some layers"
   ]
  },
  {
   "cell_type": "code",
   "execution_count": 14,
   "metadata": {},
   "outputs": [],
   "source": [
    "model.add(Flatten(input_shape=(32,32,3)))\n",
    "model.add(Dense(128,activation='relu'))\n",
    "model.add(Dense(10))"
   ]
  },
  {
   "cell_type": "markdown",
   "metadata": {},
   "source": [
    "### Now lets compile the model\n"
   ]
  },
  {
   "cell_type": "code",
   "execution_count": 19,
   "metadata": {},
   "outputs": [],
   "source": [
    "model.compile(optimizer='adam',\n",
    "                loss=tf.keras.losses.CategoricalCrossentropy(from_logits=True),\n",
    "             metrics=['accuracy'])"
   ]
  },
  {
   "cell_type": "code",
   "execution_count": 20,
   "metadata": {},
   "outputs": [
    {
     "data": {
      "text/plain": [
       "(50000, 10)"
      ]
     },
     "execution_count": 20,
     "metadata": {},
     "output_type": "execute_result"
    }
   ],
   "source": [
    "y_train.shape"
   ]
  },
  {
   "cell_type": "markdown",
   "metadata": {},
   "source": [
    "### Lets train the model"
   ]
  },
  {
   "cell_type": "code",
   "execution_count": 21,
   "metadata": {
    "scrolled": true
   },
   "outputs": [
    {
     "name": "stdout",
     "output_type": "stream",
     "text": [
      "Train on 50000 samples\n",
      "Epoch 1/10\n",
      "50000/50000 [==============================] - 14s 281us/sample - loss: 1.9008 - accuracy: 0.3140\n",
      "Epoch 2/10\n",
      "50000/50000 [==============================] - 19s 376us/sample - loss: 1.7479 - accuracy: 0.3753\n",
      "Epoch 3/10\n",
      "50000/50000 [==============================] - 26s 528us/sample - loss: 1.6939 - accuracy: 0.3966\n",
      "Epoch 4/10\n",
      "50000/50000 [==============================] - 16s 316us/sample - loss: 1.6610 - accuracy: 0.4073\n",
      "Epoch 5/10\n",
      "50000/50000 [==============================] - 18s 367us/sample - loss: 1.6365 - accuracy: 0.4155\n",
      "Epoch 6/10\n",
      "50000/50000 [==============================] - 17s 346us/sample - loss: 1.6189 - accuracy: 0.4227\n",
      "Epoch 7/10\n",
      "50000/50000 [==============================] - 19s 373us/sample - loss: 1.6109 - accuracy: 0.4240\n",
      "Epoch 8/10\n",
      "50000/50000 [==============================] - 18s 358us/sample - loss: 1.5993 - accuracy: 0.4274\n",
      "Epoch 9/10\n",
      "50000/50000 [==============================] - 15s 297us/sample - loss: 1.5943 - accuracy: 0.4305\n",
      "Epoch 10/10\n",
      "50000/50000 [==============================] - 15s 304us/sample - loss: 1.5831 - accuracy: 0.4352\n"
     ]
    },
    {
     "data": {
      "text/plain": [
       "<tensorflow.python.keras.callbacks.History at 0x7fe25501a110>"
      ]
     },
     "execution_count": 21,
     "metadata": {},
     "output_type": "execute_result"
    }
   ],
   "source": [
    "model.fit(x_train,y_train,epochs=10)"
   ]
  },
  {
   "cell_type": "markdown",
   "metadata": {},
   "source": [
    "### We see the accuracy is bit low.\n",
    "#### Lets try for some more epochs"
   ]
  },
  {
   "cell_type": "code",
   "execution_count": 22,
   "metadata": {
    "scrolled": true
   },
   "outputs": [
    {
     "name": "stdout",
     "output_type": "stream",
     "text": [
      "Train on 50000 samples\n",
      "Epoch 1/25\n",
      "50000/50000 [==============================] - 12s 244us/sample - loss: 1.5759 - accuracy: 0.4372\n",
      "Epoch 2/25\n",
      "50000/50000 [==============================] - 10s 210us/sample - loss: 1.5699 - accuracy: 0.4384\n",
      "Epoch 3/25\n",
      "50000/50000 [==============================] - 18s 351us/sample - loss: 1.5631 - accuracy: 0.4386\n",
      "Epoch 4/25\n",
      "50000/50000 [==============================] - 16s 317us/sample - loss: 1.5592 - accuracy: 0.4427\n",
      "Epoch 5/25\n",
      "50000/50000 [==============================] - 14s 284us/sample - loss: 1.5582 - accuracy: 0.4425\n",
      "Epoch 6/25\n",
      "50000/50000 [==============================] - 16s 318us/sample - loss: 1.5477 - accuracy: 0.4468\n",
      "Epoch 7/25\n",
      "50000/50000 [==============================] - 20s 397us/sample - loss: 1.5461 - accuracy: 0.4475\n",
      "Epoch 8/25\n",
      "50000/50000 [==============================] - 16s 318us/sample - loss: 1.5379 - accuracy: 0.4505\n",
      "Epoch 9/25\n",
      "50000/50000 [==============================] - 16s 321us/sample - loss: 1.5334 - accuracy: 0.4493\n",
      "Epoch 10/25\n",
      "50000/50000 [==============================] - 15s 304us/sample - loss: 1.5290 - accuracy: 0.4533\n",
      "Epoch 11/25\n",
      "50000/50000 [==============================] - 17s 334us/sample - loss: 1.5261 - accuracy: 0.4532\n",
      "Epoch 12/25\n",
      "50000/50000 [==============================] - 17s 333us/sample - loss: 1.5282 - accuracy: 0.4538\n",
      "Epoch 13/25\n",
      "50000/50000 [==============================] - 15s 291us/sample - loss: 1.5209 - accuracy: 0.4567\n",
      "Epoch 14/25\n",
      "50000/50000 [==============================] - 11s 218us/sample - loss: 1.5218 - accuracy: 0.4562\n",
      "Epoch 15/25\n",
      "50000/50000 [==============================] - 11s 229us/sample - loss: 1.5166 - accuracy: 0.4568\n",
      "Epoch 16/25\n",
      "50000/50000 [==============================] - 16s 315us/sample - loss: 1.5165 - accuracy: 0.4586\n",
      "Epoch 17/25\n",
      "50000/50000 [==============================] - 16s 318us/sample - loss: 1.5103 - accuracy: 0.4602\n",
      "Epoch 18/25\n",
      "50000/50000 [==============================] - 15s 309us/sample - loss: 1.5075 - accuracy: 0.4622\n",
      "Epoch 19/25\n",
      "50000/50000 [==============================] - 18s 354us/sample - loss: 1.5058 - accuracy: 0.4601\n",
      "Epoch 20/25\n",
      "50000/50000 [==============================] - 16s 314us/sample - loss: 1.5009 - accuracy: 0.4626\n",
      "Epoch 21/25\n",
      "50000/50000 [==============================] - 11s 228us/sample - loss: 1.5023 - accuracy: 0.4639\n",
      "Epoch 22/25\n",
      "50000/50000 [==============================] - 14s 280us/sample - loss: 1.5014 - accuracy: 0.4618\n",
      "Epoch 23/25\n",
      "50000/50000 [==============================] - 15s 300us/sample - loss: 1.4974 - accuracy: 0.4659\n",
      "Epoch 24/25\n",
      "50000/50000 [==============================] - 21s 419us/sample - loss: 1.4958 - accuracy: 0.4650\n",
      "Epoch 25/25\n",
      "50000/50000 [==============================] - 22s 434us/sample - loss: 1.4929 - accuracy: 0.4672\n"
     ]
    },
    {
     "data": {
      "text/plain": [
       "<tensorflow.python.keras.callbacks.History at 0x7fe254e38950>"
      ]
     },
     "execution_count": 22,
     "metadata": {},
     "output_type": "execute_result"
    }
   ],
   "source": [
    "model.fit(x_train,y_train,epochs=25)"
   ]
  },
  {
   "cell_type": "markdown",
   "metadata": {},
   "source": [
    "#### It is the same\n",
    "#### now we will add some convolution layers to it and try."
   ]
  },
  {
   "cell_type": "code",
   "execution_count": 37,
   "metadata": {},
   "outputs": [],
   "source": [
    "model=keras.Sequential()\n",
    "Dense,Flatten,Convolution2D,Dropout\n",
    "model.add(Convolution2D(filters=32,kernel_size=[4,4],input_shape=(32,32,3),activation='relu'))\n",
    "model.add(MaxPool2D(pool_size=(2,2)))\n",
    "model.add(Convolution2D(filters=64,kernel_size=[4,4],activation='relu'))\n",
    "model.add(MaxPool2D(pool_size=(2,2)))\n",
    "model.add(Convolution2D(filters=128,kernel_size=[4,4],activation='relu'))\n",
    "model.add(MaxPool2D(pool_size=(2,2)))\n",
    "model.add(Flatten())\n",
    "model.add(Dense(128,activation='relu'))\n",
    "model.add(Dropout(rate=0.5))\n",
    "model.add(Dense(10))"
   ]
  },
  {
   "cell_type": "code",
   "execution_count": 38,
   "metadata": {},
   "outputs": [],
   "source": [
    "model.compile(optimizer='adam',\n",
    "             loss=keras.losses.CategoricalCrossentropy(from_logits=True),\n",
    "             metrics=['accuracy'])"
   ]
  },
  {
   "cell_type": "code",
   "execution_count": null,
   "metadata": {},
   "outputs": [
    {
     "name": "stdout",
     "output_type": "stream",
     "text": [
      "Train on 93200 samples\n",
      "Epoch 1/5\n",
      "93200/93200 [==============================] - 116s 1ms/sample - loss: 1.9610 - accuracy: 0.2545\n",
      "Epoch 2/5\n",
      "93200/93200 [==============================] - 113s 1ms/sample - loss: 1.7177 - accuracy: 0.3682\n",
      "Epoch 3/5\n",
      "93200/93200 [==============================] - 114s 1ms/sample - loss: 1.5760 - accuracy: 0.4326\n",
      "Epoch 4/5\n",
      "93200/93200 [==============================] - 112s 1ms/sample - loss: 1.4904 - accuracy: 0.4636\n",
      "Epoch 5/5\n",
      "93200/93200 [==============================] - 111s 1ms/sample - loss: 1.4306 - accuracy: 0.4864\n"
     ]
    }
   ],
   "source": [
    "model.fit(x_train,y_train,epochs=5)\n"
   ]
  },
  {
   "cell_type": "code",
   "execution_count": null,
   "metadata": {},
   "outputs": [],
   "source": []
  },
  {
   "cell_type": "markdown",
   "metadata": {},
   "source": [
    "### You can see as we addedd the convolution layers the accuracy got increased"
   ]
  },
  {
   "cell_type": "markdown",
   "metadata": {},
   "source": [
    "#### Lets go with some more epochs"
   ]
  },
  {
   "cell_type": "code",
   "execution_count": 16,
   "metadata": {},
   "outputs": [
    {
     "name": "stdout",
     "output_type": "stream",
     "text": [
      "Train on 50000 samples\n",
      "Epoch 1/25\n",
      "50000/50000 [==============================] - 62s 1ms/sample - loss: 1.6260 - accuracy: 0.4019\n",
      "Epoch 2/25\n",
      "50000/50000 [==============================] - 59s 1ms/sample - loss: 1.2567 - accuracy: 0.5573\n",
      "Epoch 3/25\n",
      "50000/50000 [==============================] - 60s 1ms/sample - loss: 1.0884 - accuracy: 0.6243\n",
      "Epoch 4/25\n",
      "50000/50000 [==============================] - 60s 1ms/sample - loss: 0.9748 - accuracy: 0.6663\n",
      "Epoch 5/25\n",
      "50000/50000 [==============================] - 60s 1ms/sample - loss: 0.8960 - accuracy: 0.6937\n",
      "Epoch 6/25\n",
      "50000/50000 [==============================] - 61s 1ms/sample - loss: 0.8280 - accuracy: 0.7180\n",
      "Epoch 7/25\n",
      "50000/50000 [==============================] - 60s 1ms/sample - loss: 0.7722 - accuracy: 0.7374\n",
      "Epoch 8/25\n",
      "50000/50000 [==============================] - 59s 1ms/sample - loss: 0.7151 - accuracy: 0.7559\n",
      "Epoch 9/25\n",
      "50000/50000 [==============================] - 61s 1ms/sample - loss: 0.6742 - accuracy: 0.7685\n",
      "Epoch 10/25\n",
      "50000/50000 [==============================] - 61s 1ms/sample - loss: 0.6325 - accuracy: 0.7817\n",
      "Epoch 11/25\n",
      "50000/50000 [==============================] - 60s 1ms/sample - loss: 0.5970 - accuracy: 0.7944\n",
      "Epoch 12/25\n",
      "50000/50000 [==============================] - 60s 1ms/sample - loss: 0.5640 - accuracy: 0.8066\n",
      "Epoch 13/25\n",
      "50000/50000 [==============================] - 58s 1ms/sample - loss: 0.5326 - accuracy: 0.8151\n",
      "Epoch 14/25\n",
      "50000/50000 [==============================] - 59s 1ms/sample - loss: 0.5102 - accuracy: 0.8228\n",
      "Epoch 15/25\n",
      "50000/50000 [==============================] - 57s 1ms/sample - loss: 0.4804 - accuracy: 0.8340\n",
      "Epoch 16/25\n",
      "50000/50000 [==============================] - 60s 1ms/sample - loss: 0.4571 - accuracy: 0.8405\n",
      "Epoch 17/25\n",
      "50000/50000 [==============================] - 60s 1ms/sample - loss: 0.4357 - accuracy: 0.8503\n",
      "Epoch 18/25\n",
      "50000/50000 [==============================] - 59s 1ms/sample - loss: 0.4172 - accuracy: 0.8534\n",
      "Epoch 19/25\n",
      "50000/50000 [==============================] - 60s 1ms/sample - loss: 0.4047 - accuracy: 0.8599\n",
      "Epoch 20/25\n",
      "50000/50000 [==============================] - 58s 1ms/sample - loss: 0.3803 - accuracy: 0.8688\n",
      "Epoch 21/25\n",
      "50000/50000 [==============================] - 59s 1ms/sample - loss: 0.3638 - accuracy: 0.8727\n",
      "Epoch 22/25\n",
      "50000/50000 [==============================] - 59s 1ms/sample - loss: 0.3509 - accuracy: 0.8791\n",
      "Epoch 23/25\n",
      "50000/50000 [==============================] - 59s 1ms/sample - loss: 0.3413 - accuracy: 0.8833\n",
      "Epoch 24/25\n",
      "50000/50000 [==============================] - 59s 1ms/sample - loss: 0.3196 - accuracy: 0.8885\n",
      "Epoch 25/25\n",
      "50000/50000 [==============================] - 59s 1ms/sample - loss: 0.3071 - accuracy: 0.8948\n"
     ]
    },
    {
     "data": {
      "text/plain": [
       "<tensorflow.python.keras.callbacks.History at 0x7f9c454a7b90>"
      ]
     },
     "execution_count": 16,
     "metadata": {},
     "output_type": "execute_result"
    }
   ],
   "source": [
    "model.fit(x_train,y_train,epochs=25)"
   ]
  },
  {
   "cell_type": "code",
   "execution_count": 17,
   "metadata": {},
   "outputs": [
    {
     "name": "stdout",
     "output_type": "stream",
     "text": [
      "10000/10000 [==============================] - 4s 428us/sample - loss: 1.4832 - accuracy: 0.6841\n"
     ]
    },
    {
     "data": {
      "text/plain": [
       "[1.4832357243537904, 0.6841]"
      ]
     },
     "execution_count": 17,
     "metadata": {},
     "output_type": "execute_result"
    }
   ],
   "source": [
    "model.evaluate(x_test,y_test)"
   ]
  },
  {
   "cell_type": "markdown",
   "metadata": {},
   "source": [
    "### Lets do some image data generator and again we will run the same"
   ]
  },
  {
   "cell_type": "code",
   "execution_count": 18,
   "metadata": {},
   "outputs": [],
   "source": [
    "from tensorflow.keras.preprocessing.image import ImageDataGenerator"
   ]
  },
  {
   "cell_type": "code",
   "execution_count": 20,
   "metadata": {},
   "outputs": [],
   "source": [
    "image_gen=ImageDataGenerator(rotation_range=30,\n",
    "                          width_shift_range=0.1,\n",
    "                          height_shift_range=0.1,\n",
    "                          rescale=1/255,\n",
    "                          shear_range=0.2,\n",
    "                          zoom_range=0.2,\n",
    "                          horizontal_flip=True,\n",
    "                          fill_mode='nearest')"
   ]
  },
  {
   "cell_type": "code",
   "execution_count": 30,
   "metadata": {},
   "outputs": [
    {
     "data": {
      "text/plain": [
       "<matplotlib.image.AxesImage at 0x7f9b95dadb90>"
      ]
     },
     "execution_count": 30,
     "metadata": {},
     "output_type": "execute_result"
    },
    {
     "data": {
      "image/png": "[encoded data removed]",
      "text/plain": [
       "<Figure size 432x288 with 1 Axes>"
      ]
     },
     "metadata": {
      "needs_background": "light"
     },
     "output_type": "display_data"
    }
   ],
   "source": [
    "plt.imshow(image_gen.random_transform(x_train[4356]))"
   ]
  },
  {
   "cell_type": "code",
   "execution_count": 31,
   "metadata": {},
   "outputs": [],
   "source": [
    "image_gen.fit(x_train)"
   ]
  },
  {
   "cell_type": "code",
   "execution_count": null,
   "metadata": {},
   "outputs": [],
   "source": [
    "model=keras.Sequential()\n",
    "Dense,Flatten,Convolution2D,Dropout\n",
    "model.add(Convolution2D(filters=32,kernel_size=[4,4],input_shape=(32,32,3),activation='relu'))\n",
    "model.add(MaxPool2D(pool_size=(2,2)))\n",
    "model.add(Convolution2D(filters=64,kernel_size=[4,4],activation='relu'))\n",
    "model.add(MaxPool2D(pool_size=(2,2)))\n",
    "model.add(Convolution2D(filters=128,kernel_size=[4,4],activation='relu'))\n",
    "model.add(MaxPool2D(pool_size=(2,2)))\n",
    "model.add(Flatten())\n",
    "model.add(Dense(128,activation='relu'))\n",
    "model.add(Dropout(rate=0.5))\n",
    "model.add(Dense(10))\n",
    "model.compile(optimizer='adam',\n",
    "             loss=keras.losses.CategoricalCrossentropy(from_logits=True),\n",
    "             metrics=['accuracy'])\n",
    "model.fit(image_gen.flow(x_train,y_train,batch_size=50),epochs=30)"
   ]
  },
  {
   "cell_type": "code",
   "execution_count": 33,
   "metadata": {},
   "outputs": [
    {
     "name": "stdout",
     "output_type": "stream",
     "text": [
      "10000/10000 [==============================] - 4s 368us/sample - loss: 2.3052 - accuracy: 0.0998\n"
     ]
    },
    {
     "data": {
      "text/plain": [
       "[2.305220249557495, 0.0998]"
      ]
     },
     "execution_count": 33,
     "metadata": {},
     "output_type": "execute_result"
    }
   ],
   "source": [
    "model.evaluate(x_test,y_test)"
   ]
  },
  {
   "cell_type": "markdown",
   "metadata": {},
   "source": [
    "### This is pretty bad \n",
    "### Now we will concatenate the image data generator to the input and then we will try."
   ]
  },
  {
   "cell_type": "code",
   "execution_count": null,
   "metadata": {},
   "outputs": [],
   "source": []
  },
  {
   "cell_type": "code",
   "execution_count": null,
   "metadata": {},
   "outputs": [],
   "source": []
  },
  {
   "cell_type": "code",
   "execution_count": null,
   "metadata": {},
   "outputs": [],
   "source": [
    "x_train.shape"
   ]
  },
  {
   "cell_type": "code",
   "execution_count": null,
   "metadata": {},
   "outputs": [],
   "source": []
  }
 ],
 "metadata": {
  "kernelspec": {
   "display_name": "Python 3",
   "language": "python",
   "name": "python3"
  },
  "language_info": {
   "codemirror_mode": {
    "name": "ipython",
    "version": 3
   },
   "file_extension": ".py",
   "mimetype": "text/x-python",
   "name": "python",
   "nbconvert_exporter": "python",
   "pygments_lexer": "ipython3",
   "version": "3.7.6"
  }
 },
 "nbformat": 4,
 "nbformat_minor": 4
}
