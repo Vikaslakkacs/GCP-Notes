{
 "cells": [
  {
   "cell_type": "markdown",
   "metadata": {},
   "source": [
    "### We will run CNN completely with Keras\n",
    "#### WE will pick data from keras data set\n",
    "#### Use image data generator for some data changes and apply random data"
   ]
  },
  {
   "cell_type": "code",
   "execution_count": 1,
   "metadata": {},
   "outputs": [],
   "source": [
    "import numpy as np\n",
    "import matplotlib.pyplot as plt\n",
    "import tensorflow as tf\n",
    "%matplotlib inline\n",
    "import tensorflow_datasets as tfds\n",
    "from tensorflow import keras"
   ]
  },
  {
   "cell_type": "code",
   "execution_count": 2,
   "metadata": {},
   "outputs": [],
   "source": [
    "\n",
    "cifar=keras.datasets.cifar10"
   ]
  },
  {
   "cell_type": "code",
   "execution_count": 3,
   "metadata": {},
   "outputs": [],
   "source": [
    "(x_train,y_train),(x_test,y_test)=cifar.load_data()"
   ]
  },
  {
   "cell_type": "code",
   "execution_count": 4,
   "metadata": {},
   "outputs": [
    {
     "data": {
      "text/plain": [
       "((50000, 32, 32, 3), (50000, 1))"
      ]
     },
     "execution_count": 4,
     "metadata": {},
     "output_type": "execute_result"
    }
   ],
   "source": [
    "x_train.shape,y_train.shape"
   ]
  },
  {
   "cell_type": "code",
   "execution_count": 5,
   "metadata": {},
   "outputs": [
    {
     "data": {
      "text/plain": [
       "255"
      ]
     },
     "execution_count": 5,
     "metadata": {},
     "output_type": "execute_result"
    }
   ],
   "source": [
    "x_train.max()"
   ]
  },
  {
   "cell_type": "markdown",
   "metadata": {},
   "source": [
    "### Lets do some data preprocessing\n"
   ]
  },
  {
   "cell_type": "code",
   "execution_count": 6,
   "metadata": {},
   "outputs": [],
   "source": [
    "x_train=x_train/255\n",
    "x_test=x_test/255"
   ]
  },
  {
   "cell_type": "markdown",
   "metadata": {},
   "source": [
    "### Sample data"
   ]
  },
  {
   "cell_type": "code",
   "execution_count": 7,
   "metadata": {},
   "outputs": [
    {
     "name": "stdout",
     "output_type": "stream",
     "text": [
      "[8]\n",
      "\n",
      "\n",
      "its right\n"
     ]
    },
    {
     "data": {
      "image/png": "[encoded data removed]",
      "text/plain": [
       "<Figure size 432x288 with 1 Axes>"
      ]
     },
     "metadata": {
      "needs_background": "light"
     },
     "output_type": "display_data"
    }
   ],
   "source": [
    "sample=x_train[567]\n",
    "plt.imshow(sample)\n",
    "print(y_train[567])\n",
    "print('\\n')\n",
    "print('its right')"
   ]
  },
  {
   "cell_type": "markdown",
   "metadata": {},
   "source": [
    "#### lets encode the y data"
   ]
  },
  {
   "cell_type": "code",
   "execution_count": 8,
   "metadata": {},
   "outputs": [],
   "source": [
    "y_train=tf.one_hot(y_train,depth=10)\n",
    "y_train=tfds.as_numpy(y_train)"
   ]
  },
  {
   "cell_type": "code",
   "execution_count": 9,
   "metadata": {},
   "outputs": [],
   "source": [
    "y_train=np.reshape(y_train,[-1,10])"
   ]
  },
  {
   "cell_type": "code",
   "execution_count": 10,
   "metadata": {},
   "outputs": [
    {
     "data": {
      "text/plain": [
       "(50000, 10)"
      ]
     },
     "execution_count": 10,
     "metadata": {},
     "output_type": "execute_result"
    }
   ],
   "source": [
    "y_train.shape"
   ]
  },
  {
   "cell_type": "code",
   "execution_count": 11,
   "metadata": {},
   "outputs": [],
   "source": [
    "y_test=tf.one_hot(y_test,depth=10)\n",
    "y_test=tfds.as_numpy(y_test)\n",
    "y_test=np.reshape(y_test,[-1,10])"
   ]
  },
  {
   "cell_type": "code",
   "execution_count": null,
   "metadata": {},
   "outputs": [],
   "source": []
  },
  {
   "cell_type": "markdown",
   "metadata": {},
   "source": [
    "### Now we will use Keras model witout Image data generator."
   ]
  },
  {
   "cell_type": "code",
   "execution_count": 24,
   "metadata": {},
   "outputs": [],
   "source": [
    "from tensorflow.keras.layers import Dense,Flatten,Convolution2D,Dropout,MaxPool2D"
   ]
  },
  {
   "cell_type": "code",
   "execution_count": 13,
   "metadata": {},
   "outputs": [],
   "source": [
    "model=keras.Sequential()"
   ]
  },
  {
   "cell_type": "markdown",
   "metadata": {},
   "source": [
    "#### add some layers"
   ]
  },
  {
   "cell_type": "code",
   "execution_count": 14,
   "metadata": {},
   "outputs": [],
   "source": [
    "model.add(Flatten(input_shape=(32,32,3)))\n",
    "model.add(Dense(128,activation='relu'))\n",
    "model.add(Dense(10))"
   ]
  },
  {
   "cell_type": "markdown",
   "metadata": {},
   "source": [
    "### Now lets compile the model\n"
   ]
  },
  {
   "cell_type": "code",
   "execution_count": 19,
   "metadata": {},
   "outputs": [],
   "source": [
    "model.compile(optimizer='adam',\n",
    "                loss=tf.keras.losses.CategoricalCrossentropy(from_logits=True),\n",
    "             metrics=['accuracy'])"
   ]
  },
  {
   "cell_type": "code",
   "execution_count": 20,
   "metadata": {},
   "outputs": [
    {
     "data": {
      "text/plain": [
       "(50000, 10)"
      ]
     },
     "execution_count": 20,
     "metadata": {},
     "output_type": "execute_result"
    }
   ],
   "source": [
    "y_train.shape"
   ]
  },
  {
   "cell_type": "markdown",
   "metadata": {},
   "source": [
    "### Lets train the model"
   ]
  },
  {
   "cell_type": "code",
   "execution_count": 21,
   "metadata": {
    "scrolled": true
   },
   "outputs": [
    {
     "name": "stdout",
     "output_type": "stream",
     "text": [
      "Train on 50000 samples\n",
      "Epoch 1/10\n",
      "50000/50000 [==============================] - 14s 281us/sample - loss: 1.9008 - accuracy: 0.3140\n",
      "Epoch 2/10\n",
      "50000/50000 [==============================] - 19s 376us/sample - loss: 1.7479 - accuracy: 0.3753\n",
      "Epoch 3/10\n",
      "50000/50000 [==============================] - 26s 528us/sample - loss: 1.6939 - accuracy: 0.3966\n",
      "Epoch 4/10\n",
      "50000/50000 [==============================] - 16s 316us/sample - loss: 1.6610 - accuracy: 0.4073\n",
      "Epoch 5/10\n",
      "50000/50000 [==============================] - 18s 367us/sample - loss: 1.6365 - accuracy: 0.4155\n",
      "Epoch 6/10\n",
      "50000/50000 [==============================] - 17s 346us/sample - loss: 1.6189 - accuracy: 0.4227\n",
      "Epoch 7/10\n",
      "50000/50000 [==============================] - 19s 373us/sample - loss: 1.6109 - accuracy: 0.4240\n",
      "Epoch 8/10\n",
      "50000/50000 [==============================] - 18s 358us/sample - loss: 1.5993 - accuracy: 0.4274\n",
      "Epoch 9/10\n",
      "50000/50000 [==============================] - 15s 297us/sample - loss: 1.5943 - accuracy: 0.4305\n",
      "Epoch 10/10\n",
      "50000/50000 [==============================] - 15s 304us/sample - loss: 1.5831 - accuracy: 0.4352\n"
     ]
    },
    {
     "data": {
      "text/plain": [
       "<tensorflow.python.keras.callbacks.History at 0x7fe25501a110>"
      ]
     },
     "execution_count": 21,
     "metadata": {},
     "output_type": "execute_result"
    }
   ],
   "source": [
    "model.fit(x_train,y_train,epochs=10)"
   ]
  },
  {
   "cell_type": "markdown",
   "metadata": {},
   "source": [
    "### We see the accuracy is bit low.\n",
    "#### Lets try for some more epochs"
   ]
  },
  {
   "cell_type": "code",
   "execution_count": 22,
   "metadata": {
    "scrolled": true
   },
   "outputs": [
    {
     "name": "stdout",
     "output_type": "stream",
     "text": [
      "Train on 50000 samples\n",
      "Epoch 1/25\n",
      "50000/50000 [==============================] - 12s 244us/sample - loss: 1.5759 - accuracy: 0.4372\n",
      "Epoch 2/25\n",
      "50000/50000 [==============================] - 10s 210us/sample - loss: 1.5699 - accuracy: 0.4384\n",
      "Epoch 3/25\n",
      "50000/50000 [==============================] - 18s 351us/sample - loss: 1.5631 - accuracy: 0.4386\n",
      "Epoch 4/25\n",
      "50000/50000 [==============================] - 16s 317us/sample - loss: 1.5592 - accuracy: 0.4427\n",
      "Epoch 5/25\n",
      "50000/50000 [==============================] - 14s 284us/sample - loss: 1.5582 - accuracy: 0.4425\n",
      "Epoch 6/25\n",
      "50000/50000 [==============================] - 16s 318us/sample - loss: 1.5477 - accuracy: 0.4468\n",
      "Epoch 7/25\n",
      "50000/50000 [==============================] - 20s 397us/sample - loss: 1.5461 - accuracy: 0.4475\n",
      "Epoch 8/25\n",
      "50000/50000 [==============================] - 16s 318us/sample - loss: 1.5379 - accuracy: 0.4505\n",
      "Epoch 9/25\n",
      "50000/50000 [==============================] - 16s 321us/sample - loss: 1.5334 - accuracy: 0.4493\n",
      "Epoch 10/25\n",
      "50000/50000 [==============================] - 15s 304us/sample - loss: 1.5290 - accuracy: 0.4533\n",
      "Epoch 11/25\n",
      "50000/50000 [==============================] - 17s 334us/sample - loss: 1.5261 - accuracy: 0.4532\n",
      "Epoch 12/25\n",
      "50000/50000 [==============================] - 17s 333us/sample - loss: 1.5282 - accuracy: 0.4538\n",
      "Epoch 13/25\n",
      "50000/50000 [==============================] - 15s 291us/sample - loss: 1.5209 - accuracy: 0.4567\n",
      "Epoch 14/25\n",
      "50000/50000 [==============================] - 11s 218us/sample - loss: 1.5218 - accuracy: 0.4562\n",
      "Epoch 15/25\n",
      "50000/50000 [==============================] - 11s 229us/sample - loss: 1.5166 - accuracy: 0.4568\n",
      "Epoch 16/25\n",
      "50000/50000 [==============================] - 16s 315us/sample - loss: 1.5165 - accuracy: 0.4586\n",
      "Epoch 17/25\n",
      "50000/50000 [==============================] - 16s 318us/sample - loss: 1.5103 - accuracy: 0.4602\n",
      "Epoch 18/25\n",
      "50000/50000 [==============================] - 15s 309us/sample - loss: 1.5075 - accuracy: 0.4622\n",
      "Epoch 19/25\n",
      "50000/50000 [==============================] - 18s 354us/sample - loss: 1.5058 - accuracy: 0.4601\n",
      "Epoch 20/25\n",
      "50000/50000 [==============================] - 16s 314us/sample - loss: 1.5009 - accuracy: 0.4626\n",
      "Epoch 21/25\n",
      "50000/50000 [==============================] - 11s 228us/sample - loss: 1.5023 - accuracy: 0.4639\n",
      "Epoch 22/25\n",
      "50000/50000 [==============================] - 14s 280us/sample - loss: 1.5014 - accuracy: 0.4618\n",
      "Epoch 23/25\n",
      "50000/50000 [==============================] - 15s 300us/sample - loss: 1.4974 - accuracy: 0.4659\n",
      "Epoch 24/25\n",
      "50000/50000 [==============================] - 21s 419us/sample - loss: 1.4958 - accuracy: 0.4650\n",
      "Epoch 25/25\n",
      "50000/50000 [==============================] - 22s 434us/sample - loss: 1.4929 - accuracy: 0.4672\n"
     ]
    },
    {
     "data": {
      "text/plain": [
       "<tensorflow.python.keras.callbacks.History at 0x7fe254e38950>"
      ]
     },
     "execution_count": 22,
     "metadata": {},
     "output_type": "execute_result"
    }
   ],
   "source": [
    "model.fit(x_train,y_train,epochs=25)"
   ]
  },
  {
   "cell_type": "markdown",
   "metadata": {},
   "source": [
    "#### It is the same\n",
    "#### now we will add some convolution layers to it and try."
   ]
  },
  {
   "cell_type": "code",
   "execution_count": 26,
   "metadata": {},
   "outputs": [],
   "source": [
    "model=keras.Sequential()\n",
    "Dense,Flatten,Convolution2D,Dropout\n",
    "model.add(Convolution2D(filters=32,kernel_size=[4,4],input_shape=(32,32,3),activation='relu'))\n",
    "model.add(MaxPool2D(pool_size=(2,2)))\n",
    "model.add(Convolution2D(filters=64,kernel_size=[4,4],activation='relu'))\n",
    "model.add(MaxPool2D(pool_size=(2,2)))\n",
    "model.add(Convolution2D(filters=128,kernel_size=[4,4],activation='relu'))\n",
    "model.add(MaxPool2D(pool_size=(2,2)))\n",
    "model.add(Flatten())\n",
    "model.add(Dense(128,activation='relu'))\n",
    "model.add(Dropout(rate=0.5))\n",
    "model.add(Dense(10))"
   ]
  },
  {
   "cell_type": "code",
   "execution_count": 27,
   "metadata": {},
   "outputs": [],
   "source": [
    "model.compile(optimizer='adam',\n",
    "             loss=keras.losses.CategoricalCrossentropy(from_logits=True),\n",
    "             metrics=['accuracy'])"
   ]
  },
  {
   "cell_type": "code",
   "execution_count": 28,
   "metadata": {},
   "outputs": [
    {
     "name": "stdout",
     "output_type": "stream",
     "text": [
      "Train on 50000 samples\n",
      "Epoch 1/10\n",
      "50000/50000 [==============================] - 41s 828us/sample - loss: 1.6520 - accuracy: 0.3918\n",
      "Epoch 2/10\n",
      "50000/50000 [==============================] - 42s 849us/sample - loss: 1.2929 - accuracy: 0.5400\n",
      "Epoch 3/10\n",
      "50000/50000 [==============================] - 47s 942us/sample - loss: 1.1380 - accuracy: 0.6044\n",
      "Epoch 4/10\n",
      "50000/50000 [==============================] - 44s 876us/sample - loss: 1.0276 - accuracy: 0.6445\n",
      "Epoch 5/10\n",
      "50000/50000 [==============================] - 41s 822us/sample - loss: 0.9458 - accuracy: 0.6735\n",
      "Epoch 6/10\n",
      "50000/50000 [==============================] - 40s 805us/sample - loss: 0.8809 - accuracy: 0.6967\n",
      "Epoch 7/10\n",
      "50000/50000 [==============================] - 41s 821us/sample - loss: 0.8215 - accuracy: 0.7175\n",
      "Epoch 8/10\n",
      "50000/50000 [==============================] - 41s 812us/sample - loss: 0.7768 - accuracy: 0.7329\n",
      "Epoch 9/10\n",
      "50000/50000 [==============================] - 40s 809us/sample - loss: 0.7372 - accuracy: 0.7462\n",
      "Epoch 10/10\n",
      "50000/50000 [==============================] - 42s 841us/sample - loss: 0.6933 - accuracy: 0.7605\n"
     ]
    },
    {
     "data": {
      "text/plain": [
       "<tensorflow.python.keras.callbacks.History at 0x7fe24c5a1850>"
      ]
     },
     "execution_count": 28,
     "metadata": {},
     "output_type": "execute_result"
    }
   ],
   "source": [
    "model.fit(x_train,y_train,epochs=10)"
   ]
  },
  {
   "cell_type": "markdown",
   "metadata": {},
   "source": [
    "### You can see as we addedd the convolution layers the accuracy got increased"
   ]
  },
  {
   "cell_type": "markdown",
   "metadata": {},
   "source": [
    "#### Lets go with some more epochs"
   ]
  },
  {
   "cell_type": "code",
   "execution_count": 29,
   "metadata": {},
   "outputs": [
    {
     "name": "stdout",
     "output_type": "stream",
     "text": [
      "Train on 50000 samples\n",
      "Epoch 1/25\n",
      "50000/50000 [==============================] - 45s 900us/sample - loss: 0.6627 - accuracy: 0.7688\n",
      "Epoch 2/25\n",
      "50000/50000 [==============================] - 45s 897us/sample - loss: 0.6258 - accuracy: 0.7840\n",
      "Epoch 3/25\n",
      "50000/50000 [==============================] - 45s 906us/sample - loss: 0.5967 - accuracy: 0.7915\n",
      "Epoch 4/25\n",
      "50000/50000 [==============================] - 46s 914us/sample - loss: 0.5677 - accuracy: 0.8023\n",
      "Epoch 5/25\n",
      "50000/50000 [==============================] - 46s 918us/sample - loss: 0.5405 - accuracy: 0.8105\n",
      "Epoch 6/25\n",
      "50000/50000 [==============================] - 45s 890us/sample - loss: 0.5168 - accuracy: 0.8209\n",
      "Epoch 7/25\n",
      "50000/50000 [==============================] - 46s 914us/sample - loss: 0.4998 - accuracy: 0.8259\n",
      "Epoch 8/25\n",
      "50000/50000 [==============================] - 45s 905us/sample - loss: 0.4799 - accuracy: 0.8306\n",
      "Epoch 9/25\n",
      "50000/50000 [==============================] - 46s 916us/sample - loss: 0.4548 - accuracy: 0.8408\n",
      "Epoch 10/25\n",
      "50000/50000 [==============================] - 46s 924us/sample - loss: 0.4392 - accuracy: 0.8453\n",
      "Epoch 11/25\n",
      "50000/50000 [==============================] - 46s 925us/sample - loss: 0.4254 - accuracy: 0.8499\n",
      "Epoch 12/25\n",
      "50000/50000 [==============================] - 44s 887us/sample - loss: 0.4105 - accuracy: 0.8551\n",
      "Epoch 13/25\n",
      "50000/50000 [==============================] - 46s 912us/sample - loss: 0.3874 - accuracy: 0.8628\n",
      "Epoch 14/25\n",
      "50000/50000 [==============================] - 46s 914us/sample - loss: 0.3791 - accuracy: 0.8658\n",
      "Epoch 15/25\n",
      "50000/50000 [==============================] - 42s 847us/sample - loss: 0.3636 - accuracy: 0.8723\n",
      "Epoch 16/25\n",
      "50000/50000 [==============================] - 46s 921us/sample - loss: 0.3586 - accuracy: 0.8721\n",
      "Epoch 17/25\n",
      "50000/50000 [==============================] - 46s 921us/sample - loss: 0.3444 - accuracy: 0.8791\n",
      "Epoch 18/25\n",
      "50000/50000 [==============================] - 42s 846us/sample - loss: 0.3353 - accuracy: 0.8822\n",
      "Epoch 19/25\n",
      "50000/50000 [==============================] - 44s 873us/sample - loss: 0.3216 - accuracy: 0.8878\n",
      "Epoch 20/25\n",
      "50000/50000 [==============================] - 43s 867us/sample - loss: 0.3146 - accuracy: 0.8894\n",
      "Epoch 21/25\n",
      "50000/50000 [==============================] - 43s 865us/sample - loss: 0.3065 - accuracy: 0.8926\n",
      "Epoch 22/25\n",
      "50000/50000 [==============================] - 47s 937us/sample - loss: 0.2971 - accuracy: 0.8972\n",
      "Epoch 23/25\n",
      "50000/50000 [==============================] - 46s 925us/sample - loss: 0.2870 - accuracy: 0.9005\n",
      "Epoch 24/25\n",
      "50000/50000 [==============================] - 46s 917us/sample - loss: 0.2840 - accuracy: 0.9008\n",
      "Epoch 25/25\n",
      "50000/50000 [==============================] - 46s 910us/sample - loss: 0.2765 - accuracy: 0.9042\n"
     ]
    },
    {
     "data": {
      "text/plain": [
       "<tensorflow.python.keras.callbacks.History at 0x7fe255d7ffd0>"
      ]
     },
     "execution_count": 29,
     "metadata": {},
     "output_type": "execute_result"
    }
   ],
   "source": [
    "model.fit(x_train,y_train,epochs=25)"
   ]
  },
  {
   "cell_type": "code",
   "execution_count": null,
   "metadata": {},
   "outputs": [],
   "source": []
  }
 ],
 "metadata": {
  "kernelspec": {
   "display_name": "Python 3",
   "language": "python",
   "name": "python3"
  },
  "language_info": {
   "codemirror_mode": {
    "name": "ipython",
    "version": 3
   },
   "file_extension": ".py",
   "mimetype": "text/x-python",
   "name": "python",
   "nbconvert_exporter": "python",
   "pygments_lexer": "ipython3",
   "version": "3.7.6"
  }
 },
 "nbformat": 4,
 "nbformat_minor": 4
}
