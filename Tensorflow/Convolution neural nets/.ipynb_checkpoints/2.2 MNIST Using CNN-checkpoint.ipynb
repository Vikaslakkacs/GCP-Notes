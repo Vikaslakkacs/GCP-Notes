{
 "cells": [
  {
   "cell_type": "code",
   "execution_count": 1,
   "metadata": {},
   "outputs": [],
   "source": [
    "import numpy as np\n",
    "import matplotlib.pyplot as plt\n",
    "%matplotlib inline\n",
    "import tensorflow as tf\n",
    "import tensorflow_datasets as tfds"
   ]
  },
  {
   "cell_type": "code",
   "execution_count": 2,
   "metadata": {},
   "outputs": [],
   "source": [
    "mnist=tfds.load('mnist',split=tfds.Split.TRAIN)\n",
    "mnist_numpy=tfds.as_numpy(mnist)\n",
    "mnist_list=list(mnist_numpy)\n",
    "x_data,y_data=[],[]\n",
    "for example in mnist_list:\n",
    "    x_data.append(example['image'])\n",
    "    y_data.append(example['label'])\n",
    "x_train=np.asarray(x_data,dtype=np.float32)\n",
    "y_data=np.asarray(y_data,dtype=np.int32)\n",
    "y_train=tf.one_hot(y_data,depth=10)\n",
    "y_train=np.asarray(y_train,dtype=np.float32)\n",
    "    "
   ]
  },
  {
   "cell_type": "code",
   "execution_count": 3,
   "metadata": {},
   "outputs": [],
   "source": [
    "mnist=tfds.load('mnist',split=tfds.Split.TEST)\n",
    "mnist_numpy=tfds.as_numpy(mnist)\n",
    "mnist_list=list(mnist_numpy)\n",
    "x_data,y_data=[],[]\n",
    "for example in mnist_list:\n",
    "    x_data.append(example['image'])\n",
    "    y_data.append(example['label'])\n",
    "x_test=np.asarray(x_data,dtype=np.float32)\n",
    "y_data=np.asarray(y_data,dtype=np.int32)\n",
    "y_test=tf.one_hot(y_data,depth=10)\n",
    "y_test=np.asarray(y_test,dtype=np.float32)\n",
    "  "
   ]
  },
  {
   "cell_type": "code",
   "execution_count": 4,
   "metadata": {},
   "outputs": [
    {
     "data": {
      "text/plain": [
       "(60000, 28, 28, 1)"
      ]
     },
     "execution_count": 4,
     "metadata": {},
     "output_type": "execute_result"
    }
   ],
   "source": [
    "x_train.shape"
   ]
  },
  {
   "cell_type": "code",
   "execution_count": 5,
   "metadata": {},
   "outputs": [],
   "source": [
    "sample=np.reshape(x_train[345],(28,28))"
   ]
  },
  {
   "cell_type": "code",
   "execution_count": 6,
   "metadata": {},
   "outputs": [
    {
     "data": {
      "text/plain": [
       "<matplotlib.image.AxesImage at 0x7ffa2825bcd0>"
      ]
     },
     "execution_count": 6,
     "metadata": {},
     "output_type": "execute_result"
    },
    {
     "data": {
      "image/png": "[encoded data removed]",
      "text/plain": [
       "<Figure size 432x288 with 1 Axes>"
      ]
     },
     "metadata": {
      "needs_background": "light"
     },
     "output_type": "display_data"
    }
   ],
   "source": [
    "plt.imshow(sample,cmap='gray')"
   ]
  },
  {
   "cell_type": "code",
   "execution_count": 7,
   "metadata": {},
   "outputs": [
    {
     "data": {
      "text/plain": [
       "array([0., 1., 0., 0., 0., 0., 0., 0., 0., 0.], dtype=float32)"
      ]
     },
     "execution_count": 7,
     "metadata": {},
     "output_type": "execute_result"
    }
   ],
   "source": [
    "y_train[345]"
   ]
  },
  {
   "cell_type": "code",
   "execution_count": 8,
   "metadata": {},
   "outputs": [],
   "source": [
    "def init_weights(shape):\n",
    "    init_weight_vals=tf.compat.v1.truncated_normal(shape,stddev=0.1)\n",
    "    return tf.Variable(init_weight_vals)"
   ]
  },
  {
   "cell_type": "code",
   "execution_count": 9,
   "metadata": {},
   "outputs": [],
   "source": [
    "def init_bias(shape):\n",
    "    init_bias_vals=tf.constant(0.1,dtype=tf.float32,shape=shape)\n",
    "    return tf.Variable(init_bias_vals)"
   ]
  },
  {
   "cell_type": "code",
   "execution_count": 10,
   "metadata": {},
   "outputs": [],
   "source": [
    "def con2d(input_x,w):\n",
    "    return tf.nn.conv2d(input_x,w,strides=[1,1,1,1],padding='SAME')"
   ]
  },
  {
   "cell_type": "code",
   "execution_count": 11,
   "metadata": {},
   "outputs": [],
   "source": [
    "def pooling_max2by2(input_x):\n",
    "    return tf.nn.max_pool2d(input_x,ksize=[1,2,2,1],strides=[1,2,2,1],padding='SAME')"
   ]
  },
  {
   "cell_type": "code",
   "execution_count": 12,
   "metadata": {},
   "outputs": [],
   "source": [
    "def convolution_layer(input_x,shape):\n",
    "    weights=init_weights(shape)\n",
    "    bias=init_bias([shape[3]])\n",
    "    return tf.nn.relu(con2d(input_x,weights)+bias)"
   ]
  },
  {
   "cell_type": "code",
   "execution_count": 13,
   "metadata": {},
   "outputs": [],
   "source": [
    "def normal_full_layer(input_x,size):\n",
    "    input_size=input_x.get_shape()[1]\n",
    "    weights=init_weights([input_size,size])\n",
    "    bias=init_bias([size])\n",
    "    return tf.matmul(input_x,weights)+bias"
   ]
  },
  {
   "cell_type": "code",
   "execution_count": 14,
   "metadata": {},
   "outputs": [],
   "source": [
    "tf.compat.v1.disable_eager_execution()"
   ]
  },
  {
   "cell_type": "code",
   "execution_count": 29,
   "metadata": {},
   "outputs": [],
   "source": [
    "init=tf.compat.v1.global_variables_initializer()"
   ]
  },
  {
   "cell_type": "code",
   "execution_count": 16,
   "metadata": {},
   "outputs": [],
   "source": [
    "x=tf.compat.v1.placeholder(tf.float32,shape=[None,784])\n",
    "y=tf.compat.v1.placeholder(tf.float32,shape=[None,10])\n",
    "hold_ptob=tf.compat.v1.placeholder(tf.float32)"
   ]
  },
  {
   "cell_type": "code",
   "execution_count": 17,
   "metadata": {},
   "outputs": [],
   "source": [
    "x_image=tf.reshape(x,shape=[-1,28,28,1])"
   ]
  },
  {
   "cell_type": "code",
   "execution_count": 18,
   "metadata": {},
   "outputs": [
    {
     "name": "stdout",
     "output_type": "stream",
     "text": [
      "WARNING:tensorflow:From /opt/conda/lib/python3.7/site-packages/tensorflow_core/python/ops/resource_variable_ops.py:1635: calling BaseResourceVariable.__init__ (from tensorflow.python.ops.resource_variable_ops) with constraint is deprecated and will be removed in a future version.\n",
      "Instructions for updating:\n",
      "If using Keras pass *_constraint arguments to layers.\n"
     ]
    },
    {
     "name": "stderr",
     "output_type": "stream",
     "text": [
      "WARNING:tensorflow:From /opt/conda/lib/python3.7/site-packages/tensorflow_core/python/ops/resource_variable_ops.py:1635: calling BaseResourceVariable.__init__ (from tensorflow.python.ops.resource_variable_ops) with constraint is deprecated and will be removed in a future version.\n",
      "Instructions for updating:\n",
      "If using Keras pass *_constraint arguments to layers.\n"
     ]
    }
   ],
   "source": [
    "convo_1=convolution_layer(x_image,[5,5,1,32])\n",
    "convo_1_max=pooling_max2by2(convo_1)"
   ]
  },
  {
   "cell_type": "code",
   "execution_count": 19,
   "metadata": {},
   "outputs": [],
   "source": [
    "convo_2=convolution_layer(convo_1_max,[5,5,32,64])"
   ]
  },
  {
   "cell_type": "code",
   "execution_count": 20,
   "metadata": {},
   "outputs": [],
   "source": [
    "convo_2_max=pooling_max2by2(convo_2)"
   ]
  },
  {
   "cell_type": "code",
   "execution_count": 21,
   "metadata": {},
   "outputs": [],
   "source": [
    "convo_2_flatten=tf.reshape(convo_2_max,shape=[-1,7*7*64])\n",
    "fully_connect=tf.nn.relu(normal_full_layer(convo_2_flatten,1024))"
   ]
  },
  {
   "cell_type": "code",
   "execution_count": 22,
   "metadata": {},
   "outputs": [],
   "source": [
    "drop_out=tf.nn.dropout(fully_connect,rate=0.5)\n",
    "y_pred=normal_full_layer(drop_out,10)"
   ]
  },
  {
   "cell_type": "code",
   "execution_count": 23,
   "metadata": {},
   "outputs": [],
   "source": [
    "cross_entropy=tf.reduce_mean(tf.nn.softmax_cross_entropy_with_logits(labels=y,logits=y_pred))"
   ]
  },
  {
   "cell_type": "code",
   "execution_count": 24,
   "metadata": {},
   "outputs": [],
   "source": [
    "optimizer=tf.compat.v1.train.AdamOptimizer(learning_rate=0.01)\n",
    "train=optimizer.minimize(cross_entropy)"
   ]
  },
  {
   "cell_type": "code",
   "execution_count": null,
   "metadata": {},
   "outputs": [],
   "source": [
    "  "
   ]
  },
  {
   "cell_type": "code",
   "execution_count": null,
   "metadata": {},
   "outputs": [],
   "source": []
  },
  {
   "cell_type": "code",
   "execution_count": 30,
   "metadata": {},
   "outputs": [
    {
     "name": "stdout",
     "output_type": "stream",
     "text": [
      "Step:0\n",
      "Accuracy: \n",
      "0.1248\n",
      "Step:5\n",
      "Accuracy: \n",
      "0.2407\n",
      "Step:10\n",
      "Accuracy: \n",
      "0.1233\n",
      "Step:15\n",
      "Accuracy: \n",
      "0.0981\n",
      "Step:20\n",
      "Accuracy: \n",
      "0.0994\n",
      "Step:25\n",
      "Accuracy: \n",
      "0.1007\n",
      "Step:30\n",
      "Accuracy: \n",
      "0.1077\n",
      "Step:35\n",
      "Accuracy: \n",
      "0.1107\n",
      "Step:40\n",
      "Accuracy: \n",
      "0.1144\n",
      "Step:45\n",
      "Accuracy: \n",
      "0.1142\n"
     ]
    }
   ],
   "source": [
    "with tf.compat.v1.Session() as sess:\n",
    "    sess.run(init)\n",
    "    batch=50\n",
    "    for i in range(batch):\n",
    "        rand_int=np.random.randint(len(x_train),size=50)\n",
    "        sess.run(train,feed_dict={x_image:x_train[rand_int],y:y_train[rand_int],hold_ptob:0.5})\n",
    "        if i %5==0:\n",
    "            print('Step:{}'.format(i))\n",
    "            print('Accuracy: ')\n",
    "            \n",
    "            matches=tf.equal(tf.argmax(y,1),tf.argmax(y_pred,1))\n",
    "            acc=tf.reduce_mean(tf.cast(matches,dtype=tf.float32))\n",
    "            print(sess.run(acc,feed_dict={x_image:x_test,y:y_test,hold_ptob:1.0}))"
   ]
  },
  {
   "cell_type": "code",
   "execution_count": null,
   "metadata": {},
   "outputs": [],
   "source": []
  }
 ],
 "metadata": {
  "kernelspec": {
   "display_name": "Python 3",
   "language": "python",
   "name": "python3"
  },
  "language_info": {
   "codemirror_mode": {
    "name": "ipython",
    "version": 3
   },
   "file_extension": ".py",
   "mimetype": "text/x-python",
   "name": "python",
   "nbconvert_exporter": "python",
   "pygments_lexer": "ipython3",
   "version": "3.7.6"
  }
 },
 "nbformat": 4,
 "nbformat_minor": 4
}
