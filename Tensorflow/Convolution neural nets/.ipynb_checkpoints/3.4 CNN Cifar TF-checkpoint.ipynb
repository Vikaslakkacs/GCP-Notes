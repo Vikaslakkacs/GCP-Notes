{
 "cells": [
  {
   "cell_type": "markdown",
   "metadata": {},
   "source": [
    "### We will write some updated code using Tf for cifar\n",
    "#### We will load data from Keras anyways it is the same"
   ]
  },
  {
   "cell_type": "code",
   "execution_count": 36,
   "metadata": {},
   "outputs": [],
   "source": [
    "import numpy as np\n",
    "import matplotlib.pyplot as plt\n",
    "%matplotlib inline\n",
    "import tensorflow as tf\n",
    "import tensorflow_datasets as tfds\n",
    "from tensorflow.keras.datasets import cifar10 as cifar"
   ]
  },
  {
   "cell_type": "code",
   "execution_count": 37,
   "metadata": {},
   "outputs": [],
   "source": [
    "(x_train,y_train),(x_test,y_test)=cifar.load_data()"
   ]
  },
  {
   "cell_type": "code",
   "execution_count": 38,
   "metadata": {},
   "outputs": [
    {
     "data": {
      "text/plain": [
       "((50000, 32, 32, 3), (50000, 1))"
      ]
     },
     "execution_count": 38,
     "metadata": {},
     "output_type": "execute_result"
    }
   ],
   "source": [
    "x_train.shape,y_train.shape"
   ]
  },
  {
   "cell_type": "code",
   "execution_count": 39,
   "metadata": {},
   "outputs": [],
   "source": [
    "y_train=tf.one_hot(y_train,depth=10)\n",
    "y_train=tfds.as_numpy(y_train)"
   ]
  },
  {
   "cell_type": "code",
   "execution_count": 40,
   "metadata": {},
   "outputs": [],
   "source": [
    "y_train=np.reshape(y_train,(-1,10))"
   ]
  },
  {
   "cell_type": "code",
   "execution_count": 41,
   "metadata": {},
   "outputs": [
    {
     "data": {
      "text/plain": [
       "(50000, 10)"
      ]
     },
     "execution_count": 41,
     "metadata": {},
     "output_type": "execute_result"
    }
   ],
   "source": [
    "y_train.shape"
   ]
  },
  {
   "cell_type": "code",
   "execution_count": 42,
   "metadata": {},
   "outputs": [],
   "source": [
    "y_test=tf.one_hot(y_test,depth=10)\n",
    "y_test=tfds.as_numpy(y_test)\n",
    "y_test=np.reshape(y_test,(-1,10))"
   ]
  },
  {
   "cell_type": "code",
   "execution_count": 43,
   "metadata": {},
   "outputs": [
    {
     "data": {
      "text/plain": [
       "(10000, 10)"
      ]
     },
     "execution_count": 43,
     "metadata": {},
     "output_type": "execute_result"
    }
   ],
   "source": [
    "y_test.shape"
   ]
  },
  {
   "cell_type": "code",
   "execution_count": 44,
   "metadata": {},
   "outputs": [
    {
     "name": "stdout",
     "output_type": "stream",
     "text": [
      "[0. 0. 1. 0. 0. 0. 0. 0. 0. 0.]\n"
     ]
    },
    {
     "data": {
      "image/png": "[encoded data removed]",
      "text/plain": [
       "<Figure size 432x288 with 1 Axes>"
      ]
     },
     "metadata": {
      "needs_background": "light"
     },
     "output_type": "display_data"
    }
   ],
   "source": [
    "sample=x_train[2343]\n",
    "plt.imshow(sample)\n",
    "print(y_train[2343])"
   ]
  },
  {
   "cell_type": "markdown",
   "metadata": {},
   "source": [
    "### its a bird yes!!"
   ]
  },
  {
   "cell_type": "markdown",
   "metadata": {},
   "source": [
    "#### Data preprocessing"
   ]
  },
  {
   "cell_type": "code",
   "execution_count": 45,
   "metadata": {},
   "outputs": [
    {
     "data": {
      "text/plain": [
       "255"
      ]
     },
     "execution_count": 45,
     "metadata": {},
     "output_type": "execute_result"
    }
   ],
   "source": [
    "x_train.max()"
   ]
  },
  {
   "cell_type": "code",
   "execution_count": 46,
   "metadata": {},
   "outputs": [],
   "source": [
    "x_train=x_train/255\n",
    "x_test=x_test/255"
   ]
  },
  {
   "cell_type": "code",
   "execution_count": 47,
   "metadata": {},
   "outputs": [
    {
     "data": {
      "text/plain": [
       "dtype('float64')"
      ]
     },
     "execution_count": 47,
     "metadata": {},
     "output_type": "execute_result"
    }
   ],
   "source": [
    "x_train.dtype"
   ]
  },
  {
   "cell_type": "markdown",
   "metadata": {},
   "source": [
    "### lets start creating model"
   ]
  },
  {
   "cell_type": "code",
   "execution_count": 48,
   "metadata": {},
   "outputs": [],
   "source": [
    "def init_weights(input_shape):\n",
    "    weight_vals=tf.compat.v1.truncated_normal(input_shape,stddev=0.1)\n",
    "    return tf.Variable(weight_vals)\n",
    "def init_bias(size):\n",
    "    bias_vals=tf.constant(0.1,shape=size)\n",
    "    return tf.Variable(bias_vals)\n",
    "def con2d(input_data,filters):\n",
    "    return tf.nn.conv2d(input_data,filters=filters,strides=[1,2,2,1],padding='SAME')\n",
    "def convolution_layer(input_data,shape):\n",
    "    weight=init_weights(shape)\n",
    "    bias=init_bias([shape[3]])\n",
    "    return tf.nn.relu(con2d(input_data,weight)+bias)\n",
    "def max_pool2by2(input_data):\n",
    "    return tf.nn.relu(tf.nn.max_pool2d(input_data,ksize=[1,2,2,1],strides=[1,2,2,1],padding='SAME'))\n",
    "def normal_full_layer(input_data,size):\n",
    "    input_size=input_data.get_shape()[1]\n",
    "    print(input_data.get_shape())\n",
    "    weight=init_weights([input_size,size])\n",
    "    bias=init_bias([size])\n",
    "    return tf.matmul(input_data,weight)+bias\n",
    "def drop_out(input_data,rate):\n",
    "    return tf.nn.dropout(input_data,rate=rate)"
   ]
  },
  {
   "cell_type": "code",
   "execution_count": 49,
   "metadata": {},
   "outputs": [],
   "source": [
    "tf.compat.v1.disable_eager_execution()"
   ]
  },
  {
   "cell_type": "code",
   "execution_count": 50,
   "metadata": {},
   "outputs": [],
   "source": [
    "x=tf.compat.v1.placeholder(tf.float32,shape=[None,3072])\n",
    "x_image=tf.reshape(x,shape=[-1,32,32,3])\n",
    "y_image=tf.compat.v1.placeholder(tf.float32,shape=[None,10])\n",
    "hold_prob=tf.compat.v1.placeholder(tf.float32)"
   ]
  },
  {
   "cell_type": "code",
   "execution_count": 51,
   "metadata": {},
   "outputs": [
    {
     "data": {
      "text/plain": [
       "<tf.Tensor 'Reshape_4:0' shape=(None, 32, 32, 3) dtype=float32>"
      ]
     },
     "execution_count": 51,
     "metadata": {},
     "output_type": "execute_result"
    }
   ],
   "source": [
    "x_image"
   ]
  },
  {
   "cell_type": "code",
   "execution_count": 52,
   "metadata": {},
   "outputs": [
    {
     "name": "stdout",
     "output_type": "stream",
     "text": [
      "(None, 256)\n",
      "(None, 1024)\n",
      "(None, 2048)\n"
     ]
    }
   ],
   "source": [
    "conv_1=convolution_layer(x_image,[2,2,3,32])\n",
    "maxpool_1=max_pool2by2(conv_1)\n",
    "conv_2=convolution_layer(maxpool_1,[2,2,32,64])\n",
    "maxpool_2=max_pool2by2(conv_2)\n",
    "drop_1=drop_out(maxpool_2,hold_prob)\n",
    "conv_3=convolution_layer(drop_1,[2,2,64,128])\n",
    "maxpool_3=max_pool2by2(conv_3)\n",
    "conv_4=convolution_layer(maxpool_3,[2,2,128,256])\n",
    "maxpool_4=max_pool2by2(conv_4)\n",
    "drop_2=drop_out(maxpool_4,hold_prob)\n",
    "flatten=tf.reshape(drop_2,shape=(-1,1*1*256))\n",
    "dense=tf.nn.relu(normal_full_layer(flatten,1024))\n",
    "dense2=tf.nn.relu(normal_full_layer(dense,2048))\n",
    "drop_out=drop_out(dense2,hold_prob)\n",
    "y_pred=tf.nn.softmax(normal_full_layer(drop_out,10))"
   ]
  },
  {
   "cell_type": "code",
   "execution_count": 53,
   "metadata": {},
   "outputs": [
    {
     "data": {
      "text/plain": [
       "<tf.Tensor 'dropout_7/mul_1:0' shape=(None, 1, 1, 256) dtype=float32>"
      ]
     },
     "execution_count": 53,
     "metadata": {},
     "output_type": "execute_result"
    }
   ],
   "source": [
    "drop_2"
   ]
  },
  {
   "cell_type": "code",
   "execution_count": 54,
   "metadata": {},
   "outputs": [],
   "source": [
    "cross_entropy=tf.reduce_mean(tf.nn.softmax_cross_entropy_with_logits(labels=y_image,logits=y_pred))"
   ]
  },
  {
   "cell_type": "code",
   "execution_count": null,
   "metadata": {},
   "outputs": [],
   "source": []
  },
  {
   "cell_type": "code",
   "execution_count": 55,
   "metadata": {},
   "outputs": [],
   "source": [
    "optimizer=tf.compat.v1.train.AdamOptimizer(learning_rate=0.0001)\n",
    "train=optimizer.minimize(cross_entropy)"
   ]
  },
  {
   "cell_type": "code",
   "execution_count": 57,
   "metadata": {},
   "outputs": [
    {
     "name": "stdout",
     "output_type": "stream",
     "text": [
      "Step:0\n",
      "Accuracy:0.10159999877214432\n",
      "Step:100\n",
      "Accuracy:0.1193000003695488\n",
      "Step:200\n",
      "Accuracy:0.15889999270439148\n",
      "Step:300\n",
      "Accuracy:0.20170000195503235\n",
      "Step:400\n",
      "Accuracy:0.23330000042915344\n",
      "Step:500\n",
      "Accuracy:0.2612999975681305\n",
      "Step:600\n",
      "Accuracy:0.2745000123977661\n",
      "Step:700\n",
      "Accuracy:0.29010000824928284\n",
      "Step:800\n",
      "Accuracy:0.29589998722076416\n",
      "Step:900\n",
      "Accuracy:0.31679999828338623\n",
      "Step:1000\n",
      "Accuracy:0.320499986410141\n",
      "Step:1100\n",
      "Accuracy:0.3294000029563904\n",
      "Step:1200\n",
      "Accuracy:0.33000001311302185\n",
      "Step:1300\n",
      "Accuracy:0.34389999508857727\n",
      "Step:1400\n",
      "Accuracy:0.33970001339912415\n",
      "Step:1500\n",
      "Accuracy:0.3467000126838684\n",
      "Step:1600\n",
      "Accuracy:0.35760000348091125\n",
      "Step:1700\n",
      "Accuracy:0.3589000105857849\n",
      "Step:1800\n",
      "Accuracy:0.364300012588501\n",
      "Step:1900\n",
      "Accuracy:0.36090001463890076\n",
      "Step:2000\n",
      "Accuracy:0.3659999966621399\n",
      "Step:2100\n",
      "Accuracy:0.3707999885082245\n",
      "Step:2200\n",
      "Accuracy:0.3736000061035156\n",
      "Step:2300\n",
      "Accuracy:0.38440001010894775\n",
      "Step:2400\n",
      "Accuracy:0.37689998745918274\n",
      "Step:2500\n",
      "Accuracy:0.3853999972343445\n",
      "Step:2600\n",
      "Accuracy:0.3846000134944916\n",
      "Step:2700\n",
      "Accuracy:0.3887999951839447\n",
      "Step:2800\n",
      "Accuracy:0.3935999870300293\n",
      "Step:2900\n",
      "Accuracy:0.384799987077713\n",
      "Step:3000\n",
      "Accuracy:0.3939000070095062\n",
      "Step:3100\n",
      "Accuracy:0.3930000066757202\n",
      "Step:3200\n",
      "Accuracy:0.38940000534057617\n",
      "Step:3300\n",
      "Accuracy:0.3962000012397766\n",
      "Step:3400\n",
      "Accuracy:0.388700008392334\n",
      "Step:3500\n",
      "Accuracy:0.4009000062942505\n",
      "Step:3600\n",
      "Accuracy:0.397599995136261\n",
      "Step:3700\n",
      "Accuracy:0.40619999170303345\n",
      "Step:3800\n",
      "Accuracy:0.4115999937057495\n",
      "Step:3900\n",
      "Accuracy:0.390500009059906\n",
      "Step:4000\n",
      "Accuracy:0.4075999855995178\n",
      "Step:4100\n",
      "Accuracy:0.4104999899864197\n",
      "Step:4200\n",
      "Accuracy:0.41130000352859497\n",
      "Step:4300\n",
      "Accuracy:0.412200003862381\n",
      "Step:4400\n",
      "Accuracy:0.4074000120162964\n",
      "Step:4500\n",
      "Accuracy:0.4074999988079071\n",
      "Step:4600\n",
      "Accuracy:0.40560001134872437\n",
      "Step:4700\n",
      "Accuracy:0.41029998660087585\n",
      "Step:4800\n",
      "Accuracy:0.41589999198913574\n",
      "Step:4900\n",
      "Accuracy:0.4244999885559082\n",
      "Step:5000\n",
      "Accuracy:0.42399999499320984\n",
      "Step:5100\n",
      "Accuracy:0.421099990606308\n",
      "Step:5200\n",
      "Accuracy:0.42309999465942383\n",
      "Step:5300\n",
      "Accuracy:0.4189000129699707\n",
      "Step:5400\n",
      "Accuracy:0.429500013589859\n",
      "Step:5500\n",
      "Accuracy:0.4302000105381012\n",
      "Step:5600\n",
      "Accuracy:0.42890000343322754\n",
      "Step:5700\n",
      "Accuracy:0.4296000003814697\n",
      "Step:5800\n",
      "Accuracy:0.42500001192092896\n",
      "Step:5900\n",
      "Accuracy:0.4212000072002411\n",
      "Step:6000\n",
      "Accuracy:0.43470001220703125\n",
      "Step:6100\n",
      "Accuracy:0.43389999866485596\n",
      "Step:6200\n",
      "Accuracy:0.42489999532699585\n",
      "Step:6300\n",
      "Accuracy:0.43220001459121704\n",
      "Step:6400\n",
      "Accuracy:0.4332999885082245\n",
      "Step:6500\n",
      "Accuracy:0.43799999356269836\n",
      "Step:6600\n",
      "Accuracy:0.4332999885082245\n",
      "Step:6700\n",
      "Accuracy:0.43650001287460327\n",
      "Step:6800\n",
      "Accuracy:0.43149998784065247\n",
      "Step:6900\n",
      "Accuracy:0.43790000677108765\n",
      "Step:7000\n",
      "Accuracy:0.43970000743865967\n",
      "Step:7100\n",
      "Accuracy:0.44519999623298645\n",
      "Step:7200\n",
      "Accuracy:0.4406000077724457\n",
      "Step:7300\n",
      "Accuracy:0.4424999952316284\n",
      "Step:7400\n",
      "Accuracy:0.4318999946117401\n",
      "Step:7500\n",
      "Accuracy:0.4442000091075897\n",
      "Step:7600\n",
      "Accuracy:0.4372999966144562\n",
      "Step:7700\n",
      "Accuracy:0.44359999895095825\n",
      "Step:7800\n",
      "Accuracy:0.4410000145435333\n",
      "Step:7900\n",
      "Accuracy:0.4462999999523163\n",
      "Step:8000\n",
      "Accuracy:0.4505999982357025\n",
      "Step:8100\n",
      "Accuracy:0.4449000060558319\n",
      "Step:8200\n",
      "Accuracy:0.445499986410141\n",
      "Step:8300\n",
      "Accuracy:0.44359999895095825\n",
      "Step:8400\n",
      "Accuracy:0.4528000056743622\n",
      "Step:8500\n",
      "Accuracy:0.4480000138282776\n",
      "Step:8600\n",
      "Accuracy:0.4499000012874603\n",
      "Step:8700\n",
      "Accuracy:0.4478999972343445\n",
      "Step:8800\n",
      "Accuracy:0.4499000012874603\n",
      "Step:8900\n",
      "Accuracy:0.44920000433921814\n",
      "Step:9000\n",
      "Accuracy:0.44699999690055847\n",
      "Step:9100\n",
      "Accuracy:0.45170000195503235\n",
      "Step:9200\n",
      "Accuracy:0.4514999985694885\n",
      "Step:9300\n",
      "Accuracy:0.4546000063419342\n",
      "Step:9400\n",
      "Accuracy:0.454800009727478\n",
      "Step:9500\n",
      "Accuracy:0.45500001311302185\n",
      "Step:9600\n",
      "Accuracy:0.4528999924659729\n",
      "Step:9700\n",
      "Accuracy:0.4453999996185303\n",
      "Step:9800\n",
      "Accuracy:0.4456000030040741\n",
      "Step:9900\n",
      "Accuracy:0.45239999890327454\n"
     ]
    }
   ],
   "source": [
    "with tf.compat.v1.Session() as sess:\n",
    "    sess.run(tf.compat.v1.global_variables_initializer())\n",
    "    batch_size=10000\n",
    "    for i in range(batch_size):\n",
    "        rand_int=np.random.randint(len(y_train),size=200)\n",
    "        sess.run(train,feed_dict={x_image:x_train[rand_int],y_image:y_train[rand_int],hold_prob:0.3})\n",
    "        if i%100==0:\n",
    "            print(\"Step:{}\".format(i))\n",
    "            \n",
    "            matches=tf.equal(tf.argmax(y_pred,1),tf.argmax(y_image,1))\n",
    "            accuracy=tf.reduce_mean(tf.cast(matches,tf.float32))\n",
    "            print(\"Accuracy:{}\".format(sess.run(accuracy,feed_dict={x_image:x_test,y_image:y_test,hold_prob:0.3})))"
   ]
  },
  {
   "cell_type": "code",
   "execution_count": null,
   "metadata": {},
   "outputs": [],
   "source": []
  }
 ],
 "metadata": {
  "kernelspec": {
   "display_name": "Python 3",
   "language": "python",
   "name": "python3"
  },
  "language_info": {
   "codemirror_mode": {
    "name": "ipython",
    "version": 3
   },
   "file_extension": ".py",
   "mimetype": "text/x-python",
   "name": "python",
   "nbconvert_exporter": "python",
   "pygments_lexer": "ipython3",
   "version": "3.7.6"
  }
 },
 "nbformat": 4,
 "nbformat_minor": 4
}
